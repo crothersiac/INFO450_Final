{
 "cells": [
  {
   "cell_type": "code",
   "execution_count": 1,
   "id": "d1a327ed",
   "metadata": {},
   "outputs": [],
   "source": [
    "#!pip install pandas\n",
    "#!pip install plotly\n",
    "import pandas as pd\n",
    "import plotly.express as px"
   ]
  },
  {
   "cell_type": "code",
   "execution_count": 24,
   "id": "fe4a7933",
   "metadata": {},
   "outputs": [
    {
     "data": {
      "text/html": [
       "<div>\n",
       "<style scoped>\n",
       "    .dataframe tbody tr th:only-of-type {\n",
       "        vertical-align: middle;\n",
       "    }\n",
       "\n",
       "    .dataframe tbody tr th {\n",
       "        vertical-align: top;\n",
       "    }\n",
       "\n",
       "    .dataframe thead th {\n",
       "        text-align: right;\n",
       "    }\n",
       "</style>\n",
       "<table border=\"1\" class=\"dataframe\">\n",
       "  <thead>\n",
       "    <tr style=\"text-align: right;\">\n",
       "      <th></th>\n",
       "      <th>vehicle id</th>\n",
       "      <th>vehicle name</th>\n",
       "      <th>model</th>\n",
       "      <th>origin</th>\n",
       "    </tr>\n",
       "  </thead>\n",
       "  <tbody>\n",
       "    <tr>\n",
       "      <th>0</th>\n",
       "      <td>C-1689780</td>\n",
       "      <td>chevrolet chevelle malibu</td>\n",
       "      <td>70</td>\n",
       "      <td>1</td>\n",
       "    </tr>\n",
       "    <tr>\n",
       "      <th>1</th>\n",
       "      <td>B-1689791</td>\n",
       "      <td>buick skylark 320</td>\n",
       "      <td>70</td>\n",
       "      <td>1</td>\n",
       "    </tr>\n",
       "    <tr>\n",
       "      <th>2</th>\n",
       "      <td>P-1689802</td>\n",
       "      <td>plymouth satellite</td>\n",
       "      <td>70</td>\n",
       "      <td>1</td>\n",
       "    </tr>\n",
       "    <tr>\n",
       "      <th>3</th>\n",
       "      <td>A-1689813</td>\n",
       "      <td>amc rebel sst</td>\n",
       "      <td>70</td>\n",
       "      <td>1</td>\n",
       "    </tr>\n",
       "    <tr>\n",
       "      <th>4</th>\n",
       "      <td>F-1689824</td>\n",
       "      <td>ford torino</td>\n",
       "      <td>70</td>\n",
       "      <td>1</td>\n",
       "    </tr>\n",
       "    <tr>\n",
       "      <th>...</th>\n",
       "      <td>...</td>\n",
       "      <td>...</td>\n",
       "      <td>...</td>\n",
       "      <td>...</td>\n",
       "    </tr>\n",
       "    <tr>\n",
       "      <th>393</th>\n",
       "      <td>F-1694103</td>\n",
       "      <td>ford mustang gl</td>\n",
       "      <td>82</td>\n",
       "      <td>1</td>\n",
       "    </tr>\n",
       "    <tr>\n",
       "      <th>394</th>\n",
       "      <td>V-1694114</td>\n",
       "      <td>vw pickup</td>\n",
       "      <td>82</td>\n",
       "      <td>2</td>\n",
       "    </tr>\n",
       "    <tr>\n",
       "      <th>395</th>\n",
       "      <td>D-1694125</td>\n",
       "      <td>dodge rampage</td>\n",
       "      <td>82</td>\n",
       "      <td>1</td>\n",
       "    </tr>\n",
       "    <tr>\n",
       "      <th>396</th>\n",
       "      <td>F-1694136</td>\n",
       "      <td>ford ranger</td>\n",
       "      <td>82</td>\n",
       "      <td>1</td>\n",
       "    </tr>\n",
       "    <tr>\n",
       "      <th>397</th>\n",
       "      <td>C-1694147</td>\n",
       "      <td>chevy s-10</td>\n",
       "      <td>82</td>\n",
       "      <td>1</td>\n",
       "    </tr>\n",
       "  </tbody>\n",
       "</table>\n",
       "<p>398 rows × 4 columns</p>\n",
       "</div>"
      ],
      "text/plain": [
       "    vehicle id               vehicle name  model  origin\n",
       "0    C-1689780  chevrolet chevelle malibu     70       1\n",
       "1    B-1689791          buick skylark 320     70       1\n",
       "2    P-1689802         plymouth satellite     70       1\n",
       "3    A-1689813              amc rebel sst     70       1\n",
       "4    F-1689824                ford torino     70       1\n",
       "..         ...                        ...    ...     ...\n",
       "393  F-1694103            ford mustang gl     82       1\n",
       "394  V-1694114                  vw pickup     82       2\n",
       "395  D-1694125              dodge rampage     82       1\n",
       "396  F-1694136                ford ranger     82       1\n",
       "397  C-1694147                 chevy s-10     82       1\n",
       "\n",
       "[398 rows x 4 columns]"
      ]
     },
     "execution_count": 24,
     "metadata": {},
     "output_type": "execute_result"
    }
   ],
   "source": [
    "#Read in first table and see data types that exist within\n",
    "df=pd.read_csv('vehicle_dictionary.csv')\n",
    "#df.dtypes\n",
    "df"
   ]
  },
  {
   "cell_type": "code",
   "execution_count": 15,
   "id": "70761fd7",
   "metadata": {},
   "outputs": [
    {
     "data": {
      "text/html": [
       "<div>\n",
       "<style scoped>\n",
       "    .dataframe tbody tr th:only-of-type {\n",
       "        vertical-align: middle;\n",
       "    }\n",
       "\n",
       "    .dataframe tbody tr th {\n",
       "        vertical-align: top;\n",
       "    }\n",
       "\n",
       "    .dataframe thead th {\n",
       "        text-align: right;\n",
       "    }\n",
       "</style>\n",
       "<table border=\"1\" class=\"dataframe\">\n",
       "  <thead>\n",
       "    <tr style=\"text-align: right;\">\n",
       "      <th></th>\n",
       "      <th>mpg</th>\n",
       "      <th>cylinders</th>\n",
       "      <th>displacement</th>\n",
       "      <th>horsepower</th>\n",
       "      <th>weight</th>\n",
       "      <th>acceleration</th>\n",
       "      <th>vehicle id</th>\n",
       "    </tr>\n",
       "  </thead>\n",
       "  <tbody>\n",
       "    <tr>\n",
       "      <th>0</th>\n",
       "      <td>18.0</td>\n",
       "      <td>8</td>\n",
       "      <td>307</td>\n",
       "      <td>130</td>\n",
       "      <td>3504</td>\n",
       "      <td>12.0</td>\n",
       "      <td>C-1689780</td>\n",
       "    </tr>\n",
       "    <tr>\n",
       "      <th>1</th>\n",
       "      <td>15.0</td>\n",
       "      <td>8</td>\n",
       "      <td>350</td>\n",
       "      <td>165</td>\n",
       "      <td>3693</td>\n",
       "      <td>11.5</td>\n",
       "      <td>B-1689791</td>\n",
       "    </tr>\n",
       "    <tr>\n",
       "      <th>2</th>\n",
       "      <td>18.0</td>\n",
       "      <td>8</td>\n",
       "      <td>318</td>\n",
       "      <td>150</td>\n",
       "      <td>3436</td>\n",
       "      <td>11.0</td>\n",
       "      <td>P-1689802</td>\n",
       "    </tr>\n",
       "    <tr>\n",
       "      <th>3</th>\n",
       "      <td>16.0</td>\n",
       "      <td>8</td>\n",
       "      <td>304</td>\n",
       "      <td>150</td>\n",
       "      <td>3433</td>\n",
       "      <td>12.0</td>\n",
       "      <td>A-1689813</td>\n",
       "    </tr>\n",
       "    <tr>\n",
       "      <th>4</th>\n",
       "      <td>17.0</td>\n",
       "      <td>8</td>\n",
       "      <td>302</td>\n",
       "      <td>140</td>\n",
       "      <td>3449</td>\n",
       "      <td>10.5</td>\n",
       "      <td>F-1689824</td>\n",
       "    </tr>\n",
       "  </tbody>\n",
       "</table>\n",
       "</div>"
      ],
      "text/plain": [
       "    mpg  cylinders  displacement horsepower  weight  acceleration vehicle id\n",
       "0  18.0          8           307        130    3504          12.0  C-1689780\n",
       "1  15.0          8           350        165    3693          11.5  B-1689791\n",
       "2  18.0          8           318        150    3436          11.0  P-1689802\n",
       "3  16.0          8           304        150    3433          12.0  A-1689813\n",
       "4  17.0          8           302        140    3449          10.5  F-1689824"
      ]
     },
     "execution_count": 15,
     "metadata": {},
     "output_type": "execute_result"
    }
   ],
   "source": [
    "df2=pd.read_csv('vehicle_specs.csv')\n",
    "df2.head()\n",
    "df2.pop('unnamed0')\n",
    "df2.pop(\"unnamed1\")\n",
    "df2.pop(\"unnamed2\")\n",
    "df2.pop(\"unnamed3\")\n",
    "df2.head()"
   ]
  },
  {
   "cell_type": "code",
   "execution_count": 109,
   "id": "a35c0c59",
   "metadata": {},
   "outputs": [],
   "source": [
    "#Merge the two data tables together to complete the dataset\n",
    "df3 = pd.merge(df, df2, how='right', on=\"vehicle id\")\n",
    "#df3"
   ]
  },
  {
   "cell_type": "code",
   "execution_count": 98,
   "id": "b557e181",
   "metadata": {},
   "outputs": [
    {
     "data": {
      "text/html": [
       "<div>\n",
       "<style scoped>\n",
       "    .dataframe tbody tr th:only-of-type {\n",
       "        vertical-align: middle;\n",
       "    }\n",
       "\n",
       "    .dataframe tbody tr th {\n",
       "        vertical-align: top;\n",
       "    }\n",
       "\n",
       "    .dataframe thead th {\n",
       "        text-align: right;\n",
       "    }\n",
       "</style>\n",
       "<table border=\"1\" class=\"dataframe\">\n",
       "  <thead>\n",
       "    <tr style=\"text-align: right;\">\n",
       "      <th></th>\n",
       "      <th>vehicle id</th>\n",
       "      <th>vehicle name</th>\n",
       "      <th>model</th>\n",
       "      <th>origin</th>\n",
       "      <th>mpg</th>\n",
       "      <th>cylinders</th>\n",
       "      <th>displacement</th>\n",
       "      <th>horsepower</th>\n",
       "      <th>weight</th>\n",
       "      <th>acceleration</th>\n",
       "    </tr>\n",
       "  </thead>\n",
       "  <tbody>\n",
       "    <tr>\n",
       "      <th>0</th>\n",
       "      <td>C-1689780</td>\n",
       "      <td>chevrolet chevelle malibu</td>\n",
       "      <td>70</td>\n",
       "      <td>1</td>\n",
       "      <td>18.0</td>\n",
       "      <td>8</td>\n",
       "      <td>307</td>\n",
       "      <td>130</td>\n",
       "      <td>3504</td>\n",
       "      <td>12.0</td>\n",
       "    </tr>\n",
       "    <tr>\n",
       "      <th>1</th>\n",
       "      <td>B-1689791</td>\n",
       "      <td>buick skylark 320</td>\n",
       "      <td>70</td>\n",
       "      <td>1</td>\n",
       "      <td>15.0</td>\n",
       "      <td>8</td>\n",
       "      <td>350</td>\n",
       "      <td>165</td>\n",
       "      <td>3693</td>\n",
       "      <td>11.5</td>\n",
       "    </tr>\n",
       "    <tr>\n",
       "      <th>2</th>\n",
       "      <td>P-1689802</td>\n",
       "      <td>plymouth satellite</td>\n",
       "      <td>70</td>\n",
       "      <td>1</td>\n",
       "      <td>18.0</td>\n",
       "      <td>8</td>\n",
       "      <td>318</td>\n",
       "      <td>150</td>\n",
       "      <td>3436</td>\n",
       "      <td>11.0</td>\n",
       "    </tr>\n",
       "    <tr>\n",
       "      <th>3</th>\n",
       "      <td>A-1689813</td>\n",
       "      <td>amc rebel sst</td>\n",
       "      <td>70</td>\n",
       "      <td>1</td>\n",
       "      <td>16.0</td>\n",
       "      <td>8</td>\n",
       "      <td>304</td>\n",
       "      <td>150</td>\n",
       "      <td>3433</td>\n",
       "      <td>12.0</td>\n",
       "    </tr>\n",
       "    <tr>\n",
       "      <th>4</th>\n",
       "      <td>F-1689824</td>\n",
       "      <td>ford torino</td>\n",
       "      <td>70</td>\n",
       "      <td>1</td>\n",
       "      <td>17.0</td>\n",
       "      <td>8</td>\n",
       "      <td>302</td>\n",
       "      <td>140</td>\n",
       "      <td>3449</td>\n",
       "      <td>10.5</td>\n",
       "    </tr>\n",
       "    <tr>\n",
       "      <th>5</th>\n",
       "      <td>F-1689835</td>\n",
       "      <td>ford galaxie 500</td>\n",
       "      <td>70</td>\n",
       "      <td>1</td>\n",
       "      <td>15.0</td>\n",
       "      <td>8</td>\n",
       "      <td>429</td>\n",
       "      <td>198</td>\n",
       "      <td>4341</td>\n",
       "      <td>10.0</td>\n",
       "    </tr>\n",
       "    <tr>\n",
       "      <th>6</th>\n",
       "      <td>C-1689846</td>\n",
       "      <td>chevrolet impala</td>\n",
       "      <td>70</td>\n",
       "      <td>1</td>\n",
       "      <td>14.0</td>\n",
       "      <td>8</td>\n",
       "      <td>454</td>\n",
       "      <td>220</td>\n",
       "      <td>4354</td>\n",
       "      <td>9.0</td>\n",
       "    </tr>\n",
       "    <tr>\n",
       "      <th>7</th>\n",
       "      <td>P-1689857</td>\n",
       "      <td>plymouth fury iii</td>\n",
       "      <td>70</td>\n",
       "      <td>1</td>\n",
       "      <td>14.0</td>\n",
       "      <td>8</td>\n",
       "      <td>440</td>\n",
       "      <td>215</td>\n",
       "      <td>4312</td>\n",
       "      <td>8.5</td>\n",
       "    </tr>\n",
       "    <tr>\n",
       "      <th>8</th>\n",
       "      <td>P-1689868</td>\n",
       "      <td>pontiac catalina</td>\n",
       "      <td>70</td>\n",
       "      <td>1</td>\n",
       "      <td>14.0</td>\n",
       "      <td>8</td>\n",
       "      <td>455</td>\n",
       "      <td>225</td>\n",
       "      <td>4425</td>\n",
       "      <td>10.0</td>\n",
       "    </tr>\n",
       "    <tr>\n",
       "      <th>9</th>\n",
       "      <td>A-1689879</td>\n",
       "      <td>amc ambassador dpl</td>\n",
       "      <td>70</td>\n",
       "      <td>1</td>\n",
       "      <td>15.0</td>\n",
       "      <td>8</td>\n",
       "      <td>390</td>\n",
       "      <td>190</td>\n",
       "      <td>3850</td>\n",
       "      <td>8.5</td>\n",
       "    </tr>\n",
       "    <tr>\n",
       "      <th>10</th>\n",
       "      <td>D-1689890</td>\n",
       "      <td>dodge challenger se</td>\n",
       "      <td>70</td>\n",
       "      <td>1</td>\n",
       "      <td>15.0</td>\n",
       "      <td>8</td>\n",
       "      <td>383</td>\n",
       "      <td>170</td>\n",
       "      <td>3563</td>\n",
       "      <td>10.0</td>\n",
       "    </tr>\n",
       "    <tr>\n",
       "      <th>11</th>\n",
       "      <td>P-1689901</td>\n",
       "      <td>plymouth 'cuda 340</td>\n",
       "      <td>70</td>\n",
       "      <td>1</td>\n",
       "      <td>14.0</td>\n",
       "      <td>8</td>\n",
       "      <td>340</td>\n",
       "      <td>160</td>\n",
       "      <td>3609</td>\n",
       "      <td>8.0</td>\n",
       "    </tr>\n",
       "    <tr>\n",
       "      <th>12</th>\n",
       "      <td>C-1689912</td>\n",
       "      <td>chevrolet monte carlo</td>\n",
       "      <td>70</td>\n",
       "      <td>1</td>\n",
       "      <td>15.0</td>\n",
       "      <td>8</td>\n",
       "      <td>400</td>\n",
       "      <td>150</td>\n",
       "      <td>3761</td>\n",
       "      <td>9.5</td>\n",
       "    </tr>\n",
       "    <tr>\n",
       "      <th>13</th>\n",
       "      <td>B-1689923</td>\n",
       "      <td>buick estate wagon (sw)</td>\n",
       "      <td>70</td>\n",
       "      <td>1</td>\n",
       "      <td>14.0</td>\n",
       "      <td>8</td>\n",
       "      <td>455</td>\n",
       "      <td>225</td>\n",
       "      <td>3086</td>\n",
       "      <td>10.0</td>\n",
       "    </tr>\n",
       "    <tr>\n",
       "      <th>14</th>\n",
       "      <td>T-1689934</td>\n",
       "      <td>toyota corona mark ii</td>\n",
       "      <td>70</td>\n",
       "      <td>3</td>\n",
       "      <td>24.0</td>\n",
       "      <td>4</td>\n",
       "      <td>113</td>\n",
       "      <td>95</td>\n",
       "      <td>2372</td>\n",
       "      <td>15.0</td>\n",
       "    </tr>\n",
       "    <tr>\n",
       "      <th>15</th>\n",
       "      <td>P-1689945</td>\n",
       "      <td>plymouth duster</td>\n",
       "      <td>70</td>\n",
       "      <td>1</td>\n",
       "      <td>22.0</td>\n",
       "      <td>6</td>\n",
       "      <td>198</td>\n",
       "      <td>95</td>\n",
       "      <td>2833</td>\n",
       "      <td>15.5</td>\n",
       "    </tr>\n",
       "    <tr>\n",
       "      <th>16</th>\n",
       "      <td>A-1689956</td>\n",
       "      <td>amc hornet</td>\n",
       "      <td>70</td>\n",
       "      <td>1</td>\n",
       "      <td>18.0</td>\n",
       "      <td>6</td>\n",
       "      <td>199</td>\n",
       "      <td>97</td>\n",
       "      <td>2774</td>\n",
       "      <td>15.5</td>\n",
       "    </tr>\n",
       "    <tr>\n",
       "      <th>17</th>\n",
       "      <td>F-1689967</td>\n",
       "      <td>ford maverick</td>\n",
       "      <td>70</td>\n",
       "      <td>1</td>\n",
       "      <td>21.0</td>\n",
       "      <td>6</td>\n",
       "      <td>200</td>\n",
       "      <td>85</td>\n",
       "      <td>2587</td>\n",
       "      <td>16.0</td>\n",
       "    </tr>\n",
       "    <tr>\n",
       "      <th>18</th>\n",
       "      <td>D-1689978</td>\n",
       "      <td>datsun pl510</td>\n",
       "      <td>70</td>\n",
       "      <td>3</td>\n",
       "      <td>27.0</td>\n",
       "      <td>4</td>\n",
       "      <td>97</td>\n",
       "      <td>88</td>\n",
       "      <td>2130</td>\n",
       "      <td>14.5</td>\n",
       "    </tr>\n",
       "    <tr>\n",
       "      <th>19</th>\n",
       "      <td>V-1689989</td>\n",
       "      <td>volkswagen 1131 deluxe sedan</td>\n",
       "      <td>70</td>\n",
       "      <td>2</td>\n",
       "      <td>26.0</td>\n",
       "      <td>4</td>\n",
       "      <td>97</td>\n",
       "      <td>46</td>\n",
       "      <td>1835</td>\n",
       "      <td>20.5</td>\n",
       "    </tr>\n",
       "    <tr>\n",
       "      <th>20</th>\n",
       "      <td>P-1690000</td>\n",
       "      <td>peugeot 504</td>\n",
       "      <td>70</td>\n",
       "      <td>2</td>\n",
       "      <td>25.0</td>\n",
       "      <td>4</td>\n",
       "      <td>110</td>\n",
       "      <td>87</td>\n",
       "      <td>2672</td>\n",
       "      <td>17.5</td>\n",
       "    </tr>\n",
       "    <tr>\n",
       "      <th>21</th>\n",
       "      <td>A-1690011</td>\n",
       "      <td>audi 100 ls</td>\n",
       "      <td>70</td>\n",
       "      <td>2</td>\n",
       "      <td>24.0</td>\n",
       "      <td>4</td>\n",
       "      <td>107</td>\n",
       "      <td>90</td>\n",
       "      <td>2430</td>\n",
       "      <td>14.5</td>\n",
       "    </tr>\n",
       "    <tr>\n",
       "      <th>22</th>\n",
       "      <td>S-1690022</td>\n",
       "      <td>saab 99e</td>\n",
       "      <td>70</td>\n",
       "      <td>2</td>\n",
       "      <td>25.0</td>\n",
       "      <td>4</td>\n",
       "      <td>104</td>\n",
       "      <td>95</td>\n",
       "      <td>2375</td>\n",
       "      <td>17.5</td>\n",
       "    </tr>\n",
       "    <tr>\n",
       "      <th>23</th>\n",
       "      <td>B-1690033</td>\n",
       "      <td>bmw 2002</td>\n",
       "      <td>70</td>\n",
       "      <td>2</td>\n",
       "      <td>26.0</td>\n",
       "      <td>4</td>\n",
       "      <td>121</td>\n",
       "      <td>113</td>\n",
       "      <td>2234</td>\n",
       "      <td>12.5</td>\n",
       "    </tr>\n",
       "    <tr>\n",
       "      <th>24</th>\n",
       "      <td>A-1690044</td>\n",
       "      <td>amc gremlin</td>\n",
       "      <td>70</td>\n",
       "      <td>1</td>\n",
       "      <td>21.0</td>\n",
       "      <td>6</td>\n",
       "      <td>199</td>\n",
       "      <td>90</td>\n",
       "      <td>2648</td>\n",
       "      <td>15.0</td>\n",
       "    </tr>\n",
       "    <tr>\n",
       "      <th>25</th>\n",
       "      <td>F-1690055</td>\n",
       "      <td>ford f250</td>\n",
       "      <td>70</td>\n",
       "      <td>1</td>\n",
       "      <td>10.0</td>\n",
       "      <td>8</td>\n",
       "      <td>360</td>\n",
       "      <td>215</td>\n",
       "      <td>4615</td>\n",
       "      <td>14.0</td>\n",
       "    </tr>\n",
       "    <tr>\n",
       "      <th>26</th>\n",
       "      <td>C-1690066</td>\n",
       "      <td>chevy c20</td>\n",
       "      <td>70</td>\n",
       "      <td>1</td>\n",
       "      <td>10.0</td>\n",
       "      <td>8</td>\n",
       "      <td>307</td>\n",
       "      <td>200</td>\n",
       "      <td>4376</td>\n",
       "      <td>15.0</td>\n",
       "    </tr>\n",
       "    <tr>\n",
       "      <th>27</th>\n",
       "      <td>D-1690077</td>\n",
       "      <td>dodge d200</td>\n",
       "      <td>70</td>\n",
       "      <td>1</td>\n",
       "      <td>11.0</td>\n",
       "      <td>8</td>\n",
       "      <td>318</td>\n",
       "      <td>210</td>\n",
       "      <td>4382</td>\n",
       "      <td>13.5</td>\n",
       "    </tr>\n",
       "    <tr>\n",
       "      <th>28</th>\n",
       "      <td>H-1690088</td>\n",
       "      <td>hi 1200d</td>\n",
       "      <td>70</td>\n",
       "      <td>1</td>\n",
       "      <td>9.0</td>\n",
       "      <td>8</td>\n",
       "      <td>304</td>\n",
       "      <td>193</td>\n",
       "      <td>4732</td>\n",
       "      <td>18.5</td>\n",
       "    </tr>\n",
       "  </tbody>\n",
       "</table>\n",
       "</div>"
      ],
      "text/plain": [
       "   vehicle id                  vehicle name  model  origin   mpg  cylinders  \\\n",
       "0   C-1689780     chevrolet chevelle malibu     70       1  18.0          8   \n",
       "1   B-1689791             buick skylark 320     70       1  15.0          8   \n",
       "2   P-1689802            plymouth satellite     70       1  18.0          8   \n",
       "3   A-1689813                 amc rebel sst     70       1  16.0          8   \n",
       "4   F-1689824                   ford torino     70       1  17.0          8   \n",
       "5   F-1689835              ford galaxie 500     70       1  15.0          8   \n",
       "6   C-1689846              chevrolet impala     70       1  14.0          8   \n",
       "7   P-1689857             plymouth fury iii     70       1  14.0          8   \n",
       "8   P-1689868              pontiac catalina     70       1  14.0          8   \n",
       "9   A-1689879            amc ambassador dpl     70       1  15.0          8   \n",
       "10  D-1689890           dodge challenger se     70       1  15.0          8   \n",
       "11  P-1689901            plymouth 'cuda 340     70       1  14.0          8   \n",
       "12  C-1689912         chevrolet monte carlo     70       1  15.0          8   \n",
       "13  B-1689923       buick estate wagon (sw)     70       1  14.0          8   \n",
       "14  T-1689934         toyota corona mark ii     70       3  24.0          4   \n",
       "15  P-1689945               plymouth duster     70       1  22.0          6   \n",
       "16  A-1689956                    amc hornet     70       1  18.0          6   \n",
       "17  F-1689967                 ford maverick     70       1  21.0          6   \n",
       "18  D-1689978                  datsun pl510     70       3  27.0          4   \n",
       "19  V-1689989  volkswagen 1131 deluxe sedan     70       2  26.0          4   \n",
       "20  P-1690000                   peugeot 504     70       2  25.0          4   \n",
       "21  A-1690011                   audi 100 ls     70       2  24.0          4   \n",
       "22  S-1690022                      saab 99e     70       2  25.0          4   \n",
       "23  B-1690033                      bmw 2002     70       2  26.0          4   \n",
       "24  A-1690044                   amc gremlin     70       1  21.0          6   \n",
       "25  F-1690055                     ford f250     70       1  10.0          8   \n",
       "26  C-1690066                     chevy c20     70       1  10.0          8   \n",
       "27  D-1690077                    dodge d200     70       1  11.0          8   \n",
       "28  H-1690088                      hi 1200d     70       1   9.0          8   \n",
       "\n",
       "    displacement horsepower  weight  acceleration  \n",
       "0            307        130    3504          12.0  \n",
       "1            350        165    3693          11.5  \n",
       "2            318        150    3436          11.0  \n",
       "3            304        150    3433          12.0  \n",
       "4            302        140    3449          10.5  \n",
       "5            429        198    4341          10.0  \n",
       "6            454        220    4354           9.0  \n",
       "7            440        215    4312           8.5  \n",
       "8            455        225    4425          10.0  \n",
       "9            390        190    3850           8.5  \n",
       "10           383        170    3563          10.0  \n",
       "11           340        160    3609           8.0  \n",
       "12           400        150    3761           9.5  \n",
       "13           455        225    3086          10.0  \n",
       "14           113         95    2372          15.0  \n",
       "15           198         95    2833          15.5  \n",
       "16           199         97    2774          15.5  \n",
       "17           200         85    2587          16.0  \n",
       "18            97         88    2130          14.5  \n",
       "19            97         46    1835          20.5  \n",
       "20           110         87    2672          17.5  \n",
       "21           107         90    2430          14.5  \n",
       "22           104         95    2375          17.5  \n",
       "23           121        113    2234          12.5  \n",
       "24           199         90    2648          15.0  \n",
       "25           360        215    4615          14.0  \n",
       "26           307        200    4376          15.0  \n",
       "27           318        210    4382          13.5  \n",
       "28           304        193    4732          18.5  "
      ]
     },
     "execution_count": 98,
     "metadata": {},
     "output_type": "execute_result"
    }
   ],
   "source": [
    "#Grab the cars by model year\n",
    "year = complete.groupby('model')\n",
    "#Assemble the cars by the year of 1970, this being the starting year of the dataset\n",
    "year.get_group(70)"
   ]
  },
  {
   "cell_type": "code",
   "execution_count": 76,
   "id": "2edf9ca9",
   "metadata": {
    "scrolled": false
   },
   "outputs": [
    {
     "data": {
      "text/html": [
       "<div>\n",
       "<style scoped>\n",
       "    .dataframe tbody tr th:only-of-type {\n",
       "        vertical-align: middle;\n",
       "    }\n",
       "\n",
       "    .dataframe tbody tr th {\n",
       "        vertical-align: top;\n",
       "    }\n",
       "\n",
       "    .dataframe thead th {\n",
       "        text-align: right;\n",
       "    }\n",
       "</style>\n",
       "<table border=\"1\" class=\"dataframe\">\n",
       "  <thead>\n",
       "    <tr style=\"text-align: right;\">\n",
       "      <th></th>\n",
       "      <th>vehicle id</th>\n",
       "      <th>vehicle name</th>\n",
       "      <th>model</th>\n",
       "      <th>origin</th>\n",
       "      <th>mpg</th>\n",
       "      <th>cylinders</th>\n",
       "      <th>displacement</th>\n",
       "      <th>horsepower</th>\n",
       "      <th>weight</th>\n",
       "      <th>acceleration</th>\n",
       "    </tr>\n",
       "  </thead>\n",
       "  <tbody>\n",
       "    <tr>\n",
       "      <th>367</th>\n",
       "      <td>C-1693817</td>\n",
       "      <td>chevrolet cavalier</td>\n",
       "      <td>82</td>\n",
       "      <td>1</td>\n",
       "      <td>28.0</td>\n",
       "      <td>4</td>\n",
       "      <td>112</td>\n",
       "      <td>88</td>\n",
       "      <td>2605</td>\n",
       "      <td>19.6</td>\n",
       "    </tr>\n",
       "    <tr>\n",
       "      <th>368</th>\n",
       "      <td>C-1693828</td>\n",
       "      <td>chevrolet cavalier wagon</td>\n",
       "      <td>82</td>\n",
       "      <td>1</td>\n",
       "      <td>27.0</td>\n",
       "      <td>4</td>\n",
       "      <td>112</td>\n",
       "      <td>88</td>\n",
       "      <td>2640</td>\n",
       "      <td>18.6</td>\n",
       "    </tr>\n",
       "    <tr>\n",
       "      <th>369</th>\n",
       "      <td>C-1693839</td>\n",
       "      <td>chevrolet cavalier 2-door</td>\n",
       "      <td>82</td>\n",
       "      <td>1</td>\n",
       "      <td>34.0</td>\n",
       "      <td>4</td>\n",
       "      <td>112</td>\n",
       "      <td>88</td>\n",
       "      <td>2395</td>\n",
       "      <td>18.0</td>\n",
       "    </tr>\n",
       "    <tr>\n",
       "      <th>370</th>\n",
       "      <td>P-1693850</td>\n",
       "      <td>pontiac j2000 se hatchback</td>\n",
       "      <td>82</td>\n",
       "      <td>1</td>\n",
       "      <td>31.0</td>\n",
       "      <td>4</td>\n",
       "      <td>112</td>\n",
       "      <td>85</td>\n",
       "      <td>2575</td>\n",
       "      <td>16.2</td>\n",
       "    </tr>\n",
       "    <tr>\n",
       "      <th>371</th>\n",
       "      <td>D-1693861</td>\n",
       "      <td>dodge aries se</td>\n",
       "      <td>82</td>\n",
       "      <td>1</td>\n",
       "      <td>29.0</td>\n",
       "      <td>4</td>\n",
       "      <td>135</td>\n",
       "      <td>84</td>\n",
       "      <td>2525</td>\n",
       "      <td>16.0</td>\n",
       "    </tr>\n",
       "    <tr>\n",
       "      <th>372</th>\n",
       "      <td>P-1693872</td>\n",
       "      <td>pontiac phoenix</td>\n",
       "      <td>82</td>\n",
       "      <td>1</td>\n",
       "      <td>27.0</td>\n",
       "      <td>4</td>\n",
       "      <td>151</td>\n",
       "      <td>90</td>\n",
       "      <td>2735</td>\n",
       "      <td>18.0</td>\n",
       "    </tr>\n",
       "    <tr>\n",
       "      <th>373</th>\n",
       "      <td>F-1693883</td>\n",
       "      <td>ford fairmont futura</td>\n",
       "      <td>82</td>\n",
       "      <td>1</td>\n",
       "      <td>24.0</td>\n",
       "      <td>4</td>\n",
       "      <td>140</td>\n",
       "      <td>92</td>\n",
       "      <td>2865</td>\n",
       "      <td>16.4</td>\n",
       "    </tr>\n",
       "    <tr>\n",
       "      <th>374</th>\n",
       "      <td>A-1693894</td>\n",
       "      <td>amc concord dl</td>\n",
       "      <td>82</td>\n",
       "      <td>1</td>\n",
       "      <td>23.0</td>\n",
       "      <td>4</td>\n",
       "      <td>151</td>\n",
       "      <td>?</td>\n",
       "      <td>3035</td>\n",
       "      <td>20.5</td>\n",
       "    </tr>\n",
       "    <tr>\n",
       "      <th>375</th>\n",
       "      <td>V-1693905</td>\n",
       "      <td>volkswagen rabbit l</td>\n",
       "      <td>82</td>\n",
       "      <td>2</td>\n",
       "      <td>36.0</td>\n",
       "      <td>4</td>\n",
       "      <td>105</td>\n",
       "      <td>74</td>\n",
       "      <td>1980</td>\n",
       "      <td>15.3</td>\n",
       "    </tr>\n",
       "    <tr>\n",
       "      <th>376</th>\n",
       "      <td>M-1693916</td>\n",
       "      <td>mazda glc custom l</td>\n",
       "      <td>82</td>\n",
       "      <td>3</td>\n",
       "      <td>37.0</td>\n",
       "      <td>4</td>\n",
       "      <td>91</td>\n",
       "      <td>68</td>\n",
       "      <td>2025</td>\n",
       "      <td>18.2</td>\n",
       "    </tr>\n",
       "    <tr>\n",
       "      <th>377</th>\n",
       "      <td>M-1693927</td>\n",
       "      <td>mazda glc custom</td>\n",
       "      <td>82</td>\n",
       "      <td>3</td>\n",
       "      <td>31.0</td>\n",
       "      <td>4</td>\n",
       "      <td>91</td>\n",
       "      <td>68</td>\n",
       "      <td>1970</td>\n",
       "      <td>17.6</td>\n",
       "    </tr>\n",
       "    <tr>\n",
       "      <th>378</th>\n",
       "      <td>P-1693938</td>\n",
       "      <td>plymouth horizon miser</td>\n",
       "      <td>82</td>\n",
       "      <td>1</td>\n",
       "      <td>38.0</td>\n",
       "      <td>4</td>\n",
       "      <td>105</td>\n",
       "      <td>63</td>\n",
       "      <td>2125</td>\n",
       "      <td>14.7</td>\n",
       "    </tr>\n",
       "    <tr>\n",
       "      <th>379</th>\n",
       "      <td>M-1693949</td>\n",
       "      <td>mercury lynx l</td>\n",
       "      <td>82</td>\n",
       "      <td>1</td>\n",
       "      <td>36.0</td>\n",
       "      <td>4</td>\n",
       "      <td>98</td>\n",
       "      <td>70</td>\n",
       "      <td>2125</td>\n",
       "      <td>17.3</td>\n",
       "    </tr>\n",
       "    <tr>\n",
       "      <th>380</th>\n",
       "      <td>N-1693960</td>\n",
       "      <td>nissan stanza xe</td>\n",
       "      <td>82</td>\n",
       "      <td>3</td>\n",
       "      <td>36.0</td>\n",
       "      <td>4</td>\n",
       "      <td>120</td>\n",
       "      <td>88</td>\n",
       "      <td>2160</td>\n",
       "      <td>14.5</td>\n",
       "    </tr>\n",
       "    <tr>\n",
       "      <th>381</th>\n",
       "      <td>H-1693971</td>\n",
       "      <td>honda accord</td>\n",
       "      <td>82</td>\n",
       "      <td>3</td>\n",
       "      <td>36.0</td>\n",
       "      <td>4</td>\n",
       "      <td>107</td>\n",
       "      <td>75</td>\n",
       "      <td>2205</td>\n",
       "      <td>14.5</td>\n",
       "    </tr>\n",
       "    <tr>\n",
       "      <th>382</th>\n",
       "      <td>T-1693982</td>\n",
       "      <td>toyota corolla</td>\n",
       "      <td>82</td>\n",
       "      <td>3</td>\n",
       "      <td>34.0</td>\n",
       "      <td>4</td>\n",
       "      <td>108</td>\n",
       "      <td>70</td>\n",
       "      <td>2245</td>\n",
       "      <td>16.9</td>\n",
       "    </tr>\n",
       "    <tr>\n",
       "      <th>383</th>\n",
       "      <td>H-1693993</td>\n",
       "      <td>honda civic</td>\n",
       "      <td>82</td>\n",
       "      <td>3</td>\n",
       "      <td>38.0</td>\n",
       "      <td>4</td>\n",
       "      <td>91</td>\n",
       "      <td>67</td>\n",
       "      <td>1965</td>\n",
       "      <td>15.0</td>\n",
       "    </tr>\n",
       "    <tr>\n",
       "      <th>384</th>\n",
       "      <td>H-1694004</td>\n",
       "      <td>honda civic (auto)</td>\n",
       "      <td>82</td>\n",
       "      <td>3</td>\n",
       "      <td>32.0</td>\n",
       "      <td>4</td>\n",
       "      <td>91</td>\n",
       "      <td>67</td>\n",
       "      <td>1965</td>\n",
       "      <td>15.7</td>\n",
       "    </tr>\n",
       "    <tr>\n",
       "      <th>385</th>\n",
       "      <td>D-1694015</td>\n",
       "      <td>datsun 310 gx</td>\n",
       "      <td>82</td>\n",
       "      <td>3</td>\n",
       "      <td>38.0</td>\n",
       "      <td>4</td>\n",
       "      <td>91</td>\n",
       "      <td>67</td>\n",
       "      <td>1995</td>\n",
       "      <td>16.2</td>\n",
       "    </tr>\n",
       "    <tr>\n",
       "      <th>386</th>\n",
       "      <td>B-1694026</td>\n",
       "      <td>buick century limited</td>\n",
       "      <td>82</td>\n",
       "      <td>1</td>\n",
       "      <td>25.0</td>\n",
       "      <td>6</td>\n",
       "      <td>181</td>\n",
       "      <td>110</td>\n",
       "      <td>2945</td>\n",
       "      <td>16.4</td>\n",
       "    </tr>\n",
       "    <tr>\n",
       "      <th>387</th>\n",
       "      <td>O-1694037</td>\n",
       "      <td>oldsmobile cutlass ciera (diesel)</td>\n",
       "      <td>82</td>\n",
       "      <td>1</td>\n",
       "      <td>38.0</td>\n",
       "      <td>6</td>\n",
       "      <td>262</td>\n",
       "      <td>85</td>\n",
       "      <td>3015</td>\n",
       "      <td>17.0</td>\n",
       "    </tr>\n",
       "    <tr>\n",
       "      <th>388</th>\n",
       "      <td>C-1694048</td>\n",
       "      <td>chrysler lebaron medallion</td>\n",
       "      <td>82</td>\n",
       "      <td>1</td>\n",
       "      <td>26.0</td>\n",
       "      <td>4</td>\n",
       "      <td>156</td>\n",
       "      <td>92</td>\n",
       "      <td>2585</td>\n",
       "      <td>14.5</td>\n",
       "    </tr>\n",
       "    <tr>\n",
       "      <th>389</th>\n",
       "      <td>F-1694059</td>\n",
       "      <td>ford granada l</td>\n",
       "      <td>82</td>\n",
       "      <td>1</td>\n",
       "      <td>22.0</td>\n",
       "      <td>6</td>\n",
       "      <td>232</td>\n",
       "      <td>112</td>\n",
       "      <td>2835</td>\n",
       "      <td>14.7</td>\n",
       "    </tr>\n",
       "    <tr>\n",
       "      <th>390</th>\n",
       "      <td>T-1694070</td>\n",
       "      <td>toyota celica gt</td>\n",
       "      <td>82</td>\n",
       "      <td>3</td>\n",
       "      <td>32.0</td>\n",
       "      <td>4</td>\n",
       "      <td>144</td>\n",
       "      <td>96</td>\n",
       "      <td>2665</td>\n",
       "      <td>13.9</td>\n",
       "    </tr>\n",
       "    <tr>\n",
       "      <th>391</th>\n",
       "      <td>D-1694081</td>\n",
       "      <td>dodge charger 2.2</td>\n",
       "      <td>82</td>\n",
       "      <td>1</td>\n",
       "      <td>36.0</td>\n",
       "      <td>4</td>\n",
       "      <td>135</td>\n",
       "      <td>84</td>\n",
       "      <td>2370</td>\n",
       "      <td>13.0</td>\n",
       "    </tr>\n",
       "    <tr>\n",
       "      <th>392</th>\n",
       "      <td>C-1694092</td>\n",
       "      <td>chevrolet camaro</td>\n",
       "      <td>82</td>\n",
       "      <td>1</td>\n",
       "      <td>27.0</td>\n",
       "      <td>4</td>\n",
       "      <td>151</td>\n",
       "      <td>90</td>\n",
       "      <td>2950</td>\n",
       "      <td>17.3</td>\n",
       "    </tr>\n",
       "    <tr>\n",
       "      <th>393</th>\n",
       "      <td>F-1694103</td>\n",
       "      <td>ford mustang gl</td>\n",
       "      <td>82</td>\n",
       "      <td>1</td>\n",
       "      <td>27.0</td>\n",
       "      <td>4</td>\n",
       "      <td>140</td>\n",
       "      <td>86</td>\n",
       "      <td>2790</td>\n",
       "      <td>15.6</td>\n",
       "    </tr>\n",
       "    <tr>\n",
       "      <th>394</th>\n",
       "      <td>V-1694114</td>\n",
       "      <td>vw pickup</td>\n",
       "      <td>82</td>\n",
       "      <td>2</td>\n",
       "      <td>44.0</td>\n",
       "      <td>4</td>\n",
       "      <td>97</td>\n",
       "      <td>52</td>\n",
       "      <td>2130</td>\n",
       "      <td>24.6</td>\n",
       "    </tr>\n",
       "    <tr>\n",
       "      <th>395</th>\n",
       "      <td>D-1694125</td>\n",
       "      <td>dodge rampage</td>\n",
       "      <td>82</td>\n",
       "      <td>1</td>\n",
       "      <td>32.0</td>\n",
       "      <td>4</td>\n",
       "      <td>135</td>\n",
       "      <td>84</td>\n",
       "      <td>2295</td>\n",
       "      <td>11.6</td>\n",
       "    </tr>\n",
       "    <tr>\n",
       "      <th>396</th>\n",
       "      <td>F-1694136</td>\n",
       "      <td>ford ranger</td>\n",
       "      <td>82</td>\n",
       "      <td>1</td>\n",
       "      <td>28.0</td>\n",
       "      <td>4</td>\n",
       "      <td>120</td>\n",
       "      <td>79</td>\n",
       "      <td>2625</td>\n",
       "      <td>18.6</td>\n",
       "    </tr>\n",
       "    <tr>\n",
       "      <th>397</th>\n",
       "      <td>C-1694147</td>\n",
       "      <td>chevy s-10</td>\n",
       "      <td>82</td>\n",
       "      <td>1</td>\n",
       "      <td>31.0</td>\n",
       "      <td>4</td>\n",
       "      <td>119</td>\n",
       "      <td>82</td>\n",
       "      <td>2720</td>\n",
       "      <td>19.4</td>\n",
       "    </tr>\n",
       "  </tbody>\n",
       "</table>\n",
       "</div>"
      ],
      "text/plain": [
       "    vehicle id                       vehicle name  model  origin   mpg  \\\n",
       "367  C-1693817                 chevrolet cavalier     82       1  28.0   \n",
       "368  C-1693828           chevrolet cavalier wagon     82       1  27.0   \n",
       "369  C-1693839          chevrolet cavalier 2-door     82       1  34.0   \n",
       "370  P-1693850         pontiac j2000 se hatchback     82       1  31.0   \n",
       "371  D-1693861                     dodge aries se     82       1  29.0   \n",
       "372  P-1693872                    pontiac phoenix     82       1  27.0   \n",
       "373  F-1693883               ford fairmont futura     82       1  24.0   \n",
       "374  A-1693894                     amc concord dl     82       1  23.0   \n",
       "375  V-1693905                volkswagen rabbit l     82       2  36.0   \n",
       "376  M-1693916                 mazda glc custom l     82       3  37.0   \n",
       "377  M-1693927                   mazda glc custom     82       3  31.0   \n",
       "378  P-1693938             plymouth horizon miser     82       1  38.0   \n",
       "379  M-1693949                     mercury lynx l     82       1  36.0   \n",
       "380  N-1693960                   nissan stanza xe     82       3  36.0   \n",
       "381  H-1693971                       honda accord     82       3  36.0   \n",
       "382  T-1693982                     toyota corolla     82       3  34.0   \n",
       "383  H-1693993                        honda civic     82       3  38.0   \n",
       "384  H-1694004                 honda civic (auto)     82       3  32.0   \n",
       "385  D-1694015                      datsun 310 gx     82       3  38.0   \n",
       "386  B-1694026              buick century limited     82       1  25.0   \n",
       "387  O-1694037  oldsmobile cutlass ciera (diesel)     82       1  38.0   \n",
       "388  C-1694048         chrysler lebaron medallion     82       1  26.0   \n",
       "389  F-1694059                     ford granada l     82       1  22.0   \n",
       "390  T-1694070                   toyota celica gt     82       3  32.0   \n",
       "391  D-1694081                  dodge charger 2.2     82       1  36.0   \n",
       "392  C-1694092                   chevrolet camaro     82       1  27.0   \n",
       "393  F-1694103                    ford mustang gl     82       1  27.0   \n",
       "394  V-1694114                          vw pickup     82       2  44.0   \n",
       "395  D-1694125                      dodge rampage     82       1  32.0   \n",
       "396  F-1694136                        ford ranger     82       1  28.0   \n",
       "397  C-1694147                         chevy s-10     82       1  31.0   \n",
       "\n",
       "     cylinders  displacement horsepower  weight  acceleration  \n",
       "367          4           112         88    2605          19.6  \n",
       "368          4           112         88    2640          18.6  \n",
       "369          4           112         88    2395          18.0  \n",
       "370          4           112         85    2575          16.2  \n",
       "371          4           135         84    2525          16.0  \n",
       "372          4           151         90    2735          18.0  \n",
       "373          4           140         92    2865          16.4  \n",
       "374          4           151          ?    3035          20.5  \n",
       "375          4           105         74    1980          15.3  \n",
       "376          4            91         68    2025          18.2  \n",
       "377          4            91         68    1970          17.6  \n",
       "378          4           105         63    2125          14.7  \n",
       "379          4            98         70    2125          17.3  \n",
       "380          4           120         88    2160          14.5  \n",
       "381          4           107         75    2205          14.5  \n",
       "382          4           108         70    2245          16.9  \n",
       "383          4            91         67    1965          15.0  \n",
       "384          4            91         67    1965          15.7  \n",
       "385          4            91         67    1995          16.2  \n",
       "386          6           181        110    2945          16.4  \n",
       "387          6           262         85    3015          17.0  \n",
       "388          4           156         92    2585          14.5  \n",
       "389          6           232        112    2835          14.7  \n",
       "390          4           144         96    2665          13.9  \n",
       "391          4           135         84    2370          13.0  \n",
       "392          4           151         90    2950          17.3  \n",
       "393          4           140         86    2790          15.6  \n",
       "394          4            97         52    2130          24.6  \n",
       "395          4           135         84    2295          11.6  \n",
       "396          4           120         79    2625          18.6  \n",
       "397          4           119         82    2720          19.4  "
      ]
     },
     "execution_count": 76,
     "metadata": {},
     "output_type": "execute_result"
    }
   ],
   "source": [
    "#Grab the cars by model year\n",
    "year = complete.groupby('model')\n",
    "#Assemble the cars by the year of 1982, this being the ending year of the dataset\n",
    "year.get_group(82)"
   ]
  },
  {
   "cell_type": "code",
   "execution_count": 99,
   "id": "52f6b480",
   "metadata": {},
   "outputs": [
    {
     "data": {
      "text/html": [
       "<div>\n",
       "<style scoped>\n",
       "    .dataframe tbody tr th:only-of-type {\n",
       "        vertical-align: middle;\n",
       "    }\n",
       "\n",
       "    .dataframe tbody tr th {\n",
       "        vertical-align: top;\n",
       "    }\n",
       "\n",
       "    .dataframe thead th {\n",
       "        text-align: right;\n",
       "    }\n",
       "</style>\n",
       "<table border=\"1\" class=\"dataframe\">\n",
       "  <thead>\n",
       "    <tr style=\"text-align: right;\">\n",
       "      <th></th>\n",
       "      <th>vehicle id</th>\n",
       "      <th>vehicle name</th>\n",
       "      <th>model</th>\n",
       "      <th>origin</th>\n",
       "      <th>mpg</th>\n",
       "      <th>cylinders</th>\n",
       "      <th>displacement</th>\n",
       "      <th>horsepower</th>\n",
       "      <th>weight</th>\n",
       "      <th>acceleration</th>\n",
       "    </tr>\n",
       "  </thead>\n",
       "  <tbody>\n",
       "    <tr>\n",
       "      <th>244</th>\n",
       "      <td>V-1692464</td>\n",
       "      <td>volkswagen rabbit custom diesel</td>\n",
       "      <td>78</td>\n",
       "      <td>2</td>\n",
       "      <td>43.1</td>\n",
       "      <td>4</td>\n",
       "      <td>90</td>\n",
       "      <td>48</td>\n",
       "      <td>1985</td>\n",
       "      <td>21.5</td>\n",
       "    </tr>\n",
       "    <tr>\n",
       "      <th>245</th>\n",
       "      <td>F-1692475</td>\n",
       "      <td>ford fiesta</td>\n",
       "      <td>78</td>\n",
       "      <td>1</td>\n",
       "      <td>36.1</td>\n",
       "      <td>4</td>\n",
       "      <td>98</td>\n",
       "      <td>66</td>\n",
       "      <td>1800</td>\n",
       "      <td>14.4</td>\n",
       "    </tr>\n",
       "    <tr>\n",
       "      <th>246</th>\n",
       "      <td>M-1692486</td>\n",
       "      <td>mazda glc deluxe</td>\n",
       "      <td>78</td>\n",
       "      <td>3</td>\n",
       "      <td>32.8</td>\n",
       "      <td>4</td>\n",
       "      <td>78</td>\n",
       "      <td>52</td>\n",
       "      <td>1985</td>\n",
       "      <td>19.4</td>\n",
       "    </tr>\n",
       "    <tr>\n",
       "      <th>247</th>\n",
       "      <td>D-1692497</td>\n",
       "      <td>datsun b210 gx</td>\n",
       "      <td>78</td>\n",
       "      <td>3</td>\n",
       "      <td>39.4</td>\n",
       "      <td>4</td>\n",
       "      <td>85</td>\n",
       "      <td>70</td>\n",
       "      <td>2070</td>\n",
       "      <td>18.6</td>\n",
       "    </tr>\n",
       "    <tr>\n",
       "      <th>248</th>\n",
       "      <td>H-1692508</td>\n",
       "      <td>honda civic cvcc</td>\n",
       "      <td>78</td>\n",
       "      <td>3</td>\n",
       "      <td>36.1</td>\n",
       "      <td>4</td>\n",
       "      <td>91</td>\n",
       "      <td>60</td>\n",
       "      <td>1800</td>\n",
       "      <td>16.4</td>\n",
       "    </tr>\n",
       "    <tr>\n",
       "      <th>249</th>\n",
       "      <td>O-1692519</td>\n",
       "      <td>oldsmobile cutlass salon brougham</td>\n",
       "      <td>78</td>\n",
       "      <td>1</td>\n",
       "      <td>19.9</td>\n",
       "      <td>8</td>\n",
       "      <td>260</td>\n",
       "      <td>110</td>\n",
       "      <td>3365</td>\n",
       "      <td>15.5</td>\n",
       "    </tr>\n",
       "    <tr>\n",
       "      <th>250</th>\n",
       "      <td>D-1692530</td>\n",
       "      <td>dodge diplomat</td>\n",
       "      <td>78</td>\n",
       "      <td>1</td>\n",
       "      <td>19.4</td>\n",
       "      <td>8</td>\n",
       "      <td>318</td>\n",
       "      <td>140</td>\n",
       "      <td>3735</td>\n",
       "      <td>13.2</td>\n",
       "    </tr>\n",
       "    <tr>\n",
       "      <th>251</th>\n",
       "      <td>M-1692541</td>\n",
       "      <td>mercury monarch ghia</td>\n",
       "      <td>78</td>\n",
       "      <td>1</td>\n",
       "      <td>20.2</td>\n",
       "      <td>8</td>\n",
       "      <td>302</td>\n",
       "      <td>139</td>\n",
       "      <td>3570</td>\n",
       "      <td>12.8</td>\n",
       "    </tr>\n",
       "    <tr>\n",
       "      <th>252</th>\n",
       "      <td>P-1692552</td>\n",
       "      <td>pontiac phoenix lj</td>\n",
       "      <td>78</td>\n",
       "      <td>1</td>\n",
       "      <td>19.2</td>\n",
       "      <td>6</td>\n",
       "      <td>231</td>\n",
       "      <td>105</td>\n",
       "      <td>3535</td>\n",
       "      <td>19.2</td>\n",
       "    </tr>\n",
       "    <tr>\n",
       "      <th>253</th>\n",
       "      <td>C-1692563</td>\n",
       "      <td>chevrolet malibu</td>\n",
       "      <td>78</td>\n",
       "      <td>1</td>\n",
       "      <td>20.5</td>\n",
       "      <td>6</td>\n",
       "      <td>200</td>\n",
       "      <td>95</td>\n",
       "      <td>3155</td>\n",
       "      <td>18.2</td>\n",
       "    </tr>\n",
       "    <tr>\n",
       "      <th>254</th>\n",
       "      <td>F-1692574</td>\n",
       "      <td>ford fairmont (auto)</td>\n",
       "      <td>78</td>\n",
       "      <td>1</td>\n",
       "      <td>20.2</td>\n",
       "      <td>6</td>\n",
       "      <td>200</td>\n",
       "      <td>85</td>\n",
       "      <td>2965</td>\n",
       "      <td>15.8</td>\n",
       "    </tr>\n",
       "    <tr>\n",
       "      <th>255</th>\n",
       "      <td>F-1692585</td>\n",
       "      <td>ford fairmont (man)</td>\n",
       "      <td>78</td>\n",
       "      <td>1</td>\n",
       "      <td>25.1</td>\n",
       "      <td>4</td>\n",
       "      <td>140</td>\n",
       "      <td>88</td>\n",
       "      <td>2720</td>\n",
       "      <td>15.4</td>\n",
       "    </tr>\n",
       "    <tr>\n",
       "      <th>256</th>\n",
       "      <td>P-1692596</td>\n",
       "      <td>plymouth volare</td>\n",
       "      <td>78</td>\n",
       "      <td>1</td>\n",
       "      <td>20.5</td>\n",
       "      <td>6</td>\n",
       "      <td>225</td>\n",
       "      <td>100</td>\n",
       "      <td>3430</td>\n",
       "      <td>17.2</td>\n",
       "    </tr>\n",
       "    <tr>\n",
       "      <th>257</th>\n",
       "      <td>A-1692607</td>\n",
       "      <td>amc concord</td>\n",
       "      <td>78</td>\n",
       "      <td>1</td>\n",
       "      <td>19.4</td>\n",
       "      <td>6</td>\n",
       "      <td>232</td>\n",
       "      <td>90</td>\n",
       "      <td>3210</td>\n",
       "      <td>17.2</td>\n",
       "    </tr>\n",
       "    <tr>\n",
       "      <th>258</th>\n",
       "      <td>B-1692618</td>\n",
       "      <td>buick century special</td>\n",
       "      <td>78</td>\n",
       "      <td>1</td>\n",
       "      <td>20.6</td>\n",
       "      <td>6</td>\n",
       "      <td>231</td>\n",
       "      <td>105</td>\n",
       "      <td>3380</td>\n",
       "      <td>15.8</td>\n",
       "    </tr>\n",
       "    <tr>\n",
       "      <th>259</th>\n",
       "      <td>M-1692629</td>\n",
       "      <td>mercury zephyr</td>\n",
       "      <td>78</td>\n",
       "      <td>1</td>\n",
       "      <td>20.8</td>\n",
       "      <td>6</td>\n",
       "      <td>200</td>\n",
       "      <td>85</td>\n",
       "      <td>3070</td>\n",
       "      <td>16.7</td>\n",
       "    </tr>\n",
       "    <tr>\n",
       "      <th>260</th>\n",
       "      <td>D-1692640</td>\n",
       "      <td>dodge aspen</td>\n",
       "      <td>78</td>\n",
       "      <td>1</td>\n",
       "      <td>18.6</td>\n",
       "      <td>6</td>\n",
       "      <td>225</td>\n",
       "      <td>110</td>\n",
       "      <td>3620</td>\n",
       "      <td>18.7</td>\n",
       "    </tr>\n",
       "    <tr>\n",
       "      <th>261</th>\n",
       "      <td>A-1692651</td>\n",
       "      <td>amc concord d/l</td>\n",
       "      <td>78</td>\n",
       "      <td>1</td>\n",
       "      <td>18.1</td>\n",
       "      <td>6</td>\n",
       "      <td>258</td>\n",
       "      <td>120</td>\n",
       "      <td>3410</td>\n",
       "      <td>15.1</td>\n",
       "    </tr>\n",
       "    <tr>\n",
       "      <th>262</th>\n",
       "      <td>C-1692662</td>\n",
       "      <td>chevrolet monte carlo landau</td>\n",
       "      <td>78</td>\n",
       "      <td>1</td>\n",
       "      <td>19.2</td>\n",
       "      <td>8</td>\n",
       "      <td>305</td>\n",
       "      <td>145</td>\n",
       "      <td>3425</td>\n",
       "      <td>13.2</td>\n",
       "    </tr>\n",
       "    <tr>\n",
       "      <th>263</th>\n",
       "      <td>B-1692673</td>\n",
       "      <td>buick regal sport coupe (turbo)</td>\n",
       "      <td>78</td>\n",
       "      <td>1</td>\n",
       "      <td>17.7</td>\n",
       "      <td>6</td>\n",
       "      <td>231</td>\n",
       "      <td>165</td>\n",
       "      <td>3445</td>\n",
       "      <td>13.4</td>\n",
       "    </tr>\n",
       "    <tr>\n",
       "      <th>264</th>\n",
       "      <td>F-1692684</td>\n",
       "      <td>ford futura</td>\n",
       "      <td>78</td>\n",
       "      <td>1</td>\n",
       "      <td>18.1</td>\n",
       "      <td>8</td>\n",
       "      <td>302</td>\n",
       "      <td>139</td>\n",
       "      <td>3205</td>\n",
       "      <td>11.2</td>\n",
       "    </tr>\n",
       "    <tr>\n",
       "      <th>265</th>\n",
       "      <td>D-1692695</td>\n",
       "      <td>dodge magnum xe</td>\n",
       "      <td>78</td>\n",
       "      <td>1</td>\n",
       "      <td>17.5</td>\n",
       "      <td>8</td>\n",
       "      <td>318</td>\n",
       "      <td>140</td>\n",
       "      <td>4080</td>\n",
       "      <td>13.7</td>\n",
       "    </tr>\n",
       "    <tr>\n",
       "      <th>266</th>\n",
       "      <td>C-1692706</td>\n",
       "      <td>chevrolet chevette</td>\n",
       "      <td>78</td>\n",
       "      <td>1</td>\n",
       "      <td>30.0</td>\n",
       "      <td>4</td>\n",
       "      <td>98</td>\n",
       "      <td>68</td>\n",
       "      <td>2155</td>\n",
       "      <td>16.5</td>\n",
       "    </tr>\n",
       "    <tr>\n",
       "      <th>267</th>\n",
       "      <td>T-1692717</td>\n",
       "      <td>toyota corona</td>\n",
       "      <td>78</td>\n",
       "      <td>3</td>\n",
       "      <td>27.5</td>\n",
       "      <td>4</td>\n",
       "      <td>134</td>\n",
       "      <td>95</td>\n",
       "      <td>2560</td>\n",
       "      <td>14.2</td>\n",
       "    </tr>\n",
       "    <tr>\n",
       "      <th>268</th>\n",
       "      <td>D-1692728</td>\n",
       "      <td>datsun 510</td>\n",
       "      <td>78</td>\n",
       "      <td>3</td>\n",
       "      <td>27.2</td>\n",
       "      <td>4</td>\n",
       "      <td>119</td>\n",
       "      <td>97</td>\n",
       "      <td>2300</td>\n",
       "      <td>14.7</td>\n",
       "    </tr>\n",
       "    <tr>\n",
       "      <th>269</th>\n",
       "      <td>D-1692739</td>\n",
       "      <td>dodge omni</td>\n",
       "      <td>78</td>\n",
       "      <td>1</td>\n",
       "      <td>30.9</td>\n",
       "      <td>4</td>\n",
       "      <td>105</td>\n",
       "      <td>75</td>\n",
       "      <td>2230</td>\n",
       "      <td>14.5</td>\n",
       "    </tr>\n",
       "    <tr>\n",
       "      <th>270</th>\n",
       "      <td>T-1692750</td>\n",
       "      <td>toyota celica gt liftback</td>\n",
       "      <td>78</td>\n",
       "      <td>3</td>\n",
       "      <td>21.1</td>\n",
       "      <td>4</td>\n",
       "      <td>134</td>\n",
       "      <td>95</td>\n",
       "      <td>2515</td>\n",
       "      <td>14.8</td>\n",
       "    </tr>\n",
       "    <tr>\n",
       "      <th>271</th>\n",
       "      <td>P-1692761</td>\n",
       "      <td>plymouth sapporo</td>\n",
       "      <td>78</td>\n",
       "      <td>1</td>\n",
       "      <td>23.2</td>\n",
       "      <td>4</td>\n",
       "      <td>156</td>\n",
       "      <td>105</td>\n",
       "      <td>2745</td>\n",
       "      <td>16.7</td>\n",
       "    </tr>\n",
       "    <tr>\n",
       "      <th>272</th>\n",
       "      <td>O-1692772</td>\n",
       "      <td>oldsmobile starfire sx</td>\n",
       "      <td>78</td>\n",
       "      <td>1</td>\n",
       "      <td>23.8</td>\n",
       "      <td>4</td>\n",
       "      <td>151</td>\n",
       "      <td>85</td>\n",
       "      <td>2855</td>\n",
       "      <td>17.6</td>\n",
       "    </tr>\n",
       "    <tr>\n",
       "      <th>273</th>\n",
       "      <td>D-1692783</td>\n",
       "      <td>datsun 200-sx</td>\n",
       "      <td>78</td>\n",
       "      <td>3</td>\n",
       "      <td>23.9</td>\n",
       "      <td>4</td>\n",
       "      <td>119</td>\n",
       "      <td>97</td>\n",
       "      <td>2405</td>\n",
       "      <td>14.9</td>\n",
       "    </tr>\n",
       "    <tr>\n",
       "      <th>274</th>\n",
       "      <td>A-1692794</td>\n",
       "      <td>audi 5000</td>\n",
       "      <td>78</td>\n",
       "      <td>2</td>\n",
       "      <td>20.3</td>\n",
       "      <td>5</td>\n",
       "      <td>131</td>\n",
       "      <td>103</td>\n",
       "      <td>2830</td>\n",
       "      <td>15.9</td>\n",
       "    </tr>\n",
       "    <tr>\n",
       "      <th>275</th>\n",
       "      <td>V-1692805</td>\n",
       "      <td>volvo 264gl</td>\n",
       "      <td>78</td>\n",
       "      <td>2</td>\n",
       "      <td>17.0</td>\n",
       "      <td>6</td>\n",
       "      <td>163</td>\n",
       "      <td>125</td>\n",
       "      <td>3140</td>\n",
       "      <td>13.6</td>\n",
       "    </tr>\n",
       "    <tr>\n",
       "      <th>276</th>\n",
       "      <td>S-1692816</td>\n",
       "      <td>saab 99gle</td>\n",
       "      <td>78</td>\n",
       "      <td>2</td>\n",
       "      <td>21.6</td>\n",
       "      <td>4</td>\n",
       "      <td>121</td>\n",
       "      <td>115</td>\n",
       "      <td>2795</td>\n",
       "      <td>15.7</td>\n",
       "    </tr>\n",
       "    <tr>\n",
       "      <th>277</th>\n",
       "      <td>P-1692827</td>\n",
       "      <td>peugeot 604sl</td>\n",
       "      <td>78</td>\n",
       "      <td>2</td>\n",
       "      <td>16.2</td>\n",
       "      <td>6</td>\n",
       "      <td>163</td>\n",
       "      <td>133</td>\n",
       "      <td>3410</td>\n",
       "      <td>15.8</td>\n",
       "    </tr>\n",
       "    <tr>\n",
       "      <th>278</th>\n",
       "      <td>V-1692838</td>\n",
       "      <td>volkswagen scirocco</td>\n",
       "      <td>78</td>\n",
       "      <td>2</td>\n",
       "      <td>31.5</td>\n",
       "      <td>4</td>\n",
       "      <td>89</td>\n",
       "      <td>71</td>\n",
       "      <td>1990</td>\n",
       "      <td>14.9</td>\n",
       "    </tr>\n",
       "    <tr>\n",
       "      <th>279</th>\n",
       "      <td>H-1692849</td>\n",
       "      <td>honda accord lx</td>\n",
       "      <td>78</td>\n",
       "      <td>3</td>\n",
       "      <td>29.5</td>\n",
       "      <td>4</td>\n",
       "      <td>98</td>\n",
       "      <td>68</td>\n",
       "      <td>2135</td>\n",
       "      <td>16.6</td>\n",
       "    </tr>\n",
       "  </tbody>\n",
       "</table>\n",
       "</div>"
      ],
      "text/plain": [
       "    vehicle id                       vehicle name  model  origin   mpg  \\\n",
       "244  V-1692464    volkswagen rabbit custom diesel     78       2  43.1   \n",
       "245  F-1692475                        ford fiesta     78       1  36.1   \n",
       "246  M-1692486                   mazda glc deluxe     78       3  32.8   \n",
       "247  D-1692497                     datsun b210 gx     78       3  39.4   \n",
       "248  H-1692508                   honda civic cvcc     78       3  36.1   \n",
       "249  O-1692519  oldsmobile cutlass salon brougham     78       1  19.9   \n",
       "250  D-1692530                     dodge diplomat     78       1  19.4   \n",
       "251  M-1692541               mercury monarch ghia     78       1  20.2   \n",
       "252  P-1692552                 pontiac phoenix lj     78       1  19.2   \n",
       "253  C-1692563                   chevrolet malibu     78       1  20.5   \n",
       "254  F-1692574               ford fairmont (auto)     78       1  20.2   \n",
       "255  F-1692585                ford fairmont (man)     78       1  25.1   \n",
       "256  P-1692596                    plymouth volare     78       1  20.5   \n",
       "257  A-1692607                        amc concord     78       1  19.4   \n",
       "258  B-1692618              buick century special     78       1  20.6   \n",
       "259  M-1692629                     mercury zephyr     78       1  20.8   \n",
       "260  D-1692640                        dodge aspen     78       1  18.6   \n",
       "261  A-1692651                    amc concord d/l     78       1  18.1   \n",
       "262  C-1692662       chevrolet monte carlo landau     78       1  19.2   \n",
       "263  B-1692673    buick regal sport coupe (turbo)     78       1  17.7   \n",
       "264  F-1692684                        ford futura     78       1  18.1   \n",
       "265  D-1692695                    dodge magnum xe     78       1  17.5   \n",
       "266  C-1692706                 chevrolet chevette     78       1  30.0   \n",
       "267  T-1692717                      toyota corona     78       3  27.5   \n",
       "268  D-1692728                         datsun 510     78       3  27.2   \n",
       "269  D-1692739                         dodge omni     78       1  30.9   \n",
       "270  T-1692750          toyota celica gt liftback     78       3  21.1   \n",
       "271  P-1692761                   plymouth sapporo     78       1  23.2   \n",
       "272  O-1692772             oldsmobile starfire sx     78       1  23.8   \n",
       "273  D-1692783                      datsun 200-sx     78       3  23.9   \n",
       "274  A-1692794                          audi 5000     78       2  20.3   \n",
       "275  V-1692805                        volvo 264gl     78       2  17.0   \n",
       "276  S-1692816                         saab 99gle     78       2  21.6   \n",
       "277  P-1692827                      peugeot 604sl     78       2  16.2   \n",
       "278  V-1692838                volkswagen scirocco     78       2  31.5   \n",
       "279  H-1692849                    honda accord lx     78       3  29.5   \n",
       "\n",
       "     cylinders  displacement horsepower  weight  acceleration  \n",
       "244          4            90         48    1985          21.5  \n",
       "245          4            98         66    1800          14.4  \n",
       "246          4            78         52    1985          19.4  \n",
       "247          4            85         70    2070          18.6  \n",
       "248          4            91         60    1800          16.4  \n",
       "249          8           260        110    3365          15.5  \n",
       "250          8           318        140    3735          13.2  \n",
       "251          8           302        139    3570          12.8  \n",
       "252          6           231        105    3535          19.2  \n",
       "253          6           200         95    3155          18.2  \n",
       "254          6           200         85    2965          15.8  \n",
       "255          4           140         88    2720          15.4  \n",
       "256          6           225        100    3430          17.2  \n",
       "257          6           232         90    3210          17.2  \n",
       "258          6           231        105    3380          15.8  \n",
       "259          6           200         85    3070          16.7  \n",
       "260          6           225        110    3620          18.7  \n",
       "261          6           258        120    3410          15.1  \n",
       "262          8           305        145    3425          13.2  \n",
       "263          6           231        165    3445          13.4  \n",
       "264          8           302        139    3205          11.2  \n",
       "265          8           318        140    4080          13.7  \n",
       "266          4            98         68    2155          16.5  \n",
       "267          4           134         95    2560          14.2  \n",
       "268          4           119         97    2300          14.7  \n",
       "269          4           105         75    2230          14.5  \n",
       "270          4           134         95    2515          14.8  \n",
       "271          4           156        105    2745          16.7  \n",
       "272          4           151         85    2855          17.6  \n",
       "273          4           119         97    2405          14.9  \n",
       "274          5           131        103    2830          15.9  \n",
       "275          6           163        125    3140          13.6  \n",
       "276          4           121        115    2795          15.7  \n",
       "277          6           163        133    3410          15.8  \n",
       "278          4            89         71    1990          14.9  \n",
       "279          4            98         68    2135          16.6  "
      ]
     },
     "execution_count": 99,
     "metadata": {},
     "output_type": "execute_result"
    }
   ],
   "source": [
    "#Grab the cars by model year\n",
    "year = complete.groupby('model')\n",
    "#Assemble the cars by the year of 1978, due to four cars holding the highest MPG in the set were here\n",
    "year.get_group(78)"
   ]
  },
  {
   "cell_type": "code",
   "execution_count": 75,
   "id": "b177e00e",
   "metadata": {},
   "outputs": [
    {
     "data": {
      "application/vnd.plotly.v1+json": {
       "config": {
        "plotlyServerURL": "https://plot.ly"
       },
       "data": [
        {
         "domain": {
          "x": [
           0,
           1
          ],
          "y": [
           0,
           1
          ]
         },
         "hovertemplate": "origin=%{label}<br>model=%{value}<extra></extra>",
         "labels": [
          1,
          1,
          1,
          1,
          1,
          1,
          1,
          1,
          1,
          1,
          1,
          1,
          1,
          1,
          3,
          1,
          1,
          1,
          3,
          2,
          2,
          2,
          2,
          2,
          1,
          1,
          1,
          1,
          1,
          3,
          1,
          3,
          1,
          1,
          1,
          1,
          1,
          1,
          1,
          1,
          1,
          1,
          1,
          1,
          1,
          1,
          1,
          1,
          1,
          1,
          2,
          2,
          2,
          3,
          3,
          2,
          1,
          3,
          1,
          2,
          1,
          1,
          1,
          1,
          1,
          1,
          1,
          1,
          1,
          1,
          1,
          3,
          1,
          1,
          1,
          1,
          2,
          2,
          2,
          2,
          1,
          3,
          3,
          1,
          3,
          1,
          1,
          1,
          1,
          1,
          1,
          1,
          1,
          1,
          1,
          1,
          1,
          1,
          1,
          1,
          1,
          1,
          2,
          1,
          1,
          1,
          1,
          1,
          3,
          1,
          3,
          3,
          1,
          1,
          2,
          1,
          1,
          2,
          2,
          2,
          2,
          1,
          2,
          3,
          1,
          1,
          1,
          1,
          1,
          3,
          1,
          3,
          1,
          1,
          1,
          1,
          1,
          1,
          1,
          1,
          1,
          2,
          2,
          2,
          3,
          3,
          1,
          2,
          2,
          3,
          3,
          2,
          1,
          1,
          1,
          1,
          1,
          1,
          1,
          1,
          1,
          1,
          1,
          1,
          1,
          1,
          1,
          3,
          1,
          1,
          1,
          3,
          2,
          3,
          1,
          2,
          1,
          2,
          2,
          2,
          2,
          3,
          2,
          2,
          1,
          1,
          2,
          1,
          1,
          1,
          1,
          1,
          1,
          1,
          1,
          1,
          1,
          2,
          3,
          1,
          1,
          1,
          1,
          2,
          3,
          3,
          1,
          2,
          1,
          2,
          3,
          2,
          1,
          1,
          1,
          1,
          3,
          1,
          2,
          1,
          3,
          1,
          1,
          1,
          1,
          1,
          1,
          1,
          1,
          1,
          1,
          1,
          1,
          2,
          1,
          3,
          1,
          1,
          1,
          3,
          2,
          3,
          2,
          3,
          2,
          1,
          3,
          3,
          3,
          1,
          1,
          1,
          1,
          1,
          1,
          1,
          1,
          1,
          1,
          1,
          1,
          1,
          1,
          1,
          1,
          1,
          1,
          3,
          3,
          1,
          3,
          1,
          1,
          3,
          2,
          2,
          2,
          2,
          2,
          3,
          1,
          1,
          1,
          1,
          1,
          1,
          1,
          1,
          1,
          1,
          1,
          1,
          1,
          2,
          3,
          1,
          1,
          2,
          1,
          2,
          1,
          1,
          1,
          3,
          2,
          1,
          1,
          1,
          1,
          2,
          3,
          1,
          3,
          1,
          1,
          1,
          1,
          2,
          3,
          3,
          3,
          3,
          3,
          1,
          3,
          2,
          2,
          2,
          2,
          3,
          2,
          3,
          2,
          3,
          3,
          2,
          1,
          3,
          1,
          1,
          1,
          1,
          1,
          3,
          1,
          3,
          3,
          3,
          3,
          3,
          1,
          1,
          1,
          2,
          2,
          3,
          3,
          3,
          3,
          2,
          2,
          3,
          3,
          1,
          1,
          1,
          1,
          1,
          1,
          1,
          1,
          1,
          1,
          1,
          1,
          2,
          3,
          3,
          1,
          1,
          3,
          3,
          3,
          3,
          3,
          3,
          1,
          1,
          1,
          1,
          3,
          1,
          1,
          1,
          2,
          1,
          1,
          1
         ],
         "legendgroup": "",
         "name": "",
         "showlegend": true,
         "type": "pie",
         "values": [
          70,
          70,
          70,
          70,
          70,
          70,
          70,
          70,
          70,
          70,
          70,
          70,
          70,
          70,
          70,
          70,
          70,
          70,
          70,
          70,
          70,
          70,
          70,
          70,
          70,
          70,
          70,
          70,
          70,
          71,
          71,
          71,
          71,
          71,
          71,
          71,
          71,
          71,
          71,
          71,
          71,
          71,
          71,
          71,
          71,
          71,
          71,
          71,
          71,
          71,
          71,
          71,
          71,
          71,
          71,
          71,
          71,
          72,
          72,
          72,
          72,
          72,
          72,
          72,
          72,
          72,
          72,
          72,
          72,
          72,
          72,
          72,
          72,
          72,
          72,
          72,
          72,
          72,
          72,
          72,
          72,
          72,
          72,
          72,
          72,
          73,
          73,
          73,
          73,
          73,
          73,
          73,
          73,
          73,
          73,
          73,
          73,
          73,
          73,
          73,
          73,
          73,
          73,
          73,
          73,
          73,
          73,
          73,
          73,
          73,
          73,
          73,
          73,
          73,
          73,
          73,
          73,
          73,
          73,
          73,
          73,
          73,
          73,
          73,
          73,
          74,
          74,
          74,
          74,
          74,
          74,
          74,
          74,
          74,
          74,
          74,
          74,
          74,
          74,
          74,
          74,
          74,
          74,
          74,
          74,
          74,
          74,
          74,
          74,
          74,
          74,
          74,
          75,
          75,
          75,
          75,
          75,
          75,
          75,
          75,
          75,
          75,
          75,
          75,
          75,
          75,
          75,
          75,
          75,
          75,
          75,
          75,
          75,
          75,
          75,
          75,
          75,
          75,
          75,
          75,
          75,
          75,
          76,
          76,
          76,
          76,
          76,
          76,
          76,
          76,
          76,
          76,
          76,
          76,
          76,
          76,
          76,
          76,
          76,
          76,
          76,
          76,
          76,
          76,
          76,
          76,
          76,
          76,
          76,
          76,
          76,
          76,
          76,
          76,
          76,
          76,
          77,
          77,
          77,
          77,
          77,
          77,
          77,
          77,
          77,
          77,
          77,
          77,
          77,
          77,
          77,
          77,
          77,
          77,
          77,
          77,
          77,
          77,
          77,
          77,
          77,
          77,
          77,
          77,
          78,
          78,
          78,
          78,
          78,
          78,
          78,
          78,
          78,
          78,
          78,
          78,
          78,
          78,
          78,
          78,
          78,
          78,
          78,
          78,
          78,
          78,
          78,
          78,
          78,
          78,
          78,
          78,
          78,
          78,
          78,
          78,
          78,
          78,
          78,
          78,
          79,
          79,
          79,
          79,
          79,
          79,
          79,
          79,
          79,
          79,
          79,
          79,
          79,
          79,
          79,
          79,
          79,
          79,
          79,
          79,
          79,
          79,
          79,
          79,
          79,
          79,
          79,
          79,
          79,
          80,
          80,
          80,
          80,
          80,
          80,
          80,
          80,
          80,
          80,
          80,
          80,
          80,
          80,
          80,
          80,
          80,
          80,
          80,
          80,
          80,
          80,
          80,
          80,
          80,
          80,
          80,
          80,
          80,
          81,
          81,
          81,
          81,
          81,
          81,
          81,
          81,
          81,
          81,
          81,
          81,
          81,
          81,
          81,
          81,
          81,
          81,
          81,
          81,
          81,
          81,
          81,
          81,
          81,
          81,
          81,
          81,
          81,
          82,
          82,
          82,
          82,
          82,
          82,
          82,
          82,
          82,
          82,
          82,
          82,
          82,
          82,
          82,
          82,
          82,
          82,
          82,
          82,
          82,
          82,
          82,
          82,
          82,
          82,
          82,
          82,
          82,
          82,
          82
         ]
        }
       ],
       "layout": {
        "legend": {
         "tracegroupgap": 0
        },
        "template": {
         "data": {
          "bar": [
           {
            "error_x": {
             "color": "#2a3f5f"
            },
            "error_y": {
             "color": "#2a3f5f"
            },
            "marker": {
             "line": {
              "color": "#E5ECF6",
              "width": 0.5
             },
             "pattern": {
              "fillmode": "overlay",
              "size": 10,
              "solidity": 0.2
             }
            },
            "type": "bar"
           }
          ],
          "barpolar": [
           {
            "marker": {
             "line": {
              "color": "#E5ECF6",
              "width": 0.5
             },
             "pattern": {
              "fillmode": "overlay",
              "size": 10,
              "solidity": 0.2
             }
            },
            "type": "barpolar"
           }
          ],
          "carpet": [
           {
            "aaxis": {
             "endlinecolor": "#2a3f5f",
             "gridcolor": "white",
             "linecolor": "white",
             "minorgridcolor": "white",
             "startlinecolor": "#2a3f5f"
            },
            "baxis": {
             "endlinecolor": "#2a3f5f",
             "gridcolor": "white",
             "linecolor": "white",
             "minorgridcolor": "white",
             "startlinecolor": "#2a3f5f"
            },
            "type": "carpet"
           }
          ],
          "choropleth": [
           {
            "colorbar": {
             "outlinewidth": 0,
             "ticks": ""
            },
            "type": "choropleth"
           }
          ],
          "contour": [
           {
            "colorbar": {
             "outlinewidth": 0,
             "ticks": ""
            },
            "colorscale": [
             [
              0,
              "#0d0887"
             ],
             [
              0.1111111111111111,
              "#46039f"
             ],
             [
              0.2222222222222222,
              "#7201a8"
             ],
             [
              0.3333333333333333,
              "#9c179e"
             ],
             [
              0.4444444444444444,
              "#bd3786"
             ],
             [
              0.5555555555555556,
              "#d8576b"
             ],
             [
              0.6666666666666666,
              "#ed7953"
             ],
             [
              0.7777777777777778,
              "#fb9f3a"
             ],
             [
              0.8888888888888888,
              "#fdca26"
             ],
             [
              1,
              "#f0f921"
             ]
            ],
            "type": "contour"
           }
          ],
          "contourcarpet": [
           {
            "colorbar": {
             "outlinewidth": 0,
             "ticks": ""
            },
            "type": "contourcarpet"
           }
          ],
          "heatmap": [
           {
            "colorbar": {
             "outlinewidth": 0,
             "ticks": ""
            },
            "colorscale": [
             [
              0,
              "#0d0887"
             ],
             [
              0.1111111111111111,
              "#46039f"
             ],
             [
              0.2222222222222222,
              "#7201a8"
             ],
             [
              0.3333333333333333,
              "#9c179e"
             ],
             [
              0.4444444444444444,
              "#bd3786"
             ],
             [
              0.5555555555555556,
              "#d8576b"
             ],
             [
              0.6666666666666666,
              "#ed7953"
             ],
             [
              0.7777777777777778,
              "#fb9f3a"
             ],
             [
              0.8888888888888888,
              "#fdca26"
             ],
             [
              1,
              "#f0f921"
             ]
            ],
            "type": "heatmap"
           }
          ],
          "heatmapgl": [
           {
            "colorbar": {
             "outlinewidth": 0,
             "ticks": ""
            },
            "colorscale": [
             [
              0,
              "#0d0887"
             ],
             [
              0.1111111111111111,
              "#46039f"
             ],
             [
              0.2222222222222222,
              "#7201a8"
             ],
             [
              0.3333333333333333,
              "#9c179e"
             ],
             [
              0.4444444444444444,
              "#bd3786"
             ],
             [
              0.5555555555555556,
              "#d8576b"
             ],
             [
              0.6666666666666666,
              "#ed7953"
             ],
             [
              0.7777777777777778,
              "#fb9f3a"
             ],
             [
              0.8888888888888888,
              "#fdca26"
             ],
             [
              1,
              "#f0f921"
             ]
            ],
            "type": "heatmapgl"
           }
          ],
          "histogram": [
           {
            "marker": {
             "pattern": {
              "fillmode": "overlay",
              "size": 10,
              "solidity": 0.2
             }
            },
            "type": "histogram"
           }
          ],
          "histogram2d": [
           {
            "colorbar": {
             "outlinewidth": 0,
             "ticks": ""
            },
            "colorscale": [
             [
              0,
              "#0d0887"
             ],
             [
              0.1111111111111111,
              "#46039f"
             ],
             [
              0.2222222222222222,
              "#7201a8"
             ],
             [
              0.3333333333333333,
              "#9c179e"
             ],
             [
              0.4444444444444444,
              "#bd3786"
             ],
             [
              0.5555555555555556,
              "#d8576b"
             ],
             [
              0.6666666666666666,
              "#ed7953"
             ],
             [
              0.7777777777777778,
              "#fb9f3a"
             ],
             [
              0.8888888888888888,
              "#fdca26"
             ],
             [
              1,
              "#f0f921"
             ]
            ],
            "type": "histogram2d"
           }
          ],
          "histogram2dcontour": [
           {
            "colorbar": {
             "outlinewidth": 0,
             "ticks": ""
            },
            "colorscale": [
             [
              0,
              "#0d0887"
             ],
             [
              0.1111111111111111,
              "#46039f"
             ],
             [
              0.2222222222222222,
              "#7201a8"
             ],
             [
              0.3333333333333333,
              "#9c179e"
             ],
             [
              0.4444444444444444,
              "#bd3786"
             ],
             [
              0.5555555555555556,
              "#d8576b"
             ],
             [
              0.6666666666666666,
              "#ed7953"
             ],
             [
              0.7777777777777778,
              "#fb9f3a"
             ],
             [
              0.8888888888888888,
              "#fdca26"
             ],
             [
              1,
              "#f0f921"
             ]
            ],
            "type": "histogram2dcontour"
           }
          ],
          "mesh3d": [
           {
            "colorbar": {
             "outlinewidth": 0,
             "ticks": ""
            },
            "type": "mesh3d"
           }
          ],
          "parcoords": [
           {
            "line": {
             "colorbar": {
              "outlinewidth": 0,
              "ticks": ""
             }
            },
            "type": "parcoords"
           }
          ],
          "pie": [
           {
            "automargin": true,
            "type": "pie"
           }
          ],
          "scatter": [
           {
            "marker": {
             "colorbar": {
              "outlinewidth": 0,
              "ticks": ""
             }
            },
            "type": "scatter"
           }
          ],
          "scatter3d": [
           {
            "line": {
             "colorbar": {
              "outlinewidth": 0,
              "ticks": ""
             }
            },
            "marker": {
             "colorbar": {
              "outlinewidth": 0,
              "ticks": ""
             }
            },
            "type": "scatter3d"
           }
          ],
          "scattercarpet": [
           {
            "marker": {
             "colorbar": {
              "outlinewidth": 0,
              "ticks": ""
             }
            },
            "type": "scattercarpet"
           }
          ],
          "scattergeo": [
           {
            "marker": {
             "colorbar": {
              "outlinewidth": 0,
              "ticks": ""
             }
            },
            "type": "scattergeo"
           }
          ],
          "scattergl": [
           {
            "marker": {
             "colorbar": {
              "outlinewidth": 0,
              "ticks": ""
             }
            },
            "type": "scattergl"
           }
          ],
          "scattermapbox": [
           {
            "marker": {
             "colorbar": {
              "outlinewidth": 0,
              "ticks": ""
             }
            },
            "type": "scattermapbox"
           }
          ],
          "scatterpolar": [
           {
            "marker": {
             "colorbar": {
              "outlinewidth": 0,
              "ticks": ""
             }
            },
            "type": "scatterpolar"
           }
          ],
          "scatterpolargl": [
           {
            "marker": {
             "colorbar": {
              "outlinewidth": 0,
              "ticks": ""
             }
            },
            "type": "scatterpolargl"
           }
          ],
          "scatterternary": [
           {
            "marker": {
             "colorbar": {
              "outlinewidth": 0,
              "ticks": ""
             }
            },
            "type": "scatterternary"
           }
          ],
          "surface": [
           {
            "colorbar": {
             "outlinewidth": 0,
             "ticks": ""
            },
            "colorscale": [
             [
              0,
              "#0d0887"
             ],
             [
              0.1111111111111111,
              "#46039f"
             ],
             [
              0.2222222222222222,
              "#7201a8"
             ],
             [
              0.3333333333333333,
              "#9c179e"
             ],
             [
              0.4444444444444444,
              "#bd3786"
             ],
             [
              0.5555555555555556,
              "#d8576b"
             ],
             [
              0.6666666666666666,
              "#ed7953"
             ],
             [
              0.7777777777777778,
              "#fb9f3a"
             ],
             [
              0.8888888888888888,
              "#fdca26"
             ],
             [
              1,
              "#f0f921"
             ]
            ],
            "type": "surface"
           }
          ],
          "table": [
           {
            "cells": {
             "fill": {
              "color": "#EBF0F8"
             },
             "line": {
              "color": "white"
             }
            },
            "header": {
             "fill": {
              "color": "#C8D4E3"
             },
             "line": {
              "color": "white"
             }
            },
            "type": "table"
           }
          ]
         },
         "layout": {
          "annotationdefaults": {
           "arrowcolor": "#2a3f5f",
           "arrowhead": 0,
           "arrowwidth": 1
          },
          "autotypenumbers": "strict",
          "coloraxis": {
           "colorbar": {
            "outlinewidth": 0,
            "ticks": ""
           }
          },
          "colorscale": {
           "diverging": [
            [
             0,
             "#8e0152"
            ],
            [
             0.1,
             "#c51b7d"
            ],
            [
             0.2,
             "#de77ae"
            ],
            [
             0.3,
             "#f1b6da"
            ],
            [
             0.4,
             "#fde0ef"
            ],
            [
             0.5,
             "#f7f7f7"
            ],
            [
             0.6,
             "#e6f5d0"
            ],
            [
             0.7,
             "#b8e186"
            ],
            [
             0.8,
             "#7fbc41"
            ],
            [
             0.9,
             "#4d9221"
            ],
            [
             1,
             "#276419"
            ]
           ],
           "sequential": [
            [
             0,
             "#0d0887"
            ],
            [
             0.1111111111111111,
             "#46039f"
            ],
            [
             0.2222222222222222,
             "#7201a8"
            ],
            [
             0.3333333333333333,
             "#9c179e"
            ],
            [
             0.4444444444444444,
             "#bd3786"
            ],
            [
             0.5555555555555556,
             "#d8576b"
            ],
            [
             0.6666666666666666,
             "#ed7953"
            ],
            [
             0.7777777777777778,
             "#fb9f3a"
            ],
            [
             0.8888888888888888,
             "#fdca26"
            ],
            [
             1,
             "#f0f921"
            ]
           ],
           "sequentialminus": [
            [
             0,
             "#0d0887"
            ],
            [
             0.1111111111111111,
             "#46039f"
            ],
            [
             0.2222222222222222,
             "#7201a8"
            ],
            [
             0.3333333333333333,
             "#9c179e"
            ],
            [
             0.4444444444444444,
             "#bd3786"
            ],
            [
             0.5555555555555556,
             "#d8576b"
            ],
            [
             0.6666666666666666,
             "#ed7953"
            ],
            [
             0.7777777777777778,
             "#fb9f3a"
            ],
            [
             0.8888888888888888,
             "#fdca26"
            ],
            [
             1,
             "#f0f921"
            ]
           ]
          },
          "colorway": [
           "#636efa",
           "#EF553B",
           "#00cc96",
           "#ab63fa",
           "#FFA15A",
           "#19d3f3",
           "#FF6692",
           "#B6E880",
           "#FF97FF",
           "#FECB52"
          ],
          "font": {
           "color": "#2a3f5f"
          },
          "geo": {
           "bgcolor": "white",
           "lakecolor": "white",
           "landcolor": "#E5ECF6",
           "showlakes": true,
           "showland": true,
           "subunitcolor": "white"
          },
          "hoverlabel": {
           "align": "left"
          },
          "hovermode": "closest",
          "mapbox": {
           "style": "light"
          },
          "paper_bgcolor": "white",
          "plot_bgcolor": "#E5ECF6",
          "polar": {
           "angularaxis": {
            "gridcolor": "white",
            "linecolor": "white",
            "ticks": ""
           },
           "bgcolor": "#E5ECF6",
           "radialaxis": {
            "gridcolor": "white",
            "linecolor": "white",
            "ticks": ""
           }
          },
          "scene": {
           "xaxis": {
            "backgroundcolor": "#E5ECF6",
            "gridcolor": "white",
            "gridwidth": 2,
            "linecolor": "white",
            "showbackground": true,
            "ticks": "",
            "zerolinecolor": "white"
           },
           "yaxis": {
            "backgroundcolor": "#E5ECF6",
            "gridcolor": "white",
            "gridwidth": 2,
            "linecolor": "white",
            "showbackground": true,
            "ticks": "",
            "zerolinecolor": "white"
           },
           "zaxis": {
            "backgroundcolor": "#E5ECF6",
            "gridcolor": "white",
            "gridwidth": 2,
            "linecolor": "white",
            "showbackground": true,
            "ticks": "",
            "zerolinecolor": "white"
           }
          },
          "shapedefaults": {
           "line": {
            "color": "#2a3f5f"
           }
          },
          "ternary": {
           "aaxis": {
            "gridcolor": "white",
            "linecolor": "white",
            "ticks": ""
           },
           "baxis": {
            "gridcolor": "white",
            "linecolor": "white",
            "ticks": ""
           },
           "bgcolor": "#E5ECF6",
           "caxis": {
            "gridcolor": "white",
            "linecolor": "white",
            "ticks": ""
           }
          },
          "title": {
           "x": 0.05
          },
          "xaxis": {
           "automargin": true,
           "gridcolor": "white",
           "linecolor": "white",
           "ticks": "",
           "title": {
            "standoff": 15
           },
           "zerolinecolor": "white",
           "zerolinewidth": 2
          },
          "yaxis": {
           "automargin": true,
           "gridcolor": "white",
           "linecolor": "white",
           "ticks": "",
           "title": {
            "standoff": 15
           },
           "zerolinecolor": "white",
           "zerolinewidth": 2
          }
         }
        },
        "title": {
         "text": "Car by Origin Country"
        }
       }
      },
      "text/html": [
       "<div>                            <div id=\"0c844a06-27a2-4674-bbd2-5e6bd2b52354\" class=\"plotly-graph-div\" style=\"height:525px; width:100%;\"></div>            <script type=\"text/javascript\">                require([\"plotly\"], function(Plotly) {                    window.PLOTLYENV=window.PLOTLYENV || {};                                    if (document.getElementById(\"0c844a06-27a2-4674-bbd2-5e6bd2b52354\")) {                    Plotly.newPlot(                        \"0c844a06-27a2-4674-bbd2-5e6bd2b52354\",                        [{\"domain\":{\"x\":[0.0,1.0],\"y\":[0.0,1.0]},\"hovertemplate\":\"origin=%{label}<br>model=%{value}<extra></extra>\",\"labels\":[1,1,1,1,1,1,1,1,1,1,1,1,1,1,3,1,1,1,3,2,2,2,2,2,1,1,1,1,1,3,1,3,1,1,1,1,1,1,1,1,1,1,1,1,1,1,1,1,1,1,2,2,2,3,3,2,1,3,1,2,1,1,1,1,1,1,1,1,1,1,1,3,1,1,1,1,2,2,2,2,1,3,3,1,3,1,1,1,1,1,1,1,1,1,1,1,1,1,1,1,1,1,2,1,1,1,1,1,3,1,3,3,1,1,2,1,1,2,2,2,2,1,2,3,1,1,1,1,1,3,1,3,1,1,1,1,1,1,1,1,1,2,2,2,3,3,1,2,2,3,3,2,1,1,1,1,1,1,1,1,1,1,1,1,1,1,1,3,1,1,1,3,2,3,1,2,1,2,2,2,2,3,2,2,1,1,2,1,1,1,1,1,1,1,1,1,1,2,3,1,1,1,1,2,3,3,1,2,1,2,3,2,1,1,1,1,3,1,2,1,3,1,1,1,1,1,1,1,1,1,1,1,1,2,1,3,1,1,1,3,2,3,2,3,2,1,3,3,3,1,1,1,1,1,1,1,1,1,1,1,1,1,1,1,1,1,1,3,3,1,3,1,1,3,2,2,2,2,2,3,1,1,1,1,1,1,1,1,1,1,1,1,1,2,3,1,1,2,1,2,1,1,1,3,2,1,1,1,1,2,3,1,3,1,1,1,1,2,3,3,3,3,3,1,3,2,2,2,2,3,2,3,2,3,3,2,1,3,1,1,1,1,1,3,1,3,3,3,3,3,1,1,1,2,2,3,3,3,3,2,2,3,3,1,1,1,1,1,1,1,1,1,1,1,1,2,3,3,1,1,3,3,3,3,3,3,1,1,1,1,3,1,1,1,2,1,1,1],\"legendgroup\":\"\",\"name\":\"\",\"showlegend\":true,\"values\":[70,70,70,70,70,70,70,70,70,70,70,70,70,70,70,70,70,70,70,70,70,70,70,70,70,70,70,70,70,71,71,71,71,71,71,71,71,71,71,71,71,71,71,71,71,71,71,71,71,71,71,71,71,71,71,71,71,72,72,72,72,72,72,72,72,72,72,72,72,72,72,72,72,72,72,72,72,72,72,72,72,72,72,72,72,73,73,73,73,73,73,73,73,73,73,73,73,73,73,73,73,73,73,73,73,73,73,73,73,73,73,73,73,73,73,73,73,73,73,73,73,73,73,73,73,74,74,74,74,74,74,74,74,74,74,74,74,74,74,74,74,74,74,74,74,74,74,74,74,74,74,74,75,75,75,75,75,75,75,75,75,75,75,75,75,75,75,75,75,75,75,75,75,75,75,75,75,75,75,75,75,75,76,76,76,76,76,76,76,76,76,76,76,76,76,76,76,76,76,76,76,76,76,76,76,76,76,76,76,76,76,76,76,76,76,76,77,77,77,77,77,77,77,77,77,77,77,77,77,77,77,77,77,77,77,77,77,77,77,77,77,77,77,77,78,78,78,78,78,78,78,78,78,78,78,78,78,78,78,78,78,78,78,78,78,78,78,78,78,78,78,78,78,78,78,78,78,78,78,78,79,79,79,79,79,79,79,79,79,79,79,79,79,79,79,79,79,79,79,79,79,79,79,79,79,79,79,79,79,80,80,80,80,80,80,80,80,80,80,80,80,80,80,80,80,80,80,80,80,80,80,80,80,80,80,80,80,80,81,81,81,81,81,81,81,81,81,81,81,81,81,81,81,81,81,81,81,81,81,81,81,81,81,81,81,81,81,82,82,82,82,82,82,82,82,82,82,82,82,82,82,82,82,82,82,82,82,82,82,82,82,82,82,82,82,82,82,82],\"type\":\"pie\"}],                        {\"template\":{\"data\":{\"bar\":[{\"error_x\":{\"color\":\"#2a3f5f\"},\"error_y\":{\"color\":\"#2a3f5f\"},\"marker\":{\"line\":{\"color\":\"#E5ECF6\",\"width\":0.5},\"pattern\":{\"fillmode\":\"overlay\",\"size\":10,\"solidity\":0.2}},\"type\":\"bar\"}],\"barpolar\":[{\"marker\":{\"line\":{\"color\":\"#E5ECF6\",\"width\":0.5},\"pattern\":{\"fillmode\":\"overlay\",\"size\":10,\"solidity\":0.2}},\"type\":\"barpolar\"}],\"carpet\":[{\"aaxis\":{\"endlinecolor\":\"#2a3f5f\",\"gridcolor\":\"white\",\"linecolor\":\"white\",\"minorgridcolor\":\"white\",\"startlinecolor\":\"#2a3f5f\"},\"baxis\":{\"endlinecolor\":\"#2a3f5f\",\"gridcolor\":\"white\",\"linecolor\":\"white\",\"minorgridcolor\":\"white\",\"startlinecolor\":\"#2a3f5f\"},\"type\":\"carpet\"}],\"choropleth\":[{\"colorbar\":{\"outlinewidth\":0,\"ticks\":\"\"},\"type\":\"choropleth\"}],\"contour\":[{\"colorbar\":{\"outlinewidth\":0,\"ticks\":\"\"},\"colorscale\":[[0.0,\"#0d0887\"],[0.1111111111111111,\"#46039f\"],[0.2222222222222222,\"#7201a8\"],[0.3333333333333333,\"#9c179e\"],[0.4444444444444444,\"#bd3786\"],[0.5555555555555556,\"#d8576b\"],[0.6666666666666666,\"#ed7953\"],[0.7777777777777778,\"#fb9f3a\"],[0.8888888888888888,\"#fdca26\"],[1.0,\"#f0f921\"]],\"type\":\"contour\"}],\"contourcarpet\":[{\"colorbar\":{\"outlinewidth\":0,\"ticks\":\"\"},\"type\":\"contourcarpet\"}],\"heatmap\":[{\"colorbar\":{\"outlinewidth\":0,\"ticks\":\"\"},\"colorscale\":[[0.0,\"#0d0887\"],[0.1111111111111111,\"#46039f\"],[0.2222222222222222,\"#7201a8\"],[0.3333333333333333,\"#9c179e\"],[0.4444444444444444,\"#bd3786\"],[0.5555555555555556,\"#d8576b\"],[0.6666666666666666,\"#ed7953\"],[0.7777777777777778,\"#fb9f3a\"],[0.8888888888888888,\"#fdca26\"],[1.0,\"#f0f921\"]],\"type\":\"heatmap\"}],\"heatmapgl\":[{\"colorbar\":{\"outlinewidth\":0,\"ticks\":\"\"},\"colorscale\":[[0.0,\"#0d0887\"],[0.1111111111111111,\"#46039f\"],[0.2222222222222222,\"#7201a8\"],[0.3333333333333333,\"#9c179e\"],[0.4444444444444444,\"#bd3786\"],[0.5555555555555556,\"#d8576b\"],[0.6666666666666666,\"#ed7953\"],[0.7777777777777778,\"#fb9f3a\"],[0.8888888888888888,\"#fdca26\"],[1.0,\"#f0f921\"]],\"type\":\"heatmapgl\"}],\"histogram\":[{\"marker\":{\"pattern\":{\"fillmode\":\"overlay\",\"size\":10,\"solidity\":0.2}},\"type\":\"histogram\"}],\"histogram2d\":[{\"colorbar\":{\"outlinewidth\":0,\"ticks\":\"\"},\"colorscale\":[[0.0,\"#0d0887\"],[0.1111111111111111,\"#46039f\"],[0.2222222222222222,\"#7201a8\"],[0.3333333333333333,\"#9c179e\"],[0.4444444444444444,\"#bd3786\"],[0.5555555555555556,\"#d8576b\"],[0.6666666666666666,\"#ed7953\"],[0.7777777777777778,\"#fb9f3a\"],[0.8888888888888888,\"#fdca26\"],[1.0,\"#f0f921\"]],\"type\":\"histogram2d\"}],\"histogram2dcontour\":[{\"colorbar\":{\"outlinewidth\":0,\"ticks\":\"\"},\"colorscale\":[[0.0,\"#0d0887\"],[0.1111111111111111,\"#46039f\"],[0.2222222222222222,\"#7201a8\"],[0.3333333333333333,\"#9c179e\"],[0.4444444444444444,\"#bd3786\"],[0.5555555555555556,\"#d8576b\"],[0.6666666666666666,\"#ed7953\"],[0.7777777777777778,\"#fb9f3a\"],[0.8888888888888888,\"#fdca26\"],[1.0,\"#f0f921\"]],\"type\":\"histogram2dcontour\"}],\"mesh3d\":[{\"colorbar\":{\"outlinewidth\":0,\"ticks\":\"\"},\"type\":\"mesh3d\"}],\"parcoords\":[{\"line\":{\"colorbar\":{\"outlinewidth\":0,\"ticks\":\"\"}},\"type\":\"parcoords\"}],\"pie\":[{\"automargin\":true,\"type\":\"pie\"}],\"scatter\":[{\"marker\":{\"colorbar\":{\"outlinewidth\":0,\"ticks\":\"\"}},\"type\":\"scatter\"}],\"scatter3d\":[{\"line\":{\"colorbar\":{\"outlinewidth\":0,\"ticks\":\"\"}},\"marker\":{\"colorbar\":{\"outlinewidth\":0,\"ticks\":\"\"}},\"type\":\"scatter3d\"}],\"scattercarpet\":[{\"marker\":{\"colorbar\":{\"outlinewidth\":0,\"ticks\":\"\"}},\"type\":\"scattercarpet\"}],\"scattergeo\":[{\"marker\":{\"colorbar\":{\"outlinewidth\":0,\"ticks\":\"\"}},\"type\":\"scattergeo\"}],\"scattergl\":[{\"marker\":{\"colorbar\":{\"outlinewidth\":0,\"ticks\":\"\"}},\"type\":\"scattergl\"}],\"scattermapbox\":[{\"marker\":{\"colorbar\":{\"outlinewidth\":0,\"ticks\":\"\"}},\"type\":\"scattermapbox\"}],\"scatterpolar\":[{\"marker\":{\"colorbar\":{\"outlinewidth\":0,\"ticks\":\"\"}},\"type\":\"scatterpolar\"}],\"scatterpolargl\":[{\"marker\":{\"colorbar\":{\"outlinewidth\":0,\"ticks\":\"\"}},\"type\":\"scatterpolargl\"}],\"scatterternary\":[{\"marker\":{\"colorbar\":{\"outlinewidth\":0,\"ticks\":\"\"}},\"type\":\"scatterternary\"}],\"surface\":[{\"colorbar\":{\"outlinewidth\":0,\"ticks\":\"\"},\"colorscale\":[[0.0,\"#0d0887\"],[0.1111111111111111,\"#46039f\"],[0.2222222222222222,\"#7201a8\"],[0.3333333333333333,\"#9c179e\"],[0.4444444444444444,\"#bd3786\"],[0.5555555555555556,\"#d8576b\"],[0.6666666666666666,\"#ed7953\"],[0.7777777777777778,\"#fb9f3a\"],[0.8888888888888888,\"#fdca26\"],[1.0,\"#f0f921\"]],\"type\":\"surface\"}],\"table\":[{\"cells\":{\"fill\":{\"color\":\"#EBF0F8\"},\"line\":{\"color\":\"white\"}},\"header\":{\"fill\":{\"color\":\"#C8D4E3\"},\"line\":{\"color\":\"white\"}},\"type\":\"table\"}]},\"layout\":{\"annotationdefaults\":{\"arrowcolor\":\"#2a3f5f\",\"arrowhead\":0,\"arrowwidth\":1},\"autotypenumbers\":\"strict\",\"coloraxis\":{\"colorbar\":{\"outlinewidth\":0,\"ticks\":\"\"}},\"colorscale\":{\"diverging\":[[0,\"#8e0152\"],[0.1,\"#c51b7d\"],[0.2,\"#de77ae\"],[0.3,\"#f1b6da\"],[0.4,\"#fde0ef\"],[0.5,\"#f7f7f7\"],[0.6,\"#e6f5d0\"],[0.7,\"#b8e186\"],[0.8,\"#7fbc41\"],[0.9,\"#4d9221\"],[1,\"#276419\"]],\"sequential\":[[0.0,\"#0d0887\"],[0.1111111111111111,\"#46039f\"],[0.2222222222222222,\"#7201a8\"],[0.3333333333333333,\"#9c179e\"],[0.4444444444444444,\"#bd3786\"],[0.5555555555555556,\"#d8576b\"],[0.6666666666666666,\"#ed7953\"],[0.7777777777777778,\"#fb9f3a\"],[0.8888888888888888,\"#fdca26\"],[1.0,\"#f0f921\"]],\"sequentialminus\":[[0.0,\"#0d0887\"],[0.1111111111111111,\"#46039f\"],[0.2222222222222222,\"#7201a8\"],[0.3333333333333333,\"#9c179e\"],[0.4444444444444444,\"#bd3786\"],[0.5555555555555556,\"#d8576b\"],[0.6666666666666666,\"#ed7953\"],[0.7777777777777778,\"#fb9f3a\"],[0.8888888888888888,\"#fdca26\"],[1.0,\"#f0f921\"]]},\"colorway\":[\"#636efa\",\"#EF553B\",\"#00cc96\",\"#ab63fa\",\"#FFA15A\",\"#19d3f3\",\"#FF6692\",\"#B6E880\",\"#FF97FF\",\"#FECB52\"],\"font\":{\"color\":\"#2a3f5f\"},\"geo\":{\"bgcolor\":\"white\",\"lakecolor\":\"white\",\"landcolor\":\"#E5ECF6\",\"showlakes\":true,\"showland\":true,\"subunitcolor\":\"white\"},\"hoverlabel\":{\"align\":\"left\"},\"hovermode\":\"closest\",\"mapbox\":{\"style\":\"light\"},\"paper_bgcolor\":\"white\",\"plot_bgcolor\":\"#E5ECF6\",\"polar\":{\"angularaxis\":{\"gridcolor\":\"white\",\"linecolor\":\"white\",\"ticks\":\"\"},\"bgcolor\":\"#E5ECF6\",\"radialaxis\":{\"gridcolor\":\"white\",\"linecolor\":\"white\",\"ticks\":\"\"}},\"scene\":{\"xaxis\":{\"backgroundcolor\":\"#E5ECF6\",\"gridcolor\":\"white\",\"gridwidth\":2,\"linecolor\":\"white\",\"showbackground\":true,\"ticks\":\"\",\"zerolinecolor\":\"white\"},\"yaxis\":{\"backgroundcolor\":\"#E5ECF6\",\"gridcolor\":\"white\",\"gridwidth\":2,\"linecolor\":\"white\",\"showbackground\":true,\"ticks\":\"\",\"zerolinecolor\":\"white\"},\"zaxis\":{\"backgroundcolor\":\"#E5ECF6\",\"gridcolor\":\"white\",\"gridwidth\":2,\"linecolor\":\"white\",\"showbackground\":true,\"ticks\":\"\",\"zerolinecolor\":\"white\"}},\"shapedefaults\":{\"line\":{\"color\":\"#2a3f5f\"}},\"ternary\":{\"aaxis\":{\"gridcolor\":\"white\",\"linecolor\":\"white\",\"ticks\":\"\"},\"baxis\":{\"gridcolor\":\"white\",\"linecolor\":\"white\",\"ticks\":\"\"},\"bgcolor\":\"#E5ECF6\",\"caxis\":{\"gridcolor\":\"white\",\"linecolor\":\"white\",\"ticks\":\"\"}},\"title\":{\"x\":0.05},\"xaxis\":{\"automargin\":true,\"gridcolor\":\"white\",\"linecolor\":\"white\",\"ticks\":\"\",\"title\":{\"standoff\":15},\"zerolinecolor\":\"white\",\"zerolinewidth\":2},\"yaxis\":{\"automargin\":true,\"gridcolor\":\"white\",\"linecolor\":\"white\",\"ticks\":\"\",\"title\":{\"standoff\":15},\"zerolinecolor\":\"white\",\"zerolinewidth\":2}}},\"legend\":{\"tracegroupgap\":0},\"title\":{\"text\":\"Car by Origin Country\"}},                        {\"responsive\": true}                    ).then(function(){\n",
       "                            \n",
       "var gd = document.getElementById('0c844a06-27a2-4674-bbd2-5e6bd2b52354');\n",
       "var x = new MutationObserver(function (mutations, observer) {{\n",
       "        var display = window.getComputedStyle(gd).display;\n",
       "        if (!display || display === 'none') {{\n",
       "            console.log([gd, 'removed!']);\n",
       "            Plotly.purge(gd);\n",
       "            observer.disconnect();\n",
       "        }}\n",
       "}});\n",
       "\n",
       "// Listen for the removal of the full notebook cells\n",
       "var notebookContainer = gd.closest('#notebook-container');\n",
       "if (notebookContainer) {{\n",
       "    x.observe(notebookContainer, {childList: true});\n",
       "}}\n",
       "\n",
       "// Listen for the clearing of the current output cell\n",
       "var outputEl = gd.closest('.output');\n",
       "if (outputEl) {{\n",
       "    x.observe(outputEl, {childList: true});\n",
       "}}\n",
       "\n",
       "                        })                };                });            </script>        </div>"
      ]
     },
     "metadata": {},
     "output_type": "display_data"
    }
   ],
   "source": [
    "#Chart to show the total number of vehicles within the dataset per Continent of Origin\n",
    "#1= American 2=European 3=Asian\n",
    "fig = px.pie(df,title=\"Car by Origin Country\", values='model', names='origin')\n",
    "fig.show()"
   ]
  },
  {
   "cell_type": "code",
   "execution_count": 110,
   "id": "d24b3b3d",
   "metadata": {
    "scrolled": false
   },
   "outputs": [
    {
     "data": {
      "application/vnd.plotly.v1+json": {
       "config": {
        "plotlyServerURL": "https://plot.ly"
       },
       "data": [
        {
         "customdata": [
          [
           "chevrolet chevelle malibu"
          ],
          [
           "buick skylark 320"
          ],
          [
           "plymouth satellite"
          ],
          [
           "amc rebel sst"
          ],
          [
           "ford torino"
          ],
          [
           "ford galaxie 500"
          ],
          [
           "chevrolet impala"
          ],
          [
           "plymouth fury iii"
          ],
          [
           "pontiac catalina"
          ],
          [
           "amc ambassador dpl"
          ],
          [
           "dodge challenger se"
          ],
          [
           "plymouth 'cuda 340"
          ],
          [
           "chevrolet monte carlo"
          ],
          [
           "buick estate wagon (sw)"
          ],
          [
           "toyota corona mark ii"
          ],
          [
           "plymouth duster"
          ],
          [
           "amc hornet"
          ],
          [
           "ford maverick"
          ],
          [
           "datsun pl510"
          ],
          [
           "volkswagen 1131 deluxe sedan"
          ],
          [
           "peugeot 504"
          ],
          [
           "audi 100 ls"
          ],
          [
           "saab 99e"
          ],
          [
           "bmw 2002"
          ],
          [
           "amc gremlin"
          ],
          [
           "ford f250"
          ],
          [
           "chevy c20"
          ],
          [
           "dodge d200"
          ],
          [
           "hi 1200d"
          ],
          [
           "datsun pl510"
          ],
          [
           "chevrolet vega 2300"
          ],
          [
           "toyota corona"
          ],
          [
           "ford pinto"
          ],
          [
           "amc gremlin"
          ],
          [
           "plymouth satellite custom"
          ],
          [
           "chevrolet chevelle malibu"
          ],
          [
           "ford torino 500"
          ],
          [
           "amc matador"
          ],
          [
           "chevrolet impala"
          ],
          [
           "pontiac catalina brougham"
          ],
          [
           "ford galaxie 500"
          ],
          [
           "plymouth fury iii"
          ],
          [
           "dodge monaco (sw)"
          ],
          [
           "ford country squire (sw)"
          ],
          [
           "pontiac safari (sw)"
          ],
          [
           "amc hornet sportabout (sw)"
          ],
          [
           "chevrolet vega (sw)"
          ],
          [
           "pontiac firebird"
          ],
          [
           "ford mustang"
          ],
          [
           "mercury capri 2000"
          ],
          [
           "opel 1900"
          ],
          [
           "peugeot 304"
          ],
          [
           "fiat 124b"
          ],
          [
           "toyota corolla 1200"
          ],
          [
           "datsun 1200"
          ],
          [
           "volkswagen model 111"
          ],
          [
           "plymouth cricket"
          ],
          [
           "toyota corona hardtop"
          ],
          [
           "dodge colt hardtop"
          ],
          [
           "volkswagen type 3"
          ],
          [
           "chevrolet vega"
          ],
          [
           "ford pinto runabout"
          ],
          [
           "chevrolet impala"
          ],
          [
           "pontiac catalina"
          ],
          [
           "plymouth fury iii"
          ],
          [
           "ford galaxie 500"
          ],
          [
           "amc ambassador sst"
          ],
          [
           "mercury marquis"
          ],
          [
           "buick lesabre custom"
          ],
          [
           "oldsmobile delta 88 royale"
          ],
          [
           "chrysler newport royal"
          ],
          [
           "mazda rx2 coupe"
          ],
          [
           "amc matador (sw)"
          ],
          [
           "chevrolet chevelle concours (sw)"
          ],
          [
           "ford gran torino (sw)"
          ],
          [
           "plymouth satellite custom (sw)"
          ],
          [
           "volvo 145e (sw)"
          ],
          [
           "volkswagen 411 (sw)"
          ],
          [
           "peugeot 504 (sw)"
          ],
          [
           "renault 12 (sw)"
          ],
          [
           "ford pinto (sw)"
          ],
          [
           "datsun 510 (sw)"
          ],
          [
           "toyouta corona mark ii (sw)"
          ],
          [
           "dodge colt (sw)"
          ],
          [
           "toyota corolla 1600 (sw)"
          ],
          [
           "buick century 350"
          ],
          [
           "amc matador"
          ],
          [
           "chevrolet malibu"
          ],
          [
           "ford gran torino"
          ],
          [
           "dodge coronet custom"
          ],
          [
           "mercury marquis brougham"
          ],
          [
           "chevrolet caprice classic"
          ],
          [
           "ford ltd"
          ],
          [
           "plymouth fury gran sedan"
          ],
          [
           "chrysler new yorker brougham"
          ],
          [
           "buick electra 225 custom"
          ],
          [
           "amc ambassador brougham"
          ],
          [
           "plymouth valiant"
          ],
          [
           "chevrolet nova custom"
          ],
          [
           "amc hornet"
          ],
          [
           "ford maverick"
          ],
          [
           "plymouth duster"
          ],
          [
           "volkswagen super beetle"
          ],
          [
           "chevrolet impala"
          ],
          [
           "ford country"
          ],
          [
           "plymouth custom suburb"
          ],
          [
           "oldsmobile vista cruiser"
          ],
          [
           "amc gremlin"
          ],
          [
           "toyota carina"
          ],
          [
           "chevrolet vega"
          ],
          [
           "datsun 610"
          ],
          [
           "maxda rx3"
          ],
          [
           "ford pinto"
          ],
          [
           "mercury capri v6"
          ],
          [
           "fiat 124 sport coupe"
          ],
          [
           "chevrolet monte carlo s"
          ],
          [
           "pontiac grand prix"
          ],
          [
           "fiat 128"
          ],
          [
           "opel manta"
          ],
          [
           "audi 100ls"
          ],
          [
           "volvo 144ea"
          ],
          [
           "dodge dart custom"
          ],
          [
           "saab 99le"
          ],
          [
           "toyota mark ii"
          ],
          [
           "oldsmobile omega"
          ],
          [
           "plymouth duster"
          ],
          [
           "ford maverick"
          ],
          [
           "amc hornet"
          ],
          [
           "chevrolet nova"
          ],
          [
           "datsun b210"
          ],
          [
           "ford pinto"
          ],
          [
           "toyota corolla 1200"
          ],
          [
           "chevrolet vega"
          ],
          [
           "chevrolet chevelle malibu classic"
          ],
          [
           "amc matador"
          ],
          [
           "plymouth satellite sebring"
          ],
          [
           "ford gran torino"
          ],
          [
           "buick century luxus (sw)"
          ],
          [
           "dodge coronet custom (sw)"
          ],
          [
           "ford gran torino (sw)"
          ],
          [
           "amc matador (sw)"
          ],
          [
           "audi fox"
          ],
          [
           "volkswagen dasher"
          ],
          [
           "opel manta"
          ],
          [
           "toyota corona"
          ],
          [
           "datsun 710"
          ],
          [
           "dodge colt"
          ],
          [
           "fiat 128"
          ],
          [
           "fiat 124 tc"
          ],
          [
           "honda civic"
          ],
          [
           "subaru"
          ],
          [
           "fiat x1.9"
          ],
          [
           "plymouth valiant custom"
          ],
          [
           "chevrolet nova"
          ],
          [
           "mercury monarch"
          ],
          [
           "ford maverick"
          ],
          [
           "pontiac catalina"
          ],
          [
           "chevrolet bel air"
          ],
          [
           "plymouth grand fury"
          ],
          [
           "ford ltd"
          ],
          [
           "buick century"
          ],
          [
           "chevroelt chevelle malibu"
          ],
          [
           "amc matador"
          ],
          [
           "plymouth fury"
          ],
          [
           "buick skyhawk"
          ],
          [
           "chevrolet monza 2+2"
          ],
          [
           "ford mustang ii"
          ],
          [
           "toyota corolla"
          ],
          [
           "ford pinto"
          ],
          [
           "amc gremlin"
          ],
          [
           "pontiac astro"
          ],
          [
           "toyota corona"
          ],
          [
           "volkswagen dasher"
          ],
          [
           "datsun 710"
          ],
          [
           "ford pinto"
          ],
          [
           "volkswagen rabbit"
          ],
          [
           "amc pacer"
          ],
          [
           "audi 100ls"
          ],
          [
           "peugeot 504"
          ],
          [
           "volvo 244dl"
          ],
          [
           "saab 99le"
          ],
          [
           "honda civic cvcc"
          ],
          [
           "fiat 131"
          ],
          [
           "opel 1900"
          ],
          [
           "capri ii"
          ],
          [
           "dodge colt"
          ],
          [
           "renault 12tl"
          ],
          [
           "chevrolet chevelle malibu classic"
          ],
          [
           "dodge coronet brougham"
          ],
          [
           "amc matador"
          ],
          [
           "ford gran torino"
          ],
          [
           "plymouth valiant"
          ],
          [
           "chevrolet nova"
          ],
          [
           "ford maverick"
          ],
          [
           "amc hornet"
          ],
          [
           "chevrolet chevette"
          ],
          [
           "chevrolet woody"
          ],
          [
           "vw rabbit"
          ],
          [
           "honda civic"
          ],
          [
           "dodge aspen se"
          ],
          [
           "ford granada ghia"
          ],
          [
           "pontiac ventura sj"
          ],
          [
           "amc pacer d/l"
          ],
          [
           "volkswagen rabbit"
          ],
          [
           "datsun b-210"
          ],
          [
           "toyota corolla"
          ],
          [
           "ford pinto"
          ],
          [
           "volvo 245"
          ],
          [
           "plymouth volare premier v8"
          ],
          [
           "peugeot 504"
          ],
          [
           "toyota mark ii"
          ],
          [
           "mercedes-benz 280s"
          ],
          [
           "cadillac seville"
          ],
          [
           "chevy c10"
          ],
          [
           "ford f108"
          ],
          [
           "dodge d100"
          ],
          [
           "honda accord cvcc"
          ],
          [
           "buick opel isuzu deluxe"
          ],
          [
           "renault 5 gtl"
          ],
          [
           "plymouth arrow gs"
          ],
          [
           "datsun f-10 hatchback"
          ],
          [
           "chevrolet caprice classic"
          ],
          [
           "oldsmobile cutlass supreme"
          ],
          [
           "dodge monaco brougham"
          ],
          [
           "mercury cougar brougham"
          ],
          [
           "chevrolet concours"
          ],
          [
           "buick skylark"
          ],
          [
           "plymouth volare custom"
          ],
          [
           "ford granada"
          ],
          [
           "pontiac grand prix lj"
          ],
          [
           "chevrolet monte carlo landau"
          ],
          [
           "chrysler cordoba"
          ],
          [
           "ford thunderbird"
          ],
          [
           "volkswagen rabbit custom"
          ],
          [
           "pontiac sunbird coupe"
          ],
          [
           "toyota corolla liftback"
          ],
          [
           "ford mustang ii 2+2"
          ],
          [
           "chevrolet chevette"
          ],
          [
           "dodge colt m/m"
          ],
          [
           "subaru dl"
          ],
          [
           "volkswagen dasher"
          ],
          [
           "datsun 810"
          ],
          [
           "bmw 320i"
          ],
          [
           "mazda rx-4"
          ],
          [
           "volkswagen rabbit custom diesel"
          ],
          [
           "ford fiesta"
          ],
          [
           "mazda glc deluxe"
          ],
          [
           "datsun b210 gx"
          ],
          [
           "honda civic cvcc"
          ],
          [
           "oldsmobile cutlass salon brougham"
          ],
          [
           "dodge diplomat"
          ],
          [
           "mercury monarch ghia"
          ],
          [
           "pontiac phoenix lj"
          ],
          [
           "chevrolet malibu"
          ],
          [
           "ford fairmont (auto)"
          ],
          [
           "ford fairmont (man)"
          ],
          [
           "plymouth volare"
          ],
          [
           "amc concord"
          ],
          [
           "buick century special"
          ],
          [
           "mercury zephyr"
          ],
          [
           "dodge aspen"
          ],
          [
           "amc concord d/l"
          ],
          [
           "chevrolet monte carlo landau"
          ],
          [
           "buick regal sport coupe (turbo)"
          ],
          [
           "ford futura"
          ],
          [
           "dodge magnum xe"
          ],
          [
           "chevrolet chevette"
          ],
          [
           "toyota corona"
          ],
          [
           "datsun 510"
          ],
          [
           "dodge omni"
          ],
          [
           "toyota celica gt liftback"
          ],
          [
           "plymouth sapporo"
          ],
          [
           "oldsmobile starfire sx"
          ],
          [
           "datsun 200-sx"
          ],
          [
           "audi 5000"
          ],
          [
           "volvo 264gl"
          ],
          [
           "saab 99gle"
          ],
          [
           "peugeot 604sl"
          ],
          [
           "volkswagen scirocco"
          ],
          [
           "honda accord lx"
          ],
          [
           "pontiac lemans v6"
          ],
          [
           "mercury zephyr 6"
          ],
          [
           "ford fairmont 4"
          ],
          [
           "amc concord dl 6"
          ],
          [
           "dodge aspen 6"
          ],
          [
           "chevrolet caprice classic"
          ],
          [
           "ford ltd landau"
          ],
          [
           "mercury grand marquis"
          ],
          [
           "dodge st. regis"
          ],
          [
           "buick estate wagon (sw)"
          ],
          [
           "ford country squire (sw)"
          ],
          [
           "chevrolet malibu classic (sw)"
          ],
          [
           "chrysler lebaron town @ country (sw)"
          ],
          [
           "vw rabbit custom"
          ],
          [
           "maxda glc deluxe"
          ],
          [
           "dodge colt hatchback custom"
          ],
          [
           "amc spirit dl"
          ],
          [
           "mercedes benz 300d"
          ],
          [
           "cadillac eldorado"
          ],
          [
           "peugeot 504"
          ],
          [
           "oldsmobile cutlass salon brougham"
          ],
          [
           "plymouth horizon"
          ],
          [
           "plymouth horizon tc3"
          ],
          [
           "datsun 210"
          ],
          [
           "fiat strada custom"
          ],
          [
           "buick skylark limited"
          ],
          [
           "chevrolet citation"
          ],
          [
           "oldsmobile omega brougham"
          ],
          [
           "pontiac phoenix"
          ],
          [
           "vw rabbit"
          ],
          [
           "toyota corolla tercel"
          ],
          [
           "chevrolet chevette"
          ],
          [
           "datsun 310"
          ],
          [
           "chevrolet citation"
          ],
          [
           "ford fairmont"
          ],
          [
           "amc concord"
          ],
          [
           "dodge aspen"
          ],
          [
           "audi 4000"
          ],
          [
           "toyota corona liftback"
          ],
          [
           "mazda 626"
          ],
          [
           "datsun 510 hatchback"
          ],
          [
           "toyota corolla"
          ],
          [
           "mazda glc"
          ],
          [
           "dodge colt"
          ],
          [
           "datsun 210"
          ],
          [
           "vw rabbit c (diesel)"
          ],
          [
           "vw dasher (diesel)"
          ],
          [
           "audi 5000s (diesel)"
          ],
          [
           "mercedes-benz 240d"
          ],
          [
           "honda civic 1500 gl"
          ],
          [
           "renault lecar deluxe"
          ],
          [
           "subaru dl"
          ],
          [
           "vokswagen rabbit"
          ],
          [
           "datsun 280-zx"
          ],
          [
           "mazda rx-7 gs"
          ],
          [
           "triumph tr7 coupe"
          ],
          [
           "ford mustang cobra"
          ],
          [
           "honda accord"
          ],
          [
           "plymouth reliant"
          ],
          [
           "buick skylark"
          ],
          [
           "dodge aries wagon (sw)"
          ],
          [
           "chevrolet citation"
          ],
          [
           "plymouth reliant"
          ],
          [
           "toyota starlet"
          ],
          [
           "plymouth champ"
          ],
          [
           "honda civic 1300"
          ],
          [
           "subaru"
          ],
          [
           "datsun 210 mpg"
          ],
          [
           "toyota tercel"
          ],
          [
           "mazda glc 4"
          ],
          [
           "plymouth horizon 4"
          ],
          [
           "ford escort 4w"
          ],
          [
           "ford escort 2h"
          ],
          [
           "volkswagen jetta"
          ],
          [
           "renault 18i"
          ],
          [
           "honda prelude"
          ],
          [
           "toyota corolla"
          ],
          [
           "datsun 200sx"
          ],
          [
           "mazda 626"
          ],
          [
           "peugeot 505s turbo diesel"
          ],
          [
           "volvo diesel"
          ],
          [
           "toyota cressida"
          ],
          [
           "datsun 810 maxima"
          ],
          [
           "buick century"
          ],
          [
           "oldsmobile cutlass ls"
          ],
          [
           "ford granada gl"
          ],
          [
           "chrysler lebaron salon"
          ],
          [
           "chevrolet cavalier"
          ],
          [
           "chevrolet cavalier wagon"
          ],
          [
           "chevrolet cavalier 2-door"
          ],
          [
           "pontiac j2000 se hatchback"
          ],
          [
           "dodge aries se"
          ],
          [
           "pontiac phoenix"
          ],
          [
           "ford fairmont futura"
          ],
          [
           "amc concord dl"
          ],
          [
           "volkswagen rabbit l"
          ],
          [
           "mazda glc custom l"
          ],
          [
           "mazda glc custom"
          ],
          [
           "plymouth horizon miser"
          ],
          [
           "mercury lynx l"
          ],
          [
           "nissan stanza xe"
          ],
          [
           "honda accord"
          ],
          [
           "toyota corolla"
          ],
          [
           "honda civic"
          ],
          [
           "honda civic (auto)"
          ],
          [
           "datsun 310 gx"
          ],
          [
           "buick century limited"
          ],
          [
           "oldsmobile cutlass ciera (diesel)"
          ],
          [
           "chrysler lebaron medallion"
          ],
          [
           "ford granada l"
          ],
          [
           "toyota celica gt"
          ],
          [
           "dodge charger 2.2"
          ],
          [
           "chevrolet camaro"
          ],
          [
           "ford mustang gl"
          ],
          [
           "vw pickup"
          ],
          [
           "dodge rampage"
          ],
          [
           "ford ranger"
          ],
          [
           "chevy s-10"
          ]
         ],
         "hovertemplate": "model=%{x}<br>mpg=%{y}<br>vehicle name=%{customdata[0]}<extra></extra>",
         "legendgroup": "",
         "marker": {
          "color": "#636efa",
          "symbol": "circle"
         },
         "mode": "markers",
         "name": "",
         "orientation": "v",
         "showlegend": false,
         "type": "scatter",
         "x": [
          70,
          70,
          70,
          70,
          70,
          70,
          70,
          70,
          70,
          70,
          70,
          70,
          70,
          70,
          70,
          70,
          70,
          70,
          70,
          70,
          70,
          70,
          70,
          70,
          70,
          70,
          70,
          70,
          70,
          71,
          71,
          71,
          71,
          71,
          71,
          71,
          71,
          71,
          71,
          71,
          71,
          71,
          71,
          71,
          71,
          71,
          71,
          71,
          71,
          71,
          71,
          71,
          71,
          71,
          71,
          71,
          71,
          72,
          72,
          72,
          72,
          72,
          72,
          72,
          72,
          72,
          72,
          72,
          72,
          72,
          72,
          72,
          72,
          72,
          72,
          72,
          72,
          72,
          72,
          72,
          72,
          72,
          72,
          72,
          72,
          73,
          73,
          73,
          73,
          73,
          73,
          73,
          73,
          73,
          73,
          73,
          73,
          73,
          73,
          73,
          73,
          73,
          73,
          73,
          73,
          73,
          73,
          73,
          73,
          73,
          73,
          73,
          73,
          73,
          73,
          73,
          73,
          73,
          73,
          73,
          73,
          73,
          73,
          73,
          73,
          74,
          74,
          74,
          74,
          74,
          74,
          74,
          74,
          74,
          74,
          74,
          74,
          74,
          74,
          74,
          74,
          74,
          74,
          74,
          74,
          74,
          74,
          74,
          74,
          74,
          74,
          74,
          75,
          75,
          75,
          75,
          75,
          75,
          75,
          75,
          75,
          75,
          75,
          75,
          75,
          75,
          75,
          75,
          75,
          75,
          75,
          75,
          75,
          75,
          75,
          75,
          75,
          75,
          75,
          75,
          75,
          75,
          76,
          76,
          76,
          76,
          76,
          76,
          76,
          76,
          76,
          76,
          76,
          76,
          76,
          76,
          76,
          76,
          76,
          76,
          76,
          76,
          76,
          76,
          76,
          76,
          76,
          76,
          76,
          76,
          76,
          76,
          76,
          76,
          76,
          76,
          77,
          77,
          77,
          77,
          77,
          77,
          77,
          77,
          77,
          77,
          77,
          77,
          77,
          77,
          77,
          77,
          77,
          77,
          77,
          77,
          77,
          77,
          77,
          77,
          77,
          77,
          77,
          77,
          78,
          78,
          78,
          78,
          78,
          78,
          78,
          78,
          78,
          78,
          78,
          78,
          78,
          78,
          78,
          78,
          78,
          78,
          78,
          78,
          78,
          78,
          78,
          78,
          78,
          78,
          78,
          78,
          78,
          78,
          78,
          78,
          78,
          78,
          78,
          78,
          79,
          79,
          79,
          79,
          79,
          79,
          79,
          79,
          79,
          79,
          79,
          79,
          79,
          79,
          79,
          79,
          79,
          79,
          79,
          79,
          79,
          79,
          79,
          79,
          79,
          79,
          79,
          79,
          79,
          80,
          80,
          80,
          80,
          80,
          80,
          80,
          80,
          80,
          80,
          80,
          80,
          80,
          80,
          80,
          80,
          80,
          80,
          80,
          80,
          80,
          80,
          80,
          80,
          80,
          80,
          80,
          80,
          80,
          81,
          81,
          81,
          81,
          81,
          81,
          81,
          81,
          81,
          81,
          81,
          81,
          81,
          81,
          81,
          81,
          81,
          81,
          81,
          81,
          81,
          81,
          81,
          81,
          81,
          81,
          81,
          81,
          81,
          82,
          82,
          82,
          82,
          82,
          82,
          82,
          82,
          82,
          82,
          82,
          82,
          82,
          82,
          82,
          82,
          82,
          82,
          82,
          82,
          82,
          82,
          82,
          82,
          82,
          82,
          82,
          82,
          82,
          82,
          82
         ],
         "xaxis": "x",
         "y": [
          18,
          15,
          18,
          16,
          17,
          15,
          14,
          14,
          14,
          15,
          15,
          14,
          15,
          14,
          24,
          22,
          18,
          21,
          27,
          26,
          25,
          24,
          25,
          26,
          21,
          10,
          10,
          11,
          9,
          27,
          28,
          25,
          25,
          19,
          16,
          17,
          19,
          18,
          14,
          14,
          14,
          14,
          12,
          13,
          13,
          18,
          22,
          19,
          18,
          23,
          28,
          30,
          30,
          31,
          35,
          27,
          26,
          24,
          25,
          23,
          20,
          21,
          13,
          14,
          15,
          14,
          17,
          11,
          13,
          12,
          13,
          19,
          15,
          13,
          13,
          14,
          18,
          22,
          21,
          26,
          22,
          28,
          23,
          28,
          27,
          13,
          14,
          13,
          14,
          15,
          12,
          13,
          13,
          14,
          13,
          12,
          13,
          18,
          16,
          18,
          18,
          23,
          26,
          11,
          12,
          13,
          12,
          18,
          20,
          21,
          22,
          18,
          19,
          21,
          26,
          15,
          16,
          29,
          24,
          20,
          19,
          15,
          24,
          20,
          11,
          20,
          21,
          19,
          15,
          31,
          26,
          32,
          25,
          16,
          16,
          18,
          16,
          13,
          14,
          14,
          14,
          29,
          26,
          26,
          31,
          32,
          28,
          24,
          26,
          24,
          26,
          31,
          19,
          18,
          15,
          15,
          16,
          15,
          16,
          14,
          17,
          16,
          15,
          18,
          21,
          20,
          13,
          29,
          23,
          20,
          23,
          24,
          25,
          24,
          18,
          29,
          19,
          23,
          23,
          22,
          25,
          33,
          28,
          25,
          25,
          26,
          27,
          17.5,
          16,
          15.5,
          14.5,
          22,
          22,
          24,
          22.5,
          29,
          24.5,
          29,
          33,
          20,
          18,
          18.5,
          17.5,
          29.5,
          32,
          28,
          26.5,
          20,
          13,
          19,
          19,
          16.5,
          16.5,
          13,
          13,
          13,
          31.5,
          30,
          36,
          25.5,
          33.5,
          17.5,
          17,
          15.5,
          15,
          17.5,
          20.5,
          19,
          18.5,
          16,
          15.5,
          15.5,
          16,
          29,
          24.5,
          26,
          25.5,
          30.5,
          33.5,
          30,
          30.5,
          22,
          21.5,
          21.5,
          43.1,
          36.1,
          32.8,
          39.4,
          36.1,
          19.9,
          19.4,
          20.2,
          19.2,
          20.5,
          20.2,
          25.1,
          20.5,
          19.4,
          20.6,
          20.8,
          18.6,
          18.1,
          19.2,
          17.7,
          18.1,
          17.5,
          30,
          27.5,
          27.2,
          30.9,
          21.1,
          23.2,
          23.8,
          23.9,
          20.3,
          17,
          21.6,
          16.2,
          31.5,
          29.5,
          21.5,
          19.8,
          22.3,
          20.2,
          20.6,
          17,
          17.6,
          16.5,
          18.2,
          16.9,
          15.5,
          19.2,
          18.5,
          31.9,
          34.1,
          35.7,
          27.4,
          25.4,
          23,
          27.2,
          23.9,
          34.2,
          34.5,
          31.8,
          37.3,
          28.4,
          28.8,
          26.8,
          33.5,
          41.5,
          38.1,
          32.1,
          37.2,
          28,
          26.4,
          24.3,
          19.1,
          34.3,
          29.8,
          31.3,
          37,
          32.2,
          46.6,
          27.9,
          40.8,
          44.3,
          43.4,
          36.4,
          30,
          44.6,
          40.9,
          33.8,
          29.8,
          32.7,
          23.7,
          35,
          23.6,
          32.4,
          27.2,
          26.6,
          25.8,
          23.5,
          30,
          39.1,
          39,
          35.1,
          32.3,
          37,
          37.7,
          34.1,
          34.7,
          34.4,
          29.9,
          33,
          34.5,
          33.7,
          32.4,
          32.9,
          31.6,
          28.1,
          30.7,
          25.4,
          24.2,
          22.4,
          26.6,
          20.2,
          17.6,
          28,
          27,
          34,
          31,
          29,
          27,
          24,
          23,
          36,
          37,
          31,
          38,
          36,
          36,
          36,
          34,
          38,
          32,
          38,
          25,
          38,
          26,
          22,
          32,
          36,
          27,
          27,
          44,
          32,
          28,
          31
         ],
         "yaxis": "y"
        }
       ],
       "layout": {
        "legend": {
         "tracegroupgap": 0
        },
        "template": {
         "data": {
          "bar": [
           {
            "error_x": {
             "color": "#2a3f5f"
            },
            "error_y": {
             "color": "#2a3f5f"
            },
            "marker": {
             "line": {
              "color": "#E5ECF6",
              "width": 0.5
             },
             "pattern": {
              "fillmode": "overlay",
              "size": 10,
              "solidity": 0.2
             }
            },
            "type": "bar"
           }
          ],
          "barpolar": [
           {
            "marker": {
             "line": {
              "color": "#E5ECF6",
              "width": 0.5
             },
             "pattern": {
              "fillmode": "overlay",
              "size": 10,
              "solidity": 0.2
             }
            },
            "type": "barpolar"
           }
          ],
          "carpet": [
           {
            "aaxis": {
             "endlinecolor": "#2a3f5f",
             "gridcolor": "white",
             "linecolor": "white",
             "minorgridcolor": "white",
             "startlinecolor": "#2a3f5f"
            },
            "baxis": {
             "endlinecolor": "#2a3f5f",
             "gridcolor": "white",
             "linecolor": "white",
             "minorgridcolor": "white",
             "startlinecolor": "#2a3f5f"
            },
            "type": "carpet"
           }
          ],
          "choropleth": [
           {
            "colorbar": {
             "outlinewidth": 0,
             "ticks": ""
            },
            "type": "choropleth"
           }
          ],
          "contour": [
           {
            "colorbar": {
             "outlinewidth": 0,
             "ticks": ""
            },
            "colorscale": [
             [
              0,
              "#0d0887"
             ],
             [
              0.1111111111111111,
              "#46039f"
             ],
             [
              0.2222222222222222,
              "#7201a8"
             ],
             [
              0.3333333333333333,
              "#9c179e"
             ],
             [
              0.4444444444444444,
              "#bd3786"
             ],
             [
              0.5555555555555556,
              "#d8576b"
             ],
             [
              0.6666666666666666,
              "#ed7953"
             ],
             [
              0.7777777777777778,
              "#fb9f3a"
             ],
             [
              0.8888888888888888,
              "#fdca26"
             ],
             [
              1,
              "#f0f921"
             ]
            ],
            "type": "contour"
           }
          ],
          "contourcarpet": [
           {
            "colorbar": {
             "outlinewidth": 0,
             "ticks": ""
            },
            "type": "contourcarpet"
           }
          ],
          "heatmap": [
           {
            "colorbar": {
             "outlinewidth": 0,
             "ticks": ""
            },
            "colorscale": [
             [
              0,
              "#0d0887"
             ],
             [
              0.1111111111111111,
              "#46039f"
             ],
             [
              0.2222222222222222,
              "#7201a8"
             ],
             [
              0.3333333333333333,
              "#9c179e"
             ],
             [
              0.4444444444444444,
              "#bd3786"
             ],
             [
              0.5555555555555556,
              "#d8576b"
             ],
             [
              0.6666666666666666,
              "#ed7953"
             ],
             [
              0.7777777777777778,
              "#fb9f3a"
             ],
             [
              0.8888888888888888,
              "#fdca26"
             ],
             [
              1,
              "#f0f921"
             ]
            ],
            "type": "heatmap"
           }
          ],
          "heatmapgl": [
           {
            "colorbar": {
             "outlinewidth": 0,
             "ticks": ""
            },
            "colorscale": [
             [
              0,
              "#0d0887"
             ],
             [
              0.1111111111111111,
              "#46039f"
             ],
             [
              0.2222222222222222,
              "#7201a8"
             ],
             [
              0.3333333333333333,
              "#9c179e"
             ],
             [
              0.4444444444444444,
              "#bd3786"
             ],
             [
              0.5555555555555556,
              "#d8576b"
             ],
             [
              0.6666666666666666,
              "#ed7953"
             ],
             [
              0.7777777777777778,
              "#fb9f3a"
             ],
             [
              0.8888888888888888,
              "#fdca26"
             ],
             [
              1,
              "#f0f921"
             ]
            ],
            "type": "heatmapgl"
           }
          ],
          "histogram": [
           {
            "marker": {
             "pattern": {
              "fillmode": "overlay",
              "size": 10,
              "solidity": 0.2
             }
            },
            "type": "histogram"
           }
          ],
          "histogram2d": [
           {
            "colorbar": {
             "outlinewidth": 0,
             "ticks": ""
            },
            "colorscale": [
             [
              0,
              "#0d0887"
             ],
             [
              0.1111111111111111,
              "#46039f"
             ],
             [
              0.2222222222222222,
              "#7201a8"
             ],
             [
              0.3333333333333333,
              "#9c179e"
             ],
             [
              0.4444444444444444,
              "#bd3786"
             ],
             [
              0.5555555555555556,
              "#d8576b"
             ],
             [
              0.6666666666666666,
              "#ed7953"
             ],
             [
              0.7777777777777778,
              "#fb9f3a"
             ],
             [
              0.8888888888888888,
              "#fdca26"
             ],
             [
              1,
              "#f0f921"
             ]
            ],
            "type": "histogram2d"
           }
          ],
          "histogram2dcontour": [
           {
            "colorbar": {
             "outlinewidth": 0,
             "ticks": ""
            },
            "colorscale": [
             [
              0,
              "#0d0887"
             ],
             [
              0.1111111111111111,
              "#46039f"
             ],
             [
              0.2222222222222222,
              "#7201a8"
             ],
             [
              0.3333333333333333,
              "#9c179e"
             ],
             [
              0.4444444444444444,
              "#bd3786"
             ],
             [
              0.5555555555555556,
              "#d8576b"
             ],
             [
              0.6666666666666666,
              "#ed7953"
             ],
             [
              0.7777777777777778,
              "#fb9f3a"
             ],
             [
              0.8888888888888888,
              "#fdca26"
             ],
             [
              1,
              "#f0f921"
             ]
            ],
            "type": "histogram2dcontour"
           }
          ],
          "mesh3d": [
           {
            "colorbar": {
             "outlinewidth": 0,
             "ticks": ""
            },
            "type": "mesh3d"
           }
          ],
          "parcoords": [
           {
            "line": {
             "colorbar": {
              "outlinewidth": 0,
              "ticks": ""
             }
            },
            "type": "parcoords"
           }
          ],
          "pie": [
           {
            "automargin": true,
            "type": "pie"
           }
          ],
          "scatter": [
           {
            "marker": {
             "colorbar": {
              "outlinewidth": 0,
              "ticks": ""
             }
            },
            "type": "scatter"
           }
          ],
          "scatter3d": [
           {
            "line": {
             "colorbar": {
              "outlinewidth": 0,
              "ticks": ""
             }
            },
            "marker": {
             "colorbar": {
              "outlinewidth": 0,
              "ticks": ""
             }
            },
            "type": "scatter3d"
           }
          ],
          "scattercarpet": [
           {
            "marker": {
             "colorbar": {
              "outlinewidth": 0,
              "ticks": ""
             }
            },
            "type": "scattercarpet"
           }
          ],
          "scattergeo": [
           {
            "marker": {
             "colorbar": {
              "outlinewidth": 0,
              "ticks": ""
             }
            },
            "type": "scattergeo"
           }
          ],
          "scattergl": [
           {
            "marker": {
             "colorbar": {
              "outlinewidth": 0,
              "ticks": ""
             }
            },
            "type": "scattergl"
           }
          ],
          "scattermapbox": [
           {
            "marker": {
             "colorbar": {
              "outlinewidth": 0,
              "ticks": ""
             }
            },
            "type": "scattermapbox"
           }
          ],
          "scatterpolar": [
           {
            "marker": {
             "colorbar": {
              "outlinewidth": 0,
              "ticks": ""
             }
            },
            "type": "scatterpolar"
           }
          ],
          "scatterpolargl": [
           {
            "marker": {
             "colorbar": {
              "outlinewidth": 0,
              "ticks": ""
             }
            },
            "type": "scatterpolargl"
           }
          ],
          "scatterternary": [
           {
            "marker": {
             "colorbar": {
              "outlinewidth": 0,
              "ticks": ""
             }
            },
            "type": "scatterternary"
           }
          ],
          "surface": [
           {
            "colorbar": {
             "outlinewidth": 0,
             "ticks": ""
            },
            "colorscale": [
             [
              0,
              "#0d0887"
             ],
             [
              0.1111111111111111,
              "#46039f"
             ],
             [
              0.2222222222222222,
              "#7201a8"
             ],
             [
              0.3333333333333333,
              "#9c179e"
             ],
             [
              0.4444444444444444,
              "#bd3786"
             ],
             [
              0.5555555555555556,
              "#d8576b"
             ],
             [
              0.6666666666666666,
              "#ed7953"
             ],
             [
              0.7777777777777778,
              "#fb9f3a"
             ],
             [
              0.8888888888888888,
              "#fdca26"
             ],
             [
              1,
              "#f0f921"
             ]
            ],
            "type": "surface"
           }
          ],
          "table": [
           {
            "cells": {
             "fill": {
              "color": "#EBF0F8"
             },
             "line": {
              "color": "white"
             }
            },
            "header": {
             "fill": {
              "color": "#C8D4E3"
             },
             "line": {
              "color": "white"
             }
            },
            "type": "table"
           }
          ]
         },
         "layout": {
          "annotationdefaults": {
           "arrowcolor": "#2a3f5f",
           "arrowhead": 0,
           "arrowwidth": 1
          },
          "autotypenumbers": "strict",
          "coloraxis": {
           "colorbar": {
            "outlinewidth": 0,
            "ticks": ""
           }
          },
          "colorscale": {
           "diverging": [
            [
             0,
             "#8e0152"
            ],
            [
             0.1,
             "#c51b7d"
            ],
            [
             0.2,
             "#de77ae"
            ],
            [
             0.3,
             "#f1b6da"
            ],
            [
             0.4,
             "#fde0ef"
            ],
            [
             0.5,
             "#f7f7f7"
            ],
            [
             0.6,
             "#e6f5d0"
            ],
            [
             0.7,
             "#b8e186"
            ],
            [
             0.8,
             "#7fbc41"
            ],
            [
             0.9,
             "#4d9221"
            ],
            [
             1,
             "#276419"
            ]
           ],
           "sequential": [
            [
             0,
             "#0d0887"
            ],
            [
             0.1111111111111111,
             "#46039f"
            ],
            [
             0.2222222222222222,
             "#7201a8"
            ],
            [
             0.3333333333333333,
             "#9c179e"
            ],
            [
             0.4444444444444444,
             "#bd3786"
            ],
            [
             0.5555555555555556,
             "#d8576b"
            ],
            [
             0.6666666666666666,
             "#ed7953"
            ],
            [
             0.7777777777777778,
             "#fb9f3a"
            ],
            [
             0.8888888888888888,
             "#fdca26"
            ],
            [
             1,
             "#f0f921"
            ]
           ],
           "sequentialminus": [
            [
             0,
             "#0d0887"
            ],
            [
             0.1111111111111111,
             "#46039f"
            ],
            [
             0.2222222222222222,
             "#7201a8"
            ],
            [
             0.3333333333333333,
             "#9c179e"
            ],
            [
             0.4444444444444444,
             "#bd3786"
            ],
            [
             0.5555555555555556,
             "#d8576b"
            ],
            [
             0.6666666666666666,
             "#ed7953"
            ],
            [
             0.7777777777777778,
             "#fb9f3a"
            ],
            [
             0.8888888888888888,
             "#fdca26"
            ],
            [
             1,
             "#f0f921"
            ]
           ]
          },
          "colorway": [
           "#636efa",
           "#EF553B",
           "#00cc96",
           "#ab63fa",
           "#FFA15A",
           "#19d3f3",
           "#FF6692",
           "#B6E880",
           "#FF97FF",
           "#FECB52"
          ],
          "font": {
           "color": "#2a3f5f"
          },
          "geo": {
           "bgcolor": "white",
           "lakecolor": "white",
           "landcolor": "#E5ECF6",
           "showlakes": true,
           "showland": true,
           "subunitcolor": "white"
          },
          "hoverlabel": {
           "align": "left"
          },
          "hovermode": "closest",
          "mapbox": {
           "style": "light"
          },
          "paper_bgcolor": "white",
          "plot_bgcolor": "#E5ECF6",
          "polar": {
           "angularaxis": {
            "gridcolor": "white",
            "linecolor": "white",
            "ticks": ""
           },
           "bgcolor": "#E5ECF6",
           "radialaxis": {
            "gridcolor": "white",
            "linecolor": "white",
            "ticks": ""
           }
          },
          "scene": {
           "xaxis": {
            "backgroundcolor": "#E5ECF6",
            "gridcolor": "white",
            "gridwidth": 2,
            "linecolor": "white",
            "showbackground": true,
            "ticks": "",
            "zerolinecolor": "white"
           },
           "yaxis": {
            "backgroundcolor": "#E5ECF6",
            "gridcolor": "white",
            "gridwidth": 2,
            "linecolor": "white",
            "showbackground": true,
            "ticks": "",
            "zerolinecolor": "white"
           },
           "zaxis": {
            "backgroundcolor": "#E5ECF6",
            "gridcolor": "white",
            "gridwidth": 2,
            "linecolor": "white",
            "showbackground": true,
            "ticks": "",
            "zerolinecolor": "white"
           }
          },
          "shapedefaults": {
           "line": {
            "color": "#2a3f5f"
           }
          },
          "ternary": {
           "aaxis": {
            "gridcolor": "white",
            "linecolor": "white",
            "ticks": ""
           },
           "baxis": {
            "gridcolor": "white",
            "linecolor": "white",
            "ticks": ""
           },
           "bgcolor": "#E5ECF6",
           "caxis": {
            "gridcolor": "white",
            "linecolor": "white",
            "ticks": ""
           }
          },
          "title": {
           "x": 0.05
          },
          "xaxis": {
           "automargin": true,
           "gridcolor": "white",
           "linecolor": "white",
           "ticks": "",
           "title": {
            "standoff": 15
           },
           "zerolinecolor": "white",
           "zerolinewidth": 2
          },
          "yaxis": {
           "automargin": true,
           "gridcolor": "white",
           "linecolor": "white",
           "ticks": "",
           "title": {
            "standoff": 15
           },
           "zerolinecolor": "white",
           "zerolinewidth": 2
          }
         }
        },
        "title": {
         "text": "MPG Range by Model Year"
        },
        "xaxis": {
         "anchor": "y",
         "domain": [
          0,
          1
         ],
         "title": {
          "text": "model"
         }
        },
        "yaxis": {
         "anchor": "x",
         "domain": [
          0,
          1
         ],
         "title": {
          "text": "mpg"
         }
        }
       }
      },
      "text/html": [
       "<div>                            <div id=\"73deb0ee-6cc9-4a88-b4c4-d4d93d1acb98\" class=\"plotly-graph-div\" style=\"height:525px; width:100%;\"></div>            <script type=\"text/javascript\">                require([\"plotly\"], function(Plotly) {                    window.PLOTLYENV=window.PLOTLYENV || {};                                    if (document.getElementById(\"73deb0ee-6cc9-4a88-b4c4-d4d93d1acb98\")) {                    Plotly.newPlot(                        \"73deb0ee-6cc9-4a88-b4c4-d4d93d1acb98\",                        [{\"customdata\":[[\"chevrolet chevelle malibu\"],[\"buick skylark 320\"],[\"plymouth satellite\"],[\"amc rebel sst\"],[\"ford torino\"],[\"ford galaxie 500\"],[\"chevrolet impala\"],[\"plymouth fury iii\"],[\"pontiac catalina\"],[\"amc ambassador dpl\"],[\"dodge challenger se\"],[\"plymouth 'cuda 340\"],[\"chevrolet monte carlo\"],[\"buick estate wagon (sw)\"],[\"toyota corona mark ii\"],[\"plymouth duster\"],[\"amc hornet\"],[\"ford maverick\"],[\"datsun pl510\"],[\"volkswagen 1131 deluxe sedan\"],[\"peugeot 504\"],[\"audi 100 ls\"],[\"saab 99e\"],[\"bmw 2002\"],[\"amc gremlin\"],[\"ford f250\"],[\"chevy c20\"],[\"dodge d200\"],[\"hi 1200d\"],[\"datsun pl510\"],[\"chevrolet vega 2300\"],[\"toyota corona\"],[\"ford pinto\"],[\"amc gremlin\"],[\"plymouth satellite custom\"],[\"chevrolet chevelle malibu\"],[\"ford torino 500\"],[\"amc matador\"],[\"chevrolet impala\"],[\"pontiac catalina brougham\"],[\"ford galaxie 500\"],[\"plymouth fury iii\"],[\"dodge monaco (sw)\"],[\"ford country squire (sw)\"],[\"pontiac safari (sw)\"],[\"amc hornet sportabout (sw)\"],[\"chevrolet vega (sw)\"],[\"pontiac firebird\"],[\"ford mustang\"],[\"mercury capri 2000\"],[\"opel 1900\"],[\"peugeot 304\"],[\"fiat 124b\"],[\"toyota corolla 1200\"],[\"datsun 1200\"],[\"volkswagen model 111\"],[\"plymouth cricket\"],[\"toyota corona hardtop\"],[\"dodge colt hardtop\"],[\"volkswagen type 3\"],[\"chevrolet vega\"],[\"ford pinto runabout\"],[\"chevrolet impala\"],[\"pontiac catalina\"],[\"plymouth fury iii\"],[\"ford galaxie 500\"],[\"amc ambassador sst\"],[\"mercury marquis\"],[\"buick lesabre custom\"],[\"oldsmobile delta 88 royale\"],[\"chrysler newport royal\"],[\"mazda rx2 coupe\"],[\"amc matador (sw)\"],[\"chevrolet chevelle concours (sw)\"],[\"ford gran torino (sw)\"],[\"plymouth satellite custom (sw)\"],[\"volvo 145e (sw)\"],[\"volkswagen 411 (sw)\"],[\"peugeot 504 (sw)\"],[\"renault 12 (sw)\"],[\"ford pinto (sw)\"],[\"datsun 510 (sw)\"],[\"toyouta corona mark ii (sw)\"],[\"dodge colt (sw)\"],[\"toyota corolla 1600 (sw)\"],[\"buick century 350\"],[\"amc matador\"],[\"chevrolet malibu\"],[\"ford gran torino\"],[\"dodge coronet custom\"],[\"mercury marquis brougham\"],[\"chevrolet caprice classic\"],[\"ford ltd\"],[\"plymouth fury gran sedan\"],[\"chrysler new yorker brougham\"],[\"buick electra 225 custom\"],[\"amc ambassador brougham\"],[\"plymouth valiant\"],[\"chevrolet nova custom\"],[\"amc hornet\"],[\"ford maverick\"],[\"plymouth duster\"],[\"volkswagen super beetle\"],[\"chevrolet impala\"],[\"ford country\"],[\"plymouth custom suburb\"],[\"oldsmobile vista cruiser\"],[\"amc gremlin\"],[\"toyota carina\"],[\"chevrolet vega\"],[\"datsun 610\"],[\"maxda rx3\"],[\"ford pinto\"],[\"mercury capri v6\"],[\"fiat 124 sport coupe\"],[\"chevrolet monte carlo s\"],[\"pontiac grand prix\"],[\"fiat 128\"],[\"opel manta\"],[\"audi 100ls\"],[\"volvo 144ea\"],[\"dodge dart custom\"],[\"saab 99le\"],[\"toyota mark ii\"],[\"oldsmobile omega\"],[\"plymouth duster\"],[\"ford maverick\"],[\"amc hornet\"],[\"chevrolet nova\"],[\"datsun b210\"],[\"ford pinto\"],[\"toyota corolla 1200\"],[\"chevrolet vega\"],[\"chevrolet chevelle malibu classic\"],[\"amc matador\"],[\"plymouth satellite sebring\"],[\"ford gran torino\"],[\"buick century luxus (sw)\"],[\"dodge coronet custom (sw)\"],[\"ford gran torino (sw)\"],[\"amc matador (sw)\"],[\"audi fox\"],[\"volkswagen dasher\"],[\"opel manta\"],[\"toyota corona\"],[\"datsun 710\"],[\"dodge colt\"],[\"fiat 128\"],[\"fiat 124 tc\"],[\"honda civic\"],[\"subaru\"],[\"fiat x1.9\"],[\"plymouth valiant custom\"],[\"chevrolet nova\"],[\"mercury monarch\"],[\"ford maverick\"],[\"pontiac catalina\"],[\"chevrolet bel air\"],[\"plymouth grand fury\"],[\"ford ltd\"],[\"buick century\"],[\"chevroelt chevelle malibu\"],[\"amc matador\"],[\"plymouth fury\"],[\"buick skyhawk\"],[\"chevrolet monza 2+2\"],[\"ford mustang ii\"],[\"toyota corolla\"],[\"ford pinto\"],[\"amc gremlin\"],[\"pontiac astro\"],[\"toyota corona\"],[\"volkswagen dasher\"],[\"datsun 710\"],[\"ford pinto\"],[\"volkswagen rabbit\"],[\"amc pacer\"],[\"audi 100ls\"],[\"peugeot 504\"],[\"volvo 244dl\"],[\"saab 99le\"],[\"honda civic cvcc\"],[\"fiat 131\"],[\"opel 1900\"],[\"capri ii\"],[\"dodge colt\"],[\"renault 12tl\"],[\"chevrolet chevelle malibu classic\"],[\"dodge coronet brougham\"],[\"amc matador\"],[\"ford gran torino\"],[\"plymouth valiant\"],[\"chevrolet nova\"],[\"ford maverick\"],[\"amc hornet\"],[\"chevrolet chevette\"],[\"chevrolet woody\"],[\"vw rabbit\"],[\"honda civic\"],[\"dodge aspen se\"],[\"ford granada ghia\"],[\"pontiac ventura sj\"],[\"amc pacer d/l\"],[\"volkswagen rabbit\"],[\"datsun b-210\"],[\"toyota corolla\"],[\"ford pinto\"],[\"volvo 245\"],[\"plymouth volare premier v8\"],[\"peugeot 504\"],[\"toyota mark ii\"],[\"mercedes-benz 280s\"],[\"cadillac seville\"],[\"chevy c10\"],[\"ford f108\"],[\"dodge d100\"],[\"honda accord cvcc\"],[\"buick opel isuzu deluxe\"],[\"renault 5 gtl\"],[\"plymouth arrow gs\"],[\"datsun f-10 hatchback\"],[\"chevrolet caprice classic\"],[\"oldsmobile cutlass supreme\"],[\"dodge monaco brougham\"],[\"mercury cougar brougham\"],[\"chevrolet concours\"],[\"buick skylark\"],[\"plymouth volare custom\"],[\"ford granada\"],[\"pontiac grand prix lj\"],[\"chevrolet monte carlo landau\"],[\"chrysler cordoba\"],[\"ford thunderbird\"],[\"volkswagen rabbit custom\"],[\"pontiac sunbird coupe\"],[\"toyota corolla liftback\"],[\"ford mustang ii 2+2\"],[\"chevrolet chevette\"],[\"dodge colt m/m\"],[\"subaru dl\"],[\"volkswagen dasher\"],[\"datsun 810\"],[\"bmw 320i\"],[\"mazda rx-4\"],[\"volkswagen rabbit custom diesel\"],[\"ford fiesta\"],[\"mazda glc deluxe\"],[\"datsun b210 gx\"],[\"honda civic cvcc\"],[\"oldsmobile cutlass salon brougham\"],[\"dodge diplomat\"],[\"mercury monarch ghia\"],[\"pontiac phoenix lj\"],[\"chevrolet malibu\"],[\"ford fairmont (auto)\"],[\"ford fairmont (man)\"],[\"plymouth volare\"],[\"amc concord\"],[\"buick century special\"],[\"mercury zephyr\"],[\"dodge aspen\"],[\"amc concord d/l\"],[\"chevrolet monte carlo landau\"],[\"buick regal sport coupe (turbo)\"],[\"ford futura\"],[\"dodge magnum xe\"],[\"chevrolet chevette\"],[\"toyota corona\"],[\"datsun 510\"],[\"dodge omni\"],[\"toyota celica gt liftback\"],[\"plymouth sapporo\"],[\"oldsmobile starfire sx\"],[\"datsun 200-sx\"],[\"audi 5000\"],[\"volvo 264gl\"],[\"saab 99gle\"],[\"peugeot 604sl\"],[\"volkswagen scirocco\"],[\"honda accord lx\"],[\"pontiac lemans v6\"],[\"mercury zephyr 6\"],[\"ford fairmont 4\"],[\"amc concord dl 6\"],[\"dodge aspen 6\"],[\"chevrolet caprice classic\"],[\"ford ltd landau\"],[\"mercury grand marquis\"],[\"dodge st. regis\"],[\"buick estate wagon (sw)\"],[\"ford country squire (sw)\"],[\"chevrolet malibu classic (sw)\"],[\"chrysler lebaron town @ country (sw)\"],[\"vw rabbit custom\"],[\"maxda glc deluxe\"],[\"dodge colt hatchback custom\"],[\"amc spirit dl\"],[\"mercedes benz 300d\"],[\"cadillac eldorado\"],[\"peugeot 504\"],[\"oldsmobile cutlass salon brougham\"],[\"plymouth horizon\"],[\"plymouth horizon tc3\"],[\"datsun 210\"],[\"fiat strada custom\"],[\"buick skylark limited\"],[\"chevrolet citation\"],[\"oldsmobile omega brougham\"],[\"pontiac phoenix\"],[\"vw rabbit\"],[\"toyota corolla tercel\"],[\"chevrolet chevette\"],[\"datsun 310\"],[\"chevrolet citation\"],[\"ford fairmont\"],[\"amc concord\"],[\"dodge aspen\"],[\"audi 4000\"],[\"toyota corona liftback\"],[\"mazda 626\"],[\"datsun 510 hatchback\"],[\"toyota corolla\"],[\"mazda glc\"],[\"dodge colt\"],[\"datsun 210\"],[\"vw rabbit c (diesel)\"],[\"vw dasher (diesel)\"],[\"audi 5000s (diesel)\"],[\"mercedes-benz 240d\"],[\"honda civic 1500 gl\"],[\"renault lecar deluxe\"],[\"subaru dl\"],[\"vokswagen rabbit\"],[\"datsun 280-zx\"],[\"mazda rx-7 gs\"],[\"triumph tr7 coupe\"],[\"ford mustang cobra\"],[\"honda accord\"],[\"plymouth reliant\"],[\"buick skylark\"],[\"dodge aries wagon (sw)\"],[\"chevrolet citation\"],[\"plymouth reliant\"],[\"toyota starlet\"],[\"plymouth champ\"],[\"honda civic 1300\"],[\"subaru\"],[\"datsun 210 mpg\"],[\"toyota tercel\"],[\"mazda glc 4\"],[\"plymouth horizon 4\"],[\"ford escort 4w\"],[\"ford escort 2h\"],[\"volkswagen jetta\"],[\"renault 18i\"],[\"honda prelude\"],[\"toyota corolla\"],[\"datsun 200sx\"],[\"mazda 626\"],[\"peugeot 505s turbo diesel\"],[\"volvo diesel\"],[\"toyota cressida\"],[\"datsun 810 maxima\"],[\"buick century\"],[\"oldsmobile cutlass ls\"],[\"ford granada gl\"],[\"chrysler lebaron salon\"],[\"chevrolet cavalier\"],[\"chevrolet cavalier wagon\"],[\"chevrolet cavalier 2-door\"],[\"pontiac j2000 se hatchback\"],[\"dodge aries se\"],[\"pontiac phoenix\"],[\"ford fairmont futura\"],[\"amc concord dl\"],[\"volkswagen rabbit l\"],[\"mazda glc custom l\"],[\"mazda glc custom\"],[\"plymouth horizon miser\"],[\"mercury lynx l\"],[\"nissan stanza xe\"],[\"honda accord\"],[\"toyota corolla\"],[\"honda civic\"],[\"honda civic (auto)\"],[\"datsun 310 gx\"],[\"buick century limited\"],[\"oldsmobile cutlass ciera (diesel)\"],[\"chrysler lebaron medallion\"],[\"ford granada l\"],[\"toyota celica gt\"],[\"dodge charger 2.2\"],[\"chevrolet camaro\"],[\"ford mustang gl\"],[\"vw pickup\"],[\"dodge rampage\"],[\"ford ranger\"],[\"chevy s-10\"]],\"hovertemplate\":\"model=%{x}<br>mpg=%{y}<br>vehicle name=%{customdata[0]}<extra></extra>\",\"legendgroup\":\"\",\"marker\":{\"color\":\"#636efa\",\"symbol\":\"circle\"},\"mode\":\"markers\",\"name\":\"\",\"orientation\":\"v\",\"showlegend\":false,\"x\":[70,70,70,70,70,70,70,70,70,70,70,70,70,70,70,70,70,70,70,70,70,70,70,70,70,70,70,70,70,71,71,71,71,71,71,71,71,71,71,71,71,71,71,71,71,71,71,71,71,71,71,71,71,71,71,71,71,72,72,72,72,72,72,72,72,72,72,72,72,72,72,72,72,72,72,72,72,72,72,72,72,72,72,72,72,73,73,73,73,73,73,73,73,73,73,73,73,73,73,73,73,73,73,73,73,73,73,73,73,73,73,73,73,73,73,73,73,73,73,73,73,73,73,73,73,74,74,74,74,74,74,74,74,74,74,74,74,74,74,74,74,74,74,74,74,74,74,74,74,74,74,74,75,75,75,75,75,75,75,75,75,75,75,75,75,75,75,75,75,75,75,75,75,75,75,75,75,75,75,75,75,75,76,76,76,76,76,76,76,76,76,76,76,76,76,76,76,76,76,76,76,76,76,76,76,76,76,76,76,76,76,76,76,76,76,76,77,77,77,77,77,77,77,77,77,77,77,77,77,77,77,77,77,77,77,77,77,77,77,77,77,77,77,77,78,78,78,78,78,78,78,78,78,78,78,78,78,78,78,78,78,78,78,78,78,78,78,78,78,78,78,78,78,78,78,78,78,78,78,78,79,79,79,79,79,79,79,79,79,79,79,79,79,79,79,79,79,79,79,79,79,79,79,79,79,79,79,79,79,80,80,80,80,80,80,80,80,80,80,80,80,80,80,80,80,80,80,80,80,80,80,80,80,80,80,80,80,80,81,81,81,81,81,81,81,81,81,81,81,81,81,81,81,81,81,81,81,81,81,81,81,81,81,81,81,81,81,82,82,82,82,82,82,82,82,82,82,82,82,82,82,82,82,82,82,82,82,82,82,82,82,82,82,82,82,82,82,82],\"xaxis\":\"x\",\"y\":[18.0,15.0,18.0,16.0,17.0,15.0,14.0,14.0,14.0,15.0,15.0,14.0,15.0,14.0,24.0,22.0,18.0,21.0,27.0,26.0,25.0,24.0,25.0,26.0,21.0,10.0,10.0,11.0,9.0,27.0,28.0,25.0,25.0,19.0,16.0,17.0,19.0,18.0,14.0,14.0,14.0,14.0,12.0,13.0,13.0,18.0,22.0,19.0,18.0,23.0,28.0,30.0,30.0,31.0,35.0,27.0,26.0,24.0,25.0,23.0,20.0,21.0,13.0,14.0,15.0,14.0,17.0,11.0,13.0,12.0,13.0,19.0,15.0,13.0,13.0,14.0,18.0,22.0,21.0,26.0,22.0,28.0,23.0,28.0,27.0,13.0,14.0,13.0,14.0,15.0,12.0,13.0,13.0,14.0,13.0,12.0,13.0,18.0,16.0,18.0,18.0,23.0,26.0,11.0,12.0,13.0,12.0,18.0,20.0,21.0,22.0,18.0,19.0,21.0,26.0,15.0,16.0,29.0,24.0,20.0,19.0,15.0,24.0,20.0,11.0,20.0,21.0,19.0,15.0,31.0,26.0,32.0,25.0,16.0,16.0,18.0,16.0,13.0,14.0,14.0,14.0,29.0,26.0,26.0,31.0,32.0,28.0,24.0,26.0,24.0,26.0,31.0,19.0,18.0,15.0,15.0,16.0,15.0,16.0,14.0,17.0,16.0,15.0,18.0,21.0,20.0,13.0,29.0,23.0,20.0,23.0,24.0,25.0,24.0,18.0,29.0,19.0,23.0,23.0,22.0,25.0,33.0,28.0,25.0,25.0,26.0,27.0,17.5,16.0,15.5,14.5,22.0,22.0,24.0,22.5,29.0,24.5,29.0,33.0,20.0,18.0,18.5,17.5,29.5,32.0,28.0,26.5,20.0,13.0,19.0,19.0,16.5,16.5,13.0,13.0,13.0,31.5,30.0,36.0,25.5,33.5,17.5,17.0,15.5,15.0,17.5,20.5,19.0,18.5,16.0,15.5,15.5,16.0,29.0,24.5,26.0,25.5,30.5,33.5,30.0,30.5,22.0,21.5,21.5,43.1,36.1,32.8,39.4,36.1,19.9,19.4,20.2,19.2,20.5,20.2,25.1,20.5,19.4,20.6,20.8,18.6,18.1,19.2,17.7,18.1,17.5,30.0,27.5,27.2,30.9,21.1,23.2,23.8,23.9,20.3,17.0,21.6,16.2,31.5,29.5,21.5,19.8,22.3,20.2,20.6,17.0,17.6,16.5,18.2,16.9,15.5,19.2,18.5,31.9,34.1,35.7,27.4,25.4,23.0,27.2,23.9,34.2,34.5,31.8,37.3,28.4,28.8,26.8,33.5,41.5,38.1,32.1,37.2,28.0,26.4,24.3,19.1,34.3,29.8,31.3,37.0,32.2,46.6,27.9,40.8,44.3,43.4,36.4,30.0,44.6,40.9,33.8,29.8,32.7,23.7,35.0,23.6,32.4,27.2,26.6,25.8,23.5,30.0,39.1,39.0,35.1,32.3,37.0,37.7,34.1,34.7,34.4,29.9,33.0,34.5,33.7,32.4,32.9,31.6,28.1,30.7,25.4,24.2,22.4,26.6,20.2,17.6,28.0,27.0,34.0,31.0,29.0,27.0,24.0,23.0,36.0,37.0,31.0,38.0,36.0,36.0,36.0,34.0,38.0,32.0,38.0,25.0,38.0,26.0,22.0,32.0,36.0,27.0,27.0,44.0,32.0,28.0,31.0],\"yaxis\":\"y\",\"type\":\"scatter\"}],                        {\"template\":{\"data\":{\"bar\":[{\"error_x\":{\"color\":\"#2a3f5f\"},\"error_y\":{\"color\":\"#2a3f5f\"},\"marker\":{\"line\":{\"color\":\"#E5ECF6\",\"width\":0.5},\"pattern\":{\"fillmode\":\"overlay\",\"size\":10,\"solidity\":0.2}},\"type\":\"bar\"}],\"barpolar\":[{\"marker\":{\"line\":{\"color\":\"#E5ECF6\",\"width\":0.5},\"pattern\":{\"fillmode\":\"overlay\",\"size\":10,\"solidity\":0.2}},\"type\":\"barpolar\"}],\"carpet\":[{\"aaxis\":{\"endlinecolor\":\"#2a3f5f\",\"gridcolor\":\"white\",\"linecolor\":\"white\",\"minorgridcolor\":\"white\",\"startlinecolor\":\"#2a3f5f\"},\"baxis\":{\"endlinecolor\":\"#2a3f5f\",\"gridcolor\":\"white\",\"linecolor\":\"white\",\"minorgridcolor\":\"white\",\"startlinecolor\":\"#2a3f5f\"},\"type\":\"carpet\"}],\"choropleth\":[{\"colorbar\":{\"outlinewidth\":0,\"ticks\":\"\"},\"type\":\"choropleth\"}],\"contour\":[{\"colorbar\":{\"outlinewidth\":0,\"ticks\":\"\"},\"colorscale\":[[0.0,\"#0d0887\"],[0.1111111111111111,\"#46039f\"],[0.2222222222222222,\"#7201a8\"],[0.3333333333333333,\"#9c179e\"],[0.4444444444444444,\"#bd3786\"],[0.5555555555555556,\"#d8576b\"],[0.6666666666666666,\"#ed7953\"],[0.7777777777777778,\"#fb9f3a\"],[0.8888888888888888,\"#fdca26\"],[1.0,\"#f0f921\"]],\"type\":\"contour\"}],\"contourcarpet\":[{\"colorbar\":{\"outlinewidth\":0,\"ticks\":\"\"},\"type\":\"contourcarpet\"}],\"heatmap\":[{\"colorbar\":{\"outlinewidth\":0,\"ticks\":\"\"},\"colorscale\":[[0.0,\"#0d0887\"],[0.1111111111111111,\"#46039f\"],[0.2222222222222222,\"#7201a8\"],[0.3333333333333333,\"#9c179e\"],[0.4444444444444444,\"#bd3786\"],[0.5555555555555556,\"#d8576b\"],[0.6666666666666666,\"#ed7953\"],[0.7777777777777778,\"#fb9f3a\"],[0.8888888888888888,\"#fdca26\"],[1.0,\"#f0f921\"]],\"type\":\"heatmap\"}],\"heatmapgl\":[{\"colorbar\":{\"outlinewidth\":0,\"ticks\":\"\"},\"colorscale\":[[0.0,\"#0d0887\"],[0.1111111111111111,\"#46039f\"],[0.2222222222222222,\"#7201a8\"],[0.3333333333333333,\"#9c179e\"],[0.4444444444444444,\"#bd3786\"],[0.5555555555555556,\"#d8576b\"],[0.6666666666666666,\"#ed7953\"],[0.7777777777777778,\"#fb9f3a\"],[0.8888888888888888,\"#fdca26\"],[1.0,\"#f0f921\"]],\"type\":\"heatmapgl\"}],\"histogram\":[{\"marker\":{\"pattern\":{\"fillmode\":\"overlay\",\"size\":10,\"solidity\":0.2}},\"type\":\"histogram\"}],\"histogram2d\":[{\"colorbar\":{\"outlinewidth\":0,\"ticks\":\"\"},\"colorscale\":[[0.0,\"#0d0887\"],[0.1111111111111111,\"#46039f\"],[0.2222222222222222,\"#7201a8\"],[0.3333333333333333,\"#9c179e\"],[0.4444444444444444,\"#bd3786\"],[0.5555555555555556,\"#d8576b\"],[0.6666666666666666,\"#ed7953\"],[0.7777777777777778,\"#fb9f3a\"],[0.8888888888888888,\"#fdca26\"],[1.0,\"#f0f921\"]],\"type\":\"histogram2d\"}],\"histogram2dcontour\":[{\"colorbar\":{\"outlinewidth\":0,\"ticks\":\"\"},\"colorscale\":[[0.0,\"#0d0887\"],[0.1111111111111111,\"#46039f\"],[0.2222222222222222,\"#7201a8\"],[0.3333333333333333,\"#9c179e\"],[0.4444444444444444,\"#bd3786\"],[0.5555555555555556,\"#d8576b\"],[0.6666666666666666,\"#ed7953\"],[0.7777777777777778,\"#fb9f3a\"],[0.8888888888888888,\"#fdca26\"],[1.0,\"#f0f921\"]],\"type\":\"histogram2dcontour\"}],\"mesh3d\":[{\"colorbar\":{\"outlinewidth\":0,\"ticks\":\"\"},\"type\":\"mesh3d\"}],\"parcoords\":[{\"line\":{\"colorbar\":{\"outlinewidth\":0,\"ticks\":\"\"}},\"type\":\"parcoords\"}],\"pie\":[{\"automargin\":true,\"type\":\"pie\"}],\"scatter\":[{\"marker\":{\"colorbar\":{\"outlinewidth\":0,\"ticks\":\"\"}},\"type\":\"scatter\"}],\"scatter3d\":[{\"line\":{\"colorbar\":{\"outlinewidth\":0,\"ticks\":\"\"}},\"marker\":{\"colorbar\":{\"outlinewidth\":0,\"ticks\":\"\"}},\"type\":\"scatter3d\"}],\"scattercarpet\":[{\"marker\":{\"colorbar\":{\"outlinewidth\":0,\"ticks\":\"\"}},\"type\":\"scattercarpet\"}],\"scattergeo\":[{\"marker\":{\"colorbar\":{\"outlinewidth\":0,\"ticks\":\"\"}},\"type\":\"scattergeo\"}],\"scattergl\":[{\"marker\":{\"colorbar\":{\"outlinewidth\":0,\"ticks\":\"\"}},\"type\":\"scattergl\"}],\"scattermapbox\":[{\"marker\":{\"colorbar\":{\"outlinewidth\":0,\"ticks\":\"\"}},\"type\":\"scattermapbox\"}],\"scatterpolar\":[{\"marker\":{\"colorbar\":{\"outlinewidth\":0,\"ticks\":\"\"}},\"type\":\"scatterpolar\"}],\"scatterpolargl\":[{\"marker\":{\"colorbar\":{\"outlinewidth\":0,\"ticks\":\"\"}},\"type\":\"scatterpolargl\"}],\"scatterternary\":[{\"marker\":{\"colorbar\":{\"outlinewidth\":0,\"ticks\":\"\"}},\"type\":\"scatterternary\"}],\"surface\":[{\"colorbar\":{\"outlinewidth\":0,\"ticks\":\"\"},\"colorscale\":[[0.0,\"#0d0887\"],[0.1111111111111111,\"#46039f\"],[0.2222222222222222,\"#7201a8\"],[0.3333333333333333,\"#9c179e\"],[0.4444444444444444,\"#bd3786\"],[0.5555555555555556,\"#d8576b\"],[0.6666666666666666,\"#ed7953\"],[0.7777777777777778,\"#fb9f3a\"],[0.8888888888888888,\"#fdca26\"],[1.0,\"#f0f921\"]],\"type\":\"surface\"}],\"table\":[{\"cells\":{\"fill\":{\"color\":\"#EBF0F8\"},\"line\":{\"color\":\"white\"}},\"header\":{\"fill\":{\"color\":\"#C8D4E3\"},\"line\":{\"color\":\"white\"}},\"type\":\"table\"}]},\"layout\":{\"annotationdefaults\":{\"arrowcolor\":\"#2a3f5f\",\"arrowhead\":0,\"arrowwidth\":1},\"autotypenumbers\":\"strict\",\"coloraxis\":{\"colorbar\":{\"outlinewidth\":0,\"ticks\":\"\"}},\"colorscale\":{\"diverging\":[[0,\"#8e0152\"],[0.1,\"#c51b7d\"],[0.2,\"#de77ae\"],[0.3,\"#f1b6da\"],[0.4,\"#fde0ef\"],[0.5,\"#f7f7f7\"],[0.6,\"#e6f5d0\"],[0.7,\"#b8e186\"],[0.8,\"#7fbc41\"],[0.9,\"#4d9221\"],[1,\"#276419\"]],\"sequential\":[[0.0,\"#0d0887\"],[0.1111111111111111,\"#46039f\"],[0.2222222222222222,\"#7201a8\"],[0.3333333333333333,\"#9c179e\"],[0.4444444444444444,\"#bd3786\"],[0.5555555555555556,\"#d8576b\"],[0.6666666666666666,\"#ed7953\"],[0.7777777777777778,\"#fb9f3a\"],[0.8888888888888888,\"#fdca26\"],[1.0,\"#f0f921\"]],\"sequentialminus\":[[0.0,\"#0d0887\"],[0.1111111111111111,\"#46039f\"],[0.2222222222222222,\"#7201a8\"],[0.3333333333333333,\"#9c179e\"],[0.4444444444444444,\"#bd3786\"],[0.5555555555555556,\"#d8576b\"],[0.6666666666666666,\"#ed7953\"],[0.7777777777777778,\"#fb9f3a\"],[0.8888888888888888,\"#fdca26\"],[1.0,\"#f0f921\"]]},\"colorway\":[\"#636efa\",\"#EF553B\",\"#00cc96\",\"#ab63fa\",\"#FFA15A\",\"#19d3f3\",\"#FF6692\",\"#B6E880\",\"#FF97FF\",\"#FECB52\"],\"font\":{\"color\":\"#2a3f5f\"},\"geo\":{\"bgcolor\":\"white\",\"lakecolor\":\"white\",\"landcolor\":\"#E5ECF6\",\"showlakes\":true,\"showland\":true,\"subunitcolor\":\"white\"},\"hoverlabel\":{\"align\":\"left\"},\"hovermode\":\"closest\",\"mapbox\":{\"style\":\"light\"},\"paper_bgcolor\":\"white\",\"plot_bgcolor\":\"#E5ECF6\",\"polar\":{\"angularaxis\":{\"gridcolor\":\"white\",\"linecolor\":\"white\",\"ticks\":\"\"},\"bgcolor\":\"#E5ECF6\",\"radialaxis\":{\"gridcolor\":\"white\",\"linecolor\":\"white\",\"ticks\":\"\"}},\"scene\":{\"xaxis\":{\"backgroundcolor\":\"#E5ECF6\",\"gridcolor\":\"white\",\"gridwidth\":2,\"linecolor\":\"white\",\"showbackground\":true,\"ticks\":\"\",\"zerolinecolor\":\"white\"},\"yaxis\":{\"backgroundcolor\":\"#E5ECF6\",\"gridcolor\":\"white\",\"gridwidth\":2,\"linecolor\":\"white\",\"showbackground\":true,\"ticks\":\"\",\"zerolinecolor\":\"white\"},\"zaxis\":{\"backgroundcolor\":\"#E5ECF6\",\"gridcolor\":\"white\",\"gridwidth\":2,\"linecolor\":\"white\",\"showbackground\":true,\"ticks\":\"\",\"zerolinecolor\":\"white\"}},\"shapedefaults\":{\"line\":{\"color\":\"#2a3f5f\"}},\"ternary\":{\"aaxis\":{\"gridcolor\":\"white\",\"linecolor\":\"white\",\"ticks\":\"\"},\"baxis\":{\"gridcolor\":\"white\",\"linecolor\":\"white\",\"ticks\":\"\"},\"bgcolor\":\"#E5ECF6\",\"caxis\":{\"gridcolor\":\"white\",\"linecolor\":\"white\",\"ticks\":\"\"}},\"title\":{\"x\":0.05},\"xaxis\":{\"automargin\":true,\"gridcolor\":\"white\",\"linecolor\":\"white\",\"ticks\":\"\",\"title\":{\"standoff\":15},\"zerolinecolor\":\"white\",\"zerolinewidth\":2},\"yaxis\":{\"automargin\":true,\"gridcolor\":\"white\",\"linecolor\":\"white\",\"ticks\":\"\",\"title\":{\"standoff\":15},\"zerolinecolor\":\"white\",\"zerolinewidth\":2}}},\"xaxis\":{\"anchor\":\"y\",\"domain\":[0.0,1.0],\"title\":{\"text\":\"model\"}},\"yaxis\":{\"anchor\":\"x\",\"domain\":[0.0,1.0],\"title\":{\"text\":\"mpg\"}},\"legend\":{\"tracegroupgap\":0},\"title\":{\"text\":\"MPG Range by Model Year\"}},                        {\"responsive\": true}                    ).then(function(){\n",
       "                            \n",
       "var gd = document.getElementById('73deb0ee-6cc9-4a88-b4c4-d4d93d1acb98');\n",
       "var x = new MutationObserver(function (mutations, observer) {{\n",
       "        var display = window.getComputedStyle(gd).display;\n",
       "        if (!display || display === 'none') {{\n",
       "            console.log([gd, 'removed!']);\n",
       "            Plotly.purge(gd);\n",
       "            observer.disconnect();\n",
       "        }}\n",
       "}});\n",
       "\n",
       "// Listen for the removal of the full notebook cells\n",
       "var notebookContainer = gd.closest('#notebook-container');\n",
       "if (notebookContainer) {{\n",
       "    x.observe(notebookContainer, {childList: true});\n",
       "}}\n",
       "\n",
       "// Listen for the clearing of the current output cell\n",
       "var outputEl = gd.closest('.output');\n",
       "if (outputEl) {{\n",
       "    x.observe(outputEl, {childList: true});\n",
       "}}\n",
       "\n",
       "                        })                };                });            </script>        </div>"
      ]
     },
     "metadata": {},
     "output_type": "display_data"
    }
   ],
   "source": [
    "#Create first visual to show \n",
    "fig = px.scatter(df3,title='MPG Range by Model Year', x='model', y='mpg', hover_data=['vehicle name'])\n",
    "#Hover was added to be able to differentiate the vehicles from each other, and to identify each plotpoint.\n",
    "fig.show()"
   ]
  },
  {
   "cell_type": "code",
   "execution_count": 112,
   "id": "00811a51",
   "metadata": {
    "scrolled": false
   },
   "outputs": [
    {
     "data": {
      "application/vnd.plotly.v1+json": {
       "config": {
        "plotlyServerURL": "https://plot.ly"
       },
       "data": [
        {
         "customdata": [
          [
           "chevrolet chevelle malibu"
          ],
          [
           "buick skylark 320"
          ],
          [
           "plymouth satellite"
          ],
          [
           "amc rebel sst"
          ],
          [
           "ford torino"
          ],
          [
           "ford galaxie 500"
          ],
          [
           "chevrolet impala"
          ],
          [
           "plymouth fury iii"
          ],
          [
           "pontiac catalina"
          ],
          [
           "amc ambassador dpl"
          ],
          [
           "dodge challenger se"
          ],
          [
           "plymouth 'cuda 340"
          ],
          [
           "chevrolet monte carlo"
          ],
          [
           "buick estate wagon (sw)"
          ],
          [
           "toyota corona mark ii"
          ],
          [
           "plymouth duster"
          ],
          [
           "amc hornet"
          ],
          [
           "ford maverick"
          ],
          [
           "datsun pl510"
          ],
          [
           "volkswagen 1131 deluxe sedan"
          ],
          [
           "peugeot 504"
          ],
          [
           "audi 100 ls"
          ],
          [
           "saab 99e"
          ],
          [
           "bmw 2002"
          ],
          [
           "amc gremlin"
          ],
          [
           "ford f250"
          ],
          [
           "chevy c20"
          ],
          [
           "dodge d200"
          ],
          [
           "hi 1200d"
          ],
          [
           "datsun pl510"
          ],
          [
           "chevrolet vega 2300"
          ],
          [
           "toyota corona"
          ],
          [
           "ford pinto"
          ],
          [
           "amc gremlin"
          ],
          [
           "plymouth satellite custom"
          ],
          [
           "chevrolet chevelle malibu"
          ],
          [
           "ford torino 500"
          ],
          [
           "amc matador"
          ],
          [
           "chevrolet impala"
          ],
          [
           "pontiac catalina brougham"
          ],
          [
           "ford galaxie 500"
          ],
          [
           "plymouth fury iii"
          ],
          [
           "dodge monaco (sw)"
          ],
          [
           "ford country squire (sw)"
          ],
          [
           "pontiac safari (sw)"
          ],
          [
           "amc hornet sportabout (sw)"
          ],
          [
           "chevrolet vega (sw)"
          ],
          [
           "pontiac firebird"
          ],
          [
           "ford mustang"
          ],
          [
           "mercury capri 2000"
          ],
          [
           "opel 1900"
          ],
          [
           "peugeot 304"
          ],
          [
           "fiat 124b"
          ],
          [
           "toyota corolla 1200"
          ],
          [
           "datsun 1200"
          ],
          [
           "volkswagen model 111"
          ],
          [
           "plymouth cricket"
          ],
          [
           "toyota corona hardtop"
          ],
          [
           "dodge colt hardtop"
          ],
          [
           "volkswagen type 3"
          ],
          [
           "chevrolet vega"
          ],
          [
           "ford pinto runabout"
          ],
          [
           "chevrolet impala"
          ],
          [
           "pontiac catalina"
          ],
          [
           "plymouth fury iii"
          ],
          [
           "ford galaxie 500"
          ],
          [
           "amc ambassador sst"
          ],
          [
           "mercury marquis"
          ],
          [
           "buick lesabre custom"
          ],
          [
           "oldsmobile delta 88 royale"
          ],
          [
           "chrysler newport royal"
          ],
          [
           "mazda rx2 coupe"
          ],
          [
           "amc matador (sw)"
          ],
          [
           "chevrolet chevelle concours (sw)"
          ],
          [
           "ford gran torino (sw)"
          ],
          [
           "plymouth satellite custom (sw)"
          ],
          [
           "volvo 145e (sw)"
          ],
          [
           "volkswagen 411 (sw)"
          ],
          [
           "peugeot 504 (sw)"
          ],
          [
           "renault 12 (sw)"
          ],
          [
           "ford pinto (sw)"
          ],
          [
           "datsun 510 (sw)"
          ],
          [
           "toyouta corona mark ii (sw)"
          ],
          [
           "dodge colt (sw)"
          ],
          [
           "toyota corolla 1600 (sw)"
          ],
          [
           "buick century 350"
          ],
          [
           "amc matador"
          ],
          [
           "chevrolet malibu"
          ],
          [
           "ford gran torino"
          ],
          [
           "dodge coronet custom"
          ],
          [
           "mercury marquis brougham"
          ],
          [
           "chevrolet caprice classic"
          ],
          [
           "ford ltd"
          ],
          [
           "plymouth fury gran sedan"
          ],
          [
           "chrysler new yorker brougham"
          ],
          [
           "buick electra 225 custom"
          ],
          [
           "amc ambassador brougham"
          ],
          [
           "plymouth valiant"
          ],
          [
           "chevrolet nova custom"
          ],
          [
           "amc hornet"
          ],
          [
           "ford maverick"
          ],
          [
           "plymouth duster"
          ],
          [
           "volkswagen super beetle"
          ],
          [
           "chevrolet impala"
          ],
          [
           "ford country"
          ],
          [
           "plymouth custom suburb"
          ],
          [
           "oldsmobile vista cruiser"
          ],
          [
           "amc gremlin"
          ],
          [
           "toyota carina"
          ],
          [
           "chevrolet vega"
          ],
          [
           "datsun 610"
          ],
          [
           "maxda rx3"
          ],
          [
           "ford pinto"
          ],
          [
           "mercury capri v6"
          ],
          [
           "fiat 124 sport coupe"
          ],
          [
           "chevrolet monte carlo s"
          ],
          [
           "pontiac grand prix"
          ],
          [
           "fiat 128"
          ],
          [
           "opel manta"
          ],
          [
           "audi 100ls"
          ],
          [
           "volvo 144ea"
          ],
          [
           "dodge dart custom"
          ],
          [
           "saab 99le"
          ],
          [
           "toyota mark ii"
          ],
          [
           "oldsmobile omega"
          ],
          [
           "plymouth duster"
          ],
          [
           "ford maverick"
          ],
          [
           "amc hornet"
          ],
          [
           "chevrolet nova"
          ],
          [
           "datsun b210"
          ],
          [
           "ford pinto"
          ],
          [
           "toyota corolla 1200"
          ],
          [
           "chevrolet vega"
          ],
          [
           "chevrolet chevelle malibu classic"
          ],
          [
           "amc matador"
          ],
          [
           "plymouth satellite sebring"
          ],
          [
           "ford gran torino"
          ],
          [
           "buick century luxus (sw)"
          ],
          [
           "dodge coronet custom (sw)"
          ],
          [
           "ford gran torino (sw)"
          ],
          [
           "amc matador (sw)"
          ],
          [
           "audi fox"
          ],
          [
           "volkswagen dasher"
          ],
          [
           "opel manta"
          ],
          [
           "toyota corona"
          ],
          [
           "datsun 710"
          ],
          [
           "dodge colt"
          ],
          [
           "fiat 128"
          ],
          [
           "fiat 124 tc"
          ],
          [
           "honda civic"
          ],
          [
           "subaru"
          ],
          [
           "fiat x1.9"
          ],
          [
           "plymouth valiant custom"
          ],
          [
           "chevrolet nova"
          ],
          [
           "mercury monarch"
          ],
          [
           "ford maverick"
          ],
          [
           "pontiac catalina"
          ],
          [
           "chevrolet bel air"
          ],
          [
           "plymouth grand fury"
          ],
          [
           "ford ltd"
          ],
          [
           "buick century"
          ],
          [
           "chevroelt chevelle malibu"
          ],
          [
           "amc matador"
          ],
          [
           "plymouth fury"
          ],
          [
           "buick skyhawk"
          ],
          [
           "chevrolet monza 2+2"
          ],
          [
           "ford mustang ii"
          ],
          [
           "toyota corolla"
          ],
          [
           "ford pinto"
          ],
          [
           "amc gremlin"
          ],
          [
           "pontiac astro"
          ],
          [
           "toyota corona"
          ],
          [
           "volkswagen dasher"
          ],
          [
           "datsun 710"
          ],
          [
           "ford pinto"
          ],
          [
           "volkswagen rabbit"
          ],
          [
           "amc pacer"
          ],
          [
           "audi 100ls"
          ],
          [
           "peugeot 504"
          ],
          [
           "volvo 244dl"
          ],
          [
           "saab 99le"
          ],
          [
           "honda civic cvcc"
          ],
          [
           "fiat 131"
          ],
          [
           "opel 1900"
          ],
          [
           "capri ii"
          ],
          [
           "dodge colt"
          ],
          [
           "renault 12tl"
          ],
          [
           "chevrolet chevelle malibu classic"
          ],
          [
           "dodge coronet brougham"
          ],
          [
           "amc matador"
          ],
          [
           "ford gran torino"
          ],
          [
           "plymouth valiant"
          ],
          [
           "chevrolet nova"
          ],
          [
           "ford maverick"
          ],
          [
           "amc hornet"
          ],
          [
           "chevrolet chevette"
          ],
          [
           "chevrolet woody"
          ],
          [
           "vw rabbit"
          ],
          [
           "honda civic"
          ],
          [
           "dodge aspen se"
          ],
          [
           "ford granada ghia"
          ],
          [
           "pontiac ventura sj"
          ],
          [
           "amc pacer d/l"
          ],
          [
           "volkswagen rabbit"
          ],
          [
           "datsun b-210"
          ],
          [
           "toyota corolla"
          ],
          [
           "ford pinto"
          ],
          [
           "volvo 245"
          ],
          [
           "plymouth volare premier v8"
          ],
          [
           "peugeot 504"
          ],
          [
           "toyota mark ii"
          ],
          [
           "mercedes-benz 280s"
          ],
          [
           "cadillac seville"
          ],
          [
           "chevy c10"
          ],
          [
           "ford f108"
          ],
          [
           "dodge d100"
          ],
          [
           "honda accord cvcc"
          ],
          [
           "buick opel isuzu deluxe"
          ],
          [
           "renault 5 gtl"
          ],
          [
           "plymouth arrow gs"
          ],
          [
           "datsun f-10 hatchback"
          ],
          [
           "chevrolet caprice classic"
          ],
          [
           "oldsmobile cutlass supreme"
          ],
          [
           "dodge monaco brougham"
          ],
          [
           "mercury cougar brougham"
          ],
          [
           "chevrolet concours"
          ],
          [
           "buick skylark"
          ],
          [
           "plymouth volare custom"
          ],
          [
           "ford granada"
          ],
          [
           "pontiac grand prix lj"
          ],
          [
           "chevrolet monte carlo landau"
          ],
          [
           "chrysler cordoba"
          ],
          [
           "ford thunderbird"
          ],
          [
           "volkswagen rabbit custom"
          ],
          [
           "pontiac sunbird coupe"
          ],
          [
           "toyota corolla liftback"
          ],
          [
           "ford mustang ii 2+2"
          ],
          [
           "chevrolet chevette"
          ],
          [
           "dodge colt m/m"
          ],
          [
           "subaru dl"
          ],
          [
           "volkswagen dasher"
          ],
          [
           "datsun 810"
          ],
          [
           "bmw 320i"
          ],
          [
           "mazda rx-4"
          ],
          [
           "volkswagen rabbit custom diesel"
          ],
          [
           "ford fiesta"
          ],
          [
           "mazda glc deluxe"
          ],
          [
           "datsun b210 gx"
          ],
          [
           "honda civic cvcc"
          ],
          [
           "oldsmobile cutlass salon brougham"
          ],
          [
           "dodge diplomat"
          ],
          [
           "mercury monarch ghia"
          ],
          [
           "pontiac phoenix lj"
          ],
          [
           "chevrolet malibu"
          ],
          [
           "ford fairmont (auto)"
          ],
          [
           "ford fairmont (man)"
          ],
          [
           "plymouth volare"
          ],
          [
           "amc concord"
          ],
          [
           "buick century special"
          ],
          [
           "mercury zephyr"
          ],
          [
           "dodge aspen"
          ],
          [
           "amc concord d/l"
          ],
          [
           "chevrolet monte carlo landau"
          ],
          [
           "buick regal sport coupe (turbo)"
          ],
          [
           "ford futura"
          ],
          [
           "dodge magnum xe"
          ],
          [
           "chevrolet chevette"
          ],
          [
           "toyota corona"
          ],
          [
           "datsun 510"
          ],
          [
           "dodge omni"
          ],
          [
           "toyota celica gt liftback"
          ],
          [
           "plymouth sapporo"
          ],
          [
           "oldsmobile starfire sx"
          ],
          [
           "datsun 200-sx"
          ],
          [
           "audi 5000"
          ],
          [
           "volvo 264gl"
          ],
          [
           "saab 99gle"
          ],
          [
           "peugeot 604sl"
          ],
          [
           "volkswagen scirocco"
          ],
          [
           "honda accord lx"
          ],
          [
           "pontiac lemans v6"
          ],
          [
           "mercury zephyr 6"
          ],
          [
           "ford fairmont 4"
          ],
          [
           "amc concord dl 6"
          ],
          [
           "dodge aspen 6"
          ],
          [
           "chevrolet caprice classic"
          ],
          [
           "ford ltd landau"
          ],
          [
           "mercury grand marquis"
          ],
          [
           "dodge st. regis"
          ],
          [
           "buick estate wagon (sw)"
          ],
          [
           "ford country squire (sw)"
          ],
          [
           "chevrolet malibu classic (sw)"
          ],
          [
           "chrysler lebaron town @ country (sw)"
          ],
          [
           "vw rabbit custom"
          ],
          [
           "maxda glc deluxe"
          ],
          [
           "dodge colt hatchback custom"
          ],
          [
           "amc spirit dl"
          ],
          [
           "mercedes benz 300d"
          ],
          [
           "cadillac eldorado"
          ],
          [
           "peugeot 504"
          ],
          [
           "oldsmobile cutlass salon brougham"
          ],
          [
           "plymouth horizon"
          ],
          [
           "plymouth horizon tc3"
          ],
          [
           "datsun 210"
          ],
          [
           "fiat strada custom"
          ],
          [
           "buick skylark limited"
          ],
          [
           "chevrolet citation"
          ],
          [
           "oldsmobile omega brougham"
          ],
          [
           "pontiac phoenix"
          ],
          [
           "vw rabbit"
          ],
          [
           "toyota corolla tercel"
          ],
          [
           "chevrolet chevette"
          ],
          [
           "datsun 310"
          ],
          [
           "chevrolet citation"
          ],
          [
           "ford fairmont"
          ],
          [
           "amc concord"
          ],
          [
           "dodge aspen"
          ],
          [
           "audi 4000"
          ],
          [
           "toyota corona liftback"
          ],
          [
           "mazda 626"
          ],
          [
           "datsun 510 hatchback"
          ],
          [
           "toyota corolla"
          ],
          [
           "mazda glc"
          ],
          [
           "dodge colt"
          ],
          [
           "datsun 210"
          ],
          [
           "vw rabbit c (diesel)"
          ],
          [
           "vw dasher (diesel)"
          ],
          [
           "audi 5000s (diesel)"
          ],
          [
           "mercedes-benz 240d"
          ],
          [
           "honda civic 1500 gl"
          ],
          [
           "renault lecar deluxe"
          ],
          [
           "subaru dl"
          ],
          [
           "vokswagen rabbit"
          ],
          [
           "datsun 280-zx"
          ],
          [
           "mazda rx-7 gs"
          ],
          [
           "triumph tr7 coupe"
          ],
          [
           "ford mustang cobra"
          ],
          [
           "honda accord"
          ],
          [
           "plymouth reliant"
          ],
          [
           "buick skylark"
          ],
          [
           "dodge aries wagon (sw)"
          ],
          [
           "chevrolet citation"
          ],
          [
           "plymouth reliant"
          ],
          [
           "toyota starlet"
          ],
          [
           "plymouth champ"
          ],
          [
           "honda civic 1300"
          ],
          [
           "subaru"
          ],
          [
           "datsun 210 mpg"
          ],
          [
           "toyota tercel"
          ],
          [
           "mazda glc 4"
          ],
          [
           "plymouth horizon 4"
          ],
          [
           "ford escort 4w"
          ],
          [
           "ford escort 2h"
          ],
          [
           "volkswagen jetta"
          ],
          [
           "renault 18i"
          ],
          [
           "honda prelude"
          ],
          [
           "toyota corolla"
          ],
          [
           "datsun 200sx"
          ],
          [
           "mazda 626"
          ],
          [
           "peugeot 505s turbo diesel"
          ],
          [
           "volvo diesel"
          ],
          [
           "toyota cressida"
          ],
          [
           "datsun 810 maxima"
          ],
          [
           "buick century"
          ],
          [
           "oldsmobile cutlass ls"
          ],
          [
           "ford granada gl"
          ],
          [
           "chrysler lebaron salon"
          ],
          [
           "chevrolet cavalier"
          ],
          [
           "chevrolet cavalier wagon"
          ],
          [
           "chevrolet cavalier 2-door"
          ],
          [
           "pontiac j2000 se hatchback"
          ],
          [
           "dodge aries se"
          ],
          [
           "pontiac phoenix"
          ],
          [
           "ford fairmont futura"
          ],
          [
           "amc concord dl"
          ],
          [
           "volkswagen rabbit l"
          ],
          [
           "mazda glc custom l"
          ],
          [
           "mazda glc custom"
          ],
          [
           "plymouth horizon miser"
          ],
          [
           "mercury lynx l"
          ],
          [
           "nissan stanza xe"
          ],
          [
           "honda accord"
          ],
          [
           "toyota corolla"
          ],
          [
           "honda civic"
          ],
          [
           "honda civic (auto)"
          ],
          [
           "datsun 310 gx"
          ],
          [
           "buick century limited"
          ],
          [
           "oldsmobile cutlass ciera (diesel)"
          ],
          [
           "chrysler lebaron medallion"
          ],
          [
           "ford granada l"
          ],
          [
           "toyota celica gt"
          ],
          [
           "dodge charger 2.2"
          ],
          [
           "chevrolet camaro"
          ],
          [
           "ford mustang gl"
          ],
          [
           "vw pickup"
          ],
          [
           "dodge rampage"
          ],
          [
           "ford ranger"
          ],
          [
           "chevy s-10"
          ]
         ],
         "hovertemplate": "weight=%{x}<br>mpg=%{y}<br>vehicle name=%{customdata[0]}<br>model=%{marker.color}<extra></extra>",
         "legendgroup": "",
         "marker": {
          "color": [
           70,
           70,
           70,
           70,
           70,
           70,
           70,
           70,
           70,
           70,
           70,
           70,
           70,
           70,
           70,
           70,
           70,
           70,
           70,
           70,
           70,
           70,
           70,
           70,
           70,
           70,
           70,
           70,
           70,
           71,
           71,
           71,
           71,
           71,
           71,
           71,
           71,
           71,
           71,
           71,
           71,
           71,
           71,
           71,
           71,
           71,
           71,
           71,
           71,
           71,
           71,
           71,
           71,
           71,
           71,
           71,
           71,
           72,
           72,
           72,
           72,
           72,
           72,
           72,
           72,
           72,
           72,
           72,
           72,
           72,
           72,
           72,
           72,
           72,
           72,
           72,
           72,
           72,
           72,
           72,
           72,
           72,
           72,
           72,
           72,
           73,
           73,
           73,
           73,
           73,
           73,
           73,
           73,
           73,
           73,
           73,
           73,
           73,
           73,
           73,
           73,
           73,
           73,
           73,
           73,
           73,
           73,
           73,
           73,
           73,
           73,
           73,
           73,
           73,
           73,
           73,
           73,
           73,
           73,
           73,
           73,
           73,
           73,
           73,
           73,
           74,
           74,
           74,
           74,
           74,
           74,
           74,
           74,
           74,
           74,
           74,
           74,
           74,
           74,
           74,
           74,
           74,
           74,
           74,
           74,
           74,
           74,
           74,
           74,
           74,
           74,
           74,
           75,
           75,
           75,
           75,
           75,
           75,
           75,
           75,
           75,
           75,
           75,
           75,
           75,
           75,
           75,
           75,
           75,
           75,
           75,
           75,
           75,
           75,
           75,
           75,
           75,
           75,
           75,
           75,
           75,
           75,
           76,
           76,
           76,
           76,
           76,
           76,
           76,
           76,
           76,
           76,
           76,
           76,
           76,
           76,
           76,
           76,
           76,
           76,
           76,
           76,
           76,
           76,
           76,
           76,
           76,
           76,
           76,
           76,
           76,
           76,
           76,
           76,
           76,
           76,
           77,
           77,
           77,
           77,
           77,
           77,
           77,
           77,
           77,
           77,
           77,
           77,
           77,
           77,
           77,
           77,
           77,
           77,
           77,
           77,
           77,
           77,
           77,
           77,
           77,
           77,
           77,
           77,
           78,
           78,
           78,
           78,
           78,
           78,
           78,
           78,
           78,
           78,
           78,
           78,
           78,
           78,
           78,
           78,
           78,
           78,
           78,
           78,
           78,
           78,
           78,
           78,
           78,
           78,
           78,
           78,
           78,
           78,
           78,
           78,
           78,
           78,
           78,
           78,
           79,
           79,
           79,
           79,
           79,
           79,
           79,
           79,
           79,
           79,
           79,
           79,
           79,
           79,
           79,
           79,
           79,
           79,
           79,
           79,
           79,
           79,
           79,
           79,
           79,
           79,
           79,
           79,
           79,
           80,
           80,
           80,
           80,
           80,
           80,
           80,
           80,
           80,
           80,
           80,
           80,
           80,
           80,
           80,
           80,
           80,
           80,
           80,
           80,
           80,
           80,
           80,
           80,
           80,
           80,
           80,
           80,
           80,
           81,
           81,
           81,
           81,
           81,
           81,
           81,
           81,
           81,
           81,
           81,
           81,
           81,
           81,
           81,
           81,
           81,
           81,
           81,
           81,
           81,
           81,
           81,
           81,
           81,
           81,
           81,
           81,
           81,
           82,
           82,
           82,
           82,
           82,
           82,
           82,
           82,
           82,
           82,
           82,
           82,
           82,
           82,
           82,
           82,
           82,
           82,
           82,
           82,
           82,
           82,
           82,
           82,
           82,
           82,
           82,
           82,
           82,
           82,
           82
          ],
          "coloraxis": "coloraxis",
          "symbol": "circle"
         },
         "mode": "markers",
         "name": "",
         "orientation": "v",
         "showlegend": false,
         "type": "scatter",
         "x": [
          3504,
          3693,
          3436,
          3433,
          3449,
          4341,
          4354,
          4312,
          4425,
          3850,
          3563,
          3609,
          3761,
          3086,
          2372,
          2833,
          2774,
          2587,
          2130,
          1835,
          2672,
          2430,
          2375,
          2234,
          2648,
          4615,
          4376,
          4382,
          4732,
          2130,
          2264,
          2228,
          2046,
          2634,
          3439,
          3329,
          3302,
          3288,
          4209,
          4464,
          4154,
          4096,
          4955,
          4746,
          5140,
          2962,
          2408,
          3282,
          3139,
          2220,
          2123,
          2074,
          2065,
          1773,
          1613,
          1834,
          1955,
          2278,
          2126,
          2254,
          2408,
          2226,
          4274,
          4385,
          4135,
          4129,
          3672,
          4633,
          4502,
          4456,
          4422,
          2330,
          3892,
          4098,
          4294,
          4077,
          2933,
          2511,
          2979,
          2189,
          2395,
          2288,
          2506,
          2164,
          2100,
          4100,
          3672,
          3988,
          4042,
          3777,
          4952,
          4464,
          4363,
          4237,
          4735,
          4951,
          3821,
          3121,
          3278,
          2945,
          3021,
          2904,
          1950,
          4997,
          4906,
          4654,
          4499,
          2789,
          2279,
          2401,
          2379,
          2124,
          2310,
          2472,
          2265,
          4082,
          4278,
          1867,
          2158,
          2582,
          2868,
          3399,
          2660,
          2807,
          3664,
          3102,
          2875,
          2901,
          3336,
          1950,
          2451,
          1836,
          2542,
          3781,
          3632,
          3613,
          4141,
          4699,
          4457,
          4638,
          4257,
          2219,
          1963,
          2300,
          1649,
          2003,
          2125,
          2108,
          2246,
          2489,
          2391,
          2000,
          3264,
          3459,
          3432,
          3158,
          4668,
          4440,
          4498,
          4657,
          3907,
          3897,
          3730,
          3785,
          3039,
          3221,
          3169,
          2171,
          2639,
          2914,
          2592,
          2702,
          2223,
          2545,
          2984,
          1937,
          3211,
          2694,
          2957,
          2945,
          2671,
          1795,
          2464,
          2220,
          2572,
          2255,
          2202,
          4215,
          4190,
          3962,
          4215,
          3233,
          3353,
          3012,
          3085,
          2035,
          2164,
          1937,
          1795,
          3651,
          3574,
          3645,
          3193,
          1825,
          1990,
          2155,
          2565,
          3150,
          3940,
          3270,
          2930,
          3820,
          4380,
          4055,
          3870,
          3755,
          2045,
          2155,
          1825,
          2300,
          1945,
          3880,
          4060,
          4140,
          4295,
          3520,
          3425,
          3630,
          3525,
          4220,
          4165,
          4325,
          4335,
          1940,
          2740,
          2265,
          2755,
          2051,
          2075,
          1985,
          2190,
          2815,
          2600,
          2720,
          1985,
          1800,
          1985,
          2070,
          1800,
          3365,
          3735,
          3570,
          3535,
          3155,
          2965,
          2720,
          3430,
          3210,
          3380,
          3070,
          3620,
          3410,
          3425,
          3445,
          3205,
          4080,
          2155,
          2560,
          2300,
          2230,
          2515,
          2745,
          2855,
          2405,
          2830,
          3140,
          2795,
          3410,
          1990,
          2135,
          3245,
          2990,
          2890,
          3265,
          3360,
          3840,
          3725,
          3955,
          3830,
          4360,
          4054,
          3605,
          3940,
          1925,
          1975,
          1915,
          2670,
          3530,
          3900,
          3190,
          3420,
          2200,
          2150,
          2020,
          2130,
          2670,
          2595,
          2700,
          2556,
          2144,
          1968,
          2120,
          2019,
          2678,
          2870,
          3003,
          3381,
          2188,
          2711,
          2542,
          2434,
          2265,
          2110,
          2800,
          2110,
          2085,
          2335,
          2950,
          3250,
          1850,
          1835,
          2145,
          1845,
          2910,
          2420,
          2500,
          2905,
          2290,
          2490,
          2635,
          2620,
          2725,
          2385,
          1755,
          1875,
          1760,
          2065,
          1975,
          2050,
          1985,
          2215,
          2045,
          2380,
          2190,
          2320,
          2210,
          2350,
          2615,
          2635,
          3230,
          3160,
          2900,
          2930,
          3415,
          3725,
          3060,
          3465,
          2605,
          2640,
          2395,
          2575,
          2525,
          2735,
          2865,
          3035,
          1980,
          2025,
          1970,
          2125,
          2125,
          2160,
          2205,
          2245,
          1965,
          1965,
          1995,
          2945,
          3015,
          2585,
          2835,
          2665,
          2370,
          2950,
          2790,
          2130,
          2295,
          2625,
          2720
         ],
         "xaxis": "x",
         "y": [
          18,
          15,
          18,
          16,
          17,
          15,
          14,
          14,
          14,
          15,
          15,
          14,
          15,
          14,
          24,
          22,
          18,
          21,
          27,
          26,
          25,
          24,
          25,
          26,
          21,
          10,
          10,
          11,
          9,
          27,
          28,
          25,
          25,
          19,
          16,
          17,
          19,
          18,
          14,
          14,
          14,
          14,
          12,
          13,
          13,
          18,
          22,
          19,
          18,
          23,
          28,
          30,
          30,
          31,
          35,
          27,
          26,
          24,
          25,
          23,
          20,
          21,
          13,
          14,
          15,
          14,
          17,
          11,
          13,
          12,
          13,
          19,
          15,
          13,
          13,
          14,
          18,
          22,
          21,
          26,
          22,
          28,
          23,
          28,
          27,
          13,
          14,
          13,
          14,
          15,
          12,
          13,
          13,
          14,
          13,
          12,
          13,
          18,
          16,
          18,
          18,
          23,
          26,
          11,
          12,
          13,
          12,
          18,
          20,
          21,
          22,
          18,
          19,
          21,
          26,
          15,
          16,
          29,
          24,
          20,
          19,
          15,
          24,
          20,
          11,
          20,
          21,
          19,
          15,
          31,
          26,
          32,
          25,
          16,
          16,
          18,
          16,
          13,
          14,
          14,
          14,
          29,
          26,
          26,
          31,
          32,
          28,
          24,
          26,
          24,
          26,
          31,
          19,
          18,
          15,
          15,
          16,
          15,
          16,
          14,
          17,
          16,
          15,
          18,
          21,
          20,
          13,
          29,
          23,
          20,
          23,
          24,
          25,
          24,
          18,
          29,
          19,
          23,
          23,
          22,
          25,
          33,
          28,
          25,
          25,
          26,
          27,
          17.5,
          16,
          15.5,
          14.5,
          22,
          22,
          24,
          22.5,
          29,
          24.5,
          29,
          33,
          20,
          18,
          18.5,
          17.5,
          29.5,
          32,
          28,
          26.5,
          20,
          13,
          19,
          19,
          16.5,
          16.5,
          13,
          13,
          13,
          31.5,
          30,
          36,
          25.5,
          33.5,
          17.5,
          17,
          15.5,
          15,
          17.5,
          20.5,
          19,
          18.5,
          16,
          15.5,
          15.5,
          16,
          29,
          24.5,
          26,
          25.5,
          30.5,
          33.5,
          30,
          30.5,
          22,
          21.5,
          21.5,
          43.1,
          36.1,
          32.8,
          39.4,
          36.1,
          19.9,
          19.4,
          20.2,
          19.2,
          20.5,
          20.2,
          25.1,
          20.5,
          19.4,
          20.6,
          20.8,
          18.6,
          18.1,
          19.2,
          17.7,
          18.1,
          17.5,
          30,
          27.5,
          27.2,
          30.9,
          21.1,
          23.2,
          23.8,
          23.9,
          20.3,
          17,
          21.6,
          16.2,
          31.5,
          29.5,
          21.5,
          19.8,
          22.3,
          20.2,
          20.6,
          17,
          17.6,
          16.5,
          18.2,
          16.9,
          15.5,
          19.2,
          18.5,
          31.9,
          34.1,
          35.7,
          27.4,
          25.4,
          23,
          27.2,
          23.9,
          34.2,
          34.5,
          31.8,
          37.3,
          28.4,
          28.8,
          26.8,
          33.5,
          41.5,
          38.1,
          32.1,
          37.2,
          28,
          26.4,
          24.3,
          19.1,
          34.3,
          29.8,
          31.3,
          37,
          32.2,
          46.6,
          27.9,
          40.8,
          44.3,
          43.4,
          36.4,
          30,
          44.6,
          40.9,
          33.8,
          29.8,
          32.7,
          23.7,
          35,
          23.6,
          32.4,
          27.2,
          26.6,
          25.8,
          23.5,
          30,
          39.1,
          39,
          35.1,
          32.3,
          37,
          37.7,
          34.1,
          34.7,
          34.4,
          29.9,
          33,
          34.5,
          33.7,
          32.4,
          32.9,
          31.6,
          28.1,
          30.7,
          25.4,
          24.2,
          22.4,
          26.6,
          20.2,
          17.6,
          28,
          27,
          34,
          31,
          29,
          27,
          24,
          23,
          36,
          37,
          31,
          38,
          36,
          36,
          36,
          34,
          38,
          32,
          38,
          25,
          38,
          26,
          22,
          32,
          36,
          27,
          27,
          44,
          32,
          28,
          31
         ],
         "yaxis": "y"
        }
       ],
       "layout": {
        "coloraxis": {
         "colorbar": {
          "title": {
           "text": "model"
          }
         },
         "colorscale": [
          [
           0,
           "#0d0887"
          ],
          [
           0.1111111111111111,
           "#46039f"
          ],
          [
           0.2222222222222222,
           "#7201a8"
          ],
          [
           0.3333333333333333,
           "#9c179e"
          ],
          [
           0.4444444444444444,
           "#bd3786"
          ],
          [
           0.5555555555555556,
           "#d8576b"
          ],
          [
           0.6666666666666666,
           "#ed7953"
          ],
          [
           0.7777777777777778,
           "#fb9f3a"
          ],
          [
           0.8888888888888888,
           "#fdca26"
          ],
          [
           1,
           "#f0f921"
          ]
         ]
        },
        "legend": {
         "tracegroupgap": 0
        },
        "template": {
         "data": {
          "bar": [
           {
            "error_x": {
             "color": "#2a3f5f"
            },
            "error_y": {
             "color": "#2a3f5f"
            },
            "marker": {
             "line": {
              "color": "#E5ECF6",
              "width": 0.5
             },
             "pattern": {
              "fillmode": "overlay",
              "size": 10,
              "solidity": 0.2
             }
            },
            "type": "bar"
           }
          ],
          "barpolar": [
           {
            "marker": {
             "line": {
              "color": "#E5ECF6",
              "width": 0.5
             },
             "pattern": {
              "fillmode": "overlay",
              "size": 10,
              "solidity": 0.2
             }
            },
            "type": "barpolar"
           }
          ],
          "carpet": [
           {
            "aaxis": {
             "endlinecolor": "#2a3f5f",
             "gridcolor": "white",
             "linecolor": "white",
             "minorgridcolor": "white",
             "startlinecolor": "#2a3f5f"
            },
            "baxis": {
             "endlinecolor": "#2a3f5f",
             "gridcolor": "white",
             "linecolor": "white",
             "minorgridcolor": "white",
             "startlinecolor": "#2a3f5f"
            },
            "type": "carpet"
           }
          ],
          "choropleth": [
           {
            "colorbar": {
             "outlinewidth": 0,
             "ticks": ""
            },
            "type": "choropleth"
           }
          ],
          "contour": [
           {
            "colorbar": {
             "outlinewidth": 0,
             "ticks": ""
            },
            "colorscale": [
             [
              0,
              "#0d0887"
             ],
             [
              0.1111111111111111,
              "#46039f"
             ],
             [
              0.2222222222222222,
              "#7201a8"
             ],
             [
              0.3333333333333333,
              "#9c179e"
             ],
             [
              0.4444444444444444,
              "#bd3786"
             ],
             [
              0.5555555555555556,
              "#d8576b"
             ],
             [
              0.6666666666666666,
              "#ed7953"
             ],
             [
              0.7777777777777778,
              "#fb9f3a"
             ],
             [
              0.8888888888888888,
              "#fdca26"
             ],
             [
              1,
              "#f0f921"
             ]
            ],
            "type": "contour"
           }
          ],
          "contourcarpet": [
           {
            "colorbar": {
             "outlinewidth": 0,
             "ticks": ""
            },
            "type": "contourcarpet"
           }
          ],
          "heatmap": [
           {
            "colorbar": {
             "outlinewidth": 0,
             "ticks": ""
            },
            "colorscale": [
             [
              0,
              "#0d0887"
             ],
             [
              0.1111111111111111,
              "#46039f"
             ],
             [
              0.2222222222222222,
              "#7201a8"
             ],
             [
              0.3333333333333333,
              "#9c179e"
             ],
             [
              0.4444444444444444,
              "#bd3786"
             ],
             [
              0.5555555555555556,
              "#d8576b"
             ],
             [
              0.6666666666666666,
              "#ed7953"
             ],
             [
              0.7777777777777778,
              "#fb9f3a"
             ],
             [
              0.8888888888888888,
              "#fdca26"
             ],
             [
              1,
              "#f0f921"
             ]
            ],
            "type": "heatmap"
           }
          ],
          "heatmapgl": [
           {
            "colorbar": {
             "outlinewidth": 0,
             "ticks": ""
            },
            "colorscale": [
             [
              0,
              "#0d0887"
             ],
             [
              0.1111111111111111,
              "#46039f"
             ],
             [
              0.2222222222222222,
              "#7201a8"
             ],
             [
              0.3333333333333333,
              "#9c179e"
             ],
             [
              0.4444444444444444,
              "#bd3786"
             ],
             [
              0.5555555555555556,
              "#d8576b"
             ],
             [
              0.6666666666666666,
              "#ed7953"
             ],
             [
              0.7777777777777778,
              "#fb9f3a"
             ],
             [
              0.8888888888888888,
              "#fdca26"
             ],
             [
              1,
              "#f0f921"
             ]
            ],
            "type": "heatmapgl"
           }
          ],
          "histogram": [
           {
            "marker": {
             "pattern": {
              "fillmode": "overlay",
              "size": 10,
              "solidity": 0.2
             }
            },
            "type": "histogram"
           }
          ],
          "histogram2d": [
           {
            "colorbar": {
             "outlinewidth": 0,
             "ticks": ""
            },
            "colorscale": [
             [
              0,
              "#0d0887"
             ],
             [
              0.1111111111111111,
              "#46039f"
             ],
             [
              0.2222222222222222,
              "#7201a8"
             ],
             [
              0.3333333333333333,
              "#9c179e"
             ],
             [
              0.4444444444444444,
              "#bd3786"
             ],
             [
              0.5555555555555556,
              "#d8576b"
             ],
             [
              0.6666666666666666,
              "#ed7953"
             ],
             [
              0.7777777777777778,
              "#fb9f3a"
             ],
             [
              0.8888888888888888,
              "#fdca26"
             ],
             [
              1,
              "#f0f921"
             ]
            ],
            "type": "histogram2d"
           }
          ],
          "histogram2dcontour": [
           {
            "colorbar": {
             "outlinewidth": 0,
             "ticks": ""
            },
            "colorscale": [
             [
              0,
              "#0d0887"
             ],
             [
              0.1111111111111111,
              "#46039f"
             ],
             [
              0.2222222222222222,
              "#7201a8"
             ],
             [
              0.3333333333333333,
              "#9c179e"
             ],
             [
              0.4444444444444444,
              "#bd3786"
             ],
             [
              0.5555555555555556,
              "#d8576b"
             ],
             [
              0.6666666666666666,
              "#ed7953"
             ],
             [
              0.7777777777777778,
              "#fb9f3a"
             ],
             [
              0.8888888888888888,
              "#fdca26"
             ],
             [
              1,
              "#f0f921"
             ]
            ],
            "type": "histogram2dcontour"
           }
          ],
          "mesh3d": [
           {
            "colorbar": {
             "outlinewidth": 0,
             "ticks": ""
            },
            "type": "mesh3d"
           }
          ],
          "parcoords": [
           {
            "line": {
             "colorbar": {
              "outlinewidth": 0,
              "ticks": ""
             }
            },
            "type": "parcoords"
           }
          ],
          "pie": [
           {
            "automargin": true,
            "type": "pie"
           }
          ],
          "scatter": [
           {
            "marker": {
             "colorbar": {
              "outlinewidth": 0,
              "ticks": ""
             }
            },
            "type": "scatter"
           }
          ],
          "scatter3d": [
           {
            "line": {
             "colorbar": {
              "outlinewidth": 0,
              "ticks": ""
             }
            },
            "marker": {
             "colorbar": {
              "outlinewidth": 0,
              "ticks": ""
             }
            },
            "type": "scatter3d"
           }
          ],
          "scattercarpet": [
           {
            "marker": {
             "colorbar": {
              "outlinewidth": 0,
              "ticks": ""
             }
            },
            "type": "scattercarpet"
           }
          ],
          "scattergeo": [
           {
            "marker": {
             "colorbar": {
              "outlinewidth": 0,
              "ticks": ""
             }
            },
            "type": "scattergeo"
           }
          ],
          "scattergl": [
           {
            "marker": {
             "colorbar": {
              "outlinewidth": 0,
              "ticks": ""
             }
            },
            "type": "scattergl"
           }
          ],
          "scattermapbox": [
           {
            "marker": {
             "colorbar": {
              "outlinewidth": 0,
              "ticks": ""
             }
            },
            "type": "scattermapbox"
           }
          ],
          "scatterpolar": [
           {
            "marker": {
             "colorbar": {
              "outlinewidth": 0,
              "ticks": ""
             }
            },
            "type": "scatterpolar"
           }
          ],
          "scatterpolargl": [
           {
            "marker": {
             "colorbar": {
              "outlinewidth": 0,
              "ticks": ""
             }
            },
            "type": "scatterpolargl"
           }
          ],
          "scatterternary": [
           {
            "marker": {
             "colorbar": {
              "outlinewidth": 0,
              "ticks": ""
             }
            },
            "type": "scatterternary"
           }
          ],
          "surface": [
           {
            "colorbar": {
             "outlinewidth": 0,
             "ticks": ""
            },
            "colorscale": [
             [
              0,
              "#0d0887"
             ],
             [
              0.1111111111111111,
              "#46039f"
             ],
             [
              0.2222222222222222,
              "#7201a8"
             ],
             [
              0.3333333333333333,
              "#9c179e"
             ],
             [
              0.4444444444444444,
              "#bd3786"
             ],
             [
              0.5555555555555556,
              "#d8576b"
             ],
             [
              0.6666666666666666,
              "#ed7953"
             ],
             [
              0.7777777777777778,
              "#fb9f3a"
             ],
             [
              0.8888888888888888,
              "#fdca26"
             ],
             [
              1,
              "#f0f921"
             ]
            ],
            "type": "surface"
           }
          ],
          "table": [
           {
            "cells": {
             "fill": {
              "color": "#EBF0F8"
             },
             "line": {
              "color": "white"
             }
            },
            "header": {
             "fill": {
              "color": "#C8D4E3"
             },
             "line": {
              "color": "white"
             }
            },
            "type": "table"
           }
          ]
         },
         "layout": {
          "annotationdefaults": {
           "arrowcolor": "#2a3f5f",
           "arrowhead": 0,
           "arrowwidth": 1
          },
          "autotypenumbers": "strict",
          "coloraxis": {
           "colorbar": {
            "outlinewidth": 0,
            "ticks": ""
           }
          },
          "colorscale": {
           "diverging": [
            [
             0,
             "#8e0152"
            ],
            [
             0.1,
             "#c51b7d"
            ],
            [
             0.2,
             "#de77ae"
            ],
            [
             0.3,
             "#f1b6da"
            ],
            [
             0.4,
             "#fde0ef"
            ],
            [
             0.5,
             "#f7f7f7"
            ],
            [
             0.6,
             "#e6f5d0"
            ],
            [
             0.7,
             "#b8e186"
            ],
            [
             0.8,
             "#7fbc41"
            ],
            [
             0.9,
             "#4d9221"
            ],
            [
             1,
             "#276419"
            ]
           ],
           "sequential": [
            [
             0,
             "#0d0887"
            ],
            [
             0.1111111111111111,
             "#46039f"
            ],
            [
             0.2222222222222222,
             "#7201a8"
            ],
            [
             0.3333333333333333,
             "#9c179e"
            ],
            [
             0.4444444444444444,
             "#bd3786"
            ],
            [
             0.5555555555555556,
             "#d8576b"
            ],
            [
             0.6666666666666666,
             "#ed7953"
            ],
            [
             0.7777777777777778,
             "#fb9f3a"
            ],
            [
             0.8888888888888888,
             "#fdca26"
            ],
            [
             1,
             "#f0f921"
            ]
           ],
           "sequentialminus": [
            [
             0,
             "#0d0887"
            ],
            [
             0.1111111111111111,
             "#46039f"
            ],
            [
             0.2222222222222222,
             "#7201a8"
            ],
            [
             0.3333333333333333,
             "#9c179e"
            ],
            [
             0.4444444444444444,
             "#bd3786"
            ],
            [
             0.5555555555555556,
             "#d8576b"
            ],
            [
             0.6666666666666666,
             "#ed7953"
            ],
            [
             0.7777777777777778,
             "#fb9f3a"
            ],
            [
             0.8888888888888888,
             "#fdca26"
            ],
            [
             1,
             "#f0f921"
            ]
           ]
          },
          "colorway": [
           "#636efa",
           "#EF553B",
           "#00cc96",
           "#ab63fa",
           "#FFA15A",
           "#19d3f3",
           "#FF6692",
           "#B6E880",
           "#FF97FF",
           "#FECB52"
          ],
          "font": {
           "color": "#2a3f5f"
          },
          "geo": {
           "bgcolor": "white",
           "lakecolor": "white",
           "landcolor": "#E5ECF6",
           "showlakes": true,
           "showland": true,
           "subunitcolor": "white"
          },
          "hoverlabel": {
           "align": "left"
          },
          "hovermode": "closest",
          "mapbox": {
           "style": "light"
          },
          "paper_bgcolor": "white",
          "plot_bgcolor": "#E5ECF6",
          "polar": {
           "angularaxis": {
            "gridcolor": "white",
            "linecolor": "white",
            "ticks": ""
           },
           "bgcolor": "#E5ECF6",
           "radialaxis": {
            "gridcolor": "white",
            "linecolor": "white",
            "ticks": ""
           }
          },
          "scene": {
           "xaxis": {
            "backgroundcolor": "#E5ECF6",
            "gridcolor": "white",
            "gridwidth": 2,
            "linecolor": "white",
            "showbackground": true,
            "ticks": "",
            "zerolinecolor": "white"
           },
           "yaxis": {
            "backgroundcolor": "#E5ECF6",
            "gridcolor": "white",
            "gridwidth": 2,
            "linecolor": "white",
            "showbackground": true,
            "ticks": "",
            "zerolinecolor": "white"
           },
           "zaxis": {
            "backgroundcolor": "#E5ECF6",
            "gridcolor": "white",
            "gridwidth": 2,
            "linecolor": "white",
            "showbackground": true,
            "ticks": "",
            "zerolinecolor": "white"
           }
          },
          "shapedefaults": {
           "line": {
            "color": "#2a3f5f"
           }
          },
          "ternary": {
           "aaxis": {
            "gridcolor": "white",
            "linecolor": "white",
            "ticks": ""
           },
           "baxis": {
            "gridcolor": "white",
            "linecolor": "white",
            "ticks": ""
           },
           "bgcolor": "#E5ECF6",
           "caxis": {
            "gridcolor": "white",
            "linecolor": "white",
            "ticks": ""
           }
          },
          "title": {
           "x": 0.05
          },
          "xaxis": {
           "automargin": true,
           "gridcolor": "white",
           "linecolor": "white",
           "ticks": "",
           "title": {
            "standoff": 15
           },
           "zerolinecolor": "white",
           "zerolinewidth": 2
          },
          "yaxis": {
           "automargin": true,
           "gridcolor": "white",
           "linecolor": "white",
           "ticks": "",
           "title": {
            "standoff": 15
           },
           "zerolinecolor": "white",
           "zerolinewidth": 2
          }
         }
        },
        "title": {
         "text": "MPG v. Weight by Model Year"
        },
        "xaxis": {
         "anchor": "y",
         "domain": [
          0,
          1
         ],
         "title": {
          "text": "weight"
         }
        },
        "yaxis": {
         "anchor": "x",
         "domain": [
          0,
          1
         ],
         "title": {
          "text": "mpg"
         }
        }
       }
      },
      "text/html": [
       "<div>                            <div id=\"88cd47f9-6ca1-4325-8345-c119cd5daf60\" class=\"plotly-graph-div\" style=\"height:525px; width:100%;\"></div>            <script type=\"text/javascript\">                require([\"plotly\"], function(Plotly) {                    window.PLOTLYENV=window.PLOTLYENV || {};                                    if (document.getElementById(\"88cd47f9-6ca1-4325-8345-c119cd5daf60\")) {                    Plotly.newPlot(                        \"88cd47f9-6ca1-4325-8345-c119cd5daf60\",                        [{\"customdata\":[[\"chevrolet chevelle malibu\"],[\"buick skylark 320\"],[\"plymouth satellite\"],[\"amc rebel sst\"],[\"ford torino\"],[\"ford galaxie 500\"],[\"chevrolet impala\"],[\"plymouth fury iii\"],[\"pontiac catalina\"],[\"amc ambassador dpl\"],[\"dodge challenger se\"],[\"plymouth 'cuda 340\"],[\"chevrolet monte carlo\"],[\"buick estate wagon (sw)\"],[\"toyota corona mark ii\"],[\"plymouth duster\"],[\"amc hornet\"],[\"ford maverick\"],[\"datsun pl510\"],[\"volkswagen 1131 deluxe sedan\"],[\"peugeot 504\"],[\"audi 100 ls\"],[\"saab 99e\"],[\"bmw 2002\"],[\"amc gremlin\"],[\"ford f250\"],[\"chevy c20\"],[\"dodge d200\"],[\"hi 1200d\"],[\"datsun pl510\"],[\"chevrolet vega 2300\"],[\"toyota corona\"],[\"ford pinto\"],[\"amc gremlin\"],[\"plymouth satellite custom\"],[\"chevrolet chevelle malibu\"],[\"ford torino 500\"],[\"amc matador\"],[\"chevrolet impala\"],[\"pontiac catalina brougham\"],[\"ford galaxie 500\"],[\"plymouth fury iii\"],[\"dodge monaco (sw)\"],[\"ford country squire (sw)\"],[\"pontiac safari (sw)\"],[\"amc hornet sportabout (sw)\"],[\"chevrolet vega (sw)\"],[\"pontiac firebird\"],[\"ford mustang\"],[\"mercury capri 2000\"],[\"opel 1900\"],[\"peugeot 304\"],[\"fiat 124b\"],[\"toyota corolla 1200\"],[\"datsun 1200\"],[\"volkswagen model 111\"],[\"plymouth cricket\"],[\"toyota corona hardtop\"],[\"dodge colt hardtop\"],[\"volkswagen type 3\"],[\"chevrolet vega\"],[\"ford pinto runabout\"],[\"chevrolet impala\"],[\"pontiac catalina\"],[\"plymouth fury iii\"],[\"ford galaxie 500\"],[\"amc ambassador sst\"],[\"mercury marquis\"],[\"buick lesabre custom\"],[\"oldsmobile delta 88 royale\"],[\"chrysler newport royal\"],[\"mazda rx2 coupe\"],[\"amc matador (sw)\"],[\"chevrolet chevelle concours (sw)\"],[\"ford gran torino (sw)\"],[\"plymouth satellite custom (sw)\"],[\"volvo 145e (sw)\"],[\"volkswagen 411 (sw)\"],[\"peugeot 504 (sw)\"],[\"renault 12 (sw)\"],[\"ford pinto (sw)\"],[\"datsun 510 (sw)\"],[\"toyouta corona mark ii (sw)\"],[\"dodge colt (sw)\"],[\"toyota corolla 1600 (sw)\"],[\"buick century 350\"],[\"amc matador\"],[\"chevrolet malibu\"],[\"ford gran torino\"],[\"dodge coronet custom\"],[\"mercury marquis brougham\"],[\"chevrolet caprice classic\"],[\"ford ltd\"],[\"plymouth fury gran sedan\"],[\"chrysler new yorker brougham\"],[\"buick electra 225 custom\"],[\"amc ambassador brougham\"],[\"plymouth valiant\"],[\"chevrolet nova custom\"],[\"amc hornet\"],[\"ford maverick\"],[\"plymouth duster\"],[\"volkswagen super beetle\"],[\"chevrolet impala\"],[\"ford country\"],[\"plymouth custom suburb\"],[\"oldsmobile vista cruiser\"],[\"amc gremlin\"],[\"toyota carina\"],[\"chevrolet vega\"],[\"datsun 610\"],[\"maxda rx3\"],[\"ford pinto\"],[\"mercury capri v6\"],[\"fiat 124 sport coupe\"],[\"chevrolet monte carlo s\"],[\"pontiac grand prix\"],[\"fiat 128\"],[\"opel manta\"],[\"audi 100ls\"],[\"volvo 144ea\"],[\"dodge dart custom\"],[\"saab 99le\"],[\"toyota mark ii\"],[\"oldsmobile omega\"],[\"plymouth duster\"],[\"ford maverick\"],[\"amc hornet\"],[\"chevrolet nova\"],[\"datsun b210\"],[\"ford pinto\"],[\"toyota corolla 1200\"],[\"chevrolet vega\"],[\"chevrolet chevelle malibu classic\"],[\"amc matador\"],[\"plymouth satellite sebring\"],[\"ford gran torino\"],[\"buick century luxus (sw)\"],[\"dodge coronet custom (sw)\"],[\"ford gran torino (sw)\"],[\"amc matador (sw)\"],[\"audi fox\"],[\"volkswagen dasher\"],[\"opel manta\"],[\"toyota corona\"],[\"datsun 710\"],[\"dodge colt\"],[\"fiat 128\"],[\"fiat 124 tc\"],[\"honda civic\"],[\"subaru\"],[\"fiat x1.9\"],[\"plymouth valiant custom\"],[\"chevrolet nova\"],[\"mercury monarch\"],[\"ford maverick\"],[\"pontiac catalina\"],[\"chevrolet bel air\"],[\"plymouth grand fury\"],[\"ford ltd\"],[\"buick century\"],[\"chevroelt chevelle malibu\"],[\"amc matador\"],[\"plymouth fury\"],[\"buick skyhawk\"],[\"chevrolet monza 2+2\"],[\"ford mustang ii\"],[\"toyota corolla\"],[\"ford pinto\"],[\"amc gremlin\"],[\"pontiac astro\"],[\"toyota corona\"],[\"volkswagen dasher\"],[\"datsun 710\"],[\"ford pinto\"],[\"volkswagen rabbit\"],[\"amc pacer\"],[\"audi 100ls\"],[\"peugeot 504\"],[\"volvo 244dl\"],[\"saab 99le\"],[\"honda civic cvcc\"],[\"fiat 131\"],[\"opel 1900\"],[\"capri ii\"],[\"dodge colt\"],[\"renault 12tl\"],[\"chevrolet chevelle malibu classic\"],[\"dodge coronet brougham\"],[\"amc matador\"],[\"ford gran torino\"],[\"plymouth valiant\"],[\"chevrolet nova\"],[\"ford maverick\"],[\"amc hornet\"],[\"chevrolet chevette\"],[\"chevrolet woody\"],[\"vw rabbit\"],[\"honda civic\"],[\"dodge aspen se\"],[\"ford granada ghia\"],[\"pontiac ventura sj\"],[\"amc pacer d/l\"],[\"volkswagen rabbit\"],[\"datsun b-210\"],[\"toyota corolla\"],[\"ford pinto\"],[\"volvo 245\"],[\"plymouth volare premier v8\"],[\"peugeot 504\"],[\"toyota mark ii\"],[\"mercedes-benz 280s\"],[\"cadillac seville\"],[\"chevy c10\"],[\"ford f108\"],[\"dodge d100\"],[\"honda accord cvcc\"],[\"buick opel isuzu deluxe\"],[\"renault 5 gtl\"],[\"plymouth arrow gs\"],[\"datsun f-10 hatchback\"],[\"chevrolet caprice classic\"],[\"oldsmobile cutlass supreme\"],[\"dodge monaco brougham\"],[\"mercury cougar brougham\"],[\"chevrolet concours\"],[\"buick skylark\"],[\"plymouth volare custom\"],[\"ford granada\"],[\"pontiac grand prix lj\"],[\"chevrolet monte carlo landau\"],[\"chrysler cordoba\"],[\"ford thunderbird\"],[\"volkswagen rabbit custom\"],[\"pontiac sunbird coupe\"],[\"toyota corolla liftback\"],[\"ford mustang ii 2+2\"],[\"chevrolet chevette\"],[\"dodge colt m/m\"],[\"subaru dl\"],[\"volkswagen dasher\"],[\"datsun 810\"],[\"bmw 320i\"],[\"mazda rx-4\"],[\"volkswagen rabbit custom diesel\"],[\"ford fiesta\"],[\"mazda glc deluxe\"],[\"datsun b210 gx\"],[\"honda civic cvcc\"],[\"oldsmobile cutlass salon brougham\"],[\"dodge diplomat\"],[\"mercury monarch ghia\"],[\"pontiac phoenix lj\"],[\"chevrolet malibu\"],[\"ford fairmont (auto)\"],[\"ford fairmont (man)\"],[\"plymouth volare\"],[\"amc concord\"],[\"buick century special\"],[\"mercury zephyr\"],[\"dodge aspen\"],[\"amc concord d/l\"],[\"chevrolet monte carlo landau\"],[\"buick regal sport coupe (turbo)\"],[\"ford futura\"],[\"dodge magnum xe\"],[\"chevrolet chevette\"],[\"toyota corona\"],[\"datsun 510\"],[\"dodge omni\"],[\"toyota celica gt liftback\"],[\"plymouth sapporo\"],[\"oldsmobile starfire sx\"],[\"datsun 200-sx\"],[\"audi 5000\"],[\"volvo 264gl\"],[\"saab 99gle\"],[\"peugeot 604sl\"],[\"volkswagen scirocco\"],[\"honda accord lx\"],[\"pontiac lemans v6\"],[\"mercury zephyr 6\"],[\"ford fairmont 4\"],[\"amc concord dl 6\"],[\"dodge aspen 6\"],[\"chevrolet caprice classic\"],[\"ford ltd landau\"],[\"mercury grand marquis\"],[\"dodge st. regis\"],[\"buick estate wagon (sw)\"],[\"ford country squire (sw)\"],[\"chevrolet malibu classic (sw)\"],[\"chrysler lebaron town @ country (sw)\"],[\"vw rabbit custom\"],[\"maxda glc deluxe\"],[\"dodge colt hatchback custom\"],[\"amc spirit dl\"],[\"mercedes benz 300d\"],[\"cadillac eldorado\"],[\"peugeot 504\"],[\"oldsmobile cutlass salon brougham\"],[\"plymouth horizon\"],[\"plymouth horizon tc3\"],[\"datsun 210\"],[\"fiat strada custom\"],[\"buick skylark limited\"],[\"chevrolet citation\"],[\"oldsmobile omega brougham\"],[\"pontiac phoenix\"],[\"vw rabbit\"],[\"toyota corolla tercel\"],[\"chevrolet chevette\"],[\"datsun 310\"],[\"chevrolet citation\"],[\"ford fairmont\"],[\"amc concord\"],[\"dodge aspen\"],[\"audi 4000\"],[\"toyota corona liftback\"],[\"mazda 626\"],[\"datsun 510 hatchback\"],[\"toyota corolla\"],[\"mazda glc\"],[\"dodge colt\"],[\"datsun 210\"],[\"vw rabbit c (diesel)\"],[\"vw dasher (diesel)\"],[\"audi 5000s (diesel)\"],[\"mercedes-benz 240d\"],[\"honda civic 1500 gl\"],[\"renault lecar deluxe\"],[\"subaru dl\"],[\"vokswagen rabbit\"],[\"datsun 280-zx\"],[\"mazda rx-7 gs\"],[\"triumph tr7 coupe\"],[\"ford mustang cobra\"],[\"honda accord\"],[\"plymouth reliant\"],[\"buick skylark\"],[\"dodge aries wagon (sw)\"],[\"chevrolet citation\"],[\"plymouth reliant\"],[\"toyota starlet\"],[\"plymouth champ\"],[\"honda civic 1300\"],[\"subaru\"],[\"datsun 210 mpg\"],[\"toyota tercel\"],[\"mazda glc 4\"],[\"plymouth horizon 4\"],[\"ford escort 4w\"],[\"ford escort 2h\"],[\"volkswagen jetta\"],[\"renault 18i\"],[\"honda prelude\"],[\"toyota corolla\"],[\"datsun 200sx\"],[\"mazda 626\"],[\"peugeot 505s turbo diesel\"],[\"volvo diesel\"],[\"toyota cressida\"],[\"datsun 810 maxima\"],[\"buick century\"],[\"oldsmobile cutlass ls\"],[\"ford granada gl\"],[\"chrysler lebaron salon\"],[\"chevrolet cavalier\"],[\"chevrolet cavalier wagon\"],[\"chevrolet cavalier 2-door\"],[\"pontiac j2000 se hatchback\"],[\"dodge aries se\"],[\"pontiac phoenix\"],[\"ford fairmont futura\"],[\"amc concord dl\"],[\"volkswagen rabbit l\"],[\"mazda glc custom l\"],[\"mazda glc custom\"],[\"plymouth horizon miser\"],[\"mercury lynx l\"],[\"nissan stanza xe\"],[\"honda accord\"],[\"toyota corolla\"],[\"honda civic\"],[\"honda civic (auto)\"],[\"datsun 310 gx\"],[\"buick century limited\"],[\"oldsmobile cutlass ciera (diesel)\"],[\"chrysler lebaron medallion\"],[\"ford granada l\"],[\"toyota celica gt\"],[\"dodge charger 2.2\"],[\"chevrolet camaro\"],[\"ford mustang gl\"],[\"vw pickup\"],[\"dodge rampage\"],[\"ford ranger\"],[\"chevy s-10\"]],\"hovertemplate\":\"weight=%{x}<br>mpg=%{y}<br>vehicle name=%{customdata[0]}<br>model=%{marker.color}<extra></extra>\",\"legendgroup\":\"\",\"marker\":{\"color\":[70,70,70,70,70,70,70,70,70,70,70,70,70,70,70,70,70,70,70,70,70,70,70,70,70,70,70,70,70,71,71,71,71,71,71,71,71,71,71,71,71,71,71,71,71,71,71,71,71,71,71,71,71,71,71,71,71,72,72,72,72,72,72,72,72,72,72,72,72,72,72,72,72,72,72,72,72,72,72,72,72,72,72,72,72,73,73,73,73,73,73,73,73,73,73,73,73,73,73,73,73,73,73,73,73,73,73,73,73,73,73,73,73,73,73,73,73,73,73,73,73,73,73,73,73,74,74,74,74,74,74,74,74,74,74,74,74,74,74,74,74,74,74,74,74,74,74,74,74,74,74,74,75,75,75,75,75,75,75,75,75,75,75,75,75,75,75,75,75,75,75,75,75,75,75,75,75,75,75,75,75,75,76,76,76,76,76,76,76,76,76,76,76,76,76,76,76,76,76,76,76,76,76,76,76,76,76,76,76,76,76,76,76,76,76,76,77,77,77,77,77,77,77,77,77,77,77,77,77,77,77,77,77,77,77,77,77,77,77,77,77,77,77,77,78,78,78,78,78,78,78,78,78,78,78,78,78,78,78,78,78,78,78,78,78,78,78,78,78,78,78,78,78,78,78,78,78,78,78,78,79,79,79,79,79,79,79,79,79,79,79,79,79,79,79,79,79,79,79,79,79,79,79,79,79,79,79,79,79,80,80,80,80,80,80,80,80,80,80,80,80,80,80,80,80,80,80,80,80,80,80,80,80,80,80,80,80,80,81,81,81,81,81,81,81,81,81,81,81,81,81,81,81,81,81,81,81,81,81,81,81,81,81,81,81,81,81,82,82,82,82,82,82,82,82,82,82,82,82,82,82,82,82,82,82,82,82,82,82,82,82,82,82,82,82,82,82,82],\"coloraxis\":\"coloraxis\",\"symbol\":\"circle\"},\"mode\":\"markers\",\"name\":\"\",\"orientation\":\"v\",\"showlegend\":false,\"x\":[3504,3693,3436,3433,3449,4341,4354,4312,4425,3850,3563,3609,3761,3086,2372,2833,2774,2587,2130,1835,2672,2430,2375,2234,2648,4615,4376,4382,4732,2130,2264,2228,2046,2634,3439,3329,3302,3288,4209,4464,4154,4096,4955,4746,5140,2962,2408,3282,3139,2220,2123,2074,2065,1773,1613,1834,1955,2278,2126,2254,2408,2226,4274,4385,4135,4129,3672,4633,4502,4456,4422,2330,3892,4098,4294,4077,2933,2511,2979,2189,2395,2288,2506,2164,2100,4100,3672,3988,4042,3777,4952,4464,4363,4237,4735,4951,3821,3121,3278,2945,3021,2904,1950,4997,4906,4654,4499,2789,2279,2401,2379,2124,2310,2472,2265,4082,4278,1867,2158,2582,2868,3399,2660,2807,3664,3102,2875,2901,3336,1950,2451,1836,2542,3781,3632,3613,4141,4699,4457,4638,4257,2219,1963,2300,1649,2003,2125,2108,2246,2489,2391,2000,3264,3459,3432,3158,4668,4440,4498,4657,3907,3897,3730,3785,3039,3221,3169,2171,2639,2914,2592,2702,2223,2545,2984,1937,3211,2694,2957,2945,2671,1795,2464,2220,2572,2255,2202,4215,4190,3962,4215,3233,3353,3012,3085,2035,2164,1937,1795,3651,3574,3645,3193,1825,1990,2155,2565,3150,3940,3270,2930,3820,4380,4055,3870,3755,2045,2155,1825,2300,1945,3880,4060,4140,4295,3520,3425,3630,3525,4220,4165,4325,4335,1940,2740,2265,2755,2051,2075,1985,2190,2815,2600,2720,1985,1800,1985,2070,1800,3365,3735,3570,3535,3155,2965,2720,3430,3210,3380,3070,3620,3410,3425,3445,3205,4080,2155,2560,2300,2230,2515,2745,2855,2405,2830,3140,2795,3410,1990,2135,3245,2990,2890,3265,3360,3840,3725,3955,3830,4360,4054,3605,3940,1925,1975,1915,2670,3530,3900,3190,3420,2200,2150,2020,2130,2670,2595,2700,2556,2144,1968,2120,2019,2678,2870,3003,3381,2188,2711,2542,2434,2265,2110,2800,2110,2085,2335,2950,3250,1850,1835,2145,1845,2910,2420,2500,2905,2290,2490,2635,2620,2725,2385,1755,1875,1760,2065,1975,2050,1985,2215,2045,2380,2190,2320,2210,2350,2615,2635,3230,3160,2900,2930,3415,3725,3060,3465,2605,2640,2395,2575,2525,2735,2865,3035,1980,2025,1970,2125,2125,2160,2205,2245,1965,1965,1995,2945,3015,2585,2835,2665,2370,2950,2790,2130,2295,2625,2720],\"xaxis\":\"x\",\"y\":[18.0,15.0,18.0,16.0,17.0,15.0,14.0,14.0,14.0,15.0,15.0,14.0,15.0,14.0,24.0,22.0,18.0,21.0,27.0,26.0,25.0,24.0,25.0,26.0,21.0,10.0,10.0,11.0,9.0,27.0,28.0,25.0,25.0,19.0,16.0,17.0,19.0,18.0,14.0,14.0,14.0,14.0,12.0,13.0,13.0,18.0,22.0,19.0,18.0,23.0,28.0,30.0,30.0,31.0,35.0,27.0,26.0,24.0,25.0,23.0,20.0,21.0,13.0,14.0,15.0,14.0,17.0,11.0,13.0,12.0,13.0,19.0,15.0,13.0,13.0,14.0,18.0,22.0,21.0,26.0,22.0,28.0,23.0,28.0,27.0,13.0,14.0,13.0,14.0,15.0,12.0,13.0,13.0,14.0,13.0,12.0,13.0,18.0,16.0,18.0,18.0,23.0,26.0,11.0,12.0,13.0,12.0,18.0,20.0,21.0,22.0,18.0,19.0,21.0,26.0,15.0,16.0,29.0,24.0,20.0,19.0,15.0,24.0,20.0,11.0,20.0,21.0,19.0,15.0,31.0,26.0,32.0,25.0,16.0,16.0,18.0,16.0,13.0,14.0,14.0,14.0,29.0,26.0,26.0,31.0,32.0,28.0,24.0,26.0,24.0,26.0,31.0,19.0,18.0,15.0,15.0,16.0,15.0,16.0,14.0,17.0,16.0,15.0,18.0,21.0,20.0,13.0,29.0,23.0,20.0,23.0,24.0,25.0,24.0,18.0,29.0,19.0,23.0,23.0,22.0,25.0,33.0,28.0,25.0,25.0,26.0,27.0,17.5,16.0,15.5,14.5,22.0,22.0,24.0,22.5,29.0,24.5,29.0,33.0,20.0,18.0,18.5,17.5,29.5,32.0,28.0,26.5,20.0,13.0,19.0,19.0,16.5,16.5,13.0,13.0,13.0,31.5,30.0,36.0,25.5,33.5,17.5,17.0,15.5,15.0,17.5,20.5,19.0,18.5,16.0,15.5,15.5,16.0,29.0,24.5,26.0,25.5,30.5,33.5,30.0,30.5,22.0,21.5,21.5,43.1,36.1,32.8,39.4,36.1,19.9,19.4,20.2,19.2,20.5,20.2,25.1,20.5,19.4,20.6,20.8,18.6,18.1,19.2,17.7,18.1,17.5,30.0,27.5,27.2,30.9,21.1,23.2,23.8,23.9,20.3,17.0,21.6,16.2,31.5,29.5,21.5,19.8,22.3,20.2,20.6,17.0,17.6,16.5,18.2,16.9,15.5,19.2,18.5,31.9,34.1,35.7,27.4,25.4,23.0,27.2,23.9,34.2,34.5,31.8,37.3,28.4,28.8,26.8,33.5,41.5,38.1,32.1,37.2,28.0,26.4,24.3,19.1,34.3,29.8,31.3,37.0,32.2,46.6,27.9,40.8,44.3,43.4,36.4,30.0,44.6,40.9,33.8,29.8,32.7,23.7,35.0,23.6,32.4,27.2,26.6,25.8,23.5,30.0,39.1,39.0,35.1,32.3,37.0,37.7,34.1,34.7,34.4,29.9,33.0,34.5,33.7,32.4,32.9,31.6,28.1,30.7,25.4,24.2,22.4,26.6,20.2,17.6,28.0,27.0,34.0,31.0,29.0,27.0,24.0,23.0,36.0,37.0,31.0,38.0,36.0,36.0,36.0,34.0,38.0,32.0,38.0,25.0,38.0,26.0,22.0,32.0,36.0,27.0,27.0,44.0,32.0,28.0,31.0],\"yaxis\":\"y\",\"type\":\"scatter\"}],                        {\"template\":{\"data\":{\"bar\":[{\"error_x\":{\"color\":\"#2a3f5f\"},\"error_y\":{\"color\":\"#2a3f5f\"},\"marker\":{\"line\":{\"color\":\"#E5ECF6\",\"width\":0.5},\"pattern\":{\"fillmode\":\"overlay\",\"size\":10,\"solidity\":0.2}},\"type\":\"bar\"}],\"barpolar\":[{\"marker\":{\"line\":{\"color\":\"#E5ECF6\",\"width\":0.5},\"pattern\":{\"fillmode\":\"overlay\",\"size\":10,\"solidity\":0.2}},\"type\":\"barpolar\"}],\"carpet\":[{\"aaxis\":{\"endlinecolor\":\"#2a3f5f\",\"gridcolor\":\"white\",\"linecolor\":\"white\",\"minorgridcolor\":\"white\",\"startlinecolor\":\"#2a3f5f\"},\"baxis\":{\"endlinecolor\":\"#2a3f5f\",\"gridcolor\":\"white\",\"linecolor\":\"white\",\"minorgridcolor\":\"white\",\"startlinecolor\":\"#2a3f5f\"},\"type\":\"carpet\"}],\"choropleth\":[{\"colorbar\":{\"outlinewidth\":0,\"ticks\":\"\"},\"type\":\"choropleth\"}],\"contour\":[{\"colorbar\":{\"outlinewidth\":0,\"ticks\":\"\"},\"colorscale\":[[0.0,\"#0d0887\"],[0.1111111111111111,\"#46039f\"],[0.2222222222222222,\"#7201a8\"],[0.3333333333333333,\"#9c179e\"],[0.4444444444444444,\"#bd3786\"],[0.5555555555555556,\"#d8576b\"],[0.6666666666666666,\"#ed7953\"],[0.7777777777777778,\"#fb9f3a\"],[0.8888888888888888,\"#fdca26\"],[1.0,\"#f0f921\"]],\"type\":\"contour\"}],\"contourcarpet\":[{\"colorbar\":{\"outlinewidth\":0,\"ticks\":\"\"},\"type\":\"contourcarpet\"}],\"heatmap\":[{\"colorbar\":{\"outlinewidth\":0,\"ticks\":\"\"},\"colorscale\":[[0.0,\"#0d0887\"],[0.1111111111111111,\"#46039f\"],[0.2222222222222222,\"#7201a8\"],[0.3333333333333333,\"#9c179e\"],[0.4444444444444444,\"#bd3786\"],[0.5555555555555556,\"#d8576b\"],[0.6666666666666666,\"#ed7953\"],[0.7777777777777778,\"#fb9f3a\"],[0.8888888888888888,\"#fdca26\"],[1.0,\"#f0f921\"]],\"type\":\"heatmap\"}],\"heatmapgl\":[{\"colorbar\":{\"outlinewidth\":0,\"ticks\":\"\"},\"colorscale\":[[0.0,\"#0d0887\"],[0.1111111111111111,\"#46039f\"],[0.2222222222222222,\"#7201a8\"],[0.3333333333333333,\"#9c179e\"],[0.4444444444444444,\"#bd3786\"],[0.5555555555555556,\"#d8576b\"],[0.6666666666666666,\"#ed7953\"],[0.7777777777777778,\"#fb9f3a\"],[0.8888888888888888,\"#fdca26\"],[1.0,\"#f0f921\"]],\"type\":\"heatmapgl\"}],\"histogram\":[{\"marker\":{\"pattern\":{\"fillmode\":\"overlay\",\"size\":10,\"solidity\":0.2}},\"type\":\"histogram\"}],\"histogram2d\":[{\"colorbar\":{\"outlinewidth\":0,\"ticks\":\"\"},\"colorscale\":[[0.0,\"#0d0887\"],[0.1111111111111111,\"#46039f\"],[0.2222222222222222,\"#7201a8\"],[0.3333333333333333,\"#9c179e\"],[0.4444444444444444,\"#bd3786\"],[0.5555555555555556,\"#d8576b\"],[0.6666666666666666,\"#ed7953\"],[0.7777777777777778,\"#fb9f3a\"],[0.8888888888888888,\"#fdca26\"],[1.0,\"#f0f921\"]],\"type\":\"histogram2d\"}],\"histogram2dcontour\":[{\"colorbar\":{\"outlinewidth\":0,\"ticks\":\"\"},\"colorscale\":[[0.0,\"#0d0887\"],[0.1111111111111111,\"#46039f\"],[0.2222222222222222,\"#7201a8\"],[0.3333333333333333,\"#9c179e\"],[0.4444444444444444,\"#bd3786\"],[0.5555555555555556,\"#d8576b\"],[0.6666666666666666,\"#ed7953\"],[0.7777777777777778,\"#fb9f3a\"],[0.8888888888888888,\"#fdca26\"],[1.0,\"#f0f921\"]],\"type\":\"histogram2dcontour\"}],\"mesh3d\":[{\"colorbar\":{\"outlinewidth\":0,\"ticks\":\"\"},\"type\":\"mesh3d\"}],\"parcoords\":[{\"line\":{\"colorbar\":{\"outlinewidth\":0,\"ticks\":\"\"}},\"type\":\"parcoords\"}],\"pie\":[{\"automargin\":true,\"type\":\"pie\"}],\"scatter\":[{\"marker\":{\"colorbar\":{\"outlinewidth\":0,\"ticks\":\"\"}},\"type\":\"scatter\"}],\"scatter3d\":[{\"line\":{\"colorbar\":{\"outlinewidth\":0,\"ticks\":\"\"}},\"marker\":{\"colorbar\":{\"outlinewidth\":0,\"ticks\":\"\"}},\"type\":\"scatter3d\"}],\"scattercarpet\":[{\"marker\":{\"colorbar\":{\"outlinewidth\":0,\"ticks\":\"\"}},\"type\":\"scattercarpet\"}],\"scattergeo\":[{\"marker\":{\"colorbar\":{\"outlinewidth\":0,\"ticks\":\"\"}},\"type\":\"scattergeo\"}],\"scattergl\":[{\"marker\":{\"colorbar\":{\"outlinewidth\":0,\"ticks\":\"\"}},\"type\":\"scattergl\"}],\"scattermapbox\":[{\"marker\":{\"colorbar\":{\"outlinewidth\":0,\"ticks\":\"\"}},\"type\":\"scattermapbox\"}],\"scatterpolar\":[{\"marker\":{\"colorbar\":{\"outlinewidth\":0,\"ticks\":\"\"}},\"type\":\"scatterpolar\"}],\"scatterpolargl\":[{\"marker\":{\"colorbar\":{\"outlinewidth\":0,\"ticks\":\"\"}},\"type\":\"scatterpolargl\"}],\"scatterternary\":[{\"marker\":{\"colorbar\":{\"outlinewidth\":0,\"ticks\":\"\"}},\"type\":\"scatterternary\"}],\"surface\":[{\"colorbar\":{\"outlinewidth\":0,\"ticks\":\"\"},\"colorscale\":[[0.0,\"#0d0887\"],[0.1111111111111111,\"#46039f\"],[0.2222222222222222,\"#7201a8\"],[0.3333333333333333,\"#9c179e\"],[0.4444444444444444,\"#bd3786\"],[0.5555555555555556,\"#d8576b\"],[0.6666666666666666,\"#ed7953\"],[0.7777777777777778,\"#fb9f3a\"],[0.8888888888888888,\"#fdca26\"],[1.0,\"#f0f921\"]],\"type\":\"surface\"}],\"table\":[{\"cells\":{\"fill\":{\"color\":\"#EBF0F8\"},\"line\":{\"color\":\"white\"}},\"header\":{\"fill\":{\"color\":\"#C8D4E3\"},\"line\":{\"color\":\"white\"}},\"type\":\"table\"}]},\"layout\":{\"annotationdefaults\":{\"arrowcolor\":\"#2a3f5f\",\"arrowhead\":0,\"arrowwidth\":1},\"autotypenumbers\":\"strict\",\"coloraxis\":{\"colorbar\":{\"outlinewidth\":0,\"ticks\":\"\"}},\"colorscale\":{\"diverging\":[[0,\"#8e0152\"],[0.1,\"#c51b7d\"],[0.2,\"#de77ae\"],[0.3,\"#f1b6da\"],[0.4,\"#fde0ef\"],[0.5,\"#f7f7f7\"],[0.6,\"#e6f5d0\"],[0.7,\"#b8e186\"],[0.8,\"#7fbc41\"],[0.9,\"#4d9221\"],[1,\"#276419\"]],\"sequential\":[[0.0,\"#0d0887\"],[0.1111111111111111,\"#46039f\"],[0.2222222222222222,\"#7201a8\"],[0.3333333333333333,\"#9c179e\"],[0.4444444444444444,\"#bd3786\"],[0.5555555555555556,\"#d8576b\"],[0.6666666666666666,\"#ed7953\"],[0.7777777777777778,\"#fb9f3a\"],[0.8888888888888888,\"#fdca26\"],[1.0,\"#f0f921\"]],\"sequentialminus\":[[0.0,\"#0d0887\"],[0.1111111111111111,\"#46039f\"],[0.2222222222222222,\"#7201a8\"],[0.3333333333333333,\"#9c179e\"],[0.4444444444444444,\"#bd3786\"],[0.5555555555555556,\"#d8576b\"],[0.6666666666666666,\"#ed7953\"],[0.7777777777777778,\"#fb9f3a\"],[0.8888888888888888,\"#fdca26\"],[1.0,\"#f0f921\"]]},\"colorway\":[\"#636efa\",\"#EF553B\",\"#00cc96\",\"#ab63fa\",\"#FFA15A\",\"#19d3f3\",\"#FF6692\",\"#B6E880\",\"#FF97FF\",\"#FECB52\"],\"font\":{\"color\":\"#2a3f5f\"},\"geo\":{\"bgcolor\":\"white\",\"lakecolor\":\"white\",\"landcolor\":\"#E5ECF6\",\"showlakes\":true,\"showland\":true,\"subunitcolor\":\"white\"},\"hoverlabel\":{\"align\":\"left\"},\"hovermode\":\"closest\",\"mapbox\":{\"style\":\"light\"},\"paper_bgcolor\":\"white\",\"plot_bgcolor\":\"#E5ECF6\",\"polar\":{\"angularaxis\":{\"gridcolor\":\"white\",\"linecolor\":\"white\",\"ticks\":\"\"},\"bgcolor\":\"#E5ECF6\",\"radialaxis\":{\"gridcolor\":\"white\",\"linecolor\":\"white\",\"ticks\":\"\"}},\"scene\":{\"xaxis\":{\"backgroundcolor\":\"#E5ECF6\",\"gridcolor\":\"white\",\"gridwidth\":2,\"linecolor\":\"white\",\"showbackground\":true,\"ticks\":\"\",\"zerolinecolor\":\"white\"},\"yaxis\":{\"backgroundcolor\":\"#E5ECF6\",\"gridcolor\":\"white\",\"gridwidth\":2,\"linecolor\":\"white\",\"showbackground\":true,\"ticks\":\"\",\"zerolinecolor\":\"white\"},\"zaxis\":{\"backgroundcolor\":\"#E5ECF6\",\"gridcolor\":\"white\",\"gridwidth\":2,\"linecolor\":\"white\",\"showbackground\":true,\"ticks\":\"\",\"zerolinecolor\":\"white\"}},\"shapedefaults\":{\"line\":{\"color\":\"#2a3f5f\"}},\"ternary\":{\"aaxis\":{\"gridcolor\":\"white\",\"linecolor\":\"white\",\"ticks\":\"\"},\"baxis\":{\"gridcolor\":\"white\",\"linecolor\":\"white\",\"ticks\":\"\"},\"bgcolor\":\"#E5ECF6\",\"caxis\":{\"gridcolor\":\"white\",\"linecolor\":\"white\",\"ticks\":\"\"}},\"title\":{\"x\":0.05},\"xaxis\":{\"automargin\":true,\"gridcolor\":\"white\",\"linecolor\":\"white\",\"ticks\":\"\",\"title\":{\"standoff\":15},\"zerolinecolor\":\"white\",\"zerolinewidth\":2},\"yaxis\":{\"automargin\":true,\"gridcolor\":\"white\",\"linecolor\":\"white\",\"ticks\":\"\",\"title\":{\"standoff\":15},\"zerolinecolor\":\"white\",\"zerolinewidth\":2}}},\"xaxis\":{\"anchor\":\"y\",\"domain\":[0.0,1.0],\"title\":{\"text\":\"weight\"}},\"yaxis\":{\"anchor\":\"x\",\"domain\":[0.0,1.0],\"title\":{\"text\":\"mpg\"}},\"coloraxis\":{\"colorbar\":{\"title\":{\"text\":\"model\"}},\"colorscale\":[[0.0,\"#0d0887\"],[0.1111111111111111,\"#46039f\"],[0.2222222222222222,\"#7201a8\"],[0.3333333333333333,\"#9c179e\"],[0.4444444444444444,\"#bd3786\"],[0.5555555555555556,\"#d8576b\"],[0.6666666666666666,\"#ed7953\"],[0.7777777777777778,\"#fb9f3a\"],[0.8888888888888888,\"#fdca26\"],[1.0,\"#f0f921\"]]},\"legend\":{\"tracegroupgap\":0},\"title\":{\"text\":\"MPG v. Weight by Model Year\"}},                        {\"responsive\": true}                    ).then(function(){\n",
       "                            \n",
       "var gd = document.getElementById('88cd47f9-6ca1-4325-8345-c119cd5daf60');\n",
       "var x = new MutationObserver(function (mutations, observer) {{\n",
       "        var display = window.getComputedStyle(gd).display;\n",
       "        if (!display || display === 'none') {{\n",
       "            console.log([gd, 'removed!']);\n",
       "            Plotly.purge(gd);\n",
       "            observer.disconnect();\n",
       "        }}\n",
       "}});\n",
       "\n",
       "// Listen for the removal of the full notebook cells\n",
       "var notebookContainer = gd.closest('#notebook-container');\n",
       "if (notebookContainer) {{\n",
       "    x.observe(notebookContainer, {childList: true});\n",
       "}}\n",
       "\n",
       "// Listen for the clearing of the current output cell\n",
       "var outputEl = gd.closest('.output');\n",
       "if (outputEl) {{\n",
       "    x.observe(outputEl, {childList: true});\n",
       "}}\n",
       "\n",
       "                        })                };                });            </script>        </div>"
      ]
     },
     "metadata": {},
     "output_type": "display_data"
    }
   ],
   "source": [
    "#This figure shows the weight to MPG comparison by vehicle\n",
    "fig = px.scatter(df3,title='MPG v. Weight by Model Year', x='weight', y='mpg', color='model', hover_data=['vehicle name'])\n",
    "fig.show()"
   ]
  },
  {
   "cell_type": "code",
   "execution_count": 113,
   "id": "5ddd2988",
   "metadata": {},
   "outputs": [
    {
     "data": {
      "application/vnd.plotly.v1+json": {
       "config": {
        "plotlyServerURL": "https://plot.ly"
       },
       "data": [
        {
         "customdata": [
          [
           "chevrolet chevelle malibu"
          ],
          [
           "buick skylark 320"
          ],
          [
           "plymouth satellite"
          ],
          [
           "amc rebel sst"
          ],
          [
           "ford torino"
          ],
          [
           "ford galaxie 500"
          ],
          [
           "chevrolet impala"
          ],
          [
           "plymouth fury iii"
          ],
          [
           "pontiac catalina"
          ],
          [
           "amc ambassador dpl"
          ],
          [
           "dodge challenger se"
          ],
          [
           "plymouth 'cuda 340"
          ],
          [
           "chevrolet monte carlo"
          ],
          [
           "buick estate wagon (sw)"
          ],
          [
           "toyota corona mark ii"
          ],
          [
           "plymouth duster"
          ],
          [
           "amc hornet"
          ],
          [
           "ford maverick"
          ],
          [
           "datsun pl510"
          ],
          [
           "volkswagen 1131 deluxe sedan"
          ],
          [
           "peugeot 504"
          ],
          [
           "audi 100 ls"
          ],
          [
           "saab 99e"
          ],
          [
           "bmw 2002"
          ],
          [
           "amc gremlin"
          ],
          [
           "ford f250"
          ],
          [
           "chevy c20"
          ],
          [
           "dodge d200"
          ],
          [
           "hi 1200d"
          ],
          [
           "datsun pl510"
          ],
          [
           "chevrolet vega 2300"
          ],
          [
           "toyota corona"
          ],
          [
           "ford pinto"
          ],
          [
           "amc gremlin"
          ],
          [
           "plymouth satellite custom"
          ],
          [
           "chevrolet chevelle malibu"
          ],
          [
           "ford torino 500"
          ],
          [
           "amc matador"
          ],
          [
           "chevrolet impala"
          ],
          [
           "pontiac catalina brougham"
          ],
          [
           "ford galaxie 500"
          ],
          [
           "plymouth fury iii"
          ],
          [
           "dodge monaco (sw)"
          ],
          [
           "ford country squire (sw)"
          ],
          [
           "pontiac safari (sw)"
          ],
          [
           "amc hornet sportabout (sw)"
          ],
          [
           "chevrolet vega (sw)"
          ],
          [
           "pontiac firebird"
          ],
          [
           "ford mustang"
          ],
          [
           "mercury capri 2000"
          ],
          [
           "opel 1900"
          ],
          [
           "peugeot 304"
          ],
          [
           "fiat 124b"
          ],
          [
           "toyota corolla 1200"
          ],
          [
           "datsun 1200"
          ],
          [
           "volkswagen model 111"
          ],
          [
           "plymouth cricket"
          ],
          [
           "toyota corona hardtop"
          ],
          [
           "dodge colt hardtop"
          ],
          [
           "volkswagen type 3"
          ],
          [
           "chevrolet vega"
          ],
          [
           "ford pinto runabout"
          ],
          [
           "chevrolet impala"
          ],
          [
           "pontiac catalina"
          ],
          [
           "plymouth fury iii"
          ],
          [
           "ford galaxie 500"
          ],
          [
           "amc ambassador sst"
          ],
          [
           "mercury marquis"
          ],
          [
           "buick lesabre custom"
          ],
          [
           "oldsmobile delta 88 royale"
          ],
          [
           "chrysler newport royal"
          ],
          [
           "mazda rx2 coupe"
          ],
          [
           "amc matador (sw)"
          ],
          [
           "chevrolet chevelle concours (sw)"
          ],
          [
           "ford gran torino (sw)"
          ],
          [
           "plymouth satellite custom (sw)"
          ],
          [
           "volvo 145e (sw)"
          ],
          [
           "volkswagen 411 (sw)"
          ],
          [
           "peugeot 504 (sw)"
          ],
          [
           "renault 12 (sw)"
          ],
          [
           "ford pinto (sw)"
          ],
          [
           "datsun 510 (sw)"
          ],
          [
           "toyouta corona mark ii (sw)"
          ],
          [
           "dodge colt (sw)"
          ],
          [
           "toyota corolla 1600 (sw)"
          ],
          [
           "buick century 350"
          ],
          [
           "amc matador"
          ],
          [
           "chevrolet malibu"
          ],
          [
           "ford gran torino"
          ],
          [
           "dodge coronet custom"
          ],
          [
           "mercury marquis brougham"
          ],
          [
           "chevrolet caprice classic"
          ],
          [
           "ford ltd"
          ],
          [
           "plymouth fury gran sedan"
          ],
          [
           "chrysler new yorker brougham"
          ],
          [
           "buick electra 225 custom"
          ],
          [
           "amc ambassador brougham"
          ],
          [
           "plymouth valiant"
          ],
          [
           "chevrolet nova custom"
          ],
          [
           "amc hornet"
          ],
          [
           "ford maverick"
          ],
          [
           "plymouth duster"
          ],
          [
           "volkswagen super beetle"
          ],
          [
           "chevrolet impala"
          ],
          [
           "ford country"
          ],
          [
           "plymouth custom suburb"
          ],
          [
           "oldsmobile vista cruiser"
          ],
          [
           "amc gremlin"
          ],
          [
           "toyota carina"
          ],
          [
           "chevrolet vega"
          ],
          [
           "datsun 610"
          ],
          [
           "maxda rx3"
          ],
          [
           "ford pinto"
          ],
          [
           "mercury capri v6"
          ],
          [
           "fiat 124 sport coupe"
          ],
          [
           "chevrolet monte carlo s"
          ],
          [
           "pontiac grand prix"
          ],
          [
           "fiat 128"
          ],
          [
           "opel manta"
          ],
          [
           "audi 100ls"
          ],
          [
           "volvo 144ea"
          ],
          [
           "dodge dart custom"
          ],
          [
           "saab 99le"
          ],
          [
           "toyota mark ii"
          ],
          [
           "oldsmobile omega"
          ],
          [
           "plymouth duster"
          ],
          [
           "ford maverick"
          ],
          [
           "amc hornet"
          ],
          [
           "chevrolet nova"
          ],
          [
           "datsun b210"
          ],
          [
           "ford pinto"
          ],
          [
           "toyota corolla 1200"
          ],
          [
           "chevrolet vega"
          ],
          [
           "chevrolet chevelle malibu classic"
          ],
          [
           "amc matador"
          ],
          [
           "plymouth satellite sebring"
          ],
          [
           "ford gran torino"
          ],
          [
           "buick century luxus (sw)"
          ],
          [
           "dodge coronet custom (sw)"
          ],
          [
           "ford gran torino (sw)"
          ],
          [
           "amc matador (sw)"
          ],
          [
           "audi fox"
          ],
          [
           "volkswagen dasher"
          ],
          [
           "opel manta"
          ],
          [
           "toyota corona"
          ],
          [
           "datsun 710"
          ],
          [
           "dodge colt"
          ],
          [
           "fiat 128"
          ],
          [
           "fiat 124 tc"
          ],
          [
           "honda civic"
          ],
          [
           "subaru"
          ],
          [
           "fiat x1.9"
          ],
          [
           "plymouth valiant custom"
          ],
          [
           "chevrolet nova"
          ],
          [
           "mercury monarch"
          ],
          [
           "ford maverick"
          ],
          [
           "pontiac catalina"
          ],
          [
           "chevrolet bel air"
          ],
          [
           "plymouth grand fury"
          ],
          [
           "ford ltd"
          ],
          [
           "buick century"
          ],
          [
           "chevroelt chevelle malibu"
          ],
          [
           "amc matador"
          ],
          [
           "plymouth fury"
          ],
          [
           "buick skyhawk"
          ],
          [
           "chevrolet monza 2+2"
          ],
          [
           "ford mustang ii"
          ],
          [
           "toyota corolla"
          ],
          [
           "ford pinto"
          ],
          [
           "amc gremlin"
          ],
          [
           "pontiac astro"
          ],
          [
           "toyota corona"
          ],
          [
           "volkswagen dasher"
          ],
          [
           "datsun 710"
          ],
          [
           "ford pinto"
          ],
          [
           "volkswagen rabbit"
          ],
          [
           "amc pacer"
          ],
          [
           "audi 100ls"
          ],
          [
           "peugeot 504"
          ],
          [
           "volvo 244dl"
          ],
          [
           "saab 99le"
          ],
          [
           "honda civic cvcc"
          ],
          [
           "fiat 131"
          ],
          [
           "opel 1900"
          ],
          [
           "capri ii"
          ],
          [
           "dodge colt"
          ],
          [
           "renault 12tl"
          ],
          [
           "chevrolet chevelle malibu classic"
          ],
          [
           "dodge coronet brougham"
          ],
          [
           "amc matador"
          ],
          [
           "ford gran torino"
          ],
          [
           "plymouth valiant"
          ],
          [
           "chevrolet nova"
          ],
          [
           "ford maverick"
          ],
          [
           "amc hornet"
          ],
          [
           "chevrolet chevette"
          ],
          [
           "chevrolet woody"
          ],
          [
           "vw rabbit"
          ],
          [
           "honda civic"
          ],
          [
           "dodge aspen se"
          ],
          [
           "ford granada ghia"
          ],
          [
           "pontiac ventura sj"
          ],
          [
           "amc pacer d/l"
          ],
          [
           "volkswagen rabbit"
          ],
          [
           "datsun b-210"
          ],
          [
           "toyota corolla"
          ],
          [
           "ford pinto"
          ],
          [
           "volvo 245"
          ],
          [
           "plymouth volare premier v8"
          ],
          [
           "peugeot 504"
          ],
          [
           "toyota mark ii"
          ],
          [
           "mercedes-benz 280s"
          ],
          [
           "cadillac seville"
          ],
          [
           "chevy c10"
          ],
          [
           "ford f108"
          ],
          [
           "dodge d100"
          ],
          [
           "honda accord cvcc"
          ],
          [
           "buick opel isuzu deluxe"
          ],
          [
           "renault 5 gtl"
          ],
          [
           "plymouth arrow gs"
          ],
          [
           "datsun f-10 hatchback"
          ],
          [
           "chevrolet caprice classic"
          ],
          [
           "oldsmobile cutlass supreme"
          ],
          [
           "dodge monaco brougham"
          ],
          [
           "mercury cougar brougham"
          ],
          [
           "chevrolet concours"
          ],
          [
           "buick skylark"
          ],
          [
           "plymouth volare custom"
          ],
          [
           "ford granada"
          ],
          [
           "pontiac grand prix lj"
          ],
          [
           "chevrolet monte carlo landau"
          ],
          [
           "chrysler cordoba"
          ],
          [
           "ford thunderbird"
          ],
          [
           "volkswagen rabbit custom"
          ],
          [
           "pontiac sunbird coupe"
          ],
          [
           "toyota corolla liftback"
          ],
          [
           "ford mustang ii 2+2"
          ],
          [
           "chevrolet chevette"
          ],
          [
           "dodge colt m/m"
          ],
          [
           "subaru dl"
          ],
          [
           "volkswagen dasher"
          ],
          [
           "datsun 810"
          ],
          [
           "bmw 320i"
          ],
          [
           "mazda rx-4"
          ],
          [
           "volkswagen rabbit custom diesel"
          ],
          [
           "ford fiesta"
          ],
          [
           "mazda glc deluxe"
          ],
          [
           "datsun b210 gx"
          ],
          [
           "honda civic cvcc"
          ],
          [
           "oldsmobile cutlass salon brougham"
          ],
          [
           "dodge diplomat"
          ],
          [
           "mercury monarch ghia"
          ],
          [
           "pontiac phoenix lj"
          ],
          [
           "chevrolet malibu"
          ],
          [
           "ford fairmont (auto)"
          ],
          [
           "ford fairmont (man)"
          ],
          [
           "plymouth volare"
          ],
          [
           "amc concord"
          ],
          [
           "buick century special"
          ],
          [
           "mercury zephyr"
          ],
          [
           "dodge aspen"
          ],
          [
           "amc concord d/l"
          ],
          [
           "chevrolet monte carlo landau"
          ],
          [
           "buick regal sport coupe (turbo)"
          ],
          [
           "ford futura"
          ],
          [
           "dodge magnum xe"
          ],
          [
           "chevrolet chevette"
          ],
          [
           "toyota corona"
          ],
          [
           "datsun 510"
          ],
          [
           "dodge omni"
          ],
          [
           "toyota celica gt liftback"
          ],
          [
           "plymouth sapporo"
          ],
          [
           "oldsmobile starfire sx"
          ],
          [
           "datsun 200-sx"
          ],
          [
           "audi 5000"
          ],
          [
           "volvo 264gl"
          ],
          [
           "saab 99gle"
          ],
          [
           "peugeot 604sl"
          ],
          [
           "volkswagen scirocco"
          ],
          [
           "honda accord lx"
          ],
          [
           "pontiac lemans v6"
          ],
          [
           "mercury zephyr 6"
          ],
          [
           "ford fairmont 4"
          ],
          [
           "amc concord dl 6"
          ],
          [
           "dodge aspen 6"
          ],
          [
           "chevrolet caprice classic"
          ],
          [
           "ford ltd landau"
          ],
          [
           "mercury grand marquis"
          ],
          [
           "dodge st. regis"
          ],
          [
           "buick estate wagon (sw)"
          ],
          [
           "ford country squire (sw)"
          ],
          [
           "chevrolet malibu classic (sw)"
          ],
          [
           "chrysler lebaron town @ country (sw)"
          ],
          [
           "vw rabbit custom"
          ],
          [
           "maxda glc deluxe"
          ],
          [
           "dodge colt hatchback custom"
          ],
          [
           "amc spirit dl"
          ],
          [
           "mercedes benz 300d"
          ],
          [
           "cadillac eldorado"
          ],
          [
           "peugeot 504"
          ],
          [
           "oldsmobile cutlass salon brougham"
          ],
          [
           "plymouth horizon"
          ],
          [
           "plymouth horizon tc3"
          ],
          [
           "datsun 210"
          ],
          [
           "fiat strada custom"
          ],
          [
           "buick skylark limited"
          ],
          [
           "chevrolet citation"
          ],
          [
           "oldsmobile omega brougham"
          ],
          [
           "pontiac phoenix"
          ],
          [
           "vw rabbit"
          ],
          [
           "toyota corolla tercel"
          ],
          [
           "chevrolet chevette"
          ],
          [
           "datsun 310"
          ],
          [
           "chevrolet citation"
          ],
          [
           "ford fairmont"
          ],
          [
           "amc concord"
          ],
          [
           "dodge aspen"
          ],
          [
           "audi 4000"
          ],
          [
           "toyota corona liftback"
          ],
          [
           "mazda 626"
          ],
          [
           "datsun 510 hatchback"
          ],
          [
           "toyota corolla"
          ],
          [
           "mazda glc"
          ],
          [
           "dodge colt"
          ],
          [
           "datsun 210"
          ],
          [
           "vw rabbit c (diesel)"
          ],
          [
           "vw dasher (diesel)"
          ],
          [
           "audi 5000s (diesel)"
          ],
          [
           "mercedes-benz 240d"
          ],
          [
           "honda civic 1500 gl"
          ],
          [
           "renault lecar deluxe"
          ],
          [
           "subaru dl"
          ],
          [
           "vokswagen rabbit"
          ],
          [
           "datsun 280-zx"
          ],
          [
           "mazda rx-7 gs"
          ],
          [
           "triumph tr7 coupe"
          ],
          [
           "ford mustang cobra"
          ],
          [
           "honda accord"
          ],
          [
           "plymouth reliant"
          ],
          [
           "buick skylark"
          ],
          [
           "dodge aries wagon (sw)"
          ],
          [
           "chevrolet citation"
          ],
          [
           "plymouth reliant"
          ],
          [
           "toyota starlet"
          ],
          [
           "plymouth champ"
          ],
          [
           "honda civic 1300"
          ],
          [
           "subaru"
          ],
          [
           "datsun 210 mpg"
          ],
          [
           "toyota tercel"
          ],
          [
           "mazda glc 4"
          ],
          [
           "plymouth horizon 4"
          ],
          [
           "ford escort 4w"
          ],
          [
           "ford escort 2h"
          ],
          [
           "volkswagen jetta"
          ],
          [
           "renault 18i"
          ],
          [
           "honda prelude"
          ],
          [
           "toyota corolla"
          ],
          [
           "datsun 200sx"
          ],
          [
           "mazda 626"
          ],
          [
           "peugeot 505s turbo diesel"
          ],
          [
           "volvo diesel"
          ],
          [
           "toyota cressida"
          ],
          [
           "datsun 810 maxima"
          ],
          [
           "buick century"
          ],
          [
           "oldsmobile cutlass ls"
          ],
          [
           "ford granada gl"
          ],
          [
           "chrysler lebaron salon"
          ],
          [
           "chevrolet cavalier"
          ],
          [
           "chevrolet cavalier wagon"
          ],
          [
           "chevrolet cavalier 2-door"
          ],
          [
           "pontiac j2000 se hatchback"
          ],
          [
           "dodge aries se"
          ],
          [
           "pontiac phoenix"
          ],
          [
           "ford fairmont futura"
          ],
          [
           "amc concord dl"
          ],
          [
           "volkswagen rabbit l"
          ],
          [
           "mazda glc custom l"
          ],
          [
           "mazda glc custom"
          ],
          [
           "plymouth horizon miser"
          ],
          [
           "mercury lynx l"
          ],
          [
           "nissan stanza xe"
          ],
          [
           "honda accord"
          ],
          [
           "toyota corolla"
          ],
          [
           "honda civic"
          ],
          [
           "honda civic (auto)"
          ],
          [
           "datsun 310 gx"
          ],
          [
           "buick century limited"
          ],
          [
           "oldsmobile cutlass ciera (diesel)"
          ],
          [
           "chrysler lebaron medallion"
          ],
          [
           "ford granada l"
          ],
          [
           "toyota celica gt"
          ],
          [
           "dodge charger 2.2"
          ],
          [
           "chevrolet camaro"
          ],
          [
           "ford mustang gl"
          ],
          [
           "vw pickup"
          ],
          [
           "dodge rampage"
          ],
          [
           "ford ranger"
          ],
          [
           "chevy s-10"
          ]
         ],
         "hovertemplate": "mpg=%{x}<br>acceleration=%{y}<br>vehicle name=%{customdata[0]}<br>model=%{marker.color}<extra></extra>",
         "legendgroup": "",
         "marker": {
          "color": [
           70,
           70,
           70,
           70,
           70,
           70,
           70,
           70,
           70,
           70,
           70,
           70,
           70,
           70,
           70,
           70,
           70,
           70,
           70,
           70,
           70,
           70,
           70,
           70,
           70,
           70,
           70,
           70,
           70,
           71,
           71,
           71,
           71,
           71,
           71,
           71,
           71,
           71,
           71,
           71,
           71,
           71,
           71,
           71,
           71,
           71,
           71,
           71,
           71,
           71,
           71,
           71,
           71,
           71,
           71,
           71,
           71,
           72,
           72,
           72,
           72,
           72,
           72,
           72,
           72,
           72,
           72,
           72,
           72,
           72,
           72,
           72,
           72,
           72,
           72,
           72,
           72,
           72,
           72,
           72,
           72,
           72,
           72,
           72,
           72,
           73,
           73,
           73,
           73,
           73,
           73,
           73,
           73,
           73,
           73,
           73,
           73,
           73,
           73,
           73,
           73,
           73,
           73,
           73,
           73,
           73,
           73,
           73,
           73,
           73,
           73,
           73,
           73,
           73,
           73,
           73,
           73,
           73,
           73,
           73,
           73,
           73,
           73,
           73,
           73,
           74,
           74,
           74,
           74,
           74,
           74,
           74,
           74,
           74,
           74,
           74,
           74,
           74,
           74,
           74,
           74,
           74,
           74,
           74,
           74,
           74,
           74,
           74,
           74,
           74,
           74,
           74,
           75,
           75,
           75,
           75,
           75,
           75,
           75,
           75,
           75,
           75,
           75,
           75,
           75,
           75,
           75,
           75,
           75,
           75,
           75,
           75,
           75,
           75,
           75,
           75,
           75,
           75,
           75,
           75,
           75,
           75,
           76,
           76,
           76,
           76,
           76,
           76,
           76,
           76,
           76,
           76,
           76,
           76,
           76,
           76,
           76,
           76,
           76,
           76,
           76,
           76,
           76,
           76,
           76,
           76,
           76,
           76,
           76,
           76,
           76,
           76,
           76,
           76,
           76,
           76,
           77,
           77,
           77,
           77,
           77,
           77,
           77,
           77,
           77,
           77,
           77,
           77,
           77,
           77,
           77,
           77,
           77,
           77,
           77,
           77,
           77,
           77,
           77,
           77,
           77,
           77,
           77,
           77,
           78,
           78,
           78,
           78,
           78,
           78,
           78,
           78,
           78,
           78,
           78,
           78,
           78,
           78,
           78,
           78,
           78,
           78,
           78,
           78,
           78,
           78,
           78,
           78,
           78,
           78,
           78,
           78,
           78,
           78,
           78,
           78,
           78,
           78,
           78,
           78,
           79,
           79,
           79,
           79,
           79,
           79,
           79,
           79,
           79,
           79,
           79,
           79,
           79,
           79,
           79,
           79,
           79,
           79,
           79,
           79,
           79,
           79,
           79,
           79,
           79,
           79,
           79,
           79,
           79,
           80,
           80,
           80,
           80,
           80,
           80,
           80,
           80,
           80,
           80,
           80,
           80,
           80,
           80,
           80,
           80,
           80,
           80,
           80,
           80,
           80,
           80,
           80,
           80,
           80,
           80,
           80,
           80,
           80,
           81,
           81,
           81,
           81,
           81,
           81,
           81,
           81,
           81,
           81,
           81,
           81,
           81,
           81,
           81,
           81,
           81,
           81,
           81,
           81,
           81,
           81,
           81,
           81,
           81,
           81,
           81,
           81,
           81,
           82,
           82,
           82,
           82,
           82,
           82,
           82,
           82,
           82,
           82,
           82,
           82,
           82,
           82,
           82,
           82,
           82,
           82,
           82,
           82,
           82,
           82,
           82,
           82,
           82,
           82,
           82,
           82,
           82,
           82,
           82
          ],
          "coloraxis": "coloraxis",
          "symbol": "circle"
         },
         "mode": "markers",
         "name": "",
         "orientation": "v",
         "showlegend": false,
         "type": "scatter",
         "x": [
          18,
          15,
          18,
          16,
          17,
          15,
          14,
          14,
          14,
          15,
          15,
          14,
          15,
          14,
          24,
          22,
          18,
          21,
          27,
          26,
          25,
          24,
          25,
          26,
          21,
          10,
          10,
          11,
          9,
          27,
          28,
          25,
          25,
          19,
          16,
          17,
          19,
          18,
          14,
          14,
          14,
          14,
          12,
          13,
          13,
          18,
          22,
          19,
          18,
          23,
          28,
          30,
          30,
          31,
          35,
          27,
          26,
          24,
          25,
          23,
          20,
          21,
          13,
          14,
          15,
          14,
          17,
          11,
          13,
          12,
          13,
          19,
          15,
          13,
          13,
          14,
          18,
          22,
          21,
          26,
          22,
          28,
          23,
          28,
          27,
          13,
          14,
          13,
          14,
          15,
          12,
          13,
          13,
          14,
          13,
          12,
          13,
          18,
          16,
          18,
          18,
          23,
          26,
          11,
          12,
          13,
          12,
          18,
          20,
          21,
          22,
          18,
          19,
          21,
          26,
          15,
          16,
          29,
          24,
          20,
          19,
          15,
          24,
          20,
          11,
          20,
          21,
          19,
          15,
          31,
          26,
          32,
          25,
          16,
          16,
          18,
          16,
          13,
          14,
          14,
          14,
          29,
          26,
          26,
          31,
          32,
          28,
          24,
          26,
          24,
          26,
          31,
          19,
          18,
          15,
          15,
          16,
          15,
          16,
          14,
          17,
          16,
          15,
          18,
          21,
          20,
          13,
          29,
          23,
          20,
          23,
          24,
          25,
          24,
          18,
          29,
          19,
          23,
          23,
          22,
          25,
          33,
          28,
          25,
          25,
          26,
          27,
          17.5,
          16,
          15.5,
          14.5,
          22,
          22,
          24,
          22.5,
          29,
          24.5,
          29,
          33,
          20,
          18,
          18.5,
          17.5,
          29.5,
          32,
          28,
          26.5,
          20,
          13,
          19,
          19,
          16.5,
          16.5,
          13,
          13,
          13,
          31.5,
          30,
          36,
          25.5,
          33.5,
          17.5,
          17,
          15.5,
          15,
          17.5,
          20.5,
          19,
          18.5,
          16,
          15.5,
          15.5,
          16,
          29,
          24.5,
          26,
          25.5,
          30.5,
          33.5,
          30,
          30.5,
          22,
          21.5,
          21.5,
          43.1,
          36.1,
          32.8,
          39.4,
          36.1,
          19.9,
          19.4,
          20.2,
          19.2,
          20.5,
          20.2,
          25.1,
          20.5,
          19.4,
          20.6,
          20.8,
          18.6,
          18.1,
          19.2,
          17.7,
          18.1,
          17.5,
          30,
          27.5,
          27.2,
          30.9,
          21.1,
          23.2,
          23.8,
          23.9,
          20.3,
          17,
          21.6,
          16.2,
          31.5,
          29.5,
          21.5,
          19.8,
          22.3,
          20.2,
          20.6,
          17,
          17.6,
          16.5,
          18.2,
          16.9,
          15.5,
          19.2,
          18.5,
          31.9,
          34.1,
          35.7,
          27.4,
          25.4,
          23,
          27.2,
          23.9,
          34.2,
          34.5,
          31.8,
          37.3,
          28.4,
          28.8,
          26.8,
          33.5,
          41.5,
          38.1,
          32.1,
          37.2,
          28,
          26.4,
          24.3,
          19.1,
          34.3,
          29.8,
          31.3,
          37,
          32.2,
          46.6,
          27.9,
          40.8,
          44.3,
          43.4,
          36.4,
          30,
          44.6,
          40.9,
          33.8,
          29.8,
          32.7,
          23.7,
          35,
          23.6,
          32.4,
          27.2,
          26.6,
          25.8,
          23.5,
          30,
          39.1,
          39,
          35.1,
          32.3,
          37,
          37.7,
          34.1,
          34.7,
          34.4,
          29.9,
          33,
          34.5,
          33.7,
          32.4,
          32.9,
          31.6,
          28.1,
          30.7,
          25.4,
          24.2,
          22.4,
          26.6,
          20.2,
          17.6,
          28,
          27,
          34,
          31,
          29,
          27,
          24,
          23,
          36,
          37,
          31,
          38,
          36,
          36,
          36,
          34,
          38,
          32,
          38,
          25,
          38,
          26,
          22,
          32,
          36,
          27,
          27,
          44,
          32,
          28,
          31
         ],
         "xaxis": "x",
         "y": [
          12,
          11.5,
          11,
          12,
          10.5,
          10,
          9,
          8.5,
          10,
          8.5,
          10,
          8,
          9.5,
          10,
          15,
          15.5,
          15.5,
          16,
          14.5,
          20.5,
          17.5,
          14.5,
          17.5,
          12.5,
          15,
          14,
          15,
          13.5,
          18.5,
          14.5,
          15.5,
          14,
          19,
          13,
          15.5,
          15.5,
          15.5,
          15.5,
          12,
          11.5,
          13.5,
          13,
          11.5,
          12,
          12,
          13.5,
          19,
          15,
          14.5,
          14,
          14,
          19.5,
          14.5,
          19,
          18,
          19,
          20.5,
          15.5,
          17,
          23.5,
          19.5,
          16.5,
          12,
          12,
          13.5,
          13,
          11.5,
          11,
          13.5,
          13.5,
          12.5,
          13.5,
          12.5,
          14,
          16,
          14,
          14.5,
          18,
          19.5,
          18,
          16,
          17,
          14.5,
          15,
          16.5,
          13,
          11.5,
          13,
          14.5,
          12.5,
          11.5,
          12,
          13,
          14.5,
          11,
          11,
          11,
          16.5,
          18,
          16,
          16.5,
          16,
          21,
          14,
          12.5,
          13,
          12.5,
          15,
          19,
          19.5,
          16.5,
          13.5,
          18.5,
          14,
          15.5,
          13,
          9.5,
          19.5,
          15.5,
          14,
          15.5,
          11,
          14,
          13.5,
          11,
          16.5,
          17,
          16,
          17,
          19,
          16.5,
          21,
          17,
          17,
          18,
          16.5,
          14,
          14.5,
          13.5,
          16,
          15.5,
          16.5,
          15.5,
          14.5,
          16.5,
          19,
          14.5,
          15.5,
          14,
          15,
          15.5,
          16,
          16,
          16,
          21,
          19.5,
          11.5,
          14,
          14.5,
          13.5,
          21,
          18.5,
          19,
          19,
          15,
          13.5,
          12,
          16,
          17,
          16,
          18.5,
          13.5,
          16.5,
          17,
          14.5,
          14,
          17,
          15,
          17,
          14.5,
          13.5,
          17.5,
          15.5,
          16.9,
          14.9,
          17.7,
          15.3,
          13,
          13,
          13.9,
          12.8,
          15.4,
          14.5,
          17.6,
          17.6,
          22.2,
          22.1,
          14.2,
          17.4,
          17.7,
          21,
          16.2,
          17.8,
          12.2,
          17,
          16.4,
          13.6,
          15.7,
          13.2,
          21.9,
          15.5,
          16.7,
          12.1,
          12,
          15,
          14,
          18.5,
          14.8,
          18.6,
          15.5,
          16.8,
          12.5,
          19,
          13.7,
          14.9,
          16.4,
          16.9,
          17.7,
          19,
          11.1,
          11.4,
          12.2,
          14.5,
          14.5,
          16,
          18.2,
          15.8,
          17,
          15.9,
          16.4,
          14.1,
          14.5,
          12.8,
          13.5,
          21.5,
          14.4,
          19.4,
          18.6,
          16.4,
          15.5,
          13.2,
          12.8,
          19.2,
          18.2,
          15.8,
          15.4,
          17.2,
          17.2,
          15.8,
          16.7,
          18.7,
          15.1,
          13.2,
          13.4,
          11.2,
          13.7,
          16.5,
          14.2,
          14.7,
          14.5,
          14.8,
          16.7,
          17.6,
          14.9,
          15.9,
          13.6,
          15.7,
          15.8,
          14.9,
          16.6,
          15.4,
          18.2,
          17.3,
          18.2,
          16.6,
          15.4,
          13.4,
          13.2,
          15.2,
          14.9,
          14.3,
          15,
          13,
          14,
          15.2,
          14.4,
          15,
          20.1,
          17.4,
          24.8,
          22.2,
          13.2,
          14.9,
          19.2,
          14.7,
          16,
          11.3,
          12.9,
          13.2,
          14.7,
          18.8,
          15.5,
          16.4,
          16.5,
          18.1,
          20.1,
          18.7,
          15.8,
          15.5,
          17.5,
          15,
          15.2,
          17.9,
          14.4,
          19.2,
          21.7,
          23.7,
          19.9,
          21.8,
          13.8,
          17.3,
          18,
          15.3,
          11.4,
          12.5,
          15.1,
          14.3,
          17,
          15.7,
          16.4,
          14.4,
          12.6,
          12.9,
          16.9,
          16.4,
          16.1,
          17.8,
          19.4,
          17.3,
          16,
          14.9,
          16.2,
          20.7,
          14.2,
          15.8,
          14.4,
          16.8,
          14.8,
          18.3,
          20.4,
          19.6,
          12.6,
          13.8,
          15.8,
          19,
          17.1,
          16.6,
          19.6,
          18.6,
          18,
          16.2,
          16,
          18,
          16.4,
          20.5,
          15.3,
          18.2,
          17.6,
          14.7,
          17.3,
          14.5,
          14.5,
          16.9,
          15,
          15.7,
          16.2,
          16.4,
          17,
          14.5,
          14.7,
          13.9,
          13,
          17.3,
          15.6,
          24.6,
          11.6,
          18.6,
          19.4
         ],
         "yaxis": "y"
        }
       ],
       "layout": {
        "coloraxis": {
         "colorbar": {
          "title": {
           "text": "model"
          }
         },
         "colorscale": [
          [
           0,
           "#0d0887"
          ],
          [
           0.1111111111111111,
           "#46039f"
          ],
          [
           0.2222222222222222,
           "#7201a8"
          ],
          [
           0.3333333333333333,
           "#9c179e"
          ],
          [
           0.4444444444444444,
           "#bd3786"
          ],
          [
           0.5555555555555556,
           "#d8576b"
          ],
          [
           0.6666666666666666,
           "#ed7953"
          ],
          [
           0.7777777777777778,
           "#fb9f3a"
          ],
          [
           0.8888888888888888,
           "#fdca26"
          ],
          [
           1,
           "#f0f921"
          ]
         ]
        },
        "legend": {
         "tracegroupgap": 0
        },
        "template": {
         "data": {
          "bar": [
           {
            "error_x": {
             "color": "#2a3f5f"
            },
            "error_y": {
             "color": "#2a3f5f"
            },
            "marker": {
             "line": {
              "color": "#E5ECF6",
              "width": 0.5
             },
             "pattern": {
              "fillmode": "overlay",
              "size": 10,
              "solidity": 0.2
             }
            },
            "type": "bar"
           }
          ],
          "barpolar": [
           {
            "marker": {
             "line": {
              "color": "#E5ECF6",
              "width": 0.5
             },
             "pattern": {
              "fillmode": "overlay",
              "size": 10,
              "solidity": 0.2
             }
            },
            "type": "barpolar"
           }
          ],
          "carpet": [
           {
            "aaxis": {
             "endlinecolor": "#2a3f5f",
             "gridcolor": "white",
             "linecolor": "white",
             "minorgridcolor": "white",
             "startlinecolor": "#2a3f5f"
            },
            "baxis": {
             "endlinecolor": "#2a3f5f",
             "gridcolor": "white",
             "linecolor": "white",
             "minorgridcolor": "white",
             "startlinecolor": "#2a3f5f"
            },
            "type": "carpet"
           }
          ],
          "choropleth": [
           {
            "colorbar": {
             "outlinewidth": 0,
             "ticks": ""
            },
            "type": "choropleth"
           }
          ],
          "contour": [
           {
            "colorbar": {
             "outlinewidth": 0,
             "ticks": ""
            },
            "colorscale": [
             [
              0,
              "#0d0887"
             ],
             [
              0.1111111111111111,
              "#46039f"
             ],
             [
              0.2222222222222222,
              "#7201a8"
             ],
             [
              0.3333333333333333,
              "#9c179e"
             ],
             [
              0.4444444444444444,
              "#bd3786"
             ],
             [
              0.5555555555555556,
              "#d8576b"
             ],
             [
              0.6666666666666666,
              "#ed7953"
             ],
             [
              0.7777777777777778,
              "#fb9f3a"
             ],
             [
              0.8888888888888888,
              "#fdca26"
             ],
             [
              1,
              "#f0f921"
             ]
            ],
            "type": "contour"
           }
          ],
          "contourcarpet": [
           {
            "colorbar": {
             "outlinewidth": 0,
             "ticks": ""
            },
            "type": "contourcarpet"
           }
          ],
          "heatmap": [
           {
            "colorbar": {
             "outlinewidth": 0,
             "ticks": ""
            },
            "colorscale": [
             [
              0,
              "#0d0887"
             ],
             [
              0.1111111111111111,
              "#46039f"
             ],
             [
              0.2222222222222222,
              "#7201a8"
             ],
             [
              0.3333333333333333,
              "#9c179e"
             ],
             [
              0.4444444444444444,
              "#bd3786"
             ],
             [
              0.5555555555555556,
              "#d8576b"
             ],
             [
              0.6666666666666666,
              "#ed7953"
             ],
             [
              0.7777777777777778,
              "#fb9f3a"
             ],
             [
              0.8888888888888888,
              "#fdca26"
             ],
             [
              1,
              "#f0f921"
             ]
            ],
            "type": "heatmap"
           }
          ],
          "heatmapgl": [
           {
            "colorbar": {
             "outlinewidth": 0,
             "ticks": ""
            },
            "colorscale": [
             [
              0,
              "#0d0887"
             ],
             [
              0.1111111111111111,
              "#46039f"
             ],
             [
              0.2222222222222222,
              "#7201a8"
             ],
             [
              0.3333333333333333,
              "#9c179e"
             ],
             [
              0.4444444444444444,
              "#bd3786"
             ],
             [
              0.5555555555555556,
              "#d8576b"
             ],
             [
              0.6666666666666666,
              "#ed7953"
             ],
             [
              0.7777777777777778,
              "#fb9f3a"
             ],
             [
              0.8888888888888888,
              "#fdca26"
             ],
             [
              1,
              "#f0f921"
             ]
            ],
            "type": "heatmapgl"
           }
          ],
          "histogram": [
           {
            "marker": {
             "pattern": {
              "fillmode": "overlay",
              "size": 10,
              "solidity": 0.2
             }
            },
            "type": "histogram"
           }
          ],
          "histogram2d": [
           {
            "colorbar": {
             "outlinewidth": 0,
             "ticks": ""
            },
            "colorscale": [
             [
              0,
              "#0d0887"
             ],
             [
              0.1111111111111111,
              "#46039f"
             ],
             [
              0.2222222222222222,
              "#7201a8"
             ],
             [
              0.3333333333333333,
              "#9c179e"
             ],
             [
              0.4444444444444444,
              "#bd3786"
             ],
             [
              0.5555555555555556,
              "#d8576b"
             ],
             [
              0.6666666666666666,
              "#ed7953"
             ],
             [
              0.7777777777777778,
              "#fb9f3a"
             ],
             [
              0.8888888888888888,
              "#fdca26"
             ],
             [
              1,
              "#f0f921"
             ]
            ],
            "type": "histogram2d"
           }
          ],
          "histogram2dcontour": [
           {
            "colorbar": {
             "outlinewidth": 0,
             "ticks": ""
            },
            "colorscale": [
             [
              0,
              "#0d0887"
             ],
             [
              0.1111111111111111,
              "#46039f"
             ],
             [
              0.2222222222222222,
              "#7201a8"
             ],
             [
              0.3333333333333333,
              "#9c179e"
             ],
             [
              0.4444444444444444,
              "#bd3786"
             ],
             [
              0.5555555555555556,
              "#d8576b"
             ],
             [
              0.6666666666666666,
              "#ed7953"
             ],
             [
              0.7777777777777778,
              "#fb9f3a"
             ],
             [
              0.8888888888888888,
              "#fdca26"
             ],
             [
              1,
              "#f0f921"
             ]
            ],
            "type": "histogram2dcontour"
           }
          ],
          "mesh3d": [
           {
            "colorbar": {
             "outlinewidth": 0,
             "ticks": ""
            },
            "type": "mesh3d"
           }
          ],
          "parcoords": [
           {
            "line": {
             "colorbar": {
              "outlinewidth": 0,
              "ticks": ""
             }
            },
            "type": "parcoords"
           }
          ],
          "pie": [
           {
            "automargin": true,
            "type": "pie"
           }
          ],
          "scatter": [
           {
            "marker": {
             "colorbar": {
              "outlinewidth": 0,
              "ticks": ""
             }
            },
            "type": "scatter"
           }
          ],
          "scatter3d": [
           {
            "line": {
             "colorbar": {
              "outlinewidth": 0,
              "ticks": ""
             }
            },
            "marker": {
             "colorbar": {
              "outlinewidth": 0,
              "ticks": ""
             }
            },
            "type": "scatter3d"
           }
          ],
          "scattercarpet": [
           {
            "marker": {
             "colorbar": {
              "outlinewidth": 0,
              "ticks": ""
             }
            },
            "type": "scattercarpet"
           }
          ],
          "scattergeo": [
           {
            "marker": {
             "colorbar": {
              "outlinewidth": 0,
              "ticks": ""
             }
            },
            "type": "scattergeo"
           }
          ],
          "scattergl": [
           {
            "marker": {
             "colorbar": {
              "outlinewidth": 0,
              "ticks": ""
             }
            },
            "type": "scattergl"
           }
          ],
          "scattermapbox": [
           {
            "marker": {
             "colorbar": {
              "outlinewidth": 0,
              "ticks": ""
             }
            },
            "type": "scattermapbox"
           }
          ],
          "scatterpolar": [
           {
            "marker": {
             "colorbar": {
              "outlinewidth": 0,
              "ticks": ""
             }
            },
            "type": "scatterpolar"
           }
          ],
          "scatterpolargl": [
           {
            "marker": {
             "colorbar": {
              "outlinewidth": 0,
              "ticks": ""
             }
            },
            "type": "scatterpolargl"
           }
          ],
          "scatterternary": [
           {
            "marker": {
             "colorbar": {
              "outlinewidth": 0,
              "ticks": ""
             }
            },
            "type": "scatterternary"
           }
          ],
          "surface": [
           {
            "colorbar": {
             "outlinewidth": 0,
             "ticks": ""
            },
            "colorscale": [
             [
              0,
              "#0d0887"
             ],
             [
              0.1111111111111111,
              "#46039f"
             ],
             [
              0.2222222222222222,
              "#7201a8"
             ],
             [
              0.3333333333333333,
              "#9c179e"
             ],
             [
              0.4444444444444444,
              "#bd3786"
             ],
             [
              0.5555555555555556,
              "#d8576b"
             ],
             [
              0.6666666666666666,
              "#ed7953"
             ],
             [
              0.7777777777777778,
              "#fb9f3a"
             ],
             [
              0.8888888888888888,
              "#fdca26"
             ],
             [
              1,
              "#f0f921"
             ]
            ],
            "type": "surface"
           }
          ],
          "table": [
           {
            "cells": {
             "fill": {
              "color": "#EBF0F8"
             },
             "line": {
              "color": "white"
             }
            },
            "header": {
             "fill": {
              "color": "#C8D4E3"
             },
             "line": {
              "color": "white"
             }
            },
            "type": "table"
           }
          ]
         },
         "layout": {
          "annotationdefaults": {
           "arrowcolor": "#2a3f5f",
           "arrowhead": 0,
           "arrowwidth": 1
          },
          "autotypenumbers": "strict",
          "coloraxis": {
           "colorbar": {
            "outlinewidth": 0,
            "ticks": ""
           }
          },
          "colorscale": {
           "diverging": [
            [
             0,
             "#8e0152"
            ],
            [
             0.1,
             "#c51b7d"
            ],
            [
             0.2,
             "#de77ae"
            ],
            [
             0.3,
             "#f1b6da"
            ],
            [
             0.4,
             "#fde0ef"
            ],
            [
             0.5,
             "#f7f7f7"
            ],
            [
             0.6,
             "#e6f5d0"
            ],
            [
             0.7,
             "#b8e186"
            ],
            [
             0.8,
             "#7fbc41"
            ],
            [
             0.9,
             "#4d9221"
            ],
            [
             1,
             "#276419"
            ]
           ],
           "sequential": [
            [
             0,
             "#0d0887"
            ],
            [
             0.1111111111111111,
             "#46039f"
            ],
            [
             0.2222222222222222,
             "#7201a8"
            ],
            [
             0.3333333333333333,
             "#9c179e"
            ],
            [
             0.4444444444444444,
             "#bd3786"
            ],
            [
             0.5555555555555556,
             "#d8576b"
            ],
            [
             0.6666666666666666,
             "#ed7953"
            ],
            [
             0.7777777777777778,
             "#fb9f3a"
            ],
            [
             0.8888888888888888,
             "#fdca26"
            ],
            [
             1,
             "#f0f921"
            ]
           ],
           "sequentialminus": [
            [
             0,
             "#0d0887"
            ],
            [
             0.1111111111111111,
             "#46039f"
            ],
            [
             0.2222222222222222,
             "#7201a8"
            ],
            [
             0.3333333333333333,
             "#9c179e"
            ],
            [
             0.4444444444444444,
             "#bd3786"
            ],
            [
             0.5555555555555556,
             "#d8576b"
            ],
            [
             0.6666666666666666,
             "#ed7953"
            ],
            [
             0.7777777777777778,
             "#fb9f3a"
            ],
            [
             0.8888888888888888,
             "#fdca26"
            ],
            [
             1,
             "#f0f921"
            ]
           ]
          },
          "colorway": [
           "#636efa",
           "#EF553B",
           "#00cc96",
           "#ab63fa",
           "#FFA15A",
           "#19d3f3",
           "#FF6692",
           "#B6E880",
           "#FF97FF",
           "#FECB52"
          ],
          "font": {
           "color": "#2a3f5f"
          },
          "geo": {
           "bgcolor": "white",
           "lakecolor": "white",
           "landcolor": "#E5ECF6",
           "showlakes": true,
           "showland": true,
           "subunitcolor": "white"
          },
          "hoverlabel": {
           "align": "left"
          },
          "hovermode": "closest",
          "mapbox": {
           "style": "light"
          },
          "paper_bgcolor": "white",
          "plot_bgcolor": "#E5ECF6",
          "polar": {
           "angularaxis": {
            "gridcolor": "white",
            "linecolor": "white",
            "ticks": ""
           },
           "bgcolor": "#E5ECF6",
           "radialaxis": {
            "gridcolor": "white",
            "linecolor": "white",
            "ticks": ""
           }
          },
          "scene": {
           "xaxis": {
            "backgroundcolor": "#E5ECF6",
            "gridcolor": "white",
            "gridwidth": 2,
            "linecolor": "white",
            "showbackground": true,
            "ticks": "",
            "zerolinecolor": "white"
           },
           "yaxis": {
            "backgroundcolor": "#E5ECF6",
            "gridcolor": "white",
            "gridwidth": 2,
            "linecolor": "white",
            "showbackground": true,
            "ticks": "",
            "zerolinecolor": "white"
           },
           "zaxis": {
            "backgroundcolor": "#E5ECF6",
            "gridcolor": "white",
            "gridwidth": 2,
            "linecolor": "white",
            "showbackground": true,
            "ticks": "",
            "zerolinecolor": "white"
           }
          },
          "shapedefaults": {
           "line": {
            "color": "#2a3f5f"
           }
          },
          "ternary": {
           "aaxis": {
            "gridcolor": "white",
            "linecolor": "white",
            "ticks": ""
           },
           "baxis": {
            "gridcolor": "white",
            "linecolor": "white",
            "ticks": ""
           },
           "bgcolor": "#E5ECF6",
           "caxis": {
            "gridcolor": "white",
            "linecolor": "white",
            "ticks": ""
           }
          },
          "title": {
           "x": 0.05
          },
          "xaxis": {
           "automargin": true,
           "gridcolor": "white",
           "linecolor": "white",
           "ticks": "",
           "title": {
            "standoff": 15
           },
           "zerolinecolor": "white",
           "zerolinewidth": 2
          },
          "yaxis": {
           "automargin": true,
           "gridcolor": "white",
           "linecolor": "white",
           "ticks": "",
           "title": {
            "standoff": 15
           },
           "zerolinecolor": "white",
           "zerolinewidth": 2
          }
         }
        },
        "title": {
         "text": "Model Year by Acceleration and MPG"
        },
        "xaxis": {
         "anchor": "y",
         "domain": [
          0,
          1
         ],
         "title": {
          "text": "mpg"
         }
        },
        "yaxis": {
         "anchor": "x",
         "domain": [
          0,
          1
         ],
         "title": {
          "text": "acceleration"
         }
        }
       }
      },
      "text/html": [
       "<div>                            <div id=\"dc6516fe-589d-4ffc-9186-3f741980243e\" class=\"plotly-graph-div\" style=\"height:525px; width:100%;\"></div>            <script type=\"text/javascript\">                require([\"plotly\"], function(Plotly) {                    window.PLOTLYENV=window.PLOTLYENV || {};                                    if (document.getElementById(\"dc6516fe-589d-4ffc-9186-3f741980243e\")) {                    Plotly.newPlot(                        \"dc6516fe-589d-4ffc-9186-3f741980243e\",                        [{\"customdata\":[[\"chevrolet chevelle malibu\"],[\"buick skylark 320\"],[\"plymouth satellite\"],[\"amc rebel sst\"],[\"ford torino\"],[\"ford galaxie 500\"],[\"chevrolet impala\"],[\"plymouth fury iii\"],[\"pontiac catalina\"],[\"amc ambassador dpl\"],[\"dodge challenger se\"],[\"plymouth 'cuda 340\"],[\"chevrolet monte carlo\"],[\"buick estate wagon (sw)\"],[\"toyota corona mark ii\"],[\"plymouth duster\"],[\"amc hornet\"],[\"ford maverick\"],[\"datsun pl510\"],[\"volkswagen 1131 deluxe sedan\"],[\"peugeot 504\"],[\"audi 100 ls\"],[\"saab 99e\"],[\"bmw 2002\"],[\"amc gremlin\"],[\"ford f250\"],[\"chevy c20\"],[\"dodge d200\"],[\"hi 1200d\"],[\"datsun pl510\"],[\"chevrolet vega 2300\"],[\"toyota corona\"],[\"ford pinto\"],[\"amc gremlin\"],[\"plymouth satellite custom\"],[\"chevrolet chevelle malibu\"],[\"ford torino 500\"],[\"amc matador\"],[\"chevrolet impala\"],[\"pontiac catalina brougham\"],[\"ford galaxie 500\"],[\"plymouth fury iii\"],[\"dodge monaco (sw)\"],[\"ford country squire (sw)\"],[\"pontiac safari (sw)\"],[\"amc hornet sportabout (sw)\"],[\"chevrolet vega (sw)\"],[\"pontiac firebird\"],[\"ford mustang\"],[\"mercury capri 2000\"],[\"opel 1900\"],[\"peugeot 304\"],[\"fiat 124b\"],[\"toyota corolla 1200\"],[\"datsun 1200\"],[\"volkswagen model 111\"],[\"plymouth cricket\"],[\"toyota corona hardtop\"],[\"dodge colt hardtop\"],[\"volkswagen type 3\"],[\"chevrolet vega\"],[\"ford pinto runabout\"],[\"chevrolet impala\"],[\"pontiac catalina\"],[\"plymouth fury iii\"],[\"ford galaxie 500\"],[\"amc ambassador sst\"],[\"mercury marquis\"],[\"buick lesabre custom\"],[\"oldsmobile delta 88 royale\"],[\"chrysler newport royal\"],[\"mazda rx2 coupe\"],[\"amc matador (sw)\"],[\"chevrolet chevelle concours (sw)\"],[\"ford gran torino (sw)\"],[\"plymouth satellite custom (sw)\"],[\"volvo 145e (sw)\"],[\"volkswagen 411 (sw)\"],[\"peugeot 504 (sw)\"],[\"renault 12 (sw)\"],[\"ford pinto (sw)\"],[\"datsun 510 (sw)\"],[\"toyouta corona mark ii (sw)\"],[\"dodge colt (sw)\"],[\"toyota corolla 1600 (sw)\"],[\"buick century 350\"],[\"amc matador\"],[\"chevrolet malibu\"],[\"ford gran torino\"],[\"dodge coronet custom\"],[\"mercury marquis brougham\"],[\"chevrolet caprice classic\"],[\"ford ltd\"],[\"plymouth fury gran sedan\"],[\"chrysler new yorker brougham\"],[\"buick electra 225 custom\"],[\"amc ambassador brougham\"],[\"plymouth valiant\"],[\"chevrolet nova custom\"],[\"amc hornet\"],[\"ford maverick\"],[\"plymouth duster\"],[\"volkswagen super beetle\"],[\"chevrolet impala\"],[\"ford country\"],[\"plymouth custom suburb\"],[\"oldsmobile vista cruiser\"],[\"amc gremlin\"],[\"toyota carina\"],[\"chevrolet vega\"],[\"datsun 610\"],[\"maxda rx3\"],[\"ford pinto\"],[\"mercury capri v6\"],[\"fiat 124 sport coupe\"],[\"chevrolet monte carlo s\"],[\"pontiac grand prix\"],[\"fiat 128\"],[\"opel manta\"],[\"audi 100ls\"],[\"volvo 144ea\"],[\"dodge dart custom\"],[\"saab 99le\"],[\"toyota mark ii\"],[\"oldsmobile omega\"],[\"plymouth duster\"],[\"ford maverick\"],[\"amc hornet\"],[\"chevrolet nova\"],[\"datsun b210\"],[\"ford pinto\"],[\"toyota corolla 1200\"],[\"chevrolet vega\"],[\"chevrolet chevelle malibu classic\"],[\"amc matador\"],[\"plymouth satellite sebring\"],[\"ford gran torino\"],[\"buick century luxus (sw)\"],[\"dodge coronet custom (sw)\"],[\"ford gran torino (sw)\"],[\"amc matador (sw)\"],[\"audi fox\"],[\"volkswagen dasher\"],[\"opel manta\"],[\"toyota corona\"],[\"datsun 710\"],[\"dodge colt\"],[\"fiat 128\"],[\"fiat 124 tc\"],[\"honda civic\"],[\"subaru\"],[\"fiat x1.9\"],[\"plymouth valiant custom\"],[\"chevrolet nova\"],[\"mercury monarch\"],[\"ford maverick\"],[\"pontiac catalina\"],[\"chevrolet bel air\"],[\"plymouth grand fury\"],[\"ford ltd\"],[\"buick century\"],[\"chevroelt chevelle malibu\"],[\"amc matador\"],[\"plymouth fury\"],[\"buick skyhawk\"],[\"chevrolet monza 2+2\"],[\"ford mustang ii\"],[\"toyota corolla\"],[\"ford pinto\"],[\"amc gremlin\"],[\"pontiac astro\"],[\"toyota corona\"],[\"volkswagen dasher\"],[\"datsun 710\"],[\"ford pinto\"],[\"volkswagen rabbit\"],[\"amc pacer\"],[\"audi 100ls\"],[\"peugeot 504\"],[\"volvo 244dl\"],[\"saab 99le\"],[\"honda civic cvcc\"],[\"fiat 131\"],[\"opel 1900\"],[\"capri ii\"],[\"dodge colt\"],[\"renault 12tl\"],[\"chevrolet chevelle malibu classic\"],[\"dodge coronet brougham\"],[\"amc matador\"],[\"ford gran torino\"],[\"plymouth valiant\"],[\"chevrolet nova\"],[\"ford maverick\"],[\"amc hornet\"],[\"chevrolet chevette\"],[\"chevrolet woody\"],[\"vw rabbit\"],[\"honda civic\"],[\"dodge aspen se\"],[\"ford granada ghia\"],[\"pontiac ventura sj\"],[\"amc pacer d/l\"],[\"volkswagen rabbit\"],[\"datsun b-210\"],[\"toyota corolla\"],[\"ford pinto\"],[\"volvo 245\"],[\"plymouth volare premier v8\"],[\"peugeot 504\"],[\"toyota mark ii\"],[\"mercedes-benz 280s\"],[\"cadillac seville\"],[\"chevy c10\"],[\"ford f108\"],[\"dodge d100\"],[\"honda accord cvcc\"],[\"buick opel isuzu deluxe\"],[\"renault 5 gtl\"],[\"plymouth arrow gs\"],[\"datsun f-10 hatchback\"],[\"chevrolet caprice classic\"],[\"oldsmobile cutlass supreme\"],[\"dodge monaco brougham\"],[\"mercury cougar brougham\"],[\"chevrolet concours\"],[\"buick skylark\"],[\"plymouth volare custom\"],[\"ford granada\"],[\"pontiac grand prix lj\"],[\"chevrolet monte carlo landau\"],[\"chrysler cordoba\"],[\"ford thunderbird\"],[\"volkswagen rabbit custom\"],[\"pontiac sunbird coupe\"],[\"toyota corolla liftback\"],[\"ford mustang ii 2+2\"],[\"chevrolet chevette\"],[\"dodge colt m/m\"],[\"subaru dl\"],[\"volkswagen dasher\"],[\"datsun 810\"],[\"bmw 320i\"],[\"mazda rx-4\"],[\"volkswagen rabbit custom diesel\"],[\"ford fiesta\"],[\"mazda glc deluxe\"],[\"datsun b210 gx\"],[\"honda civic cvcc\"],[\"oldsmobile cutlass salon brougham\"],[\"dodge diplomat\"],[\"mercury monarch ghia\"],[\"pontiac phoenix lj\"],[\"chevrolet malibu\"],[\"ford fairmont (auto)\"],[\"ford fairmont (man)\"],[\"plymouth volare\"],[\"amc concord\"],[\"buick century special\"],[\"mercury zephyr\"],[\"dodge aspen\"],[\"amc concord d/l\"],[\"chevrolet monte carlo landau\"],[\"buick regal sport coupe (turbo)\"],[\"ford futura\"],[\"dodge magnum xe\"],[\"chevrolet chevette\"],[\"toyota corona\"],[\"datsun 510\"],[\"dodge omni\"],[\"toyota celica gt liftback\"],[\"plymouth sapporo\"],[\"oldsmobile starfire sx\"],[\"datsun 200-sx\"],[\"audi 5000\"],[\"volvo 264gl\"],[\"saab 99gle\"],[\"peugeot 604sl\"],[\"volkswagen scirocco\"],[\"honda accord lx\"],[\"pontiac lemans v6\"],[\"mercury zephyr 6\"],[\"ford fairmont 4\"],[\"amc concord dl 6\"],[\"dodge aspen 6\"],[\"chevrolet caprice classic\"],[\"ford ltd landau\"],[\"mercury grand marquis\"],[\"dodge st. regis\"],[\"buick estate wagon (sw)\"],[\"ford country squire (sw)\"],[\"chevrolet malibu classic (sw)\"],[\"chrysler lebaron town @ country (sw)\"],[\"vw rabbit custom\"],[\"maxda glc deluxe\"],[\"dodge colt hatchback custom\"],[\"amc spirit dl\"],[\"mercedes benz 300d\"],[\"cadillac eldorado\"],[\"peugeot 504\"],[\"oldsmobile cutlass salon brougham\"],[\"plymouth horizon\"],[\"plymouth horizon tc3\"],[\"datsun 210\"],[\"fiat strada custom\"],[\"buick skylark limited\"],[\"chevrolet citation\"],[\"oldsmobile omega brougham\"],[\"pontiac phoenix\"],[\"vw rabbit\"],[\"toyota corolla tercel\"],[\"chevrolet chevette\"],[\"datsun 310\"],[\"chevrolet citation\"],[\"ford fairmont\"],[\"amc concord\"],[\"dodge aspen\"],[\"audi 4000\"],[\"toyota corona liftback\"],[\"mazda 626\"],[\"datsun 510 hatchback\"],[\"toyota corolla\"],[\"mazda glc\"],[\"dodge colt\"],[\"datsun 210\"],[\"vw rabbit c (diesel)\"],[\"vw dasher (diesel)\"],[\"audi 5000s (diesel)\"],[\"mercedes-benz 240d\"],[\"honda civic 1500 gl\"],[\"renault lecar deluxe\"],[\"subaru dl\"],[\"vokswagen rabbit\"],[\"datsun 280-zx\"],[\"mazda rx-7 gs\"],[\"triumph tr7 coupe\"],[\"ford mustang cobra\"],[\"honda accord\"],[\"plymouth reliant\"],[\"buick skylark\"],[\"dodge aries wagon (sw)\"],[\"chevrolet citation\"],[\"plymouth reliant\"],[\"toyota starlet\"],[\"plymouth champ\"],[\"honda civic 1300\"],[\"subaru\"],[\"datsun 210 mpg\"],[\"toyota tercel\"],[\"mazda glc 4\"],[\"plymouth horizon 4\"],[\"ford escort 4w\"],[\"ford escort 2h\"],[\"volkswagen jetta\"],[\"renault 18i\"],[\"honda prelude\"],[\"toyota corolla\"],[\"datsun 200sx\"],[\"mazda 626\"],[\"peugeot 505s turbo diesel\"],[\"volvo diesel\"],[\"toyota cressida\"],[\"datsun 810 maxima\"],[\"buick century\"],[\"oldsmobile cutlass ls\"],[\"ford granada gl\"],[\"chrysler lebaron salon\"],[\"chevrolet cavalier\"],[\"chevrolet cavalier wagon\"],[\"chevrolet cavalier 2-door\"],[\"pontiac j2000 se hatchback\"],[\"dodge aries se\"],[\"pontiac phoenix\"],[\"ford fairmont futura\"],[\"amc concord dl\"],[\"volkswagen rabbit l\"],[\"mazda glc custom l\"],[\"mazda glc custom\"],[\"plymouth horizon miser\"],[\"mercury lynx l\"],[\"nissan stanza xe\"],[\"honda accord\"],[\"toyota corolla\"],[\"honda civic\"],[\"honda civic (auto)\"],[\"datsun 310 gx\"],[\"buick century limited\"],[\"oldsmobile cutlass ciera (diesel)\"],[\"chrysler lebaron medallion\"],[\"ford granada l\"],[\"toyota celica gt\"],[\"dodge charger 2.2\"],[\"chevrolet camaro\"],[\"ford mustang gl\"],[\"vw pickup\"],[\"dodge rampage\"],[\"ford ranger\"],[\"chevy s-10\"]],\"hovertemplate\":\"mpg=%{x}<br>acceleration=%{y}<br>vehicle name=%{customdata[0]}<br>model=%{marker.color}<extra></extra>\",\"legendgroup\":\"\",\"marker\":{\"color\":[70,70,70,70,70,70,70,70,70,70,70,70,70,70,70,70,70,70,70,70,70,70,70,70,70,70,70,70,70,71,71,71,71,71,71,71,71,71,71,71,71,71,71,71,71,71,71,71,71,71,71,71,71,71,71,71,71,72,72,72,72,72,72,72,72,72,72,72,72,72,72,72,72,72,72,72,72,72,72,72,72,72,72,72,72,73,73,73,73,73,73,73,73,73,73,73,73,73,73,73,73,73,73,73,73,73,73,73,73,73,73,73,73,73,73,73,73,73,73,73,73,73,73,73,73,74,74,74,74,74,74,74,74,74,74,74,74,74,74,74,74,74,74,74,74,74,74,74,74,74,74,74,75,75,75,75,75,75,75,75,75,75,75,75,75,75,75,75,75,75,75,75,75,75,75,75,75,75,75,75,75,75,76,76,76,76,76,76,76,76,76,76,76,76,76,76,76,76,76,76,76,76,76,76,76,76,76,76,76,76,76,76,76,76,76,76,77,77,77,77,77,77,77,77,77,77,77,77,77,77,77,77,77,77,77,77,77,77,77,77,77,77,77,77,78,78,78,78,78,78,78,78,78,78,78,78,78,78,78,78,78,78,78,78,78,78,78,78,78,78,78,78,78,78,78,78,78,78,78,78,79,79,79,79,79,79,79,79,79,79,79,79,79,79,79,79,79,79,79,79,79,79,79,79,79,79,79,79,79,80,80,80,80,80,80,80,80,80,80,80,80,80,80,80,80,80,80,80,80,80,80,80,80,80,80,80,80,80,81,81,81,81,81,81,81,81,81,81,81,81,81,81,81,81,81,81,81,81,81,81,81,81,81,81,81,81,81,82,82,82,82,82,82,82,82,82,82,82,82,82,82,82,82,82,82,82,82,82,82,82,82,82,82,82,82,82,82,82],\"coloraxis\":\"coloraxis\",\"symbol\":\"circle\"},\"mode\":\"markers\",\"name\":\"\",\"orientation\":\"v\",\"showlegend\":false,\"x\":[18.0,15.0,18.0,16.0,17.0,15.0,14.0,14.0,14.0,15.0,15.0,14.0,15.0,14.0,24.0,22.0,18.0,21.0,27.0,26.0,25.0,24.0,25.0,26.0,21.0,10.0,10.0,11.0,9.0,27.0,28.0,25.0,25.0,19.0,16.0,17.0,19.0,18.0,14.0,14.0,14.0,14.0,12.0,13.0,13.0,18.0,22.0,19.0,18.0,23.0,28.0,30.0,30.0,31.0,35.0,27.0,26.0,24.0,25.0,23.0,20.0,21.0,13.0,14.0,15.0,14.0,17.0,11.0,13.0,12.0,13.0,19.0,15.0,13.0,13.0,14.0,18.0,22.0,21.0,26.0,22.0,28.0,23.0,28.0,27.0,13.0,14.0,13.0,14.0,15.0,12.0,13.0,13.0,14.0,13.0,12.0,13.0,18.0,16.0,18.0,18.0,23.0,26.0,11.0,12.0,13.0,12.0,18.0,20.0,21.0,22.0,18.0,19.0,21.0,26.0,15.0,16.0,29.0,24.0,20.0,19.0,15.0,24.0,20.0,11.0,20.0,21.0,19.0,15.0,31.0,26.0,32.0,25.0,16.0,16.0,18.0,16.0,13.0,14.0,14.0,14.0,29.0,26.0,26.0,31.0,32.0,28.0,24.0,26.0,24.0,26.0,31.0,19.0,18.0,15.0,15.0,16.0,15.0,16.0,14.0,17.0,16.0,15.0,18.0,21.0,20.0,13.0,29.0,23.0,20.0,23.0,24.0,25.0,24.0,18.0,29.0,19.0,23.0,23.0,22.0,25.0,33.0,28.0,25.0,25.0,26.0,27.0,17.5,16.0,15.5,14.5,22.0,22.0,24.0,22.5,29.0,24.5,29.0,33.0,20.0,18.0,18.5,17.5,29.5,32.0,28.0,26.5,20.0,13.0,19.0,19.0,16.5,16.5,13.0,13.0,13.0,31.5,30.0,36.0,25.5,33.5,17.5,17.0,15.5,15.0,17.5,20.5,19.0,18.5,16.0,15.5,15.5,16.0,29.0,24.5,26.0,25.5,30.5,33.5,30.0,30.5,22.0,21.5,21.5,43.1,36.1,32.8,39.4,36.1,19.9,19.4,20.2,19.2,20.5,20.2,25.1,20.5,19.4,20.6,20.8,18.6,18.1,19.2,17.7,18.1,17.5,30.0,27.5,27.2,30.9,21.1,23.2,23.8,23.9,20.3,17.0,21.6,16.2,31.5,29.5,21.5,19.8,22.3,20.2,20.6,17.0,17.6,16.5,18.2,16.9,15.5,19.2,18.5,31.9,34.1,35.7,27.4,25.4,23.0,27.2,23.9,34.2,34.5,31.8,37.3,28.4,28.8,26.8,33.5,41.5,38.1,32.1,37.2,28.0,26.4,24.3,19.1,34.3,29.8,31.3,37.0,32.2,46.6,27.9,40.8,44.3,43.4,36.4,30.0,44.6,40.9,33.8,29.8,32.7,23.7,35.0,23.6,32.4,27.2,26.6,25.8,23.5,30.0,39.1,39.0,35.1,32.3,37.0,37.7,34.1,34.7,34.4,29.9,33.0,34.5,33.7,32.4,32.9,31.6,28.1,30.7,25.4,24.2,22.4,26.6,20.2,17.6,28.0,27.0,34.0,31.0,29.0,27.0,24.0,23.0,36.0,37.0,31.0,38.0,36.0,36.0,36.0,34.0,38.0,32.0,38.0,25.0,38.0,26.0,22.0,32.0,36.0,27.0,27.0,44.0,32.0,28.0,31.0],\"xaxis\":\"x\",\"y\":[12.0,11.5,11.0,12.0,10.5,10.0,9.0,8.5,10.0,8.5,10.0,8.0,9.5,10.0,15.0,15.5,15.5,16.0,14.5,20.5,17.5,14.5,17.5,12.5,15.0,14.0,15.0,13.5,18.5,14.5,15.5,14.0,19.0,13.0,15.5,15.5,15.5,15.5,12.0,11.5,13.5,13.0,11.5,12.0,12.0,13.5,19.0,15.0,14.5,14.0,14.0,19.5,14.5,19.0,18.0,19.0,20.5,15.5,17.0,23.5,19.5,16.5,12.0,12.0,13.5,13.0,11.5,11.0,13.5,13.5,12.5,13.5,12.5,14.0,16.0,14.0,14.5,18.0,19.5,18.0,16.0,17.0,14.5,15.0,16.5,13.0,11.5,13.0,14.5,12.5,11.5,12.0,13.0,14.5,11.0,11.0,11.0,16.5,18.0,16.0,16.5,16.0,21.0,14.0,12.5,13.0,12.5,15.0,19.0,19.5,16.5,13.5,18.5,14.0,15.5,13.0,9.5,19.5,15.5,14.0,15.5,11.0,14.0,13.5,11.0,16.5,17.0,16.0,17.0,19.0,16.5,21.0,17.0,17.0,18.0,16.5,14.0,14.5,13.5,16.0,15.5,16.5,15.5,14.5,16.5,19.0,14.5,15.5,14.0,15.0,15.5,16.0,16.0,16.0,21.0,19.5,11.5,14.0,14.5,13.5,21.0,18.5,19.0,19.0,15.0,13.5,12.0,16.0,17.0,16.0,18.5,13.5,16.5,17.0,14.5,14.0,17.0,15.0,17.0,14.5,13.5,17.5,15.5,16.9,14.9,17.7,15.3,13.0,13.0,13.9,12.8,15.4,14.5,17.6,17.6,22.2,22.1,14.2,17.4,17.7,21.0,16.2,17.8,12.2,17.0,16.4,13.6,15.7,13.2,21.9,15.5,16.7,12.1,12.0,15.0,14.0,18.5,14.8,18.6,15.5,16.8,12.5,19.0,13.7,14.9,16.4,16.9,17.7,19.0,11.1,11.4,12.2,14.5,14.5,16.0,18.2,15.8,17.0,15.9,16.4,14.1,14.5,12.8,13.5,21.5,14.4,19.4,18.6,16.4,15.5,13.2,12.8,19.2,18.2,15.8,15.4,17.2,17.2,15.8,16.7,18.7,15.1,13.2,13.4,11.2,13.7,16.5,14.2,14.7,14.5,14.8,16.7,17.6,14.9,15.9,13.6,15.7,15.8,14.9,16.6,15.4,18.2,17.3,18.2,16.6,15.4,13.4,13.2,15.2,14.9,14.3,15.0,13.0,14.0,15.2,14.4,15.0,20.1,17.4,24.8,22.2,13.2,14.9,19.2,14.7,16.0,11.3,12.9,13.2,14.7,18.8,15.5,16.4,16.5,18.1,20.1,18.7,15.8,15.5,17.5,15.0,15.2,17.9,14.4,19.2,21.7,23.7,19.9,21.8,13.8,17.3,18.0,15.3,11.4,12.5,15.1,14.3,17.0,15.7,16.4,14.4,12.6,12.9,16.9,16.4,16.1,17.8,19.4,17.3,16.0,14.9,16.2,20.7,14.2,15.8,14.4,16.8,14.8,18.3,20.4,19.6,12.6,13.8,15.8,19.0,17.1,16.6,19.6,18.6,18.0,16.2,16.0,18.0,16.4,20.5,15.3,18.2,17.6,14.7,17.3,14.5,14.5,16.9,15.0,15.7,16.2,16.4,17.0,14.5,14.7,13.9,13.0,17.3,15.6,24.6,11.6,18.6,19.4],\"yaxis\":\"y\",\"type\":\"scatter\"}],                        {\"template\":{\"data\":{\"bar\":[{\"error_x\":{\"color\":\"#2a3f5f\"},\"error_y\":{\"color\":\"#2a3f5f\"},\"marker\":{\"line\":{\"color\":\"#E5ECF6\",\"width\":0.5},\"pattern\":{\"fillmode\":\"overlay\",\"size\":10,\"solidity\":0.2}},\"type\":\"bar\"}],\"barpolar\":[{\"marker\":{\"line\":{\"color\":\"#E5ECF6\",\"width\":0.5},\"pattern\":{\"fillmode\":\"overlay\",\"size\":10,\"solidity\":0.2}},\"type\":\"barpolar\"}],\"carpet\":[{\"aaxis\":{\"endlinecolor\":\"#2a3f5f\",\"gridcolor\":\"white\",\"linecolor\":\"white\",\"minorgridcolor\":\"white\",\"startlinecolor\":\"#2a3f5f\"},\"baxis\":{\"endlinecolor\":\"#2a3f5f\",\"gridcolor\":\"white\",\"linecolor\":\"white\",\"minorgridcolor\":\"white\",\"startlinecolor\":\"#2a3f5f\"},\"type\":\"carpet\"}],\"choropleth\":[{\"colorbar\":{\"outlinewidth\":0,\"ticks\":\"\"},\"type\":\"choropleth\"}],\"contour\":[{\"colorbar\":{\"outlinewidth\":0,\"ticks\":\"\"},\"colorscale\":[[0.0,\"#0d0887\"],[0.1111111111111111,\"#46039f\"],[0.2222222222222222,\"#7201a8\"],[0.3333333333333333,\"#9c179e\"],[0.4444444444444444,\"#bd3786\"],[0.5555555555555556,\"#d8576b\"],[0.6666666666666666,\"#ed7953\"],[0.7777777777777778,\"#fb9f3a\"],[0.8888888888888888,\"#fdca26\"],[1.0,\"#f0f921\"]],\"type\":\"contour\"}],\"contourcarpet\":[{\"colorbar\":{\"outlinewidth\":0,\"ticks\":\"\"},\"type\":\"contourcarpet\"}],\"heatmap\":[{\"colorbar\":{\"outlinewidth\":0,\"ticks\":\"\"},\"colorscale\":[[0.0,\"#0d0887\"],[0.1111111111111111,\"#46039f\"],[0.2222222222222222,\"#7201a8\"],[0.3333333333333333,\"#9c179e\"],[0.4444444444444444,\"#bd3786\"],[0.5555555555555556,\"#d8576b\"],[0.6666666666666666,\"#ed7953\"],[0.7777777777777778,\"#fb9f3a\"],[0.8888888888888888,\"#fdca26\"],[1.0,\"#f0f921\"]],\"type\":\"heatmap\"}],\"heatmapgl\":[{\"colorbar\":{\"outlinewidth\":0,\"ticks\":\"\"},\"colorscale\":[[0.0,\"#0d0887\"],[0.1111111111111111,\"#46039f\"],[0.2222222222222222,\"#7201a8\"],[0.3333333333333333,\"#9c179e\"],[0.4444444444444444,\"#bd3786\"],[0.5555555555555556,\"#d8576b\"],[0.6666666666666666,\"#ed7953\"],[0.7777777777777778,\"#fb9f3a\"],[0.8888888888888888,\"#fdca26\"],[1.0,\"#f0f921\"]],\"type\":\"heatmapgl\"}],\"histogram\":[{\"marker\":{\"pattern\":{\"fillmode\":\"overlay\",\"size\":10,\"solidity\":0.2}},\"type\":\"histogram\"}],\"histogram2d\":[{\"colorbar\":{\"outlinewidth\":0,\"ticks\":\"\"},\"colorscale\":[[0.0,\"#0d0887\"],[0.1111111111111111,\"#46039f\"],[0.2222222222222222,\"#7201a8\"],[0.3333333333333333,\"#9c179e\"],[0.4444444444444444,\"#bd3786\"],[0.5555555555555556,\"#d8576b\"],[0.6666666666666666,\"#ed7953\"],[0.7777777777777778,\"#fb9f3a\"],[0.8888888888888888,\"#fdca26\"],[1.0,\"#f0f921\"]],\"type\":\"histogram2d\"}],\"histogram2dcontour\":[{\"colorbar\":{\"outlinewidth\":0,\"ticks\":\"\"},\"colorscale\":[[0.0,\"#0d0887\"],[0.1111111111111111,\"#46039f\"],[0.2222222222222222,\"#7201a8\"],[0.3333333333333333,\"#9c179e\"],[0.4444444444444444,\"#bd3786\"],[0.5555555555555556,\"#d8576b\"],[0.6666666666666666,\"#ed7953\"],[0.7777777777777778,\"#fb9f3a\"],[0.8888888888888888,\"#fdca26\"],[1.0,\"#f0f921\"]],\"type\":\"histogram2dcontour\"}],\"mesh3d\":[{\"colorbar\":{\"outlinewidth\":0,\"ticks\":\"\"},\"type\":\"mesh3d\"}],\"parcoords\":[{\"line\":{\"colorbar\":{\"outlinewidth\":0,\"ticks\":\"\"}},\"type\":\"parcoords\"}],\"pie\":[{\"automargin\":true,\"type\":\"pie\"}],\"scatter\":[{\"marker\":{\"colorbar\":{\"outlinewidth\":0,\"ticks\":\"\"}},\"type\":\"scatter\"}],\"scatter3d\":[{\"line\":{\"colorbar\":{\"outlinewidth\":0,\"ticks\":\"\"}},\"marker\":{\"colorbar\":{\"outlinewidth\":0,\"ticks\":\"\"}},\"type\":\"scatter3d\"}],\"scattercarpet\":[{\"marker\":{\"colorbar\":{\"outlinewidth\":0,\"ticks\":\"\"}},\"type\":\"scattercarpet\"}],\"scattergeo\":[{\"marker\":{\"colorbar\":{\"outlinewidth\":0,\"ticks\":\"\"}},\"type\":\"scattergeo\"}],\"scattergl\":[{\"marker\":{\"colorbar\":{\"outlinewidth\":0,\"ticks\":\"\"}},\"type\":\"scattergl\"}],\"scattermapbox\":[{\"marker\":{\"colorbar\":{\"outlinewidth\":0,\"ticks\":\"\"}},\"type\":\"scattermapbox\"}],\"scatterpolar\":[{\"marker\":{\"colorbar\":{\"outlinewidth\":0,\"ticks\":\"\"}},\"type\":\"scatterpolar\"}],\"scatterpolargl\":[{\"marker\":{\"colorbar\":{\"outlinewidth\":0,\"ticks\":\"\"}},\"type\":\"scatterpolargl\"}],\"scatterternary\":[{\"marker\":{\"colorbar\":{\"outlinewidth\":0,\"ticks\":\"\"}},\"type\":\"scatterternary\"}],\"surface\":[{\"colorbar\":{\"outlinewidth\":0,\"ticks\":\"\"},\"colorscale\":[[0.0,\"#0d0887\"],[0.1111111111111111,\"#46039f\"],[0.2222222222222222,\"#7201a8\"],[0.3333333333333333,\"#9c179e\"],[0.4444444444444444,\"#bd3786\"],[0.5555555555555556,\"#d8576b\"],[0.6666666666666666,\"#ed7953\"],[0.7777777777777778,\"#fb9f3a\"],[0.8888888888888888,\"#fdca26\"],[1.0,\"#f0f921\"]],\"type\":\"surface\"}],\"table\":[{\"cells\":{\"fill\":{\"color\":\"#EBF0F8\"},\"line\":{\"color\":\"white\"}},\"header\":{\"fill\":{\"color\":\"#C8D4E3\"},\"line\":{\"color\":\"white\"}},\"type\":\"table\"}]},\"layout\":{\"annotationdefaults\":{\"arrowcolor\":\"#2a3f5f\",\"arrowhead\":0,\"arrowwidth\":1},\"autotypenumbers\":\"strict\",\"coloraxis\":{\"colorbar\":{\"outlinewidth\":0,\"ticks\":\"\"}},\"colorscale\":{\"diverging\":[[0,\"#8e0152\"],[0.1,\"#c51b7d\"],[0.2,\"#de77ae\"],[0.3,\"#f1b6da\"],[0.4,\"#fde0ef\"],[0.5,\"#f7f7f7\"],[0.6,\"#e6f5d0\"],[0.7,\"#b8e186\"],[0.8,\"#7fbc41\"],[0.9,\"#4d9221\"],[1,\"#276419\"]],\"sequential\":[[0.0,\"#0d0887\"],[0.1111111111111111,\"#46039f\"],[0.2222222222222222,\"#7201a8\"],[0.3333333333333333,\"#9c179e\"],[0.4444444444444444,\"#bd3786\"],[0.5555555555555556,\"#d8576b\"],[0.6666666666666666,\"#ed7953\"],[0.7777777777777778,\"#fb9f3a\"],[0.8888888888888888,\"#fdca26\"],[1.0,\"#f0f921\"]],\"sequentialminus\":[[0.0,\"#0d0887\"],[0.1111111111111111,\"#46039f\"],[0.2222222222222222,\"#7201a8\"],[0.3333333333333333,\"#9c179e\"],[0.4444444444444444,\"#bd3786\"],[0.5555555555555556,\"#d8576b\"],[0.6666666666666666,\"#ed7953\"],[0.7777777777777778,\"#fb9f3a\"],[0.8888888888888888,\"#fdca26\"],[1.0,\"#f0f921\"]]},\"colorway\":[\"#636efa\",\"#EF553B\",\"#00cc96\",\"#ab63fa\",\"#FFA15A\",\"#19d3f3\",\"#FF6692\",\"#B6E880\",\"#FF97FF\",\"#FECB52\"],\"font\":{\"color\":\"#2a3f5f\"},\"geo\":{\"bgcolor\":\"white\",\"lakecolor\":\"white\",\"landcolor\":\"#E5ECF6\",\"showlakes\":true,\"showland\":true,\"subunitcolor\":\"white\"},\"hoverlabel\":{\"align\":\"left\"},\"hovermode\":\"closest\",\"mapbox\":{\"style\":\"light\"},\"paper_bgcolor\":\"white\",\"plot_bgcolor\":\"#E5ECF6\",\"polar\":{\"angularaxis\":{\"gridcolor\":\"white\",\"linecolor\":\"white\",\"ticks\":\"\"},\"bgcolor\":\"#E5ECF6\",\"radialaxis\":{\"gridcolor\":\"white\",\"linecolor\":\"white\",\"ticks\":\"\"}},\"scene\":{\"xaxis\":{\"backgroundcolor\":\"#E5ECF6\",\"gridcolor\":\"white\",\"gridwidth\":2,\"linecolor\":\"white\",\"showbackground\":true,\"ticks\":\"\",\"zerolinecolor\":\"white\"},\"yaxis\":{\"backgroundcolor\":\"#E5ECF6\",\"gridcolor\":\"white\",\"gridwidth\":2,\"linecolor\":\"white\",\"showbackground\":true,\"ticks\":\"\",\"zerolinecolor\":\"white\"},\"zaxis\":{\"backgroundcolor\":\"#E5ECF6\",\"gridcolor\":\"white\",\"gridwidth\":2,\"linecolor\":\"white\",\"showbackground\":true,\"ticks\":\"\",\"zerolinecolor\":\"white\"}},\"shapedefaults\":{\"line\":{\"color\":\"#2a3f5f\"}},\"ternary\":{\"aaxis\":{\"gridcolor\":\"white\",\"linecolor\":\"white\",\"ticks\":\"\"},\"baxis\":{\"gridcolor\":\"white\",\"linecolor\":\"white\",\"ticks\":\"\"},\"bgcolor\":\"#E5ECF6\",\"caxis\":{\"gridcolor\":\"white\",\"linecolor\":\"white\",\"ticks\":\"\"}},\"title\":{\"x\":0.05},\"xaxis\":{\"automargin\":true,\"gridcolor\":\"white\",\"linecolor\":\"white\",\"ticks\":\"\",\"title\":{\"standoff\":15},\"zerolinecolor\":\"white\",\"zerolinewidth\":2},\"yaxis\":{\"automargin\":true,\"gridcolor\":\"white\",\"linecolor\":\"white\",\"ticks\":\"\",\"title\":{\"standoff\":15},\"zerolinecolor\":\"white\",\"zerolinewidth\":2}}},\"xaxis\":{\"anchor\":\"y\",\"domain\":[0.0,1.0],\"title\":{\"text\":\"mpg\"}},\"yaxis\":{\"anchor\":\"x\",\"domain\":[0.0,1.0],\"title\":{\"text\":\"acceleration\"}},\"coloraxis\":{\"colorbar\":{\"title\":{\"text\":\"model\"}},\"colorscale\":[[0.0,\"#0d0887\"],[0.1111111111111111,\"#46039f\"],[0.2222222222222222,\"#7201a8\"],[0.3333333333333333,\"#9c179e\"],[0.4444444444444444,\"#bd3786\"],[0.5555555555555556,\"#d8576b\"],[0.6666666666666666,\"#ed7953\"],[0.7777777777777778,\"#fb9f3a\"],[0.8888888888888888,\"#fdca26\"],[1.0,\"#f0f921\"]]},\"legend\":{\"tracegroupgap\":0},\"title\":{\"text\":\"Model Year by Acceleration and MPG\"}},                        {\"responsive\": true}                    ).then(function(){\n",
       "                            \n",
       "var gd = document.getElementById('dc6516fe-589d-4ffc-9186-3f741980243e');\n",
       "var x = new MutationObserver(function (mutations, observer) {{\n",
       "        var display = window.getComputedStyle(gd).display;\n",
       "        if (!display || display === 'none') {{\n",
       "            console.log([gd, 'removed!']);\n",
       "            Plotly.purge(gd);\n",
       "            observer.disconnect();\n",
       "        }}\n",
       "}});\n",
       "\n",
       "// Listen for the removal of the full notebook cells\n",
       "var notebookContainer = gd.closest('#notebook-container');\n",
       "if (notebookContainer) {{\n",
       "    x.observe(notebookContainer, {childList: true});\n",
       "}}\n",
       "\n",
       "// Listen for the clearing of the current output cell\n",
       "var outputEl = gd.closest('.output');\n",
       "if (outputEl) {{\n",
       "    x.observe(outputEl, {childList: true});\n",
       "}}\n",
       "\n",
       "                        })                };                });            </script>        </div>"
      ]
     },
     "metadata": {},
     "output_type": "display_data"
    }
   ],
   "source": [
    "fig = px.scatter(df3,title='Model Year by Acceleration and MPG', x='mpg', y='acceleration', color='model', hover_data=['vehicle name'])\n",
    "fig.show()"
   ]
  },
  {
   "cell_type": "code",
   "execution_count": 117,
   "id": "61ca39e7",
   "metadata": {
    "scrolled": false
   },
   "outputs": [
    {
     "data": {
      "application/vnd.plotly.v1+json": {
       "config": {
        "plotlyServerURL": "https://plot.ly"
       },
       "data": [
        {
         "alignmentgroup": "True",
         "hovertemplate": "mpg=%{x}<br>origin=%{marker.color}<extra></extra>",
         "legendgroup": "",
         "marker": {
          "color": [
           1,
           1,
           1,
           1,
           1,
           1,
           1,
           1,
           1,
           1,
           1,
           1,
           1,
           1,
           3,
           1,
           1,
           1,
           3,
           2,
           2,
           2,
           2,
           2,
           1,
           1,
           1,
           1,
           1,
           3,
           1,
           3,
           1,
           1,
           1,
           1,
           1,
           1,
           1,
           1,
           1,
           1,
           1,
           1,
           1,
           1,
           1,
           1,
           1,
           1,
           2,
           2,
           2,
           3,
           3,
           2,
           1,
           3,
           1,
           2,
           1,
           1,
           1,
           1,
           1,
           1,
           1,
           1,
           1,
           1,
           1,
           3,
           1,
           1,
           1,
           1,
           2,
           2,
           2,
           2,
           1,
           3,
           3,
           1,
           3,
           1,
           1,
           1,
           1,
           1,
           1,
           1,
           1,
           1,
           1,
           1,
           1,
           1,
           1,
           1,
           1,
           1,
           2,
           1,
           1,
           1,
           1,
           1,
           3,
           1,
           3,
           3,
           1,
           1,
           2,
           1,
           1,
           2,
           2,
           2,
           2,
           1,
           2,
           3,
           1,
           1,
           1,
           1,
           1,
           3,
           1,
           3,
           1,
           1,
           1,
           1,
           1,
           1,
           1,
           1,
           1,
           2,
           2,
           2,
           3,
           3,
           1,
           2,
           2,
           3,
           3,
           2,
           1,
           1,
           1,
           1,
           1,
           1,
           1,
           1,
           1,
           1,
           1,
           1,
           1,
           1,
           1,
           3,
           1,
           1,
           1,
           3,
           2,
           3,
           1,
           2,
           1,
           2,
           2,
           2,
           2,
           3,
           2,
           2,
           1,
           1,
           2,
           1,
           1,
           1,
           1,
           1,
           1,
           1,
           1,
           1,
           1,
           2,
           3,
           1,
           1,
           1,
           1,
           2,
           3,
           3,
           1,
           2,
           1,
           2,
           3,
           2,
           1,
           1,
           1,
           1,
           3,
           1,
           2,
           1,
           3,
           1,
           1,
           1,
           1,
           1,
           1,
           1,
           1,
           1,
           1,
           1,
           1,
           2,
           1,
           3,
           1,
           1,
           1,
           3,
           2,
           3,
           2,
           3,
           2,
           1,
           3,
           3,
           3,
           1,
           1,
           1,
           1,
           1,
           1,
           1,
           1,
           1,
           1,
           1,
           1,
           1,
           1,
           1,
           1,
           1,
           1,
           3,
           3,
           1,
           3,
           1,
           1,
           3,
           2,
           2,
           2,
           2,
           2,
           3,
           1,
           1,
           1,
           1,
           1,
           1,
           1,
           1,
           1,
           1,
           1,
           1,
           1,
           2,
           3,
           1,
           1,
           2,
           1,
           2,
           1,
           1,
           1,
           3,
           2,
           1,
           1,
           1,
           1,
           2,
           3,
           1,
           3,
           1,
           1,
           1,
           1,
           2,
           3,
           3,
           3,
           3,
           3,
           1,
           3,
           2,
           2,
           2,
           2,
           3,
           2,
           3,
           2,
           3,
           3,
           2,
           1,
           3,
           1,
           1,
           1,
           1,
           1,
           3,
           1,
           3,
           3,
           3,
           3,
           3,
           1,
           1,
           1,
           2,
           2,
           3,
           3,
           3,
           3,
           2,
           2,
           3,
           3,
           1,
           1,
           1,
           1,
           1,
           1,
           1,
           1,
           1,
           1,
           1,
           1,
           2,
           3,
           3,
           1,
           1,
           3,
           3,
           3,
           3,
           3,
           3,
           1,
           1,
           1,
           1,
           3,
           1,
           1,
           1,
           2,
           1,
           1,
           1
          ],
          "coloraxis": "coloraxis",
          "pattern": {
           "shape": ""
          }
         },
         "name": "",
         "offsetgroup": "",
         "orientation": "v",
         "showlegend": false,
         "textposition": "auto",
         "type": "bar",
         "x": [
          18,
          15,
          18,
          16,
          17,
          15,
          14,
          14,
          14,
          15,
          15,
          14,
          15,
          14,
          24,
          22,
          18,
          21,
          27,
          26,
          25,
          24,
          25,
          26,
          21,
          10,
          10,
          11,
          9,
          27,
          28,
          25,
          25,
          19,
          16,
          17,
          19,
          18,
          14,
          14,
          14,
          14,
          12,
          13,
          13,
          18,
          22,
          19,
          18,
          23,
          28,
          30,
          30,
          31,
          35,
          27,
          26,
          24,
          25,
          23,
          20,
          21,
          13,
          14,
          15,
          14,
          17,
          11,
          13,
          12,
          13,
          19,
          15,
          13,
          13,
          14,
          18,
          22,
          21,
          26,
          22,
          28,
          23,
          28,
          27,
          13,
          14,
          13,
          14,
          15,
          12,
          13,
          13,
          14,
          13,
          12,
          13,
          18,
          16,
          18,
          18,
          23,
          26,
          11,
          12,
          13,
          12,
          18,
          20,
          21,
          22,
          18,
          19,
          21,
          26,
          15,
          16,
          29,
          24,
          20,
          19,
          15,
          24,
          20,
          11,
          20,
          21,
          19,
          15,
          31,
          26,
          32,
          25,
          16,
          16,
          18,
          16,
          13,
          14,
          14,
          14,
          29,
          26,
          26,
          31,
          32,
          28,
          24,
          26,
          24,
          26,
          31,
          19,
          18,
          15,
          15,
          16,
          15,
          16,
          14,
          17,
          16,
          15,
          18,
          21,
          20,
          13,
          29,
          23,
          20,
          23,
          24,
          25,
          24,
          18,
          29,
          19,
          23,
          23,
          22,
          25,
          33,
          28,
          25,
          25,
          26,
          27,
          17.5,
          16,
          15.5,
          14.5,
          22,
          22,
          24,
          22.5,
          29,
          24.5,
          29,
          33,
          20,
          18,
          18.5,
          17.5,
          29.5,
          32,
          28,
          26.5,
          20,
          13,
          19,
          19,
          16.5,
          16.5,
          13,
          13,
          13,
          31.5,
          30,
          36,
          25.5,
          33.5,
          17.5,
          17,
          15.5,
          15,
          17.5,
          20.5,
          19,
          18.5,
          16,
          15.5,
          15.5,
          16,
          29,
          24.5,
          26,
          25.5,
          30.5,
          33.5,
          30,
          30.5,
          22,
          21.5,
          21.5,
          43.1,
          36.1,
          32.8,
          39.4,
          36.1,
          19.9,
          19.4,
          20.2,
          19.2,
          20.5,
          20.2,
          25.1,
          20.5,
          19.4,
          20.6,
          20.8,
          18.6,
          18.1,
          19.2,
          17.7,
          18.1,
          17.5,
          30,
          27.5,
          27.2,
          30.9,
          21.1,
          23.2,
          23.8,
          23.9,
          20.3,
          17,
          21.6,
          16.2,
          31.5,
          29.5,
          21.5,
          19.8,
          22.3,
          20.2,
          20.6,
          17,
          17.6,
          16.5,
          18.2,
          16.9,
          15.5,
          19.2,
          18.5,
          31.9,
          34.1,
          35.7,
          27.4,
          25.4,
          23,
          27.2,
          23.9,
          34.2,
          34.5,
          31.8,
          37.3,
          28.4,
          28.8,
          26.8,
          33.5,
          41.5,
          38.1,
          32.1,
          37.2,
          28,
          26.4,
          24.3,
          19.1,
          34.3,
          29.8,
          31.3,
          37,
          32.2,
          46.6,
          27.9,
          40.8,
          44.3,
          43.4,
          36.4,
          30,
          44.6,
          40.9,
          33.8,
          29.8,
          32.7,
          23.7,
          35,
          23.6,
          32.4,
          27.2,
          26.6,
          25.8,
          23.5,
          30,
          39.1,
          39,
          35.1,
          32.3,
          37,
          37.7,
          34.1,
          34.7,
          34.4,
          29.9,
          33,
          34.5,
          33.7,
          32.4,
          32.9,
          31.6,
          28.1,
          30.7,
          25.4,
          24.2,
          22.4,
          26.6,
          20.2,
          17.6,
          28,
          27,
          34,
          31,
          29,
          27,
          24,
          23,
          36,
          37,
          31,
          38,
          36,
          36,
          36,
          34,
          38,
          32,
          38,
          25,
          38,
          26,
          22,
          32,
          36,
          27,
          27,
          44,
          32,
          28,
          31
         ],
         "xaxis": "x",
         "y": [
          1,
          1,
          1,
          1,
          1,
          1,
          1,
          1,
          1,
          1,
          1,
          1,
          1,
          1,
          3,
          1,
          1,
          1,
          3,
          2,
          2,
          2,
          2,
          2,
          1,
          1,
          1,
          1,
          1,
          3,
          1,
          3,
          1,
          1,
          1,
          1,
          1,
          1,
          1,
          1,
          1,
          1,
          1,
          1,
          1,
          1,
          1,
          1,
          1,
          1,
          2,
          2,
          2,
          3,
          3,
          2,
          1,
          3,
          1,
          2,
          1,
          1,
          1,
          1,
          1,
          1,
          1,
          1,
          1,
          1,
          1,
          3,
          1,
          1,
          1,
          1,
          2,
          2,
          2,
          2,
          1,
          3,
          3,
          1,
          3,
          1,
          1,
          1,
          1,
          1,
          1,
          1,
          1,
          1,
          1,
          1,
          1,
          1,
          1,
          1,
          1,
          1,
          2,
          1,
          1,
          1,
          1,
          1,
          3,
          1,
          3,
          3,
          1,
          1,
          2,
          1,
          1,
          2,
          2,
          2,
          2,
          1,
          2,
          3,
          1,
          1,
          1,
          1,
          1,
          3,
          1,
          3,
          1,
          1,
          1,
          1,
          1,
          1,
          1,
          1,
          1,
          2,
          2,
          2,
          3,
          3,
          1,
          2,
          2,
          3,
          3,
          2,
          1,
          1,
          1,
          1,
          1,
          1,
          1,
          1,
          1,
          1,
          1,
          1,
          1,
          1,
          1,
          3,
          1,
          1,
          1,
          3,
          2,
          3,
          1,
          2,
          1,
          2,
          2,
          2,
          2,
          3,
          2,
          2,
          1,
          1,
          2,
          1,
          1,
          1,
          1,
          1,
          1,
          1,
          1,
          1,
          1,
          2,
          3,
          1,
          1,
          1,
          1,
          2,
          3,
          3,
          1,
          2,
          1,
          2,
          3,
          2,
          1,
          1,
          1,
          1,
          3,
          1,
          2,
          1,
          3,
          1,
          1,
          1,
          1,
          1,
          1,
          1,
          1,
          1,
          1,
          1,
          1,
          2,
          1,
          3,
          1,
          1,
          1,
          3,
          2,
          3,
          2,
          3,
          2,
          1,
          3,
          3,
          3,
          1,
          1,
          1,
          1,
          1,
          1,
          1,
          1,
          1,
          1,
          1,
          1,
          1,
          1,
          1,
          1,
          1,
          1,
          3,
          3,
          1,
          3,
          1,
          1,
          3,
          2,
          2,
          2,
          2,
          2,
          3,
          1,
          1,
          1,
          1,
          1,
          1,
          1,
          1,
          1,
          1,
          1,
          1,
          1,
          2,
          3,
          1,
          1,
          2,
          1,
          2,
          1,
          1,
          1,
          3,
          2,
          1,
          1,
          1,
          1,
          2,
          3,
          1,
          3,
          1,
          1,
          1,
          1,
          2,
          3,
          3,
          3,
          3,
          3,
          1,
          3,
          2,
          2,
          2,
          2,
          3,
          2,
          3,
          2,
          3,
          3,
          2,
          1,
          3,
          1,
          1,
          1,
          1,
          1,
          3,
          1,
          3,
          3,
          3,
          3,
          3,
          1,
          1,
          1,
          2,
          2,
          3,
          3,
          3,
          3,
          2,
          2,
          3,
          3,
          1,
          1,
          1,
          1,
          1,
          1,
          1,
          1,
          1,
          1,
          1,
          1,
          2,
          3,
          3,
          1,
          1,
          3,
          3,
          3,
          3,
          3,
          3,
          1,
          1,
          1,
          1,
          3,
          1,
          1,
          1,
          2,
          1,
          1,
          1
         ],
         "yaxis": "y"
        }
       ],
       "layout": {
        "barmode": "relative",
        "coloraxis": {
         "colorbar": {
          "title": {
           "text": "origin"
          }
         },
         "colorscale": [
          [
           0,
           "#0d0887"
          ],
          [
           0.1111111111111111,
           "#46039f"
          ],
          [
           0.2222222222222222,
           "#7201a8"
          ],
          [
           0.3333333333333333,
           "#9c179e"
          ],
          [
           0.4444444444444444,
           "#bd3786"
          ],
          [
           0.5555555555555556,
           "#d8576b"
          ],
          [
           0.6666666666666666,
           "#ed7953"
          ],
          [
           0.7777777777777778,
           "#fb9f3a"
          ],
          [
           0.8888888888888888,
           "#fdca26"
          ],
          [
           1,
           "#f0f921"
          ]
         ]
        },
        "legend": {
         "tracegroupgap": 0
        },
        "template": {
         "data": {
          "bar": [
           {
            "error_x": {
             "color": "#2a3f5f"
            },
            "error_y": {
             "color": "#2a3f5f"
            },
            "marker": {
             "line": {
              "color": "#E5ECF6",
              "width": 0.5
             },
             "pattern": {
              "fillmode": "overlay",
              "size": 10,
              "solidity": 0.2
             }
            },
            "type": "bar"
           }
          ],
          "barpolar": [
           {
            "marker": {
             "line": {
              "color": "#E5ECF6",
              "width": 0.5
             },
             "pattern": {
              "fillmode": "overlay",
              "size": 10,
              "solidity": 0.2
             }
            },
            "type": "barpolar"
           }
          ],
          "carpet": [
           {
            "aaxis": {
             "endlinecolor": "#2a3f5f",
             "gridcolor": "white",
             "linecolor": "white",
             "minorgridcolor": "white",
             "startlinecolor": "#2a3f5f"
            },
            "baxis": {
             "endlinecolor": "#2a3f5f",
             "gridcolor": "white",
             "linecolor": "white",
             "minorgridcolor": "white",
             "startlinecolor": "#2a3f5f"
            },
            "type": "carpet"
           }
          ],
          "choropleth": [
           {
            "colorbar": {
             "outlinewidth": 0,
             "ticks": ""
            },
            "type": "choropleth"
           }
          ],
          "contour": [
           {
            "colorbar": {
             "outlinewidth": 0,
             "ticks": ""
            },
            "colorscale": [
             [
              0,
              "#0d0887"
             ],
             [
              0.1111111111111111,
              "#46039f"
             ],
             [
              0.2222222222222222,
              "#7201a8"
             ],
             [
              0.3333333333333333,
              "#9c179e"
             ],
             [
              0.4444444444444444,
              "#bd3786"
             ],
             [
              0.5555555555555556,
              "#d8576b"
             ],
             [
              0.6666666666666666,
              "#ed7953"
             ],
             [
              0.7777777777777778,
              "#fb9f3a"
             ],
             [
              0.8888888888888888,
              "#fdca26"
             ],
             [
              1,
              "#f0f921"
             ]
            ],
            "type": "contour"
           }
          ],
          "contourcarpet": [
           {
            "colorbar": {
             "outlinewidth": 0,
             "ticks": ""
            },
            "type": "contourcarpet"
           }
          ],
          "heatmap": [
           {
            "colorbar": {
             "outlinewidth": 0,
             "ticks": ""
            },
            "colorscale": [
             [
              0,
              "#0d0887"
             ],
             [
              0.1111111111111111,
              "#46039f"
             ],
             [
              0.2222222222222222,
              "#7201a8"
             ],
             [
              0.3333333333333333,
              "#9c179e"
             ],
             [
              0.4444444444444444,
              "#bd3786"
             ],
             [
              0.5555555555555556,
              "#d8576b"
             ],
             [
              0.6666666666666666,
              "#ed7953"
             ],
             [
              0.7777777777777778,
              "#fb9f3a"
             ],
             [
              0.8888888888888888,
              "#fdca26"
             ],
             [
              1,
              "#f0f921"
             ]
            ],
            "type": "heatmap"
           }
          ],
          "heatmapgl": [
           {
            "colorbar": {
             "outlinewidth": 0,
             "ticks": ""
            },
            "colorscale": [
             [
              0,
              "#0d0887"
             ],
             [
              0.1111111111111111,
              "#46039f"
             ],
             [
              0.2222222222222222,
              "#7201a8"
             ],
             [
              0.3333333333333333,
              "#9c179e"
             ],
             [
              0.4444444444444444,
              "#bd3786"
             ],
             [
              0.5555555555555556,
              "#d8576b"
             ],
             [
              0.6666666666666666,
              "#ed7953"
             ],
             [
              0.7777777777777778,
              "#fb9f3a"
             ],
             [
              0.8888888888888888,
              "#fdca26"
             ],
             [
              1,
              "#f0f921"
             ]
            ],
            "type": "heatmapgl"
           }
          ],
          "histogram": [
           {
            "marker": {
             "pattern": {
              "fillmode": "overlay",
              "size": 10,
              "solidity": 0.2
             }
            },
            "type": "histogram"
           }
          ],
          "histogram2d": [
           {
            "colorbar": {
             "outlinewidth": 0,
             "ticks": ""
            },
            "colorscale": [
             [
              0,
              "#0d0887"
             ],
             [
              0.1111111111111111,
              "#46039f"
             ],
             [
              0.2222222222222222,
              "#7201a8"
             ],
             [
              0.3333333333333333,
              "#9c179e"
             ],
             [
              0.4444444444444444,
              "#bd3786"
             ],
             [
              0.5555555555555556,
              "#d8576b"
             ],
             [
              0.6666666666666666,
              "#ed7953"
             ],
             [
              0.7777777777777778,
              "#fb9f3a"
             ],
             [
              0.8888888888888888,
              "#fdca26"
             ],
             [
              1,
              "#f0f921"
             ]
            ],
            "type": "histogram2d"
           }
          ],
          "histogram2dcontour": [
           {
            "colorbar": {
             "outlinewidth": 0,
             "ticks": ""
            },
            "colorscale": [
             [
              0,
              "#0d0887"
             ],
             [
              0.1111111111111111,
              "#46039f"
             ],
             [
              0.2222222222222222,
              "#7201a8"
             ],
             [
              0.3333333333333333,
              "#9c179e"
             ],
             [
              0.4444444444444444,
              "#bd3786"
             ],
             [
              0.5555555555555556,
              "#d8576b"
             ],
             [
              0.6666666666666666,
              "#ed7953"
             ],
             [
              0.7777777777777778,
              "#fb9f3a"
             ],
             [
              0.8888888888888888,
              "#fdca26"
             ],
             [
              1,
              "#f0f921"
             ]
            ],
            "type": "histogram2dcontour"
           }
          ],
          "mesh3d": [
           {
            "colorbar": {
             "outlinewidth": 0,
             "ticks": ""
            },
            "type": "mesh3d"
           }
          ],
          "parcoords": [
           {
            "line": {
             "colorbar": {
              "outlinewidth": 0,
              "ticks": ""
             }
            },
            "type": "parcoords"
           }
          ],
          "pie": [
           {
            "automargin": true,
            "type": "pie"
           }
          ],
          "scatter": [
           {
            "marker": {
             "colorbar": {
              "outlinewidth": 0,
              "ticks": ""
             }
            },
            "type": "scatter"
           }
          ],
          "scatter3d": [
           {
            "line": {
             "colorbar": {
              "outlinewidth": 0,
              "ticks": ""
             }
            },
            "marker": {
             "colorbar": {
              "outlinewidth": 0,
              "ticks": ""
             }
            },
            "type": "scatter3d"
           }
          ],
          "scattercarpet": [
           {
            "marker": {
             "colorbar": {
              "outlinewidth": 0,
              "ticks": ""
             }
            },
            "type": "scattercarpet"
           }
          ],
          "scattergeo": [
           {
            "marker": {
             "colorbar": {
              "outlinewidth": 0,
              "ticks": ""
             }
            },
            "type": "scattergeo"
           }
          ],
          "scattergl": [
           {
            "marker": {
             "colorbar": {
              "outlinewidth": 0,
              "ticks": ""
             }
            },
            "type": "scattergl"
           }
          ],
          "scattermapbox": [
           {
            "marker": {
             "colorbar": {
              "outlinewidth": 0,
              "ticks": ""
             }
            },
            "type": "scattermapbox"
           }
          ],
          "scatterpolar": [
           {
            "marker": {
             "colorbar": {
              "outlinewidth": 0,
              "ticks": ""
             }
            },
            "type": "scatterpolar"
           }
          ],
          "scatterpolargl": [
           {
            "marker": {
             "colorbar": {
              "outlinewidth": 0,
              "ticks": ""
             }
            },
            "type": "scatterpolargl"
           }
          ],
          "scatterternary": [
           {
            "marker": {
             "colorbar": {
              "outlinewidth": 0,
              "ticks": ""
             }
            },
            "type": "scatterternary"
           }
          ],
          "surface": [
           {
            "colorbar": {
             "outlinewidth": 0,
             "ticks": ""
            },
            "colorscale": [
             [
              0,
              "#0d0887"
             ],
             [
              0.1111111111111111,
              "#46039f"
             ],
             [
              0.2222222222222222,
              "#7201a8"
             ],
             [
              0.3333333333333333,
              "#9c179e"
             ],
             [
              0.4444444444444444,
              "#bd3786"
             ],
             [
              0.5555555555555556,
              "#d8576b"
             ],
             [
              0.6666666666666666,
              "#ed7953"
             ],
             [
              0.7777777777777778,
              "#fb9f3a"
             ],
             [
              0.8888888888888888,
              "#fdca26"
             ],
             [
              1,
              "#f0f921"
             ]
            ],
            "type": "surface"
           }
          ],
          "table": [
           {
            "cells": {
             "fill": {
              "color": "#EBF0F8"
             },
             "line": {
              "color": "white"
             }
            },
            "header": {
             "fill": {
              "color": "#C8D4E3"
             },
             "line": {
              "color": "white"
             }
            },
            "type": "table"
           }
          ]
         },
         "layout": {
          "annotationdefaults": {
           "arrowcolor": "#2a3f5f",
           "arrowhead": 0,
           "arrowwidth": 1
          },
          "autotypenumbers": "strict",
          "coloraxis": {
           "colorbar": {
            "outlinewidth": 0,
            "ticks": ""
           }
          },
          "colorscale": {
           "diverging": [
            [
             0,
             "#8e0152"
            ],
            [
             0.1,
             "#c51b7d"
            ],
            [
             0.2,
             "#de77ae"
            ],
            [
             0.3,
             "#f1b6da"
            ],
            [
             0.4,
             "#fde0ef"
            ],
            [
             0.5,
             "#f7f7f7"
            ],
            [
             0.6,
             "#e6f5d0"
            ],
            [
             0.7,
             "#b8e186"
            ],
            [
             0.8,
             "#7fbc41"
            ],
            [
             0.9,
             "#4d9221"
            ],
            [
             1,
             "#276419"
            ]
           ],
           "sequential": [
            [
             0,
             "#0d0887"
            ],
            [
             0.1111111111111111,
             "#46039f"
            ],
            [
             0.2222222222222222,
             "#7201a8"
            ],
            [
             0.3333333333333333,
             "#9c179e"
            ],
            [
             0.4444444444444444,
             "#bd3786"
            ],
            [
             0.5555555555555556,
             "#d8576b"
            ],
            [
             0.6666666666666666,
             "#ed7953"
            ],
            [
             0.7777777777777778,
             "#fb9f3a"
            ],
            [
             0.8888888888888888,
             "#fdca26"
            ],
            [
             1,
             "#f0f921"
            ]
           ],
           "sequentialminus": [
            [
             0,
             "#0d0887"
            ],
            [
             0.1111111111111111,
             "#46039f"
            ],
            [
             0.2222222222222222,
             "#7201a8"
            ],
            [
             0.3333333333333333,
             "#9c179e"
            ],
            [
             0.4444444444444444,
             "#bd3786"
            ],
            [
             0.5555555555555556,
             "#d8576b"
            ],
            [
             0.6666666666666666,
             "#ed7953"
            ],
            [
             0.7777777777777778,
             "#fb9f3a"
            ],
            [
             0.8888888888888888,
             "#fdca26"
            ],
            [
             1,
             "#f0f921"
            ]
           ]
          },
          "colorway": [
           "#636efa",
           "#EF553B",
           "#00cc96",
           "#ab63fa",
           "#FFA15A",
           "#19d3f3",
           "#FF6692",
           "#B6E880",
           "#FF97FF",
           "#FECB52"
          ],
          "font": {
           "color": "#2a3f5f"
          },
          "geo": {
           "bgcolor": "white",
           "lakecolor": "white",
           "landcolor": "#E5ECF6",
           "showlakes": true,
           "showland": true,
           "subunitcolor": "white"
          },
          "hoverlabel": {
           "align": "left"
          },
          "hovermode": "closest",
          "mapbox": {
           "style": "light"
          },
          "paper_bgcolor": "white",
          "plot_bgcolor": "#E5ECF6",
          "polar": {
           "angularaxis": {
            "gridcolor": "white",
            "linecolor": "white",
            "ticks": ""
           },
           "bgcolor": "#E5ECF6",
           "radialaxis": {
            "gridcolor": "white",
            "linecolor": "white",
            "ticks": ""
           }
          },
          "scene": {
           "xaxis": {
            "backgroundcolor": "#E5ECF6",
            "gridcolor": "white",
            "gridwidth": 2,
            "linecolor": "white",
            "showbackground": true,
            "ticks": "",
            "zerolinecolor": "white"
           },
           "yaxis": {
            "backgroundcolor": "#E5ECF6",
            "gridcolor": "white",
            "gridwidth": 2,
            "linecolor": "white",
            "showbackground": true,
            "ticks": "",
            "zerolinecolor": "white"
           },
           "zaxis": {
            "backgroundcolor": "#E5ECF6",
            "gridcolor": "white",
            "gridwidth": 2,
            "linecolor": "white",
            "showbackground": true,
            "ticks": "",
            "zerolinecolor": "white"
           }
          },
          "shapedefaults": {
           "line": {
            "color": "#2a3f5f"
           }
          },
          "ternary": {
           "aaxis": {
            "gridcolor": "white",
            "linecolor": "white",
            "ticks": ""
           },
           "baxis": {
            "gridcolor": "white",
            "linecolor": "white",
            "ticks": ""
           },
           "bgcolor": "#E5ECF6",
           "caxis": {
            "gridcolor": "white",
            "linecolor": "white",
            "ticks": ""
           }
          },
          "title": {
           "x": 0.05
          },
          "xaxis": {
           "automargin": true,
           "gridcolor": "white",
           "linecolor": "white",
           "ticks": "",
           "title": {
            "standoff": 15
           },
           "zerolinecolor": "white",
           "zerolinewidth": 2
          },
          "yaxis": {
           "automargin": true,
           "gridcolor": "white",
           "linecolor": "white",
           "ticks": "",
           "title": {
            "standoff": 15
           },
           "zerolinecolor": "white",
           "zerolinewidth": 2
          }
         }
        },
        "title": {
         "text": "MPG Averages by Place of Origin By Model Year"
        },
        "xaxis": {
         "anchor": "y",
         "domain": [
          0,
          1
         ],
         "title": {
          "text": "mpg"
         }
        },
        "yaxis": {
         "anchor": "x",
         "domain": [
          0,
          1
         ],
         "title": {
          "text": "origin"
         }
        }
       }
      },
      "text/html": [
       "<div>                            <div id=\"c2e34322-3aa3-44c2-8544-7191f64e635a\" class=\"plotly-graph-div\" style=\"height:525px; width:100%;\"></div>            <script type=\"text/javascript\">                require([\"plotly\"], function(Plotly) {                    window.PLOTLYENV=window.PLOTLYENV || {};                                    if (document.getElementById(\"c2e34322-3aa3-44c2-8544-7191f64e635a\")) {                    Plotly.newPlot(                        \"c2e34322-3aa3-44c2-8544-7191f64e635a\",                        [{\"alignmentgroup\":\"True\",\"hovertemplate\":\"mpg=%{x}<br>origin=%{marker.color}<extra></extra>\",\"legendgroup\":\"\",\"marker\":{\"color\":[1,1,1,1,1,1,1,1,1,1,1,1,1,1,3,1,1,1,3,2,2,2,2,2,1,1,1,1,1,3,1,3,1,1,1,1,1,1,1,1,1,1,1,1,1,1,1,1,1,1,2,2,2,3,3,2,1,3,1,2,1,1,1,1,1,1,1,1,1,1,1,3,1,1,1,1,2,2,2,2,1,3,3,1,3,1,1,1,1,1,1,1,1,1,1,1,1,1,1,1,1,1,2,1,1,1,1,1,3,1,3,3,1,1,2,1,1,2,2,2,2,1,2,3,1,1,1,1,1,3,1,3,1,1,1,1,1,1,1,1,1,2,2,2,3,3,1,2,2,3,3,2,1,1,1,1,1,1,1,1,1,1,1,1,1,1,1,3,1,1,1,3,2,3,1,2,1,2,2,2,2,3,2,2,1,1,2,1,1,1,1,1,1,1,1,1,1,2,3,1,1,1,1,2,3,3,1,2,1,2,3,2,1,1,1,1,3,1,2,1,3,1,1,1,1,1,1,1,1,1,1,1,1,2,1,3,1,1,1,3,2,3,2,3,2,1,3,3,3,1,1,1,1,1,1,1,1,1,1,1,1,1,1,1,1,1,1,3,3,1,3,1,1,3,2,2,2,2,2,3,1,1,1,1,1,1,1,1,1,1,1,1,1,2,3,1,1,2,1,2,1,1,1,3,2,1,1,1,1,2,3,1,3,1,1,1,1,2,3,3,3,3,3,1,3,2,2,2,2,3,2,3,2,3,3,2,1,3,1,1,1,1,1,3,1,3,3,3,3,3,1,1,1,2,2,3,3,3,3,2,2,3,3,1,1,1,1,1,1,1,1,1,1,1,1,2,3,3,1,1,3,3,3,3,3,3,1,1,1,1,3,1,1,1,2,1,1,1],\"coloraxis\":\"coloraxis\",\"pattern\":{\"shape\":\"\"}},\"name\":\"\",\"offsetgroup\":\"\",\"orientation\":\"v\",\"showlegend\":false,\"textposition\":\"auto\",\"x\":[18.0,15.0,18.0,16.0,17.0,15.0,14.0,14.0,14.0,15.0,15.0,14.0,15.0,14.0,24.0,22.0,18.0,21.0,27.0,26.0,25.0,24.0,25.0,26.0,21.0,10.0,10.0,11.0,9.0,27.0,28.0,25.0,25.0,19.0,16.0,17.0,19.0,18.0,14.0,14.0,14.0,14.0,12.0,13.0,13.0,18.0,22.0,19.0,18.0,23.0,28.0,30.0,30.0,31.0,35.0,27.0,26.0,24.0,25.0,23.0,20.0,21.0,13.0,14.0,15.0,14.0,17.0,11.0,13.0,12.0,13.0,19.0,15.0,13.0,13.0,14.0,18.0,22.0,21.0,26.0,22.0,28.0,23.0,28.0,27.0,13.0,14.0,13.0,14.0,15.0,12.0,13.0,13.0,14.0,13.0,12.0,13.0,18.0,16.0,18.0,18.0,23.0,26.0,11.0,12.0,13.0,12.0,18.0,20.0,21.0,22.0,18.0,19.0,21.0,26.0,15.0,16.0,29.0,24.0,20.0,19.0,15.0,24.0,20.0,11.0,20.0,21.0,19.0,15.0,31.0,26.0,32.0,25.0,16.0,16.0,18.0,16.0,13.0,14.0,14.0,14.0,29.0,26.0,26.0,31.0,32.0,28.0,24.0,26.0,24.0,26.0,31.0,19.0,18.0,15.0,15.0,16.0,15.0,16.0,14.0,17.0,16.0,15.0,18.0,21.0,20.0,13.0,29.0,23.0,20.0,23.0,24.0,25.0,24.0,18.0,29.0,19.0,23.0,23.0,22.0,25.0,33.0,28.0,25.0,25.0,26.0,27.0,17.5,16.0,15.5,14.5,22.0,22.0,24.0,22.5,29.0,24.5,29.0,33.0,20.0,18.0,18.5,17.5,29.5,32.0,28.0,26.5,20.0,13.0,19.0,19.0,16.5,16.5,13.0,13.0,13.0,31.5,30.0,36.0,25.5,33.5,17.5,17.0,15.5,15.0,17.5,20.5,19.0,18.5,16.0,15.5,15.5,16.0,29.0,24.5,26.0,25.5,30.5,33.5,30.0,30.5,22.0,21.5,21.5,43.1,36.1,32.8,39.4,36.1,19.9,19.4,20.2,19.2,20.5,20.2,25.1,20.5,19.4,20.6,20.8,18.6,18.1,19.2,17.7,18.1,17.5,30.0,27.5,27.2,30.9,21.1,23.2,23.8,23.9,20.3,17.0,21.6,16.2,31.5,29.5,21.5,19.8,22.3,20.2,20.6,17.0,17.6,16.5,18.2,16.9,15.5,19.2,18.5,31.9,34.1,35.7,27.4,25.4,23.0,27.2,23.9,34.2,34.5,31.8,37.3,28.4,28.8,26.8,33.5,41.5,38.1,32.1,37.2,28.0,26.4,24.3,19.1,34.3,29.8,31.3,37.0,32.2,46.6,27.9,40.8,44.3,43.4,36.4,30.0,44.6,40.9,33.8,29.8,32.7,23.7,35.0,23.6,32.4,27.2,26.6,25.8,23.5,30.0,39.1,39.0,35.1,32.3,37.0,37.7,34.1,34.7,34.4,29.9,33.0,34.5,33.7,32.4,32.9,31.6,28.1,30.7,25.4,24.2,22.4,26.6,20.2,17.6,28.0,27.0,34.0,31.0,29.0,27.0,24.0,23.0,36.0,37.0,31.0,38.0,36.0,36.0,36.0,34.0,38.0,32.0,38.0,25.0,38.0,26.0,22.0,32.0,36.0,27.0,27.0,44.0,32.0,28.0,31.0],\"xaxis\":\"x\",\"y\":[1,1,1,1,1,1,1,1,1,1,1,1,1,1,3,1,1,1,3,2,2,2,2,2,1,1,1,1,1,3,1,3,1,1,1,1,1,1,1,1,1,1,1,1,1,1,1,1,1,1,2,2,2,3,3,2,1,3,1,2,1,1,1,1,1,1,1,1,1,1,1,3,1,1,1,1,2,2,2,2,1,3,3,1,3,1,1,1,1,1,1,1,1,1,1,1,1,1,1,1,1,1,2,1,1,1,1,1,3,1,3,3,1,1,2,1,1,2,2,2,2,1,2,3,1,1,1,1,1,3,1,3,1,1,1,1,1,1,1,1,1,2,2,2,3,3,1,2,2,3,3,2,1,1,1,1,1,1,1,1,1,1,1,1,1,1,1,3,1,1,1,3,2,3,1,2,1,2,2,2,2,3,2,2,1,1,2,1,1,1,1,1,1,1,1,1,1,2,3,1,1,1,1,2,3,3,1,2,1,2,3,2,1,1,1,1,3,1,2,1,3,1,1,1,1,1,1,1,1,1,1,1,1,2,1,3,1,1,1,3,2,3,2,3,2,1,3,3,3,1,1,1,1,1,1,1,1,1,1,1,1,1,1,1,1,1,1,3,3,1,3,1,1,3,2,2,2,2,2,3,1,1,1,1,1,1,1,1,1,1,1,1,1,2,3,1,1,2,1,2,1,1,1,3,2,1,1,1,1,2,3,1,3,1,1,1,1,2,3,3,3,3,3,1,3,2,2,2,2,3,2,3,2,3,3,2,1,3,1,1,1,1,1,3,1,3,3,3,3,3,1,1,1,2,2,3,3,3,3,2,2,3,3,1,1,1,1,1,1,1,1,1,1,1,1,2,3,3,1,1,3,3,3,3,3,3,1,1,1,1,3,1,1,1,2,1,1,1],\"yaxis\":\"y\",\"type\":\"bar\"}],                        {\"template\":{\"data\":{\"bar\":[{\"error_x\":{\"color\":\"#2a3f5f\"},\"error_y\":{\"color\":\"#2a3f5f\"},\"marker\":{\"line\":{\"color\":\"#E5ECF6\",\"width\":0.5},\"pattern\":{\"fillmode\":\"overlay\",\"size\":10,\"solidity\":0.2}},\"type\":\"bar\"}],\"barpolar\":[{\"marker\":{\"line\":{\"color\":\"#E5ECF6\",\"width\":0.5},\"pattern\":{\"fillmode\":\"overlay\",\"size\":10,\"solidity\":0.2}},\"type\":\"barpolar\"}],\"carpet\":[{\"aaxis\":{\"endlinecolor\":\"#2a3f5f\",\"gridcolor\":\"white\",\"linecolor\":\"white\",\"minorgridcolor\":\"white\",\"startlinecolor\":\"#2a3f5f\"},\"baxis\":{\"endlinecolor\":\"#2a3f5f\",\"gridcolor\":\"white\",\"linecolor\":\"white\",\"minorgridcolor\":\"white\",\"startlinecolor\":\"#2a3f5f\"},\"type\":\"carpet\"}],\"choropleth\":[{\"colorbar\":{\"outlinewidth\":0,\"ticks\":\"\"},\"type\":\"choropleth\"}],\"contour\":[{\"colorbar\":{\"outlinewidth\":0,\"ticks\":\"\"},\"colorscale\":[[0.0,\"#0d0887\"],[0.1111111111111111,\"#46039f\"],[0.2222222222222222,\"#7201a8\"],[0.3333333333333333,\"#9c179e\"],[0.4444444444444444,\"#bd3786\"],[0.5555555555555556,\"#d8576b\"],[0.6666666666666666,\"#ed7953\"],[0.7777777777777778,\"#fb9f3a\"],[0.8888888888888888,\"#fdca26\"],[1.0,\"#f0f921\"]],\"type\":\"contour\"}],\"contourcarpet\":[{\"colorbar\":{\"outlinewidth\":0,\"ticks\":\"\"},\"type\":\"contourcarpet\"}],\"heatmap\":[{\"colorbar\":{\"outlinewidth\":0,\"ticks\":\"\"},\"colorscale\":[[0.0,\"#0d0887\"],[0.1111111111111111,\"#46039f\"],[0.2222222222222222,\"#7201a8\"],[0.3333333333333333,\"#9c179e\"],[0.4444444444444444,\"#bd3786\"],[0.5555555555555556,\"#d8576b\"],[0.6666666666666666,\"#ed7953\"],[0.7777777777777778,\"#fb9f3a\"],[0.8888888888888888,\"#fdca26\"],[1.0,\"#f0f921\"]],\"type\":\"heatmap\"}],\"heatmapgl\":[{\"colorbar\":{\"outlinewidth\":0,\"ticks\":\"\"},\"colorscale\":[[0.0,\"#0d0887\"],[0.1111111111111111,\"#46039f\"],[0.2222222222222222,\"#7201a8\"],[0.3333333333333333,\"#9c179e\"],[0.4444444444444444,\"#bd3786\"],[0.5555555555555556,\"#d8576b\"],[0.6666666666666666,\"#ed7953\"],[0.7777777777777778,\"#fb9f3a\"],[0.8888888888888888,\"#fdca26\"],[1.0,\"#f0f921\"]],\"type\":\"heatmapgl\"}],\"histogram\":[{\"marker\":{\"pattern\":{\"fillmode\":\"overlay\",\"size\":10,\"solidity\":0.2}},\"type\":\"histogram\"}],\"histogram2d\":[{\"colorbar\":{\"outlinewidth\":0,\"ticks\":\"\"},\"colorscale\":[[0.0,\"#0d0887\"],[0.1111111111111111,\"#46039f\"],[0.2222222222222222,\"#7201a8\"],[0.3333333333333333,\"#9c179e\"],[0.4444444444444444,\"#bd3786\"],[0.5555555555555556,\"#d8576b\"],[0.6666666666666666,\"#ed7953\"],[0.7777777777777778,\"#fb9f3a\"],[0.8888888888888888,\"#fdca26\"],[1.0,\"#f0f921\"]],\"type\":\"histogram2d\"}],\"histogram2dcontour\":[{\"colorbar\":{\"outlinewidth\":0,\"ticks\":\"\"},\"colorscale\":[[0.0,\"#0d0887\"],[0.1111111111111111,\"#46039f\"],[0.2222222222222222,\"#7201a8\"],[0.3333333333333333,\"#9c179e\"],[0.4444444444444444,\"#bd3786\"],[0.5555555555555556,\"#d8576b\"],[0.6666666666666666,\"#ed7953\"],[0.7777777777777778,\"#fb9f3a\"],[0.8888888888888888,\"#fdca26\"],[1.0,\"#f0f921\"]],\"type\":\"histogram2dcontour\"}],\"mesh3d\":[{\"colorbar\":{\"outlinewidth\":0,\"ticks\":\"\"},\"type\":\"mesh3d\"}],\"parcoords\":[{\"line\":{\"colorbar\":{\"outlinewidth\":0,\"ticks\":\"\"}},\"type\":\"parcoords\"}],\"pie\":[{\"automargin\":true,\"type\":\"pie\"}],\"scatter\":[{\"marker\":{\"colorbar\":{\"outlinewidth\":0,\"ticks\":\"\"}},\"type\":\"scatter\"}],\"scatter3d\":[{\"line\":{\"colorbar\":{\"outlinewidth\":0,\"ticks\":\"\"}},\"marker\":{\"colorbar\":{\"outlinewidth\":0,\"ticks\":\"\"}},\"type\":\"scatter3d\"}],\"scattercarpet\":[{\"marker\":{\"colorbar\":{\"outlinewidth\":0,\"ticks\":\"\"}},\"type\":\"scattercarpet\"}],\"scattergeo\":[{\"marker\":{\"colorbar\":{\"outlinewidth\":0,\"ticks\":\"\"}},\"type\":\"scattergeo\"}],\"scattergl\":[{\"marker\":{\"colorbar\":{\"outlinewidth\":0,\"ticks\":\"\"}},\"type\":\"scattergl\"}],\"scattermapbox\":[{\"marker\":{\"colorbar\":{\"outlinewidth\":0,\"ticks\":\"\"}},\"type\":\"scattermapbox\"}],\"scatterpolar\":[{\"marker\":{\"colorbar\":{\"outlinewidth\":0,\"ticks\":\"\"}},\"type\":\"scatterpolar\"}],\"scatterpolargl\":[{\"marker\":{\"colorbar\":{\"outlinewidth\":0,\"ticks\":\"\"}},\"type\":\"scatterpolargl\"}],\"scatterternary\":[{\"marker\":{\"colorbar\":{\"outlinewidth\":0,\"ticks\":\"\"}},\"type\":\"scatterternary\"}],\"surface\":[{\"colorbar\":{\"outlinewidth\":0,\"ticks\":\"\"},\"colorscale\":[[0.0,\"#0d0887\"],[0.1111111111111111,\"#46039f\"],[0.2222222222222222,\"#7201a8\"],[0.3333333333333333,\"#9c179e\"],[0.4444444444444444,\"#bd3786\"],[0.5555555555555556,\"#d8576b\"],[0.6666666666666666,\"#ed7953\"],[0.7777777777777778,\"#fb9f3a\"],[0.8888888888888888,\"#fdca26\"],[1.0,\"#f0f921\"]],\"type\":\"surface\"}],\"table\":[{\"cells\":{\"fill\":{\"color\":\"#EBF0F8\"},\"line\":{\"color\":\"white\"}},\"header\":{\"fill\":{\"color\":\"#C8D4E3\"},\"line\":{\"color\":\"white\"}},\"type\":\"table\"}]},\"layout\":{\"annotationdefaults\":{\"arrowcolor\":\"#2a3f5f\",\"arrowhead\":0,\"arrowwidth\":1},\"autotypenumbers\":\"strict\",\"coloraxis\":{\"colorbar\":{\"outlinewidth\":0,\"ticks\":\"\"}},\"colorscale\":{\"diverging\":[[0,\"#8e0152\"],[0.1,\"#c51b7d\"],[0.2,\"#de77ae\"],[0.3,\"#f1b6da\"],[0.4,\"#fde0ef\"],[0.5,\"#f7f7f7\"],[0.6,\"#e6f5d0\"],[0.7,\"#b8e186\"],[0.8,\"#7fbc41\"],[0.9,\"#4d9221\"],[1,\"#276419\"]],\"sequential\":[[0.0,\"#0d0887\"],[0.1111111111111111,\"#46039f\"],[0.2222222222222222,\"#7201a8\"],[0.3333333333333333,\"#9c179e\"],[0.4444444444444444,\"#bd3786\"],[0.5555555555555556,\"#d8576b\"],[0.6666666666666666,\"#ed7953\"],[0.7777777777777778,\"#fb9f3a\"],[0.8888888888888888,\"#fdca26\"],[1.0,\"#f0f921\"]],\"sequentialminus\":[[0.0,\"#0d0887\"],[0.1111111111111111,\"#46039f\"],[0.2222222222222222,\"#7201a8\"],[0.3333333333333333,\"#9c179e\"],[0.4444444444444444,\"#bd3786\"],[0.5555555555555556,\"#d8576b\"],[0.6666666666666666,\"#ed7953\"],[0.7777777777777778,\"#fb9f3a\"],[0.8888888888888888,\"#fdca26\"],[1.0,\"#f0f921\"]]},\"colorway\":[\"#636efa\",\"#EF553B\",\"#00cc96\",\"#ab63fa\",\"#FFA15A\",\"#19d3f3\",\"#FF6692\",\"#B6E880\",\"#FF97FF\",\"#FECB52\"],\"font\":{\"color\":\"#2a3f5f\"},\"geo\":{\"bgcolor\":\"white\",\"lakecolor\":\"white\",\"landcolor\":\"#E5ECF6\",\"showlakes\":true,\"showland\":true,\"subunitcolor\":\"white\"},\"hoverlabel\":{\"align\":\"left\"},\"hovermode\":\"closest\",\"mapbox\":{\"style\":\"light\"},\"paper_bgcolor\":\"white\",\"plot_bgcolor\":\"#E5ECF6\",\"polar\":{\"angularaxis\":{\"gridcolor\":\"white\",\"linecolor\":\"white\",\"ticks\":\"\"},\"bgcolor\":\"#E5ECF6\",\"radialaxis\":{\"gridcolor\":\"white\",\"linecolor\":\"white\",\"ticks\":\"\"}},\"scene\":{\"xaxis\":{\"backgroundcolor\":\"#E5ECF6\",\"gridcolor\":\"white\",\"gridwidth\":2,\"linecolor\":\"white\",\"showbackground\":true,\"ticks\":\"\",\"zerolinecolor\":\"white\"},\"yaxis\":{\"backgroundcolor\":\"#E5ECF6\",\"gridcolor\":\"white\",\"gridwidth\":2,\"linecolor\":\"white\",\"showbackground\":true,\"ticks\":\"\",\"zerolinecolor\":\"white\"},\"zaxis\":{\"backgroundcolor\":\"#E5ECF6\",\"gridcolor\":\"white\",\"gridwidth\":2,\"linecolor\":\"white\",\"showbackground\":true,\"ticks\":\"\",\"zerolinecolor\":\"white\"}},\"shapedefaults\":{\"line\":{\"color\":\"#2a3f5f\"}},\"ternary\":{\"aaxis\":{\"gridcolor\":\"white\",\"linecolor\":\"white\",\"ticks\":\"\"},\"baxis\":{\"gridcolor\":\"white\",\"linecolor\":\"white\",\"ticks\":\"\"},\"bgcolor\":\"#E5ECF6\",\"caxis\":{\"gridcolor\":\"white\",\"linecolor\":\"white\",\"ticks\":\"\"}},\"title\":{\"x\":0.05},\"xaxis\":{\"automargin\":true,\"gridcolor\":\"white\",\"linecolor\":\"white\",\"ticks\":\"\",\"title\":{\"standoff\":15},\"zerolinecolor\":\"white\",\"zerolinewidth\":2},\"yaxis\":{\"automargin\":true,\"gridcolor\":\"white\",\"linecolor\":\"white\",\"ticks\":\"\",\"title\":{\"standoff\":15},\"zerolinecolor\":\"white\",\"zerolinewidth\":2}}},\"xaxis\":{\"anchor\":\"y\",\"domain\":[0.0,1.0],\"title\":{\"text\":\"mpg\"}},\"yaxis\":{\"anchor\":\"x\",\"domain\":[0.0,1.0],\"title\":{\"text\":\"origin\"}},\"coloraxis\":{\"colorbar\":{\"title\":{\"text\":\"origin\"}},\"colorscale\":[[0.0,\"#0d0887\"],[0.1111111111111111,\"#46039f\"],[0.2222222222222222,\"#7201a8\"],[0.3333333333333333,\"#9c179e\"],[0.4444444444444444,\"#bd3786\"],[0.5555555555555556,\"#d8576b\"],[0.6666666666666666,\"#ed7953\"],[0.7777777777777778,\"#fb9f3a\"],[0.8888888888888888,\"#fdca26\"],[1.0,\"#f0f921\"]]},\"legend\":{\"tracegroupgap\":0},\"title\":{\"text\":\"MPG Averages by Place of Origin By Model Year\"},\"barmode\":\"relative\"},                        {\"responsive\": true}                    ).then(function(){\n",
       "                            \n",
       "var gd = document.getElementById('c2e34322-3aa3-44c2-8544-7191f64e635a');\n",
       "var x = new MutationObserver(function (mutations, observer) {{\n",
       "        var display = window.getComputedStyle(gd).display;\n",
       "        if (!display || display === 'none') {{\n",
       "            console.log([gd, 'removed!']);\n",
       "            Plotly.purge(gd);\n",
       "            observer.disconnect();\n",
       "        }}\n",
       "}});\n",
       "\n",
       "// Listen for the removal of the full notebook cells\n",
       "var notebookContainer = gd.closest('#notebook-container');\n",
       "if (notebookContainer) {{\n",
       "    x.observe(notebookContainer, {childList: true});\n",
       "}}\n",
       "\n",
       "// Listen for the clearing of the current output cell\n",
       "var outputEl = gd.closest('.output');\n",
       "if (outputEl) {{\n",
       "    x.observe(outputEl, {childList: true});\n",
       "}}\n",
       "\n",
       "                        })                };                });            </script>        </div>"
      ]
     },
     "metadata": {},
     "output_type": "display_data"
    }
   ],
   "source": [
    "#Create first visual based upon years and quantities sold.\n",
    "fig = px.bar(df3,title=\"MPG Averages by Place of Origin By Model Year\", x='mpg', y='origin', color='origin')\n",
    "fig.show()"
   ]
  },
  {
   "cell_type": "code",
   "execution_count": 116,
   "id": "c1fb3f72",
   "metadata": {},
   "outputs": [
    {
     "data": {
      "application/vnd.plotly.v1+json": {
       "config": {
        "plotlyServerURL": "https://plot.ly"
       },
       "data": [
        {
         "customdata": [
          [
           "chevrolet chevelle malibu"
          ],
          [
           "buick skylark 320"
          ],
          [
           "plymouth satellite"
          ],
          [
           "amc rebel sst"
          ],
          [
           "ford torino"
          ],
          [
           "ford galaxie 500"
          ],
          [
           "chevrolet impala"
          ],
          [
           "plymouth fury iii"
          ],
          [
           "pontiac catalina"
          ],
          [
           "amc ambassador dpl"
          ],
          [
           "dodge challenger se"
          ],
          [
           "plymouth 'cuda 340"
          ],
          [
           "chevrolet monte carlo"
          ],
          [
           "buick estate wagon (sw)"
          ],
          [
           "toyota corona mark ii"
          ],
          [
           "plymouth duster"
          ],
          [
           "amc hornet"
          ],
          [
           "ford maverick"
          ],
          [
           "datsun pl510"
          ],
          [
           "volkswagen 1131 deluxe sedan"
          ],
          [
           "peugeot 504"
          ],
          [
           "audi 100 ls"
          ],
          [
           "saab 99e"
          ],
          [
           "bmw 2002"
          ],
          [
           "amc gremlin"
          ],
          [
           "ford f250"
          ],
          [
           "chevy c20"
          ],
          [
           "dodge d200"
          ],
          [
           "hi 1200d"
          ],
          [
           "datsun pl510"
          ],
          [
           "chevrolet vega 2300"
          ],
          [
           "toyota corona"
          ],
          [
           "ford pinto"
          ],
          [
           "amc gremlin"
          ],
          [
           "plymouth satellite custom"
          ],
          [
           "chevrolet chevelle malibu"
          ],
          [
           "ford torino 500"
          ],
          [
           "amc matador"
          ],
          [
           "chevrolet impala"
          ],
          [
           "pontiac catalina brougham"
          ],
          [
           "ford galaxie 500"
          ],
          [
           "plymouth fury iii"
          ],
          [
           "dodge monaco (sw)"
          ],
          [
           "ford country squire (sw)"
          ],
          [
           "pontiac safari (sw)"
          ],
          [
           "amc hornet sportabout (sw)"
          ],
          [
           "chevrolet vega (sw)"
          ],
          [
           "pontiac firebird"
          ],
          [
           "ford mustang"
          ],
          [
           "mercury capri 2000"
          ],
          [
           "opel 1900"
          ],
          [
           "peugeot 304"
          ],
          [
           "fiat 124b"
          ],
          [
           "toyota corolla 1200"
          ],
          [
           "datsun 1200"
          ],
          [
           "volkswagen model 111"
          ],
          [
           "plymouth cricket"
          ],
          [
           "toyota corona hardtop"
          ],
          [
           "dodge colt hardtop"
          ],
          [
           "volkswagen type 3"
          ],
          [
           "chevrolet vega"
          ],
          [
           "ford pinto runabout"
          ],
          [
           "chevrolet impala"
          ],
          [
           "pontiac catalina"
          ],
          [
           "plymouth fury iii"
          ],
          [
           "ford galaxie 500"
          ],
          [
           "amc ambassador sst"
          ],
          [
           "mercury marquis"
          ],
          [
           "buick lesabre custom"
          ],
          [
           "oldsmobile delta 88 royale"
          ],
          [
           "chrysler newport royal"
          ],
          [
           "mazda rx2 coupe"
          ],
          [
           "amc matador (sw)"
          ],
          [
           "chevrolet chevelle concours (sw)"
          ],
          [
           "ford gran torino (sw)"
          ],
          [
           "plymouth satellite custom (sw)"
          ],
          [
           "volvo 145e (sw)"
          ],
          [
           "volkswagen 411 (sw)"
          ],
          [
           "peugeot 504 (sw)"
          ],
          [
           "renault 12 (sw)"
          ],
          [
           "ford pinto (sw)"
          ],
          [
           "datsun 510 (sw)"
          ],
          [
           "toyouta corona mark ii (sw)"
          ],
          [
           "dodge colt (sw)"
          ],
          [
           "toyota corolla 1600 (sw)"
          ],
          [
           "buick century 350"
          ],
          [
           "amc matador"
          ],
          [
           "chevrolet malibu"
          ],
          [
           "ford gran torino"
          ],
          [
           "dodge coronet custom"
          ],
          [
           "mercury marquis brougham"
          ],
          [
           "chevrolet caprice classic"
          ],
          [
           "ford ltd"
          ],
          [
           "plymouth fury gran sedan"
          ],
          [
           "chrysler new yorker brougham"
          ],
          [
           "buick electra 225 custom"
          ],
          [
           "amc ambassador brougham"
          ],
          [
           "plymouth valiant"
          ],
          [
           "chevrolet nova custom"
          ],
          [
           "amc hornet"
          ],
          [
           "ford maverick"
          ],
          [
           "plymouth duster"
          ],
          [
           "volkswagen super beetle"
          ],
          [
           "chevrolet impala"
          ],
          [
           "ford country"
          ],
          [
           "plymouth custom suburb"
          ],
          [
           "oldsmobile vista cruiser"
          ],
          [
           "amc gremlin"
          ],
          [
           "toyota carina"
          ],
          [
           "chevrolet vega"
          ],
          [
           "datsun 610"
          ],
          [
           "maxda rx3"
          ],
          [
           "ford pinto"
          ],
          [
           "mercury capri v6"
          ],
          [
           "fiat 124 sport coupe"
          ],
          [
           "chevrolet monte carlo s"
          ],
          [
           "pontiac grand prix"
          ],
          [
           "fiat 128"
          ],
          [
           "opel manta"
          ],
          [
           "audi 100ls"
          ],
          [
           "volvo 144ea"
          ],
          [
           "dodge dart custom"
          ],
          [
           "saab 99le"
          ],
          [
           "toyota mark ii"
          ],
          [
           "oldsmobile omega"
          ],
          [
           "plymouth duster"
          ],
          [
           "ford maverick"
          ],
          [
           "amc hornet"
          ],
          [
           "chevrolet nova"
          ],
          [
           "datsun b210"
          ],
          [
           "ford pinto"
          ],
          [
           "toyota corolla 1200"
          ],
          [
           "chevrolet vega"
          ],
          [
           "chevrolet chevelle malibu classic"
          ],
          [
           "amc matador"
          ],
          [
           "plymouth satellite sebring"
          ],
          [
           "ford gran torino"
          ],
          [
           "buick century luxus (sw)"
          ],
          [
           "dodge coronet custom (sw)"
          ],
          [
           "ford gran torino (sw)"
          ],
          [
           "amc matador (sw)"
          ],
          [
           "audi fox"
          ],
          [
           "volkswagen dasher"
          ],
          [
           "opel manta"
          ],
          [
           "toyota corona"
          ],
          [
           "datsun 710"
          ],
          [
           "dodge colt"
          ],
          [
           "fiat 128"
          ],
          [
           "fiat 124 tc"
          ],
          [
           "honda civic"
          ],
          [
           "subaru"
          ],
          [
           "fiat x1.9"
          ],
          [
           "plymouth valiant custom"
          ],
          [
           "chevrolet nova"
          ],
          [
           "mercury monarch"
          ],
          [
           "ford maverick"
          ],
          [
           "pontiac catalina"
          ],
          [
           "chevrolet bel air"
          ],
          [
           "plymouth grand fury"
          ],
          [
           "ford ltd"
          ],
          [
           "buick century"
          ],
          [
           "chevroelt chevelle malibu"
          ],
          [
           "amc matador"
          ],
          [
           "plymouth fury"
          ],
          [
           "buick skyhawk"
          ],
          [
           "chevrolet monza 2+2"
          ],
          [
           "ford mustang ii"
          ],
          [
           "toyota corolla"
          ],
          [
           "ford pinto"
          ],
          [
           "amc gremlin"
          ],
          [
           "pontiac astro"
          ],
          [
           "toyota corona"
          ],
          [
           "volkswagen dasher"
          ],
          [
           "datsun 710"
          ],
          [
           "ford pinto"
          ],
          [
           "volkswagen rabbit"
          ],
          [
           "amc pacer"
          ],
          [
           "audi 100ls"
          ],
          [
           "peugeot 504"
          ],
          [
           "volvo 244dl"
          ],
          [
           "saab 99le"
          ],
          [
           "honda civic cvcc"
          ],
          [
           "fiat 131"
          ],
          [
           "opel 1900"
          ],
          [
           "capri ii"
          ],
          [
           "dodge colt"
          ],
          [
           "renault 12tl"
          ],
          [
           "chevrolet chevelle malibu classic"
          ],
          [
           "dodge coronet brougham"
          ],
          [
           "amc matador"
          ],
          [
           "ford gran torino"
          ],
          [
           "plymouth valiant"
          ],
          [
           "chevrolet nova"
          ],
          [
           "ford maverick"
          ],
          [
           "amc hornet"
          ],
          [
           "chevrolet chevette"
          ],
          [
           "chevrolet woody"
          ],
          [
           "vw rabbit"
          ],
          [
           "honda civic"
          ],
          [
           "dodge aspen se"
          ],
          [
           "ford granada ghia"
          ],
          [
           "pontiac ventura sj"
          ],
          [
           "amc pacer d/l"
          ],
          [
           "volkswagen rabbit"
          ],
          [
           "datsun b-210"
          ],
          [
           "toyota corolla"
          ],
          [
           "ford pinto"
          ],
          [
           "volvo 245"
          ],
          [
           "plymouth volare premier v8"
          ],
          [
           "peugeot 504"
          ],
          [
           "toyota mark ii"
          ],
          [
           "mercedes-benz 280s"
          ],
          [
           "cadillac seville"
          ],
          [
           "chevy c10"
          ],
          [
           "ford f108"
          ],
          [
           "dodge d100"
          ],
          [
           "honda accord cvcc"
          ],
          [
           "buick opel isuzu deluxe"
          ],
          [
           "renault 5 gtl"
          ],
          [
           "plymouth arrow gs"
          ],
          [
           "datsun f-10 hatchback"
          ],
          [
           "chevrolet caprice classic"
          ],
          [
           "oldsmobile cutlass supreme"
          ],
          [
           "dodge monaco brougham"
          ],
          [
           "mercury cougar brougham"
          ],
          [
           "chevrolet concours"
          ],
          [
           "buick skylark"
          ],
          [
           "plymouth volare custom"
          ],
          [
           "ford granada"
          ],
          [
           "pontiac grand prix lj"
          ],
          [
           "chevrolet monte carlo landau"
          ],
          [
           "chrysler cordoba"
          ],
          [
           "ford thunderbird"
          ],
          [
           "volkswagen rabbit custom"
          ],
          [
           "pontiac sunbird coupe"
          ],
          [
           "toyota corolla liftback"
          ],
          [
           "ford mustang ii 2+2"
          ],
          [
           "chevrolet chevette"
          ],
          [
           "dodge colt m/m"
          ],
          [
           "subaru dl"
          ],
          [
           "volkswagen dasher"
          ],
          [
           "datsun 810"
          ],
          [
           "bmw 320i"
          ],
          [
           "mazda rx-4"
          ],
          [
           "volkswagen rabbit custom diesel"
          ],
          [
           "ford fiesta"
          ],
          [
           "mazda glc deluxe"
          ],
          [
           "datsun b210 gx"
          ],
          [
           "honda civic cvcc"
          ],
          [
           "oldsmobile cutlass salon brougham"
          ],
          [
           "dodge diplomat"
          ],
          [
           "mercury monarch ghia"
          ],
          [
           "pontiac phoenix lj"
          ],
          [
           "chevrolet malibu"
          ],
          [
           "ford fairmont (auto)"
          ],
          [
           "ford fairmont (man)"
          ],
          [
           "plymouth volare"
          ],
          [
           "amc concord"
          ],
          [
           "buick century special"
          ],
          [
           "mercury zephyr"
          ],
          [
           "dodge aspen"
          ],
          [
           "amc concord d/l"
          ],
          [
           "chevrolet monte carlo landau"
          ],
          [
           "buick regal sport coupe (turbo)"
          ],
          [
           "ford futura"
          ],
          [
           "dodge magnum xe"
          ],
          [
           "chevrolet chevette"
          ],
          [
           "toyota corona"
          ],
          [
           "datsun 510"
          ],
          [
           "dodge omni"
          ],
          [
           "toyota celica gt liftback"
          ],
          [
           "plymouth sapporo"
          ],
          [
           "oldsmobile starfire sx"
          ],
          [
           "datsun 200-sx"
          ],
          [
           "audi 5000"
          ],
          [
           "volvo 264gl"
          ],
          [
           "saab 99gle"
          ],
          [
           "peugeot 604sl"
          ],
          [
           "volkswagen scirocco"
          ],
          [
           "honda accord lx"
          ],
          [
           "pontiac lemans v6"
          ],
          [
           "mercury zephyr 6"
          ],
          [
           "ford fairmont 4"
          ],
          [
           "amc concord dl 6"
          ],
          [
           "dodge aspen 6"
          ],
          [
           "chevrolet caprice classic"
          ],
          [
           "ford ltd landau"
          ],
          [
           "mercury grand marquis"
          ],
          [
           "dodge st. regis"
          ],
          [
           "buick estate wagon (sw)"
          ],
          [
           "ford country squire (sw)"
          ],
          [
           "chevrolet malibu classic (sw)"
          ],
          [
           "chrysler lebaron town @ country (sw)"
          ],
          [
           "vw rabbit custom"
          ],
          [
           "maxda glc deluxe"
          ],
          [
           "dodge colt hatchback custom"
          ],
          [
           "amc spirit dl"
          ],
          [
           "mercedes benz 300d"
          ],
          [
           "cadillac eldorado"
          ],
          [
           "peugeot 504"
          ],
          [
           "oldsmobile cutlass salon brougham"
          ],
          [
           "plymouth horizon"
          ],
          [
           "plymouth horizon tc3"
          ],
          [
           "datsun 210"
          ],
          [
           "fiat strada custom"
          ],
          [
           "buick skylark limited"
          ],
          [
           "chevrolet citation"
          ],
          [
           "oldsmobile omega brougham"
          ],
          [
           "pontiac phoenix"
          ],
          [
           "vw rabbit"
          ],
          [
           "toyota corolla tercel"
          ],
          [
           "chevrolet chevette"
          ],
          [
           "datsun 310"
          ],
          [
           "chevrolet citation"
          ],
          [
           "ford fairmont"
          ],
          [
           "amc concord"
          ],
          [
           "dodge aspen"
          ],
          [
           "audi 4000"
          ],
          [
           "toyota corona liftback"
          ],
          [
           "mazda 626"
          ],
          [
           "datsun 510 hatchback"
          ],
          [
           "toyota corolla"
          ],
          [
           "mazda glc"
          ],
          [
           "dodge colt"
          ],
          [
           "datsun 210"
          ],
          [
           "vw rabbit c (diesel)"
          ],
          [
           "vw dasher (diesel)"
          ],
          [
           "audi 5000s (diesel)"
          ],
          [
           "mercedes-benz 240d"
          ],
          [
           "honda civic 1500 gl"
          ],
          [
           "renault lecar deluxe"
          ],
          [
           "subaru dl"
          ],
          [
           "vokswagen rabbit"
          ],
          [
           "datsun 280-zx"
          ],
          [
           "mazda rx-7 gs"
          ],
          [
           "triumph tr7 coupe"
          ],
          [
           "ford mustang cobra"
          ],
          [
           "honda accord"
          ],
          [
           "plymouth reliant"
          ],
          [
           "buick skylark"
          ],
          [
           "dodge aries wagon (sw)"
          ],
          [
           "chevrolet citation"
          ],
          [
           "plymouth reliant"
          ],
          [
           "toyota starlet"
          ],
          [
           "plymouth champ"
          ],
          [
           "honda civic 1300"
          ],
          [
           "subaru"
          ],
          [
           "datsun 210 mpg"
          ],
          [
           "toyota tercel"
          ],
          [
           "mazda glc 4"
          ],
          [
           "plymouth horizon 4"
          ],
          [
           "ford escort 4w"
          ],
          [
           "ford escort 2h"
          ],
          [
           "volkswagen jetta"
          ],
          [
           "renault 18i"
          ],
          [
           "honda prelude"
          ],
          [
           "toyota corolla"
          ],
          [
           "datsun 200sx"
          ],
          [
           "mazda 626"
          ],
          [
           "peugeot 505s turbo diesel"
          ],
          [
           "volvo diesel"
          ],
          [
           "toyota cressida"
          ],
          [
           "datsun 810 maxima"
          ],
          [
           "buick century"
          ],
          [
           "oldsmobile cutlass ls"
          ],
          [
           "ford granada gl"
          ],
          [
           "chrysler lebaron salon"
          ],
          [
           "chevrolet cavalier"
          ],
          [
           "chevrolet cavalier wagon"
          ],
          [
           "chevrolet cavalier 2-door"
          ],
          [
           "pontiac j2000 se hatchback"
          ],
          [
           "dodge aries se"
          ],
          [
           "pontiac phoenix"
          ],
          [
           "ford fairmont futura"
          ],
          [
           "amc concord dl"
          ],
          [
           "volkswagen rabbit l"
          ],
          [
           "mazda glc custom l"
          ],
          [
           "mazda glc custom"
          ],
          [
           "plymouth horizon miser"
          ],
          [
           "mercury lynx l"
          ],
          [
           "nissan stanza xe"
          ],
          [
           "honda accord"
          ],
          [
           "toyota corolla"
          ],
          [
           "honda civic"
          ],
          [
           "honda civic (auto)"
          ],
          [
           "datsun 310 gx"
          ],
          [
           "buick century limited"
          ],
          [
           "oldsmobile cutlass ciera (diesel)"
          ],
          [
           "chrysler lebaron medallion"
          ],
          [
           "ford granada l"
          ],
          [
           "toyota celica gt"
          ],
          [
           "dodge charger 2.2"
          ],
          [
           "chevrolet camaro"
          ],
          [
           "ford mustang gl"
          ],
          [
           "vw pickup"
          ],
          [
           "dodge rampage"
          ],
          [
           "ford ranger"
          ],
          [
           "chevy s-10"
          ]
         ],
         "hovertemplate": "acceleration=%{x}<br>weight=%{y}<br>vehicle name=%{customdata[0]}<br>model=%{marker.color}<extra></extra>",
         "legendgroup": "",
         "marker": {
          "color": [
           70,
           70,
           70,
           70,
           70,
           70,
           70,
           70,
           70,
           70,
           70,
           70,
           70,
           70,
           70,
           70,
           70,
           70,
           70,
           70,
           70,
           70,
           70,
           70,
           70,
           70,
           70,
           70,
           70,
           71,
           71,
           71,
           71,
           71,
           71,
           71,
           71,
           71,
           71,
           71,
           71,
           71,
           71,
           71,
           71,
           71,
           71,
           71,
           71,
           71,
           71,
           71,
           71,
           71,
           71,
           71,
           71,
           72,
           72,
           72,
           72,
           72,
           72,
           72,
           72,
           72,
           72,
           72,
           72,
           72,
           72,
           72,
           72,
           72,
           72,
           72,
           72,
           72,
           72,
           72,
           72,
           72,
           72,
           72,
           72,
           73,
           73,
           73,
           73,
           73,
           73,
           73,
           73,
           73,
           73,
           73,
           73,
           73,
           73,
           73,
           73,
           73,
           73,
           73,
           73,
           73,
           73,
           73,
           73,
           73,
           73,
           73,
           73,
           73,
           73,
           73,
           73,
           73,
           73,
           73,
           73,
           73,
           73,
           73,
           73,
           74,
           74,
           74,
           74,
           74,
           74,
           74,
           74,
           74,
           74,
           74,
           74,
           74,
           74,
           74,
           74,
           74,
           74,
           74,
           74,
           74,
           74,
           74,
           74,
           74,
           74,
           74,
           75,
           75,
           75,
           75,
           75,
           75,
           75,
           75,
           75,
           75,
           75,
           75,
           75,
           75,
           75,
           75,
           75,
           75,
           75,
           75,
           75,
           75,
           75,
           75,
           75,
           75,
           75,
           75,
           75,
           75,
           76,
           76,
           76,
           76,
           76,
           76,
           76,
           76,
           76,
           76,
           76,
           76,
           76,
           76,
           76,
           76,
           76,
           76,
           76,
           76,
           76,
           76,
           76,
           76,
           76,
           76,
           76,
           76,
           76,
           76,
           76,
           76,
           76,
           76,
           77,
           77,
           77,
           77,
           77,
           77,
           77,
           77,
           77,
           77,
           77,
           77,
           77,
           77,
           77,
           77,
           77,
           77,
           77,
           77,
           77,
           77,
           77,
           77,
           77,
           77,
           77,
           77,
           78,
           78,
           78,
           78,
           78,
           78,
           78,
           78,
           78,
           78,
           78,
           78,
           78,
           78,
           78,
           78,
           78,
           78,
           78,
           78,
           78,
           78,
           78,
           78,
           78,
           78,
           78,
           78,
           78,
           78,
           78,
           78,
           78,
           78,
           78,
           78,
           79,
           79,
           79,
           79,
           79,
           79,
           79,
           79,
           79,
           79,
           79,
           79,
           79,
           79,
           79,
           79,
           79,
           79,
           79,
           79,
           79,
           79,
           79,
           79,
           79,
           79,
           79,
           79,
           79,
           80,
           80,
           80,
           80,
           80,
           80,
           80,
           80,
           80,
           80,
           80,
           80,
           80,
           80,
           80,
           80,
           80,
           80,
           80,
           80,
           80,
           80,
           80,
           80,
           80,
           80,
           80,
           80,
           80,
           81,
           81,
           81,
           81,
           81,
           81,
           81,
           81,
           81,
           81,
           81,
           81,
           81,
           81,
           81,
           81,
           81,
           81,
           81,
           81,
           81,
           81,
           81,
           81,
           81,
           81,
           81,
           81,
           81,
           82,
           82,
           82,
           82,
           82,
           82,
           82,
           82,
           82,
           82,
           82,
           82,
           82,
           82,
           82,
           82,
           82,
           82,
           82,
           82,
           82,
           82,
           82,
           82,
           82,
           82,
           82,
           82,
           82,
           82,
           82
          ],
          "coloraxis": "coloraxis",
          "symbol": "circle"
         },
         "mode": "markers",
         "name": "",
         "orientation": "v",
         "showlegend": false,
         "type": "scatter",
         "x": [
          12,
          11.5,
          11,
          12,
          10.5,
          10,
          9,
          8.5,
          10,
          8.5,
          10,
          8,
          9.5,
          10,
          15,
          15.5,
          15.5,
          16,
          14.5,
          20.5,
          17.5,
          14.5,
          17.5,
          12.5,
          15,
          14,
          15,
          13.5,
          18.5,
          14.5,
          15.5,
          14,
          19,
          13,
          15.5,
          15.5,
          15.5,
          15.5,
          12,
          11.5,
          13.5,
          13,
          11.5,
          12,
          12,
          13.5,
          19,
          15,
          14.5,
          14,
          14,
          19.5,
          14.5,
          19,
          18,
          19,
          20.5,
          15.5,
          17,
          23.5,
          19.5,
          16.5,
          12,
          12,
          13.5,
          13,
          11.5,
          11,
          13.5,
          13.5,
          12.5,
          13.5,
          12.5,
          14,
          16,
          14,
          14.5,
          18,
          19.5,
          18,
          16,
          17,
          14.5,
          15,
          16.5,
          13,
          11.5,
          13,
          14.5,
          12.5,
          11.5,
          12,
          13,
          14.5,
          11,
          11,
          11,
          16.5,
          18,
          16,
          16.5,
          16,
          21,
          14,
          12.5,
          13,
          12.5,
          15,
          19,
          19.5,
          16.5,
          13.5,
          18.5,
          14,
          15.5,
          13,
          9.5,
          19.5,
          15.5,
          14,
          15.5,
          11,
          14,
          13.5,
          11,
          16.5,
          17,
          16,
          17,
          19,
          16.5,
          21,
          17,
          17,
          18,
          16.5,
          14,
          14.5,
          13.5,
          16,
          15.5,
          16.5,
          15.5,
          14.5,
          16.5,
          19,
          14.5,
          15.5,
          14,
          15,
          15.5,
          16,
          16,
          16,
          21,
          19.5,
          11.5,
          14,
          14.5,
          13.5,
          21,
          18.5,
          19,
          19,
          15,
          13.5,
          12,
          16,
          17,
          16,
          18.5,
          13.5,
          16.5,
          17,
          14.5,
          14,
          17,
          15,
          17,
          14.5,
          13.5,
          17.5,
          15.5,
          16.9,
          14.9,
          17.7,
          15.3,
          13,
          13,
          13.9,
          12.8,
          15.4,
          14.5,
          17.6,
          17.6,
          22.2,
          22.1,
          14.2,
          17.4,
          17.7,
          21,
          16.2,
          17.8,
          12.2,
          17,
          16.4,
          13.6,
          15.7,
          13.2,
          21.9,
          15.5,
          16.7,
          12.1,
          12,
          15,
          14,
          18.5,
          14.8,
          18.6,
          15.5,
          16.8,
          12.5,
          19,
          13.7,
          14.9,
          16.4,
          16.9,
          17.7,
          19,
          11.1,
          11.4,
          12.2,
          14.5,
          14.5,
          16,
          18.2,
          15.8,
          17,
          15.9,
          16.4,
          14.1,
          14.5,
          12.8,
          13.5,
          21.5,
          14.4,
          19.4,
          18.6,
          16.4,
          15.5,
          13.2,
          12.8,
          19.2,
          18.2,
          15.8,
          15.4,
          17.2,
          17.2,
          15.8,
          16.7,
          18.7,
          15.1,
          13.2,
          13.4,
          11.2,
          13.7,
          16.5,
          14.2,
          14.7,
          14.5,
          14.8,
          16.7,
          17.6,
          14.9,
          15.9,
          13.6,
          15.7,
          15.8,
          14.9,
          16.6,
          15.4,
          18.2,
          17.3,
          18.2,
          16.6,
          15.4,
          13.4,
          13.2,
          15.2,
          14.9,
          14.3,
          15,
          13,
          14,
          15.2,
          14.4,
          15,
          20.1,
          17.4,
          24.8,
          22.2,
          13.2,
          14.9,
          19.2,
          14.7,
          16,
          11.3,
          12.9,
          13.2,
          14.7,
          18.8,
          15.5,
          16.4,
          16.5,
          18.1,
          20.1,
          18.7,
          15.8,
          15.5,
          17.5,
          15,
          15.2,
          17.9,
          14.4,
          19.2,
          21.7,
          23.7,
          19.9,
          21.8,
          13.8,
          17.3,
          18,
          15.3,
          11.4,
          12.5,
          15.1,
          14.3,
          17,
          15.7,
          16.4,
          14.4,
          12.6,
          12.9,
          16.9,
          16.4,
          16.1,
          17.8,
          19.4,
          17.3,
          16,
          14.9,
          16.2,
          20.7,
          14.2,
          15.8,
          14.4,
          16.8,
          14.8,
          18.3,
          20.4,
          19.6,
          12.6,
          13.8,
          15.8,
          19,
          17.1,
          16.6,
          19.6,
          18.6,
          18,
          16.2,
          16,
          18,
          16.4,
          20.5,
          15.3,
          18.2,
          17.6,
          14.7,
          17.3,
          14.5,
          14.5,
          16.9,
          15,
          15.7,
          16.2,
          16.4,
          17,
          14.5,
          14.7,
          13.9,
          13,
          17.3,
          15.6,
          24.6,
          11.6,
          18.6,
          19.4
         ],
         "xaxis": "x",
         "y": [
          3504,
          3693,
          3436,
          3433,
          3449,
          4341,
          4354,
          4312,
          4425,
          3850,
          3563,
          3609,
          3761,
          3086,
          2372,
          2833,
          2774,
          2587,
          2130,
          1835,
          2672,
          2430,
          2375,
          2234,
          2648,
          4615,
          4376,
          4382,
          4732,
          2130,
          2264,
          2228,
          2046,
          2634,
          3439,
          3329,
          3302,
          3288,
          4209,
          4464,
          4154,
          4096,
          4955,
          4746,
          5140,
          2962,
          2408,
          3282,
          3139,
          2220,
          2123,
          2074,
          2065,
          1773,
          1613,
          1834,
          1955,
          2278,
          2126,
          2254,
          2408,
          2226,
          4274,
          4385,
          4135,
          4129,
          3672,
          4633,
          4502,
          4456,
          4422,
          2330,
          3892,
          4098,
          4294,
          4077,
          2933,
          2511,
          2979,
          2189,
          2395,
          2288,
          2506,
          2164,
          2100,
          4100,
          3672,
          3988,
          4042,
          3777,
          4952,
          4464,
          4363,
          4237,
          4735,
          4951,
          3821,
          3121,
          3278,
          2945,
          3021,
          2904,
          1950,
          4997,
          4906,
          4654,
          4499,
          2789,
          2279,
          2401,
          2379,
          2124,
          2310,
          2472,
          2265,
          4082,
          4278,
          1867,
          2158,
          2582,
          2868,
          3399,
          2660,
          2807,
          3664,
          3102,
          2875,
          2901,
          3336,
          1950,
          2451,
          1836,
          2542,
          3781,
          3632,
          3613,
          4141,
          4699,
          4457,
          4638,
          4257,
          2219,
          1963,
          2300,
          1649,
          2003,
          2125,
          2108,
          2246,
          2489,
          2391,
          2000,
          3264,
          3459,
          3432,
          3158,
          4668,
          4440,
          4498,
          4657,
          3907,
          3897,
          3730,
          3785,
          3039,
          3221,
          3169,
          2171,
          2639,
          2914,
          2592,
          2702,
          2223,
          2545,
          2984,
          1937,
          3211,
          2694,
          2957,
          2945,
          2671,
          1795,
          2464,
          2220,
          2572,
          2255,
          2202,
          4215,
          4190,
          3962,
          4215,
          3233,
          3353,
          3012,
          3085,
          2035,
          2164,
          1937,
          1795,
          3651,
          3574,
          3645,
          3193,
          1825,
          1990,
          2155,
          2565,
          3150,
          3940,
          3270,
          2930,
          3820,
          4380,
          4055,
          3870,
          3755,
          2045,
          2155,
          1825,
          2300,
          1945,
          3880,
          4060,
          4140,
          4295,
          3520,
          3425,
          3630,
          3525,
          4220,
          4165,
          4325,
          4335,
          1940,
          2740,
          2265,
          2755,
          2051,
          2075,
          1985,
          2190,
          2815,
          2600,
          2720,
          1985,
          1800,
          1985,
          2070,
          1800,
          3365,
          3735,
          3570,
          3535,
          3155,
          2965,
          2720,
          3430,
          3210,
          3380,
          3070,
          3620,
          3410,
          3425,
          3445,
          3205,
          4080,
          2155,
          2560,
          2300,
          2230,
          2515,
          2745,
          2855,
          2405,
          2830,
          3140,
          2795,
          3410,
          1990,
          2135,
          3245,
          2990,
          2890,
          3265,
          3360,
          3840,
          3725,
          3955,
          3830,
          4360,
          4054,
          3605,
          3940,
          1925,
          1975,
          1915,
          2670,
          3530,
          3900,
          3190,
          3420,
          2200,
          2150,
          2020,
          2130,
          2670,
          2595,
          2700,
          2556,
          2144,
          1968,
          2120,
          2019,
          2678,
          2870,
          3003,
          3381,
          2188,
          2711,
          2542,
          2434,
          2265,
          2110,
          2800,
          2110,
          2085,
          2335,
          2950,
          3250,
          1850,
          1835,
          2145,
          1845,
          2910,
          2420,
          2500,
          2905,
          2290,
          2490,
          2635,
          2620,
          2725,
          2385,
          1755,
          1875,
          1760,
          2065,
          1975,
          2050,
          1985,
          2215,
          2045,
          2380,
          2190,
          2320,
          2210,
          2350,
          2615,
          2635,
          3230,
          3160,
          2900,
          2930,
          3415,
          3725,
          3060,
          3465,
          2605,
          2640,
          2395,
          2575,
          2525,
          2735,
          2865,
          3035,
          1980,
          2025,
          1970,
          2125,
          2125,
          2160,
          2205,
          2245,
          1965,
          1965,
          1995,
          2945,
          3015,
          2585,
          2835,
          2665,
          2370,
          2950,
          2790,
          2130,
          2295,
          2625,
          2720
         ],
         "yaxis": "y"
        }
       ],
       "layout": {
        "coloraxis": {
         "colorbar": {
          "title": {
           "text": "model"
          }
         },
         "colorscale": [
          [
           0,
           "#0d0887"
          ],
          [
           0.1111111111111111,
           "#46039f"
          ],
          [
           0.2222222222222222,
           "#7201a8"
          ],
          [
           0.3333333333333333,
           "#9c179e"
          ],
          [
           0.4444444444444444,
           "#bd3786"
          ],
          [
           0.5555555555555556,
           "#d8576b"
          ],
          [
           0.6666666666666666,
           "#ed7953"
          ],
          [
           0.7777777777777778,
           "#fb9f3a"
          ],
          [
           0.8888888888888888,
           "#fdca26"
          ],
          [
           1,
           "#f0f921"
          ]
         ]
        },
        "legend": {
         "tracegroupgap": 0
        },
        "template": {
         "data": {
          "bar": [
           {
            "error_x": {
             "color": "#2a3f5f"
            },
            "error_y": {
             "color": "#2a3f5f"
            },
            "marker": {
             "line": {
              "color": "#E5ECF6",
              "width": 0.5
             },
             "pattern": {
              "fillmode": "overlay",
              "size": 10,
              "solidity": 0.2
             }
            },
            "type": "bar"
           }
          ],
          "barpolar": [
           {
            "marker": {
             "line": {
              "color": "#E5ECF6",
              "width": 0.5
             },
             "pattern": {
              "fillmode": "overlay",
              "size": 10,
              "solidity": 0.2
             }
            },
            "type": "barpolar"
           }
          ],
          "carpet": [
           {
            "aaxis": {
             "endlinecolor": "#2a3f5f",
             "gridcolor": "white",
             "linecolor": "white",
             "minorgridcolor": "white",
             "startlinecolor": "#2a3f5f"
            },
            "baxis": {
             "endlinecolor": "#2a3f5f",
             "gridcolor": "white",
             "linecolor": "white",
             "minorgridcolor": "white",
             "startlinecolor": "#2a3f5f"
            },
            "type": "carpet"
           }
          ],
          "choropleth": [
           {
            "colorbar": {
             "outlinewidth": 0,
             "ticks": ""
            },
            "type": "choropleth"
           }
          ],
          "contour": [
           {
            "colorbar": {
             "outlinewidth": 0,
             "ticks": ""
            },
            "colorscale": [
             [
              0,
              "#0d0887"
             ],
             [
              0.1111111111111111,
              "#46039f"
             ],
             [
              0.2222222222222222,
              "#7201a8"
             ],
             [
              0.3333333333333333,
              "#9c179e"
             ],
             [
              0.4444444444444444,
              "#bd3786"
             ],
             [
              0.5555555555555556,
              "#d8576b"
             ],
             [
              0.6666666666666666,
              "#ed7953"
             ],
             [
              0.7777777777777778,
              "#fb9f3a"
             ],
             [
              0.8888888888888888,
              "#fdca26"
             ],
             [
              1,
              "#f0f921"
             ]
            ],
            "type": "contour"
           }
          ],
          "contourcarpet": [
           {
            "colorbar": {
             "outlinewidth": 0,
             "ticks": ""
            },
            "type": "contourcarpet"
           }
          ],
          "heatmap": [
           {
            "colorbar": {
             "outlinewidth": 0,
             "ticks": ""
            },
            "colorscale": [
             [
              0,
              "#0d0887"
             ],
             [
              0.1111111111111111,
              "#46039f"
             ],
             [
              0.2222222222222222,
              "#7201a8"
             ],
             [
              0.3333333333333333,
              "#9c179e"
             ],
             [
              0.4444444444444444,
              "#bd3786"
             ],
             [
              0.5555555555555556,
              "#d8576b"
             ],
             [
              0.6666666666666666,
              "#ed7953"
             ],
             [
              0.7777777777777778,
              "#fb9f3a"
             ],
             [
              0.8888888888888888,
              "#fdca26"
             ],
             [
              1,
              "#f0f921"
             ]
            ],
            "type": "heatmap"
           }
          ],
          "heatmapgl": [
           {
            "colorbar": {
             "outlinewidth": 0,
             "ticks": ""
            },
            "colorscale": [
             [
              0,
              "#0d0887"
             ],
             [
              0.1111111111111111,
              "#46039f"
             ],
             [
              0.2222222222222222,
              "#7201a8"
             ],
             [
              0.3333333333333333,
              "#9c179e"
             ],
             [
              0.4444444444444444,
              "#bd3786"
             ],
             [
              0.5555555555555556,
              "#d8576b"
             ],
             [
              0.6666666666666666,
              "#ed7953"
             ],
             [
              0.7777777777777778,
              "#fb9f3a"
             ],
             [
              0.8888888888888888,
              "#fdca26"
             ],
             [
              1,
              "#f0f921"
             ]
            ],
            "type": "heatmapgl"
           }
          ],
          "histogram": [
           {
            "marker": {
             "pattern": {
              "fillmode": "overlay",
              "size": 10,
              "solidity": 0.2
             }
            },
            "type": "histogram"
           }
          ],
          "histogram2d": [
           {
            "colorbar": {
             "outlinewidth": 0,
             "ticks": ""
            },
            "colorscale": [
             [
              0,
              "#0d0887"
             ],
             [
              0.1111111111111111,
              "#46039f"
             ],
             [
              0.2222222222222222,
              "#7201a8"
             ],
             [
              0.3333333333333333,
              "#9c179e"
             ],
             [
              0.4444444444444444,
              "#bd3786"
             ],
             [
              0.5555555555555556,
              "#d8576b"
             ],
             [
              0.6666666666666666,
              "#ed7953"
             ],
             [
              0.7777777777777778,
              "#fb9f3a"
             ],
             [
              0.8888888888888888,
              "#fdca26"
             ],
             [
              1,
              "#f0f921"
             ]
            ],
            "type": "histogram2d"
           }
          ],
          "histogram2dcontour": [
           {
            "colorbar": {
             "outlinewidth": 0,
             "ticks": ""
            },
            "colorscale": [
             [
              0,
              "#0d0887"
             ],
             [
              0.1111111111111111,
              "#46039f"
             ],
             [
              0.2222222222222222,
              "#7201a8"
             ],
             [
              0.3333333333333333,
              "#9c179e"
             ],
             [
              0.4444444444444444,
              "#bd3786"
             ],
             [
              0.5555555555555556,
              "#d8576b"
             ],
             [
              0.6666666666666666,
              "#ed7953"
             ],
             [
              0.7777777777777778,
              "#fb9f3a"
             ],
             [
              0.8888888888888888,
              "#fdca26"
             ],
             [
              1,
              "#f0f921"
             ]
            ],
            "type": "histogram2dcontour"
           }
          ],
          "mesh3d": [
           {
            "colorbar": {
             "outlinewidth": 0,
             "ticks": ""
            },
            "type": "mesh3d"
           }
          ],
          "parcoords": [
           {
            "line": {
             "colorbar": {
              "outlinewidth": 0,
              "ticks": ""
             }
            },
            "type": "parcoords"
           }
          ],
          "pie": [
           {
            "automargin": true,
            "type": "pie"
           }
          ],
          "scatter": [
           {
            "marker": {
             "colorbar": {
              "outlinewidth": 0,
              "ticks": ""
             }
            },
            "type": "scatter"
           }
          ],
          "scatter3d": [
           {
            "line": {
             "colorbar": {
              "outlinewidth": 0,
              "ticks": ""
             }
            },
            "marker": {
             "colorbar": {
              "outlinewidth": 0,
              "ticks": ""
             }
            },
            "type": "scatter3d"
           }
          ],
          "scattercarpet": [
           {
            "marker": {
             "colorbar": {
              "outlinewidth": 0,
              "ticks": ""
             }
            },
            "type": "scattercarpet"
           }
          ],
          "scattergeo": [
           {
            "marker": {
             "colorbar": {
              "outlinewidth": 0,
              "ticks": ""
             }
            },
            "type": "scattergeo"
           }
          ],
          "scattergl": [
           {
            "marker": {
             "colorbar": {
              "outlinewidth": 0,
              "ticks": ""
             }
            },
            "type": "scattergl"
           }
          ],
          "scattermapbox": [
           {
            "marker": {
             "colorbar": {
              "outlinewidth": 0,
              "ticks": ""
             }
            },
            "type": "scattermapbox"
           }
          ],
          "scatterpolar": [
           {
            "marker": {
             "colorbar": {
              "outlinewidth": 0,
              "ticks": ""
             }
            },
            "type": "scatterpolar"
           }
          ],
          "scatterpolargl": [
           {
            "marker": {
             "colorbar": {
              "outlinewidth": 0,
              "ticks": ""
             }
            },
            "type": "scatterpolargl"
           }
          ],
          "scatterternary": [
           {
            "marker": {
             "colorbar": {
              "outlinewidth": 0,
              "ticks": ""
             }
            },
            "type": "scatterternary"
           }
          ],
          "surface": [
           {
            "colorbar": {
             "outlinewidth": 0,
             "ticks": ""
            },
            "colorscale": [
             [
              0,
              "#0d0887"
             ],
             [
              0.1111111111111111,
              "#46039f"
             ],
             [
              0.2222222222222222,
              "#7201a8"
             ],
             [
              0.3333333333333333,
              "#9c179e"
             ],
             [
              0.4444444444444444,
              "#bd3786"
             ],
             [
              0.5555555555555556,
              "#d8576b"
             ],
             [
              0.6666666666666666,
              "#ed7953"
             ],
             [
              0.7777777777777778,
              "#fb9f3a"
             ],
             [
              0.8888888888888888,
              "#fdca26"
             ],
             [
              1,
              "#f0f921"
             ]
            ],
            "type": "surface"
           }
          ],
          "table": [
           {
            "cells": {
             "fill": {
              "color": "#EBF0F8"
             },
             "line": {
              "color": "white"
             }
            },
            "header": {
             "fill": {
              "color": "#C8D4E3"
             },
             "line": {
              "color": "white"
             }
            },
            "type": "table"
           }
          ]
         },
         "layout": {
          "annotationdefaults": {
           "arrowcolor": "#2a3f5f",
           "arrowhead": 0,
           "arrowwidth": 1
          },
          "autotypenumbers": "strict",
          "coloraxis": {
           "colorbar": {
            "outlinewidth": 0,
            "ticks": ""
           }
          },
          "colorscale": {
           "diverging": [
            [
             0,
             "#8e0152"
            ],
            [
             0.1,
             "#c51b7d"
            ],
            [
             0.2,
             "#de77ae"
            ],
            [
             0.3,
             "#f1b6da"
            ],
            [
             0.4,
             "#fde0ef"
            ],
            [
             0.5,
             "#f7f7f7"
            ],
            [
             0.6,
             "#e6f5d0"
            ],
            [
             0.7,
             "#b8e186"
            ],
            [
             0.8,
             "#7fbc41"
            ],
            [
             0.9,
             "#4d9221"
            ],
            [
             1,
             "#276419"
            ]
           ],
           "sequential": [
            [
             0,
             "#0d0887"
            ],
            [
             0.1111111111111111,
             "#46039f"
            ],
            [
             0.2222222222222222,
             "#7201a8"
            ],
            [
             0.3333333333333333,
             "#9c179e"
            ],
            [
             0.4444444444444444,
             "#bd3786"
            ],
            [
             0.5555555555555556,
             "#d8576b"
            ],
            [
             0.6666666666666666,
             "#ed7953"
            ],
            [
             0.7777777777777778,
             "#fb9f3a"
            ],
            [
             0.8888888888888888,
             "#fdca26"
            ],
            [
             1,
             "#f0f921"
            ]
           ],
           "sequentialminus": [
            [
             0,
             "#0d0887"
            ],
            [
             0.1111111111111111,
             "#46039f"
            ],
            [
             0.2222222222222222,
             "#7201a8"
            ],
            [
             0.3333333333333333,
             "#9c179e"
            ],
            [
             0.4444444444444444,
             "#bd3786"
            ],
            [
             0.5555555555555556,
             "#d8576b"
            ],
            [
             0.6666666666666666,
             "#ed7953"
            ],
            [
             0.7777777777777778,
             "#fb9f3a"
            ],
            [
             0.8888888888888888,
             "#fdca26"
            ],
            [
             1,
             "#f0f921"
            ]
           ]
          },
          "colorway": [
           "#636efa",
           "#EF553B",
           "#00cc96",
           "#ab63fa",
           "#FFA15A",
           "#19d3f3",
           "#FF6692",
           "#B6E880",
           "#FF97FF",
           "#FECB52"
          ],
          "font": {
           "color": "#2a3f5f"
          },
          "geo": {
           "bgcolor": "white",
           "lakecolor": "white",
           "landcolor": "#E5ECF6",
           "showlakes": true,
           "showland": true,
           "subunitcolor": "white"
          },
          "hoverlabel": {
           "align": "left"
          },
          "hovermode": "closest",
          "mapbox": {
           "style": "light"
          },
          "paper_bgcolor": "white",
          "plot_bgcolor": "#E5ECF6",
          "polar": {
           "angularaxis": {
            "gridcolor": "white",
            "linecolor": "white",
            "ticks": ""
           },
           "bgcolor": "#E5ECF6",
           "radialaxis": {
            "gridcolor": "white",
            "linecolor": "white",
            "ticks": ""
           }
          },
          "scene": {
           "xaxis": {
            "backgroundcolor": "#E5ECF6",
            "gridcolor": "white",
            "gridwidth": 2,
            "linecolor": "white",
            "showbackground": true,
            "ticks": "",
            "zerolinecolor": "white"
           },
           "yaxis": {
            "backgroundcolor": "#E5ECF6",
            "gridcolor": "white",
            "gridwidth": 2,
            "linecolor": "white",
            "showbackground": true,
            "ticks": "",
            "zerolinecolor": "white"
           },
           "zaxis": {
            "backgroundcolor": "#E5ECF6",
            "gridcolor": "white",
            "gridwidth": 2,
            "linecolor": "white",
            "showbackground": true,
            "ticks": "",
            "zerolinecolor": "white"
           }
          },
          "shapedefaults": {
           "line": {
            "color": "#2a3f5f"
           }
          },
          "ternary": {
           "aaxis": {
            "gridcolor": "white",
            "linecolor": "white",
            "ticks": ""
           },
           "baxis": {
            "gridcolor": "white",
            "linecolor": "white",
            "ticks": ""
           },
           "bgcolor": "#E5ECF6",
           "caxis": {
            "gridcolor": "white",
            "linecolor": "white",
            "ticks": ""
           }
          },
          "title": {
           "x": 0.05
          },
          "xaxis": {
           "automargin": true,
           "gridcolor": "white",
           "linecolor": "white",
           "ticks": "",
           "title": {
            "standoff": 15
           },
           "zerolinecolor": "white",
           "zerolinewidth": 2
          },
          "yaxis": {
           "automargin": true,
           "gridcolor": "white",
           "linecolor": "white",
           "ticks": "",
           "title": {
            "standoff": 15
           },
           "zerolinecolor": "white",
           "zerolinewidth": 2
          }
         }
        },
        "title": {
         "text": "How Weight affects Acceleration across Model Years"
        },
        "xaxis": {
         "anchor": "y",
         "domain": [
          0,
          1
         ],
         "title": {
          "text": "acceleration"
         }
        },
        "yaxis": {
         "anchor": "x",
         "domain": [
          0,
          1
         ],
         "title": {
          "text": "weight"
         }
        }
       }
      },
      "text/html": [
       "<div>                            <div id=\"93ceaa39-ed92-4890-bb97-280c9c79bd1e\" class=\"plotly-graph-div\" style=\"height:525px; width:100%;\"></div>            <script type=\"text/javascript\">                require([\"plotly\"], function(Plotly) {                    window.PLOTLYENV=window.PLOTLYENV || {};                                    if (document.getElementById(\"93ceaa39-ed92-4890-bb97-280c9c79bd1e\")) {                    Plotly.newPlot(                        \"93ceaa39-ed92-4890-bb97-280c9c79bd1e\",                        [{\"customdata\":[[\"chevrolet chevelle malibu\"],[\"buick skylark 320\"],[\"plymouth satellite\"],[\"amc rebel sst\"],[\"ford torino\"],[\"ford galaxie 500\"],[\"chevrolet impala\"],[\"plymouth fury iii\"],[\"pontiac catalina\"],[\"amc ambassador dpl\"],[\"dodge challenger se\"],[\"plymouth 'cuda 340\"],[\"chevrolet monte carlo\"],[\"buick estate wagon (sw)\"],[\"toyota corona mark ii\"],[\"plymouth duster\"],[\"amc hornet\"],[\"ford maverick\"],[\"datsun pl510\"],[\"volkswagen 1131 deluxe sedan\"],[\"peugeot 504\"],[\"audi 100 ls\"],[\"saab 99e\"],[\"bmw 2002\"],[\"amc gremlin\"],[\"ford f250\"],[\"chevy c20\"],[\"dodge d200\"],[\"hi 1200d\"],[\"datsun pl510\"],[\"chevrolet vega 2300\"],[\"toyota corona\"],[\"ford pinto\"],[\"amc gremlin\"],[\"plymouth satellite custom\"],[\"chevrolet chevelle malibu\"],[\"ford torino 500\"],[\"amc matador\"],[\"chevrolet impala\"],[\"pontiac catalina brougham\"],[\"ford galaxie 500\"],[\"plymouth fury iii\"],[\"dodge monaco (sw)\"],[\"ford country squire (sw)\"],[\"pontiac safari (sw)\"],[\"amc hornet sportabout (sw)\"],[\"chevrolet vega (sw)\"],[\"pontiac firebird\"],[\"ford mustang\"],[\"mercury capri 2000\"],[\"opel 1900\"],[\"peugeot 304\"],[\"fiat 124b\"],[\"toyota corolla 1200\"],[\"datsun 1200\"],[\"volkswagen model 111\"],[\"plymouth cricket\"],[\"toyota corona hardtop\"],[\"dodge colt hardtop\"],[\"volkswagen type 3\"],[\"chevrolet vega\"],[\"ford pinto runabout\"],[\"chevrolet impala\"],[\"pontiac catalina\"],[\"plymouth fury iii\"],[\"ford galaxie 500\"],[\"amc ambassador sst\"],[\"mercury marquis\"],[\"buick lesabre custom\"],[\"oldsmobile delta 88 royale\"],[\"chrysler newport royal\"],[\"mazda rx2 coupe\"],[\"amc matador (sw)\"],[\"chevrolet chevelle concours (sw)\"],[\"ford gran torino (sw)\"],[\"plymouth satellite custom (sw)\"],[\"volvo 145e (sw)\"],[\"volkswagen 411 (sw)\"],[\"peugeot 504 (sw)\"],[\"renault 12 (sw)\"],[\"ford pinto (sw)\"],[\"datsun 510 (sw)\"],[\"toyouta corona mark ii (sw)\"],[\"dodge colt (sw)\"],[\"toyota corolla 1600 (sw)\"],[\"buick century 350\"],[\"amc matador\"],[\"chevrolet malibu\"],[\"ford gran torino\"],[\"dodge coronet custom\"],[\"mercury marquis brougham\"],[\"chevrolet caprice classic\"],[\"ford ltd\"],[\"plymouth fury gran sedan\"],[\"chrysler new yorker brougham\"],[\"buick electra 225 custom\"],[\"amc ambassador brougham\"],[\"plymouth valiant\"],[\"chevrolet nova custom\"],[\"amc hornet\"],[\"ford maverick\"],[\"plymouth duster\"],[\"volkswagen super beetle\"],[\"chevrolet impala\"],[\"ford country\"],[\"plymouth custom suburb\"],[\"oldsmobile vista cruiser\"],[\"amc gremlin\"],[\"toyota carina\"],[\"chevrolet vega\"],[\"datsun 610\"],[\"maxda rx3\"],[\"ford pinto\"],[\"mercury capri v6\"],[\"fiat 124 sport coupe\"],[\"chevrolet monte carlo s\"],[\"pontiac grand prix\"],[\"fiat 128\"],[\"opel manta\"],[\"audi 100ls\"],[\"volvo 144ea\"],[\"dodge dart custom\"],[\"saab 99le\"],[\"toyota mark ii\"],[\"oldsmobile omega\"],[\"plymouth duster\"],[\"ford maverick\"],[\"amc hornet\"],[\"chevrolet nova\"],[\"datsun b210\"],[\"ford pinto\"],[\"toyota corolla 1200\"],[\"chevrolet vega\"],[\"chevrolet chevelle malibu classic\"],[\"amc matador\"],[\"plymouth satellite sebring\"],[\"ford gran torino\"],[\"buick century luxus (sw)\"],[\"dodge coronet custom (sw)\"],[\"ford gran torino (sw)\"],[\"amc matador (sw)\"],[\"audi fox\"],[\"volkswagen dasher\"],[\"opel manta\"],[\"toyota corona\"],[\"datsun 710\"],[\"dodge colt\"],[\"fiat 128\"],[\"fiat 124 tc\"],[\"honda civic\"],[\"subaru\"],[\"fiat x1.9\"],[\"plymouth valiant custom\"],[\"chevrolet nova\"],[\"mercury monarch\"],[\"ford maverick\"],[\"pontiac catalina\"],[\"chevrolet bel air\"],[\"plymouth grand fury\"],[\"ford ltd\"],[\"buick century\"],[\"chevroelt chevelle malibu\"],[\"amc matador\"],[\"plymouth fury\"],[\"buick skyhawk\"],[\"chevrolet monza 2+2\"],[\"ford mustang ii\"],[\"toyota corolla\"],[\"ford pinto\"],[\"amc gremlin\"],[\"pontiac astro\"],[\"toyota corona\"],[\"volkswagen dasher\"],[\"datsun 710\"],[\"ford pinto\"],[\"volkswagen rabbit\"],[\"amc pacer\"],[\"audi 100ls\"],[\"peugeot 504\"],[\"volvo 244dl\"],[\"saab 99le\"],[\"honda civic cvcc\"],[\"fiat 131\"],[\"opel 1900\"],[\"capri ii\"],[\"dodge colt\"],[\"renault 12tl\"],[\"chevrolet chevelle malibu classic\"],[\"dodge coronet brougham\"],[\"amc matador\"],[\"ford gran torino\"],[\"plymouth valiant\"],[\"chevrolet nova\"],[\"ford maverick\"],[\"amc hornet\"],[\"chevrolet chevette\"],[\"chevrolet woody\"],[\"vw rabbit\"],[\"honda civic\"],[\"dodge aspen se\"],[\"ford granada ghia\"],[\"pontiac ventura sj\"],[\"amc pacer d/l\"],[\"volkswagen rabbit\"],[\"datsun b-210\"],[\"toyota corolla\"],[\"ford pinto\"],[\"volvo 245\"],[\"plymouth volare premier v8\"],[\"peugeot 504\"],[\"toyota mark ii\"],[\"mercedes-benz 280s\"],[\"cadillac seville\"],[\"chevy c10\"],[\"ford f108\"],[\"dodge d100\"],[\"honda accord cvcc\"],[\"buick opel isuzu deluxe\"],[\"renault 5 gtl\"],[\"plymouth arrow gs\"],[\"datsun f-10 hatchback\"],[\"chevrolet caprice classic\"],[\"oldsmobile cutlass supreme\"],[\"dodge monaco brougham\"],[\"mercury cougar brougham\"],[\"chevrolet concours\"],[\"buick skylark\"],[\"plymouth volare custom\"],[\"ford granada\"],[\"pontiac grand prix lj\"],[\"chevrolet monte carlo landau\"],[\"chrysler cordoba\"],[\"ford thunderbird\"],[\"volkswagen rabbit custom\"],[\"pontiac sunbird coupe\"],[\"toyota corolla liftback\"],[\"ford mustang ii 2+2\"],[\"chevrolet chevette\"],[\"dodge colt m/m\"],[\"subaru dl\"],[\"volkswagen dasher\"],[\"datsun 810\"],[\"bmw 320i\"],[\"mazda rx-4\"],[\"volkswagen rabbit custom diesel\"],[\"ford fiesta\"],[\"mazda glc deluxe\"],[\"datsun b210 gx\"],[\"honda civic cvcc\"],[\"oldsmobile cutlass salon brougham\"],[\"dodge diplomat\"],[\"mercury monarch ghia\"],[\"pontiac phoenix lj\"],[\"chevrolet malibu\"],[\"ford fairmont (auto)\"],[\"ford fairmont (man)\"],[\"plymouth volare\"],[\"amc concord\"],[\"buick century special\"],[\"mercury zephyr\"],[\"dodge aspen\"],[\"amc concord d/l\"],[\"chevrolet monte carlo landau\"],[\"buick regal sport coupe (turbo)\"],[\"ford futura\"],[\"dodge magnum xe\"],[\"chevrolet chevette\"],[\"toyota corona\"],[\"datsun 510\"],[\"dodge omni\"],[\"toyota celica gt liftback\"],[\"plymouth sapporo\"],[\"oldsmobile starfire sx\"],[\"datsun 200-sx\"],[\"audi 5000\"],[\"volvo 264gl\"],[\"saab 99gle\"],[\"peugeot 604sl\"],[\"volkswagen scirocco\"],[\"honda accord lx\"],[\"pontiac lemans v6\"],[\"mercury zephyr 6\"],[\"ford fairmont 4\"],[\"amc concord dl 6\"],[\"dodge aspen 6\"],[\"chevrolet caprice classic\"],[\"ford ltd landau\"],[\"mercury grand marquis\"],[\"dodge st. regis\"],[\"buick estate wagon (sw)\"],[\"ford country squire (sw)\"],[\"chevrolet malibu classic (sw)\"],[\"chrysler lebaron town @ country (sw)\"],[\"vw rabbit custom\"],[\"maxda glc deluxe\"],[\"dodge colt hatchback custom\"],[\"amc spirit dl\"],[\"mercedes benz 300d\"],[\"cadillac eldorado\"],[\"peugeot 504\"],[\"oldsmobile cutlass salon brougham\"],[\"plymouth horizon\"],[\"plymouth horizon tc3\"],[\"datsun 210\"],[\"fiat strada custom\"],[\"buick skylark limited\"],[\"chevrolet citation\"],[\"oldsmobile omega brougham\"],[\"pontiac phoenix\"],[\"vw rabbit\"],[\"toyota corolla tercel\"],[\"chevrolet chevette\"],[\"datsun 310\"],[\"chevrolet citation\"],[\"ford fairmont\"],[\"amc concord\"],[\"dodge aspen\"],[\"audi 4000\"],[\"toyota corona liftback\"],[\"mazda 626\"],[\"datsun 510 hatchback\"],[\"toyota corolla\"],[\"mazda glc\"],[\"dodge colt\"],[\"datsun 210\"],[\"vw rabbit c (diesel)\"],[\"vw dasher (diesel)\"],[\"audi 5000s (diesel)\"],[\"mercedes-benz 240d\"],[\"honda civic 1500 gl\"],[\"renault lecar deluxe\"],[\"subaru dl\"],[\"vokswagen rabbit\"],[\"datsun 280-zx\"],[\"mazda rx-7 gs\"],[\"triumph tr7 coupe\"],[\"ford mustang cobra\"],[\"honda accord\"],[\"plymouth reliant\"],[\"buick skylark\"],[\"dodge aries wagon (sw)\"],[\"chevrolet citation\"],[\"plymouth reliant\"],[\"toyota starlet\"],[\"plymouth champ\"],[\"honda civic 1300\"],[\"subaru\"],[\"datsun 210 mpg\"],[\"toyota tercel\"],[\"mazda glc 4\"],[\"plymouth horizon 4\"],[\"ford escort 4w\"],[\"ford escort 2h\"],[\"volkswagen jetta\"],[\"renault 18i\"],[\"honda prelude\"],[\"toyota corolla\"],[\"datsun 200sx\"],[\"mazda 626\"],[\"peugeot 505s turbo diesel\"],[\"volvo diesel\"],[\"toyota cressida\"],[\"datsun 810 maxima\"],[\"buick century\"],[\"oldsmobile cutlass ls\"],[\"ford granada gl\"],[\"chrysler lebaron salon\"],[\"chevrolet cavalier\"],[\"chevrolet cavalier wagon\"],[\"chevrolet cavalier 2-door\"],[\"pontiac j2000 se hatchback\"],[\"dodge aries se\"],[\"pontiac phoenix\"],[\"ford fairmont futura\"],[\"amc concord dl\"],[\"volkswagen rabbit l\"],[\"mazda glc custom l\"],[\"mazda glc custom\"],[\"plymouth horizon miser\"],[\"mercury lynx l\"],[\"nissan stanza xe\"],[\"honda accord\"],[\"toyota corolla\"],[\"honda civic\"],[\"honda civic (auto)\"],[\"datsun 310 gx\"],[\"buick century limited\"],[\"oldsmobile cutlass ciera (diesel)\"],[\"chrysler lebaron medallion\"],[\"ford granada l\"],[\"toyota celica gt\"],[\"dodge charger 2.2\"],[\"chevrolet camaro\"],[\"ford mustang gl\"],[\"vw pickup\"],[\"dodge rampage\"],[\"ford ranger\"],[\"chevy s-10\"]],\"hovertemplate\":\"acceleration=%{x}<br>weight=%{y}<br>vehicle name=%{customdata[0]}<br>model=%{marker.color}<extra></extra>\",\"legendgroup\":\"\",\"marker\":{\"color\":[70,70,70,70,70,70,70,70,70,70,70,70,70,70,70,70,70,70,70,70,70,70,70,70,70,70,70,70,70,71,71,71,71,71,71,71,71,71,71,71,71,71,71,71,71,71,71,71,71,71,71,71,71,71,71,71,71,72,72,72,72,72,72,72,72,72,72,72,72,72,72,72,72,72,72,72,72,72,72,72,72,72,72,72,72,73,73,73,73,73,73,73,73,73,73,73,73,73,73,73,73,73,73,73,73,73,73,73,73,73,73,73,73,73,73,73,73,73,73,73,73,73,73,73,73,74,74,74,74,74,74,74,74,74,74,74,74,74,74,74,74,74,74,74,74,74,74,74,74,74,74,74,75,75,75,75,75,75,75,75,75,75,75,75,75,75,75,75,75,75,75,75,75,75,75,75,75,75,75,75,75,75,76,76,76,76,76,76,76,76,76,76,76,76,76,76,76,76,76,76,76,76,76,76,76,76,76,76,76,76,76,76,76,76,76,76,77,77,77,77,77,77,77,77,77,77,77,77,77,77,77,77,77,77,77,77,77,77,77,77,77,77,77,77,78,78,78,78,78,78,78,78,78,78,78,78,78,78,78,78,78,78,78,78,78,78,78,78,78,78,78,78,78,78,78,78,78,78,78,78,79,79,79,79,79,79,79,79,79,79,79,79,79,79,79,79,79,79,79,79,79,79,79,79,79,79,79,79,79,80,80,80,80,80,80,80,80,80,80,80,80,80,80,80,80,80,80,80,80,80,80,80,80,80,80,80,80,80,81,81,81,81,81,81,81,81,81,81,81,81,81,81,81,81,81,81,81,81,81,81,81,81,81,81,81,81,81,82,82,82,82,82,82,82,82,82,82,82,82,82,82,82,82,82,82,82,82,82,82,82,82,82,82,82,82,82,82,82],\"coloraxis\":\"coloraxis\",\"symbol\":\"circle\"},\"mode\":\"markers\",\"name\":\"\",\"orientation\":\"v\",\"showlegend\":false,\"x\":[12.0,11.5,11.0,12.0,10.5,10.0,9.0,8.5,10.0,8.5,10.0,8.0,9.5,10.0,15.0,15.5,15.5,16.0,14.5,20.5,17.5,14.5,17.5,12.5,15.0,14.0,15.0,13.5,18.5,14.5,15.5,14.0,19.0,13.0,15.5,15.5,15.5,15.5,12.0,11.5,13.5,13.0,11.5,12.0,12.0,13.5,19.0,15.0,14.5,14.0,14.0,19.5,14.5,19.0,18.0,19.0,20.5,15.5,17.0,23.5,19.5,16.5,12.0,12.0,13.5,13.0,11.5,11.0,13.5,13.5,12.5,13.5,12.5,14.0,16.0,14.0,14.5,18.0,19.5,18.0,16.0,17.0,14.5,15.0,16.5,13.0,11.5,13.0,14.5,12.5,11.5,12.0,13.0,14.5,11.0,11.0,11.0,16.5,18.0,16.0,16.5,16.0,21.0,14.0,12.5,13.0,12.5,15.0,19.0,19.5,16.5,13.5,18.5,14.0,15.5,13.0,9.5,19.5,15.5,14.0,15.5,11.0,14.0,13.5,11.0,16.5,17.0,16.0,17.0,19.0,16.5,21.0,17.0,17.0,18.0,16.5,14.0,14.5,13.5,16.0,15.5,16.5,15.5,14.5,16.5,19.0,14.5,15.5,14.0,15.0,15.5,16.0,16.0,16.0,21.0,19.5,11.5,14.0,14.5,13.5,21.0,18.5,19.0,19.0,15.0,13.5,12.0,16.0,17.0,16.0,18.5,13.5,16.5,17.0,14.5,14.0,17.0,15.0,17.0,14.5,13.5,17.5,15.5,16.9,14.9,17.7,15.3,13.0,13.0,13.9,12.8,15.4,14.5,17.6,17.6,22.2,22.1,14.2,17.4,17.7,21.0,16.2,17.8,12.2,17.0,16.4,13.6,15.7,13.2,21.9,15.5,16.7,12.1,12.0,15.0,14.0,18.5,14.8,18.6,15.5,16.8,12.5,19.0,13.7,14.9,16.4,16.9,17.7,19.0,11.1,11.4,12.2,14.5,14.5,16.0,18.2,15.8,17.0,15.9,16.4,14.1,14.5,12.8,13.5,21.5,14.4,19.4,18.6,16.4,15.5,13.2,12.8,19.2,18.2,15.8,15.4,17.2,17.2,15.8,16.7,18.7,15.1,13.2,13.4,11.2,13.7,16.5,14.2,14.7,14.5,14.8,16.7,17.6,14.9,15.9,13.6,15.7,15.8,14.9,16.6,15.4,18.2,17.3,18.2,16.6,15.4,13.4,13.2,15.2,14.9,14.3,15.0,13.0,14.0,15.2,14.4,15.0,20.1,17.4,24.8,22.2,13.2,14.9,19.2,14.7,16.0,11.3,12.9,13.2,14.7,18.8,15.5,16.4,16.5,18.1,20.1,18.7,15.8,15.5,17.5,15.0,15.2,17.9,14.4,19.2,21.7,23.7,19.9,21.8,13.8,17.3,18.0,15.3,11.4,12.5,15.1,14.3,17.0,15.7,16.4,14.4,12.6,12.9,16.9,16.4,16.1,17.8,19.4,17.3,16.0,14.9,16.2,20.7,14.2,15.8,14.4,16.8,14.8,18.3,20.4,19.6,12.6,13.8,15.8,19.0,17.1,16.6,19.6,18.6,18.0,16.2,16.0,18.0,16.4,20.5,15.3,18.2,17.6,14.7,17.3,14.5,14.5,16.9,15.0,15.7,16.2,16.4,17.0,14.5,14.7,13.9,13.0,17.3,15.6,24.6,11.6,18.6,19.4],\"xaxis\":\"x\",\"y\":[3504,3693,3436,3433,3449,4341,4354,4312,4425,3850,3563,3609,3761,3086,2372,2833,2774,2587,2130,1835,2672,2430,2375,2234,2648,4615,4376,4382,4732,2130,2264,2228,2046,2634,3439,3329,3302,3288,4209,4464,4154,4096,4955,4746,5140,2962,2408,3282,3139,2220,2123,2074,2065,1773,1613,1834,1955,2278,2126,2254,2408,2226,4274,4385,4135,4129,3672,4633,4502,4456,4422,2330,3892,4098,4294,4077,2933,2511,2979,2189,2395,2288,2506,2164,2100,4100,3672,3988,4042,3777,4952,4464,4363,4237,4735,4951,3821,3121,3278,2945,3021,2904,1950,4997,4906,4654,4499,2789,2279,2401,2379,2124,2310,2472,2265,4082,4278,1867,2158,2582,2868,3399,2660,2807,3664,3102,2875,2901,3336,1950,2451,1836,2542,3781,3632,3613,4141,4699,4457,4638,4257,2219,1963,2300,1649,2003,2125,2108,2246,2489,2391,2000,3264,3459,3432,3158,4668,4440,4498,4657,3907,3897,3730,3785,3039,3221,3169,2171,2639,2914,2592,2702,2223,2545,2984,1937,3211,2694,2957,2945,2671,1795,2464,2220,2572,2255,2202,4215,4190,3962,4215,3233,3353,3012,3085,2035,2164,1937,1795,3651,3574,3645,3193,1825,1990,2155,2565,3150,3940,3270,2930,3820,4380,4055,3870,3755,2045,2155,1825,2300,1945,3880,4060,4140,4295,3520,3425,3630,3525,4220,4165,4325,4335,1940,2740,2265,2755,2051,2075,1985,2190,2815,2600,2720,1985,1800,1985,2070,1800,3365,3735,3570,3535,3155,2965,2720,3430,3210,3380,3070,3620,3410,3425,3445,3205,4080,2155,2560,2300,2230,2515,2745,2855,2405,2830,3140,2795,3410,1990,2135,3245,2990,2890,3265,3360,3840,3725,3955,3830,4360,4054,3605,3940,1925,1975,1915,2670,3530,3900,3190,3420,2200,2150,2020,2130,2670,2595,2700,2556,2144,1968,2120,2019,2678,2870,3003,3381,2188,2711,2542,2434,2265,2110,2800,2110,2085,2335,2950,3250,1850,1835,2145,1845,2910,2420,2500,2905,2290,2490,2635,2620,2725,2385,1755,1875,1760,2065,1975,2050,1985,2215,2045,2380,2190,2320,2210,2350,2615,2635,3230,3160,2900,2930,3415,3725,3060,3465,2605,2640,2395,2575,2525,2735,2865,3035,1980,2025,1970,2125,2125,2160,2205,2245,1965,1965,1995,2945,3015,2585,2835,2665,2370,2950,2790,2130,2295,2625,2720],\"yaxis\":\"y\",\"type\":\"scatter\"}],                        {\"template\":{\"data\":{\"bar\":[{\"error_x\":{\"color\":\"#2a3f5f\"},\"error_y\":{\"color\":\"#2a3f5f\"},\"marker\":{\"line\":{\"color\":\"#E5ECF6\",\"width\":0.5},\"pattern\":{\"fillmode\":\"overlay\",\"size\":10,\"solidity\":0.2}},\"type\":\"bar\"}],\"barpolar\":[{\"marker\":{\"line\":{\"color\":\"#E5ECF6\",\"width\":0.5},\"pattern\":{\"fillmode\":\"overlay\",\"size\":10,\"solidity\":0.2}},\"type\":\"barpolar\"}],\"carpet\":[{\"aaxis\":{\"endlinecolor\":\"#2a3f5f\",\"gridcolor\":\"white\",\"linecolor\":\"white\",\"minorgridcolor\":\"white\",\"startlinecolor\":\"#2a3f5f\"},\"baxis\":{\"endlinecolor\":\"#2a3f5f\",\"gridcolor\":\"white\",\"linecolor\":\"white\",\"minorgridcolor\":\"white\",\"startlinecolor\":\"#2a3f5f\"},\"type\":\"carpet\"}],\"choropleth\":[{\"colorbar\":{\"outlinewidth\":0,\"ticks\":\"\"},\"type\":\"choropleth\"}],\"contour\":[{\"colorbar\":{\"outlinewidth\":0,\"ticks\":\"\"},\"colorscale\":[[0.0,\"#0d0887\"],[0.1111111111111111,\"#46039f\"],[0.2222222222222222,\"#7201a8\"],[0.3333333333333333,\"#9c179e\"],[0.4444444444444444,\"#bd3786\"],[0.5555555555555556,\"#d8576b\"],[0.6666666666666666,\"#ed7953\"],[0.7777777777777778,\"#fb9f3a\"],[0.8888888888888888,\"#fdca26\"],[1.0,\"#f0f921\"]],\"type\":\"contour\"}],\"contourcarpet\":[{\"colorbar\":{\"outlinewidth\":0,\"ticks\":\"\"},\"type\":\"contourcarpet\"}],\"heatmap\":[{\"colorbar\":{\"outlinewidth\":0,\"ticks\":\"\"},\"colorscale\":[[0.0,\"#0d0887\"],[0.1111111111111111,\"#46039f\"],[0.2222222222222222,\"#7201a8\"],[0.3333333333333333,\"#9c179e\"],[0.4444444444444444,\"#bd3786\"],[0.5555555555555556,\"#d8576b\"],[0.6666666666666666,\"#ed7953\"],[0.7777777777777778,\"#fb9f3a\"],[0.8888888888888888,\"#fdca26\"],[1.0,\"#f0f921\"]],\"type\":\"heatmap\"}],\"heatmapgl\":[{\"colorbar\":{\"outlinewidth\":0,\"ticks\":\"\"},\"colorscale\":[[0.0,\"#0d0887\"],[0.1111111111111111,\"#46039f\"],[0.2222222222222222,\"#7201a8\"],[0.3333333333333333,\"#9c179e\"],[0.4444444444444444,\"#bd3786\"],[0.5555555555555556,\"#d8576b\"],[0.6666666666666666,\"#ed7953\"],[0.7777777777777778,\"#fb9f3a\"],[0.8888888888888888,\"#fdca26\"],[1.0,\"#f0f921\"]],\"type\":\"heatmapgl\"}],\"histogram\":[{\"marker\":{\"pattern\":{\"fillmode\":\"overlay\",\"size\":10,\"solidity\":0.2}},\"type\":\"histogram\"}],\"histogram2d\":[{\"colorbar\":{\"outlinewidth\":0,\"ticks\":\"\"},\"colorscale\":[[0.0,\"#0d0887\"],[0.1111111111111111,\"#46039f\"],[0.2222222222222222,\"#7201a8\"],[0.3333333333333333,\"#9c179e\"],[0.4444444444444444,\"#bd3786\"],[0.5555555555555556,\"#d8576b\"],[0.6666666666666666,\"#ed7953\"],[0.7777777777777778,\"#fb9f3a\"],[0.8888888888888888,\"#fdca26\"],[1.0,\"#f0f921\"]],\"type\":\"histogram2d\"}],\"histogram2dcontour\":[{\"colorbar\":{\"outlinewidth\":0,\"ticks\":\"\"},\"colorscale\":[[0.0,\"#0d0887\"],[0.1111111111111111,\"#46039f\"],[0.2222222222222222,\"#7201a8\"],[0.3333333333333333,\"#9c179e\"],[0.4444444444444444,\"#bd3786\"],[0.5555555555555556,\"#d8576b\"],[0.6666666666666666,\"#ed7953\"],[0.7777777777777778,\"#fb9f3a\"],[0.8888888888888888,\"#fdca26\"],[1.0,\"#f0f921\"]],\"type\":\"histogram2dcontour\"}],\"mesh3d\":[{\"colorbar\":{\"outlinewidth\":0,\"ticks\":\"\"},\"type\":\"mesh3d\"}],\"parcoords\":[{\"line\":{\"colorbar\":{\"outlinewidth\":0,\"ticks\":\"\"}},\"type\":\"parcoords\"}],\"pie\":[{\"automargin\":true,\"type\":\"pie\"}],\"scatter\":[{\"marker\":{\"colorbar\":{\"outlinewidth\":0,\"ticks\":\"\"}},\"type\":\"scatter\"}],\"scatter3d\":[{\"line\":{\"colorbar\":{\"outlinewidth\":0,\"ticks\":\"\"}},\"marker\":{\"colorbar\":{\"outlinewidth\":0,\"ticks\":\"\"}},\"type\":\"scatter3d\"}],\"scattercarpet\":[{\"marker\":{\"colorbar\":{\"outlinewidth\":0,\"ticks\":\"\"}},\"type\":\"scattercarpet\"}],\"scattergeo\":[{\"marker\":{\"colorbar\":{\"outlinewidth\":0,\"ticks\":\"\"}},\"type\":\"scattergeo\"}],\"scattergl\":[{\"marker\":{\"colorbar\":{\"outlinewidth\":0,\"ticks\":\"\"}},\"type\":\"scattergl\"}],\"scattermapbox\":[{\"marker\":{\"colorbar\":{\"outlinewidth\":0,\"ticks\":\"\"}},\"type\":\"scattermapbox\"}],\"scatterpolar\":[{\"marker\":{\"colorbar\":{\"outlinewidth\":0,\"ticks\":\"\"}},\"type\":\"scatterpolar\"}],\"scatterpolargl\":[{\"marker\":{\"colorbar\":{\"outlinewidth\":0,\"ticks\":\"\"}},\"type\":\"scatterpolargl\"}],\"scatterternary\":[{\"marker\":{\"colorbar\":{\"outlinewidth\":0,\"ticks\":\"\"}},\"type\":\"scatterternary\"}],\"surface\":[{\"colorbar\":{\"outlinewidth\":0,\"ticks\":\"\"},\"colorscale\":[[0.0,\"#0d0887\"],[0.1111111111111111,\"#46039f\"],[0.2222222222222222,\"#7201a8\"],[0.3333333333333333,\"#9c179e\"],[0.4444444444444444,\"#bd3786\"],[0.5555555555555556,\"#d8576b\"],[0.6666666666666666,\"#ed7953\"],[0.7777777777777778,\"#fb9f3a\"],[0.8888888888888888,\"#fdca26\"],[1.0,\"#f0f921\"]],\"type\":\"surface\"}],\"table\":[{\"cells\":{\"fill\":{\"color\":\"#EBF0F8\"},\"line\":{\"color\":\"white\"}},\"header\":{\"fill\":{\"color\":\"#C8D4E3\"},\"line\":{\"color\":\"white\"}},\"type\":\"table\"}]},\"layout\":{\"annotationdefaults\":{\"arrowcolor\":\"#2a3f5f\",\"arrowhead\":0,\"arrowwidth\":1},\"autotypenumbers\":\"strict\",\"coloraxis\":{\"colorbar\":{\"outlinewidth\":0,\"ticks\":\"\"}},\"colorscale\":{\"diverging\":[[0,\"#8e0152\"],[0.1,\"#c51b7d\"],[0.2,\"#de77ae\"],[0.3,\"#f1b6da\"],[0.4,\"#fde0ef\"],[0.5,\"#f7f7f7\"],[0.6,\"#e6f5d0\"],[0.7,\"#b8e186\"],[0.8,\"#7fbc41\"],[0.9,\"#4d9221\"],[1,\"#276419\"]],\"sequential\":[[0.0,\"#0d0887\"],[0.1111111111111111,\"#46039f\"],[0.2222222222222222,\"#7201a8\"],[0.3333333333333333,\"#9c179e\"],[0.4444444444444444,\"#bd3786\"],[0.5555555555555556,\"#d8576b\"],[0.6666666666666666,\"#ed7953\"],[0.7777777777777778,\"#fb9f3a\"],[0.8888888888888888,\"#fdca26\"],[1.0,\"#f0f921\"]],\"sequentialminus\":[[0.0,\"#0d0887\"],[0.1111111111111111,\"#46039f\"],[0.2222222222222222,\"#7201a8\"],[0.3333333333333333,\"#9c179e\"],[0.4444444444444444,\"#bd3786\"],[0.5555555555555556,\"#d8576b\"],[0.6666666666666666,\"#ed7953\"],[0.7777777777777778,\"#fb9f3a\"],[0.8888888888888888,\"#fdca26\"],[1.0,\"#f0f921\"]]},\"colorway\":[\"#636efa\",\"#EF553B\",\"#00cc96\",\"#ab63fa\",\"#FFA15A\",\"#19d3f3\",\"#FF6692\",\"#B6E880\",\"#FF97FF\",\"#FECB52\"],\"font\":{\"color\":\"#2a3f5f\"},\"geo\":{\"bgcolor\":\"white\",\"lakecolor\":\"white\",\"landcolor\":\"#E5ECF6\",\"showlakes\":true,\"showland\":true,\"subunitcolor\":\"white\"},\"hoverlabel\":{\"align\":\"left\"},\"hovermode\":\"closest\",\"mapbox\":{\"style\":\"light\"},\"paper_bgcolor\":\"white\",\"plot_bgcolor\":\"#E5ECF6\",\"polar\":{\"angularaxis\":{\"gridcolor\":\"white\",\"linecolor\":\"white\",\"ticks\":\"\"},\"bgcolor\":\"#E5ECF6\",\"radialaxis\":{\"gridcolor\":\"white\",\"linecolor\":\"white\",\"ticks\":\"\"}},\"scene\":{\"xaxis\":{\"backgroundcolor\":\"#E5ECF6\",\"gridcolor\":\"white\",\"gridwidth\":2,\"linecolor\":\"white\",\"showbackground\":true,\"ticks\":\"\",\"zerolinecolor\":\"white\"},\"yaxis\":{\"backgroundcolor\":\"#E5ECF6\",\"gridcolor\":\"white\",\"gridwidth\":2,\"linecolor\":\"white\",\"showbackground\":true,\"ticks\":\"\",\"zerolinecolor\":\"white\"},\"zaxis\":{\"backgroundcolor\":\"#E5ECF6\",\"gridcolor\":\"white\",\"gridwidth\":2,\"linecolor\":\"white\",\"showbackground\":true,\"ticks\":\"\",\"zerolinecolor\":\"white\"}},\"shapedefaults\":{\"line\":{\"color\":\"#2a3f5f\"}},\"ternary\":{\"aaxis\":{\"gridcolor\":\"white\",\"linecolor\":\"white\",\"ticks\":\"\"},\"baxis\":{\"gridcolor\":\"white\",\"linecolor\":\"white\",\"ticks\":\"\"},\"bgcolor\":\"#E5ECF6\",\"caxis\":{\"gridcolor\":\"white\",\"linecolor\":\"white\",\"ticks\":\"\"}},\"title\":{\"x\":0.05},\"xaxis\":{\"automargin\":true,\"gridcolor\":\"white\",\"linecolor\":\"white\",\"ticks\":\"\",\"title\":{\"standoff\":15},\"zerolinecolor\":\"white\",\"zerolinewidth\":2},\"yaxis\":{\"automargin\":true,\"gridcolor\":\"white\",\"linecolor\":\"white\",\"ticks\":\"\",\"title\":{\"standoff\":15},\"zerolinecolor\":\"white\",\"zerolinewidth\":2}}},\"xaxis\":{\"anchor\":\"y\",\"domain\":[0.0,1.0],\"title\":{\"text\":\"acceleration\"}},\"yaxis\":{\"anchor\":\"x\",\"domain\":[0.0,1.0],\"title\":{\"text\":\"weight\"}},\"coloraxis\":{\"colorbar\":{\"title\":{\"text\":\"model\"}},\"colorscale\":[[0.0,\"#0d0887\"],[0.1111111111111111,\"#46039f\"],[0.2222222222222222,\"#7201a8\"],[0.3333333333333333,\"#9c179e\"],[0.4444444444444444,\"#bd3786\"],[0.5555555555555556,\"#d8576b\"],[0.6666666666666666,\"#ed7953\"],[0.7777777777777778,\"#fb9f3a\"],[0.8888888888888888,\"#fdca26\"],[1.0,\"#f0f921\"]]},\"legend\":{\"tracegroupgap\":0},\"title\":{\"text\":\"How Weight affects Acceleration across Model Years\"}},                        {\"responsive\": true}                    ).then(function(){\n",
       "                            \n",
       "var gd = document.getElementById('93ceaa39-ed92-4890-bb97-280c9c79bd1e');\n",
       "var x = new MutationObserver(function (mutations, observer) {{\n",
       "        var display = window.getComputedStyle(gd).display;\n",
       "        if (!display || display === 'none') {{\n",
       "            console.log([gd, 'removed!']);\n",
       "            Plotly.purge(gd);\n",
       "            observer.disconnect();\n",
       "        }}\n",
       "}});\n",
       "\n",
       "// Listen for the removal of the full notebook cells\n",
       "var notebookContainer = gd.closest('#notebook-container');\n",
       "if (notebookContainer) {{\n",
       "    x.observe(notebookContainer, {childList: true});\n",
       "}}\n",
       "\n",
       "// Listen for the clearing of the current output cell\n",
       "var outputEl = gd.closest('.output');\n",
       "if (outputEl) {{\n",
       "    x.observe(outputEl, {childList: true});\n",
       "}}\n",
       "\n",
       "                        })                };                });            </script>        </div>"
      ]
     },
     "metadata": {},
     "output_type": "display_data"
    }
   ],
   "source": [
    "\n",
    "fig = px.scatter(df3,title=\"How Weight affects Acceleration across Model Years\", x='acceleration', y='weight', color='model', hover_data=['vehicle name'])\n",
    "fig.show()"
   ]
  }
 ],
 "metadata": {
  "kernelspec": {
   "display_name": "Python 3 (ipykernel)",
   "language": "python",
   "name": "python3"
  },
  "language_info": {
   "codemirror_mode": {
    "name": "ipython",
    "version": 3
   },
   "file_extension": ".py",
   "mimetype": "text/x-python",
   "name": "python",
   "nbconvert_exporter": "python",
   "pygments_lexer": "ipython3",
   "version": "3.9.12"
  }
 },
 "nbformat": 4,
 "nbformat_minor": 5
}
